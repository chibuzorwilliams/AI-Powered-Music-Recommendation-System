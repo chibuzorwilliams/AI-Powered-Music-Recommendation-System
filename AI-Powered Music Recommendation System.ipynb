{
  "cells": [
    {
      "cell_type": "markdown",
      "metadata": {
        "id": "LO9w-ieWv-9R"
      },
      "source": [
        "## Dataset Info"
      ]
    },
    {
      "cell_type": "markdown",
      "metadata": {
        "id": "aF8GszCQFa64"
      },
      "source": [
        "The dataset represents audio features for a number of audio files.\n",
        "\n",
        "  + The audio files were obtained from artists' music videos on YouTube using the `pytube` / `pytubefix` package.\n",
        "  + The audio features were obtained using the `librosa` package.\n",
        "  + Each YouTube video / song was split into 30-second chunks called tracks, and each row represents one of these 30-second tracks.\n",
        "  + Columns ending with \"mean\" represent mean values, and columns ending with \"var\" represent variance values\n",
        "  + Based on audio sampling methods used, the `track_length` is represented in units where 22050 represents one second.\n",
        "\n"
      ]
    },
    {
      "cell_type": "markdown",
      "metadata": {
        "id": "mN97CzAgvj4G"
      },
      "source": [
        "## Data Loading"
      ]
    },
    {
      "cell_type": "code",
      "execution_count": 2,
      "metadata": {
        "colab": {
          "base_uri": "https://localhost:8080/",
          "height": 406
        },
        "collapsed": true,
        "id": "XJmtxx__H72G",
        "outputId": "d66be4ce-0259-4ec6-b2d2-3e5199dc045f"
      },
      "outputs": [
        {
          "data": {
            "text/html": [
              "<div>\n",
              "<style scoped>\n",
              "    .dataframe tbody tr th:only-of-type {\n",
              "        vertical-align: middle;\n",
              "    }\n",
              "\n",
              "    .dataframe tbody tr th {\n",
              "        vertical-align: top;\n",
              "    }\n",
              "\n",
              "    .dataframe thead th {\n",
              "        text-align: right;\n",
              "    }\n",
              "</style>\n",
              "<table border=\"1\" class=\"dataframe\">\n",
              "  <thead>\n",
              "    <tr style=\"text-align: right;\">\n",
              "      <th></th>\n",
              "      <th>artist_name</th>\n",
              "      <th>video_id</th>\n",
              "      <th>audio_filename</th>\n",
              "      <th>track_number</th>\n",
              "      <th>track_length</th>\n",
              "      <th>tempo</th>\n",
              "      <th>chroma_stft_mean</th>\n",
              "      <th>chroma_stft_var</th>\n",
              "      <th>rms_mean</th>\n",
              "      <th>rms_var</th>\n",
              "      <th>...</th>\n",
              "      <th>mfcc_9_mean</th>\n",
              "      <th>mfcc_9_var</th>\n",
              "      <th>mfcc_10_mean</th>\n",
              "      <th>mfcc_10_var</th>\n",
              "      <th>mfcc_11_mean</th>\n",
              "      <th>mfcc_11_var</th>\n",
              "      <th>mfcc_12_mean</th>\n",
              "      <th>mfcc_12_var</th>\n",
              "      <th>mfcc_13_mean</th>\n",
              "      <th>mfcc_13_var</th>\n",
              "    </tr>\n",
              "  </thead>\n",
              "  <tbody>\n",
              "    <tr>\n",
              "      <th>0</th>\n",
              "      <td>frank_sinatra</td>\n",
              "      <td>rSrc7aulay8</td>\n",
              "      <td>Fly Me To The Moon (In Other Words).mp4</td>\n",
              "      <td>1</td>\n",
              "      <td>661500</td>\n",
              "      <td>123.046875</td>\n",
              "      <td>0.381353</td>\n",
              "      <td>0.108483</td>\n",
              "      <td>0.035173</td>\n",
              "      <td>0.000843</td>\n",
              "      <td>...</td>\n",
              "      <td>6.451812</td>\n",
              "      <td>96.068996</td>\n",
              "      <td>1.410364</td>\n",
              "      <td>101.259422</td>\n",
              "      <td>1.968380</td>\n",
              "      <td>89.808526</td>\n",
              "      <td>9.885193</td>\n",
              "      <td>85.470773</td>\n",
              "      <td>0.186532</td>\n",
              "      <td>85.876381</td>\n",
              "    </tr>\n",
              "    <tr>\n",
              "      <th>1</th>\n",
              "      <td>frank_sinatra</td>\n",
              "      <td>rSrc7aulay8</td>\n",
              "      <td>Fly Me To The Moon (In Other Words).mp4</td>\n",
              "      <td>2</td>\n",
              "      <td>661500</td>\n",
              "      <td>117.453835</td>\n",
              "      <td>0.325079</td>\n",
              "      <td>0.095037</td>\n",
              "      <td>0.059724</td>\n",
              "      <td>0.000803</td>\n",
              "      <td>...</td>\n",
              "      <td>2.529402</td>\n",
              "      <td>163.638820</td>\n",
              "      <td>1.359641</td>\n",
              "      <td>111.545326</td>\n",
              "      <td>-0.145113</td>\n",
              "      <td>95.362841</td>\n",
              "      <td>9.985497</td>\n",
              "      <td>107.731330</td>\n",
              "      <td>0.408040</td>\n",
              "      <td>86.850819</td>\n",
              "    </tr>\n",
              "    <tr>\n",
              "      <th>2</th>\n",
              "      <td>frank_sinatra</td>\n",
              "      <td>rSrc7aulay8</td>\n",
              "      <td>Fly Me To The Moon (In Other Words).mp4</td>\n",
              "      <td>3</td>\n",
              "      <td>661500</td>\n",
              "      <td>117.453835</td>\n",
              "      <td>0.391230</td>\n",
              "      <td>0.091207</td>\n",
              "      <td>0.062308</td>\n",
              "      <td>0.001372</td>\n",
              "      <td>...</td>\n",
              "      <td>-4.243943</td>\n",
              "      <td>77.650651</td>\n",
              "      <td>5.931900</td>\n",
              "      <td>59.565850</td>\n",
              "      <td>0.710004</td>\n",
              "      <td>56.129559</td>\n",
              "      <td>5.494471</td>\n",
              "      <td>71.811565</td>\n",
              "      <td>-2.069526</td>\n",
              "      <td>62.430867</td>\n",
              "    </tr>\n",
              "    <tr>\n",
              "      <th>3</th>\n",
              "      <td>frank_sinatra</td>\n",
              "      <td>rSrc7aulay8</td>\n",
              "      <td>Fly Me To The Moon (In Other Words).mp4</td>\n",
              "      <td>4</td>\n",
              "      <td>661500</td>\n",
              "      <td>117.453835</td>\n",
              "      <td>0.354422</td>\n",
              "      <td>0.093518</td>\n",
              "      <td>0.070922</td>\n",
              "      <td>0.001636</td>\n",
              "      <td>...</td>\n",
              "      <td>-0.558803</td>\n",
              "      <td>111.401847</td>\n",
              "      <td>4.309566</td>\n",
              "      <td>79.829200</td>\n",
              "      <td>1.935659</td>\n",
              "      <td>77.462955</td>\n",
              "      <td>9.476080</td>\n",
              "      <td>86.830481</td>\n",
              "      <td>-2.179213</td>\n",
              "      <td>78.055285</td>\n",
              "    </tr>\n",
              "    <tr>\n",
              "      <th>4</th>\n",
              "      <td>frank_sinatra</td>\n",
              "      <td>LWXUdqvVO8Y</td>\n",
              "      <td>Somethin Stupid.mp4</td>\n",
              "      <td>1</td>\n",
              "      <td>661500</td>\n",
              "      <td>103.359375</td>\n",
              "      <td>0.372852</td>\n",
              "      <td>0.090570</td>\n",
              "      <td>0.078486</td>\n",
              "      <td>0.001692</td>\n",
              "      <td>...</td>\n",
              "      <td>-7.024814</td>\n",
              "      <td>67.282919</td>\n",
              "      <td>-6.018267</td>\n",
              "      <td>87.265848</td>\n",
              "      <td>-7.079118</td>\n",
              "      <td>86.895205</td>\n",
              "      <td>-1.009947</td>\n",
              "      <td>69.512053</td>\n",
              "      <td>-9.353167</td>\n",
              "      <td>55.724105</td>\n",
              "    </tr>\n",
              "  </tbody>\n",
              "</table>\n",
              "<p>5 rows × 46 columns</p>\n",
              "</div>"
            ],
            "text/plain": [
              "     artist_name     video_id                           audio_filename  \\\n",
              "0  frank_sinatra  rSrc7aulay8  Fly Me To The Moon (In Other Words).mp4   \n",
              "1  frank_sinatra  rSrc7aulay8  Fly Me To The Moon (In Other Words).mp4   \n",
              "2  frank_sinatra  rSrc7aulay8  Fly Me To The Moon (In Other Words).mp4   \n",
              "3  frank_sinatra  rSrc7aulay8  Fly Me To The Moon (In Other Words).mp4   \n",
              "4  frank_sinatra  LWXUdqvVO8Y                      Somethin Stupid.mp4   \n",
              "\n",
              "   track_number  track_length       tempo  chroma_stft_mean  chroma_stft_var  \\\n",
              "0             1        661500  123.046875          0.381353         0.108483   \n",
              "1             2        661500  117.453835          0.325079         0.095037   \n",
              "2             3        661500  117.453835          0.391230         0.091207   \n",
              "3             4        661500  117.453835          0.354422         0.093518   \n",
              "4             1        661500  103.359375          0.372852         0.090570   \n",
              "\n",
              "   rms_mean   rms_var  ...  mfcc_9_mean  mfcc_9_var  mfcc_10_mean  \\\n",
              "0  0.035173  0.000843  ...     6.451812   96.068996      1.410364   \n",
              "1  0.059724  0.000803  ...     2.529402  163.638820      1.359641   \n",
              "2  0.062308  0.001372  ...    -4.243943   77.650651      5.931900   \n",
              "3  0.070922  0.001636  ...    -0.558803  111.401847      4.309566   \n",
              "4  0.078486  0.001692  ...    -7.024814   67.282919     -6.018267   \n",
              "\n",
              "   mfcc_10_var  mfcc_11_mean  mfcc_11_var  mfcc_12_mean  mfcc_12_var  \\\n",
              "0   101.259422      1.968380    89.808526      9.885193    85.470773   \n",
              "1   111.545326     -0.145113    95.362841      9.985497   107.731330   \n",
              "2    59.565850      0.710004    56.129559      5.494471    71.811565   \n",
              "3    79.829200      1.935659    77.462955      9.476080    86.830481   \n",
              "4    87.265848     -7.079118    86.895205     -1.009947    69.512053   \n",
              "\n",
              "   mfcc_13_mean  mfcc_13_var  \n",
              "0      0.186532    85.876381  \n",
              "1      0.408040    86.850819  \n",
              "2     -2.069526    62.430867  \n",
              "3     -2.179213    78.055285  \n",
              "4     -9.353167    55.724105  \n",
              "\n",
              "[5 rows x 46 columns]"
            ]
          },
          "execution_count": 2,
          "metadata": {},
          "output_type": "execute_result"
        }
      ],
      "source": [
        "import pandas as pd\n",
        "from pandas import read_csv\n",
        "\n",
        "TRACK_LENGTH = 30\n",
        "N_MFCC = 13\n",
        "\n",
        "csv_filepath = (\"/Users/chibuzor/Downloads/Python Repo/AI-Powered-Music-Recommendation-System/Dataset/\"\n",
        "    # \"https://github.com/s2t2/ml-music-2023/raw/main/data/youtube/features_v1/\"\n",
        "    f\"length_{TRACK_LENGTH}_mfcc_{N_MFCC}_features.csv\"\n",
        ")\n",
        "df = read_csv(csv_filepath)\n",
        "df.head()"
      ]
    },
    {
      "cell_type": "code",
      "execution_count": 3,
      "metadata": {
        "colab": {
          "base_uri": "https://localhost:8080/"
        },
        "collapsed": true,
        "id": "NJBj3IpCSiwG",
        "outputId": "33e1da56-8c58-4cbc-a412-0a8ba0a5b0b7"
      },
      "outputs": [
        {
          "name": "stdout",
          "output_type": "stream",
          "text": [
            "Shape of the dataset: (1818, 46)\n",
            "Number of rows: 1818\n",
            "Number of columns: 46\n"
          ]
        }
      ],
      "source": [
        "# Printing shape of the dataset\n",
        "print(f\"Shape of the dataset: {df.shape}\")\n",
        "\n",
        "# Printing the number of columns and rows\n",
        "rows, columns = df.shape\n",
        "print(\"Number of rows:\",rows)\n",
        "print(\"Number of columns:\",columns)"
      ]
    },
    {
      "cell_type": "code",
      "execution_count": 4,
      "metadata": {
        "colab": {
          "base_uri": "https://localhost:8080/"
        },
        "collapsed": true,
        "id": "Gmtgy8K4H04M",
        "outputId": "e223cf48-fac0-42a9-bea2-eb57e56e14ab"
      },
      "outputs": [
        {
          "name": "stdout",
          "output_type": "stream",
          "text": [
            "COLUNM NAME\n",
            "-------------\n",
            "artist_name\n",
            "video_id\n",
            "audio_filename\n",
            "track_number\n",
            "track_length\n",
            "tempo\n",
            "chroma_stft_mean\n",
            "chroma_stft_var\n",
            "rms_mean\n",
            "rms_var\n",
            "spectral_centroid_mean\n",
            "spectral_centroid_var\n",
            "spectral_bandwidth_mean\n",
            "spectral_bandwidth_var\n",
            "spectral_rolloff_mean\n",
            "spectral_rolloff_var\n",
            "zero_crossing_rate_mean\n",
            "zero_crossing_rate_var\n",
            "tonnetz_mean\n",
            "tonnetz_var\n",
            "mfcc_1_mean\n",
            "mfcc_1_var\n",
            "mfcc_2_mean\n",
            "mfcc_2_var\n",
            "mfcc_3_mean\n",
            "mfcc_3_var\n",
            "mfcc_4_mean\n",
            "mfcc_4_var\n",
            "mfcc_5_mean\n",
            "mfcc_5_var\n",
            "mfcc_6_mean\n",
            "mfcc_6_var\n",
            "mfcc_7_mean\n",
            "mfcc_7_var\n",
            "mfcc_8_mean\n",
            "mfcc_8_var\n",
            "mfcc_9_mean\n",
            "mfcc_9_var\n",
            "mfcc_10_mean\n",
            "mfcc_10_var\n",
            "mfcc_11_mean\n",
            "mfcc_11_var\n",
            "mfcc_12_mean\n",
            "mfcc_12_var\n",
            "mfcc_13_mean\n",
            "mfcc_13_var\n"
          ]
        }
      ],
      "source": [
        "# Print the column names.\n",
        "print ('COLUNM NAME')\n",
        "print ('-------------')\n",
        "for column in df.columns:\n",
        "    print(column)"
      ]
    },
    {
      "cell_type": "code",
      "execution_count": 5,
      "metadata": {
        "colab": {
          "base_uri": "https://localhost:8080/"
        },
        "collapsed": true,
        "id": "lj0EBh81gl03",
        "outputId": "7171a7d8-4bb6-4b86-9d33-a645c1d77bda"
      },
      "outputs": [
        {
          "name": "stdout",
          "output_type": "stream",
          "text": [
            "Count of Unique Songs: 206\n"
          ]
        }
      ],
      "source": [
        "# Print the number of unique songs, as indicated by the video_id column \n",
        "\n",
        "print(f\"Count of Unique Songs: {df['video_id'].nunique()}\")"
      ]
    },
    {
      "cell_type": "code",
      "execution_count": 6,
      "metadata": {
        "colab": {
          "base_uri": "https://localhost:8080/"
        },
        "collapsed": true,
        "id": "D76Tzc5aguqw",
        "outputId": "93f70a55-029b-462d-e29b-cda6a11d4aea"
      },
      "outputs": [
        {
          "name": "stdout",
          "output_type": "stream",
          "text": [
            "Count of Unique Artists: 24\n"
          ]
        }
      ],
      "source": [
        "# Print the number of unique artists, as indicated by the artist_name column.\n",
        "\n",
        "print(f\"Count of Unique Artists: {df['artist_name'].nunique()}\")"
      ]
    },
    {
      "cell_type": "markdown",
      "metadata": {
        "id": "v5KbIVpEvEwk"
      },
      "source": [
        "## Artist Analysis\n"
      ]
    },
    {
      "cell_type": "code",
      "execution_count": 7,
      "metadata": {
        "colab": {
          "base_uri": "https://localhost:8080/"
        },
        "collapsed": true,
        "id": "pqSmstCsTh56",
        "outputId": "65189ddd-86aa-4ed9-96d4-1fb2e6892528"
      },
      "outputs": [
        {
          "name": "stdout",
          "output_type": "stream",
          "text": [
            "artist_name\n",
            "miles_davis          118\n",
            "john_coltrane        103\n",
            "taylor_swift         100\n",
            "coldplay              99\n",
            "chris_stapleton       92\n",
            "ariana_grande         92\n",
            "jay_z                 92\n",
            "bruce_springsteen     87\n",
            "john_mayer            83\n",
            "pink_floyd            83\n",
            "beethoven             75\n",
            "adele                 74\n",
            "tupac                 70\n",
            "bach                  70\n",
            "dr_dre                69\n",
            "maggie_rogers         68\n",
            "led_zeppelin          67\n",
            "alicia_keys           64\n",
            "rihanna               63\n",
            "john_legend           54\n",
            "jason_aldean          54\n",
            "andrea_bocelli        52\n",
            "ac_dc                 49\n",
            "frank_sinatra         40\n",
            "Name: count, dtype: int64\n"
          ]
        }
      ],
      "source": [
        "# Rows per Artist:\n",
        "\n",
        "print(df['artist_name'].value_counts())"
      ]
    },
    {
      "cell_type": "code",
      "execution_count": 8,
      "metadata": {
        "colab": {
          "base_uri": "https://localhost:8080/"
        },
        "collapsed": true,
        "id": "XE9HM9rjUhce",
        "outputId": "16b58977-0a72-493b-950f-3fb5c5687663"
      },
      "outputs": [
        {
          "name": "stdout",
          "output_type": "stream",
          "text": [
            "artist_name\n",
            "taylor_swift         12\n",
            "ariana_grande        12\n",
            "chris_stapleton      12\n",
            "coldplay             12\n",
            "jay_z                11\n",
            "john_mayer           10\n",
            "bruce_springsteen    10\n",
            "maggie_rogers         9\n",
            "jason_aldean          8\n",
            "adele                 8\n",
            "miles_davis           8\n",
            "tupac                 8\n",
            "dr_dre                8\n",
            "bach                  8\n",
            "alicia_keys           8\n",
            "frank_sinatra         7\n",
            "john_coltrane         7\n",
            "john_legend           7\n",
            "beethoven             7\n",
            "led_zeppelin          7\n",
            "andrea_bocelli        7\n",
            "pink_floyd            7\n",
            "rihanna               7\n",
            "ac_dc                 6\n",
            "Name: audio_filename, dtype: int64\n"
          ]
        }
      ],
      "source": [
        "# Songs per Artist:\n",
        "\n",
        "# Group by artist, count unique songs, and sort by count in descending order\n",
        "group_artist = df.groupby('artist_name')\n",
        "unique_songs_per_artist = group_artist['audio_filename'].nunique().sort_values(ascending=False)\n",
        "\n",
        "# Print the result\n",
        "print(unique_songs_per_artist)"
      ]
    },
    {
      "cell_type": "code",
      "execution_count": 9,
      "metadata": {},
      "outputs": [],
      "source": [
        "import nbformat\n"
      ]
    },
    {
      "cell_type": "code",
      "execution_count": 10,
      "metadata": {
        "colab": {
          "base_uri": "https://localhost:8080/",
          "height": 667
        },
        "collapsed": true,
        "id": "mmE2GqSUUuDw",
        "outputId": "c80450f5-8277-4923-fcc8-325f64279808"
      },
      "outputs": [
        {
          "data": {
            "application/vnd.plotly.v1+json": {
              "config": {
                "plotlyServerURL": "https://plot.ly"
              },
              "data": [
                {
                  "hovertemplate": "Number of Songs=%{x}<br>Artist=%{y}<extra></extra>",
                  "legendgroup": "",
                  "marker": {
                    "color": "#636efa",
                    "pattern": {
                      "shape": ""
                    }
                  },
                  "name": "",
                  "orientation": "h",
                  "showlegend": false,
                  "textposition": "auto",
                  "type": "bar",
                  "x": {
                    "bdata": "BgcHBwcHBwcHCAgICAgICAkKCgsMDAwM",
                    "dtype": "i1"
                  },
                  "xaxis": "x",
                  "y": [
                    "ac_dc",
                    "rihanna",
                    "pink_floyd",
                    "led_zeppelin",
                    "john_legend",
                    "john_coltrane",
                    "frank_sinatra",
                    "beethoven",
                    "andrea_bocelli",
                    "tupac",
                    "adele",
                    "alicia_keys",
                    "dr_dre",
                    "miles_davis",
                    "jason_aldean",
                    "bach",
                    "maggie_rogers",
                    "bruce_springsteen",
                    "john_mayer",
                    "jay_z",
                    "taylor_swift",
                    "coldplay",
                    "chris_stapleton",
                    "ariana_grande"
                  ],
                  "yaxis": "y"
                }
              ],
              "layout": {
                "barmode": "relative",
                "height": 650,
                "legend": {
                  "tracegroupgap": 0
                },
                "template": {
                  "data": {
                    "bar": [
                      {
                        "error_x": {
                          "color": "#2a3f5f"
                        },
                        "error_y": {
                          "color": "#2a3f5f"
                        },
                        "marker": {
                          "line": {
                            "color": "#E5ECF6",
                            "width": 0.5
                          },
                          "pattern": {
                            "fillmode": "overlay",
                            "size": 10,
                            "solidity": 0.2
                          }
                        },
                        "type": "bar"
                      }
                    ],
                    "barpolar": [
                      {
                        "marker": {
                          "line": {
                            "color": "#E5ECF6",
                            "width": 0.5
                          },
                          "pattern": {
                            "fillmode": "overlay",
                            "size": 10,
                            "solidity": 0.2
                          }
                        },
                        "type": "barpolar"
                      }
                    ],
                    "carpet": [
                      {
                        "aaxis": {
                          "endlinecolor": "#2a3f5f",
                          "gridcolor": "white",
                          "linecolor": "white",
                          "minorgridcolor": "white",
                          "startlinecolor": "#2a3f5f"
                        },
                        "baxis": {
                          "endlinecolor": "#2a3f5f",
                          "gridcolor": "white",
                          "linecolor": "white",
                          "minorgridcolor": "white",
                          "startlinecolor": "#2a3f5f"
                        },
                        "type": "carpet"
                      }
                    ],
                    "choropleth": [
                      {
                        "colorbar": {
                          "outlinewidth": 0,
                          "ticks": ""
                        },
                        "type": "choropleth"
                      }
                    ],
                    "contour": [
                      {
                        "colorbar": {
                          "outlinewidth": 0,
                          "ticks": ""
                        },
                        "colorscale": [
                          [
                            0,
                            "#0d0887"
                          ],
                          [
                            0.1111111111111111,
                            "#46039f"
                          ],
                          [
                            0.2222222222222222,
                            "#7201a8"
                          ],
                          [
                            0.3333333333333333,
                            "#9c179e"
                          ],
                          [
                            0.4444444444444444,
                            "#bd3786"
                          ],
                          [
                            0.5555555555555556,
                            "#d8576b"
                          ],
                          [
                            0.6666666666666666,
                            "#ed7953"
                          ],
                          [
                            0.7777777777777778,
                            "#fb9f3a"
                          ],
                          [
                            0.8888888888888888,
                            "#fdca26"
                          ],
                          [
                            1,
                            "#f0f921"
                          ]
                        ],
                        "type": "contour"
                      }
                    ],
                    "contourcarpet": [
                      {
                        "colorbar": {
                          "outlinewidth": 0,
                          "ticks": ""
                        },
                        "type": "contourcarpet"
                      }
                    ],
                    "heatmap": [
                      {
                        "colorbar": {
                          "outlinewidth": 0,
                          "ticks": ""
                        },
                        "colorscale": [
                          [
                            0,
                            "#0d0887"
                          ],
                          [
                            0.1111111111111111,
                            "#46039f"
                          ],
                          [
                            0.2222222222222222,
                            "#7201a8"
                          ],
                          [
                            0.3333333333333333,
                            "#9c179e"
                          ],
                          [
                            0.4444444444444444,
                            "#bd3786"
                          ],
                          [
                            0.5555555555555556,
                            "#d8576b"
                          ],
                          [
                            0.6666666666666666,
                            "#ed7953"
                          ],
                          [
                            0.7777777777777778,
                            "#fb9f3a"
                          ],
                          [
                            0.8888888888888888,
                            "#fdca26"
                          ],
                          [
                            1,
                            "#f0f921"
                          ]
                        ],
                        "type": "heatmap"
                      }
                    ],
                    "histogram": [
                      {
                        "marker": {
                          "pattern": {
                            "fillmode": "overlay",
                            "size": 10,
                            "solidity": 0.2
                          }
                        },
                        "type": "histogram"
                      }
                    ],
                    "histogram2d": [
                      {
                        "colorbar": {
                          "outlinewidth": 0,
                          "ticks": ""
                        },
                        "colorscale": [
                          [
                            0,
                            "#0d0887"
                          ],
                          [
                            0.1111111111111111,
                            "#46039f"
                          ],
                          [
                            0.2222222222222222,
                            "#7201a8"
                          ],
                          [
                            0.3333333333333333,
                            "#9c179e"
                          ],
                          [
                            0.4444444444444444,
                            "#bd3786"
                          ],
                          [
                            0.5555555555555556,
                            "#d8576b"
                          ],
                          [
                            0.6666666666666666,
                            "#ed7953"
                          ],
                          [
                            0.7777777777777778,
                            "#fb9f3a"
                          ],
                          [
                            0.8888888888888888,
                            "#fdca26"
                          ],
                          [
                            1,
                            "#f0f921"
                          ]
                        ],
                        "type": "histogram2d"
                      }
                    ],
                    "histogram2dcontour": [
                      {
                        "colorbar": {
                          "outlinewidth": 0,
                          "ticks": ""
                        },
                        "colorscale": [
                          [
                            0,
                            "#0d0887"
                          ],
                          [
                            0.1111111111111111,
                            "#46039f"
                          ],
                          [
                            0.2222222222222222,
                            "#7201a8"
                          ],
                          [
                            0.3333333333333333,
                            "#9c179e"
                          ],
                          [
                            0.4444444444444444,
                            "#bd3786"
                          ],
                          [
                            0.5555555555555556,
                            "#d8576b"
                          ],
                          [
                            0.6666666666666666,
                            "#ed7953"
                          ],
                          [
                            0.7777777777777778,
                            "#fb9f3a"
                          ],
                          [
                            0.8888888888888888,
                            "#fdca26"
                          ],
                          [
                            1,
                            "#f0f921"
                          ]
                        ],
                        "type": "histogram2dcontour"
                      }
                    ],
                    "mesh3d": [
                      {
                        "colorbar": {
                          "outlinewidth": 0,
                          "ticks": ""
                        },
                        "type": "mesh3d"
                      }
                    ],
                    "parcoords": [
                      {
                        "line": {
                          "colorbar": {
                            "outlinewidth": 0,
                            "ticks": ""
                          }
                        },
                        "type": "parcoords"
                      }
                    ],
                    "pie": [
                      {
                        "automargin": true,
                        "type": "pie"
                      }
                    ],
                    "scatter": [
                      {
                        "fillpattern": {
                          "fillmode": "overlay",
                          "size": 10,
                          "solidity": 0.2
                        },
                        "type": "scatter"
                      }
                    ],
                    "scatter3d": [
                      {
                        "line": {
                          "colorbar": {
                            "outlinewidth": 0,
                            "ticks": ""
                          }
                        },
                        "marker": {
                          "colorbar": {
                            "outlinewidth": 0,
                            "ticks": ""
                          }
                        },
                        "type": "scatter3d"
                      }
                    ],
                    "scattercarpet": [
                      {
                        "marker": {
                          "colorbar": {
                            "outlinewidth": 0,
                            "ticks": ""
                          }
                        },
                        "type": "scattercarpet"
                      }
                    ],
                    "scattergeo": [
                      {
                        "marker": {
                          "colorbar": {
                            "outlinewidth": 0,
                            "ticks": ""
                          }
                        },
                        "type": "scattergeo"
                      }
                    ],
                    "scattergl": [
                      {
                        "marker": {
                          "colorbar": {
                            "outlinewidth": 0,
                            "ticks": ""
                          }
                        },
                        "type": "scattergl"
                      }
                    ],
                    "scattermap": [
                      {
                        "marker": {
                          "colorbar": {
                            "outlinewidth": 0,
                            "ticks": ""
                          }
                        },
                        "type": "scattermap"
                      }
                    ],
                    "scattermapbox": [
                      {
                        "marker": {
                          "colorbar": {
                            "outlinewidth": 0,
                            "ticks": ""
                          }
                        },
                        "type": "scattermapbox"
                      }
                    ],
                    "scatterpolar": [
                      {
                        "marker": {
                          "colorbar": {
                            "outlinewidth": 0,
                            "ticks": ""
                          }
                        },
                        "type": "scatterpolar"
                      }
                    ],
                    "scatterpolargl": [
                      {
                        "marker": {
                          "colorbar": {
                            "outlinewidth": 0,
                            "ticks": ""
                          }
                        },
                        "type": "scatterpolargl"
                      }
                    ],
                    "scatterternary": [
                      {
                        "marker": {
                          "colorbar": {
                            "outlinewidth": 0,
                            "ticks": ""
                          }
                        },
                        "type": "scatterternary"
                      }
                    ],
                    "surface": [
                      {
                        "colorbar": {
                          "outlinewidth": 0,
                          "ticks": ""
                        },
                        "colorscale": [
                          [
                            0,
                            "#0d0887"
                          ],
                          [
                            0.1111111111111111,
                            "#46039f"
                          ],
                          [
                            0.2222222222222222,
                            "#7201a8"
                          ],
                          [
                            0.3333333333333333,
                            "#9c179e"
                          ],
                          [
                            0.4444444444444444,
                            "#bd3786"
                          ],
                          [
                            0.5555555555555556,
                            "#d8576b"
                          ],
                          [
                            0.6666666666666666,
                            "#ed7953"
                          ],
                          [
                            0.7777777777777778,
                            "#fb9f3a"
                          ],
                          [
                            0.8888888888888888,
                            "#fdca26"
                          ],
                          [
                            1,
                            "#f0f921"
                          ]
                        ],
                        "type": "surface"
                      }
                    ],
                    "table": [
                      {
                        "cells": {
                          "fill": {
                            "color": "#EBF0F8"
                          },
                          "line": {
                            "color": "white"
                          }
                        },
                        "header": {
                          "fill": {
                            "color": "#C8D4E3"
                          },
                          "line": {
                            "color": "white"
                          }
                        },
                        "type": "table"
                      }
                    ]
                  },
                  "layout": {
                    "annotationdefaults": {
                      "arrowcolor": "#2a3f5f",
                      "arrowhead": 0,
                      "arrowwidth": 1
                    },
                    "autotypenumbers": "strict",
                    "coloraxis": {
                      "colorbar": {
                        "outlinewidth": 0,
                        "ticks": ""
                      }
                    },
                    "colorscale": {
                      "diverging": [
                        [
                          0,
                          "#8e0152"
                        ],
                        [
                          0.1,
                          "#c51b7d"
                        ],
                        [
                          0.2,
                          "#de77ae"
                        ],
                        [
                          0.3,
                          "#f1b6da"
                        ],
                        [
                          0.4,
                          "#fde0ef"
                        ],
                        [
                          0.5,
                          "#f7f7f7"
                        ],
                        [
                          0.6,
                          "#e6f5d0"
                        ],
                        [
                          0.7,
                          "#b8e186"
                        ],
                        [
                          0.8,
                          "#7fbc41"
                        ],
                        [
                          0.9,
                          "#4d9221"
                        ],
                        [
                          1,
                          "#276419"
                        ]
                      ],
                      "sequential": [
                        [
                          0,
                          "#0d0887"
                        ],
                        [
                          0.1111111111111111,
                          "#46039f"
                        ],
                        [
                          0.2222222222222222,
                          "#7201a8"
                        ],
                        [
                          0.3333333333333333,
                          "#9c179e"
                        ],
                        [
                          0.4444444444444444,
                          "#bd3786"
                        ],
                        [
                          0.5555555555555556,
                          "#d8576b"
                        ],
                        [
                          0.6666666666666666,
                          "#ed7953"
                        ],
                        [
                          0.7777777777777778,
                          "#fb9f3a"
                        ],
                        [
                          0.8888888888888888,
                          "#fdca26"
                        ],
                        [
                          1,
                          "#f0f921"
                        ]
                      ],
                      "sequentialminus": [
                        [
                          0,
                          "#0d0887"
                        ],
                        [
                          0.1111111111111111,
                          "#46039f"
                        ],
                        [
                          0.2222222222222222,
                          "#7201a8"
                        ],
                        [
                          0.3333333333333333,
                          "#9c179e"
                        ],
                        [
                          0.4444444444444444,
                          "#bd3786"
                        ],
                        [
                          0.5555555555555556,
                          "#d8576b"
                        ],
                        [
                          0.6666666666666666,
                          "#ed7953"
                        ],
                        [
                          0.7777777777777778,
                          "#fb9f3a"
                        ],
                        [
                          0.8888888888888888,
                          "#fdca26"
                        ],
                        [
                          1,
                          "#f0f921"
                        ]
                      ]
                    },
                    "colorway": [
                      "#636efa",
                      "#EF553B",
                      "#00cc96",
                      "#ab63fa",
                      "#FFA15A",
                      "#19d3f3",
                      "#FF6692",
                      "#B6E880",
                      "#FF97FF",
                      "#FECB52"
                    ],
                    "font": {
                      "color": "#2a3f5f"
                    },
                    "geo": {
                      "bgcolor": "white",
                      "lakecolor": "white",
                      "landcolor": "#E5ECF6",
                      "showlakes": true,
                      "showland": true,
                      "subunitcolor": "white"
                    },
                    "hoverlabel": {
                      "align": "left"
                    },
                    "hovermode": "closest",
                    "mapbox": {
                      "style": "light"
                    },
                    "paper_bgcolor": "white",
                    "plot_bgcolor": "#E5ECF6",
                    "polar": {
                      "angularaxis": {
                        "gridcolor": "white",
                        "linecolor": "white",
                        "ticks": ""
                      },
                      "bgcolor": "#E5ECF6",
                      "radialaxis": {
                        "gridcolor": "white",
                        "linecolor": "white",
                        "ticks": ""
                      }
                    },
                    "scene": {
                      "xaxis": {
                        "backgroundcolor": "#E5ECF6",
                        "gridcolor": "white",
                        "gridwidth": 2,
                        "linecolor": "white",
                        "showbackground": true,
                        "ticks": "",
                        "zerolinecolor": "white"
                      },
                      "yaxis": {
                        "backgroundcolor": "#E5ECF6",
                        "gridcolor": "white",
                        "gridwidth": 2,
                        "linecolor": "white",
                        "showbackground": true,
                        "ticks": "",
                        "zerolinecolor": "white"
                      },
                      "zaxis": {
                        "backgroundcolor": "#E5ECF6",
                        "gridcolor": "white",
                        "gridwidth": 2,
                        "linecolor": "white",
                        "showbackground": true,
                        "ticks": "",
                        "zerolinecolor": "white"
                      }
                    },
                    "shapedefaults": {
                      "line": {
                        "color": "#2a3f5f"
                      }
                    },
                    "ternary": {
                      "aaxis": {
                        "gridcolor": "white",
                        "linecolor": "white",
                        "ticks": ""
                      },
                      "baxis": {
                        "gridcolor": "white",
                        "linecolor": "white",
                        "ticks": ""
                      },
                      "bgcolor": "#E5ECF6",
                      "caxis": {
                        "gridcolor": "white",
                        "linecolor": "white",
                        "ticks": ""
                      }
                    },
                    "title": {
                      "x": 0.05
                    },
                    "xaxis": {
                      "automargin": true,
                      "gridcolor": "white",
                      "linecolor": "white",
                      "ticks": "",
                      "title": {
                        "standoff": 15
                      },
                      "zerolinecolor": "white",
                      "zerolinewidth": 2
                    },
                    "yaxis": {
                      "automargin": true,
                      "gridcolor": "white",
                      "linecolor": "white",
                      "ticks": "",
                      "title": {
                        "standoff": 15
                      },
                      "zerolinecolor": "white",
                      "zerolinewidth": 2
                    }
                  }
                },
                "title": {
                  "text": "Number of Songs per Artist"
                },
                "width": 1000,
                "xaxis": {
                  "anchor": "y",
                  "domain": [
                    0,
                    1
                  ],
                  "title": {
                    "text": "Number of Songs"
                  }
                },
                "yaxis": {
                  "anchor": "x",
                  "domain": [
                    0,
                    1
                  ],
                  "title": {
                    "text": "Artist"
                  }
                }
              }
            }
          },
          "metadata": {},
          "output_type": "display_data"
        }
      ],
      "source": [
        "# Horizontal bar chart of the number of songs per artist, where the largest bars are on top.\n",
        "\n",
        "import plotly.express as px\n",
        "\n",
        "# Group by artist, count unique songs, and sort by count in descending order\n",
        "grouping_artist = df.groupby('artist_name')\n",
        "songs_per_artist = grouping_artist['audio_filename'].nunique().reset_index().sort_values(by='audio_filename', ascending=True)\n",
        "\n",
        "# Creating a horizontal bar chart using Plotly\n",
        "fig = px.bar(songs_per_artist,\n",
        "             x='audio_filename', y='artist_name', orientation='h',\n",
        "             height=650, width=1000,\n",
        "             title='Number of Songs per Artist',\n",
        "             labels={'audio_filename': 'Number of Songs', 'artist_name': 'Artist'})\n",
        "\n",
        "fig.show()"
      ]
    },
    {
      "cell_type": "code",
      "execution_count": 11,
      "metadata": {
        "id": "Vm4gAHhmPjXH"
      },
      "outputs": [],
      "source": [
        "# Total Duration in Minutes per Artist\n",
        "# New column called track_duration_sec representing the track duration in seconds, and a new column called track_duration_min representing the track duration in minutes.\n",
        "\n",
        "# Column per second\n",
        "df['track_duration_sec'] = df['track_length']/22050\n",
        "\n",
        "# Column per minute\n",
        "df['track_duration_min'] = df['track_duration_sec']/60"
      ]
    },
    {
      "cell_type": "code",
      "execution_count": 12,
      "metadata": {
        "colab": {
          "base_uri": "https://localhost:8080/"
        },
        "collapsed": true,
        "id": "8Dr7Z-mAQwoG",
        "outputId": "5e3536e5-e047-4251-aaf2-6e1888c7af96"
      },
      "outputs": [
        {
          "name": "stdout",
          "output_type": "stream",
          "text": [
            "artist_name\n",
            "miles_davis          59.0\n",
            "john_coltrane        51.5\n",
            "taylor_swift         50.0\n",
            "coldplay             49.5\n",
            "ariana_grande        46.0\n",
            "chris_stapleton      46.0\n",
            "jay_z                46.0\n",
            "bruce_springsteen    43.5\n",
            "john_mayer           41.5\n",
            "pink_floyd           41.5\n",
            "beethoven            37.5\n",
            "adele                37.0\n",
            "tupac                35.0\n",
            "bach                 35.0\n",
            "dr_dre               34.5\n",
            "maggie_rogers        34.0\n",
            "led_zeppelin         33.5\n",
            "alicia_keys          32.0\n",
            "rihanna              31.5\n",
            "jason_aldean         27.0\n",
            "john_legend          27.0\n",
            "andrea_bocelli       26.0\n",
            "ac_dc                24.5\n",
            "frank_sinatra        20.0\n",
            "Name: track_duration_min, dtype: float64\n"
          ]
        }
      ],
      "source": [
        "# Using groupby, print the total duration in minutes per artist.\n",
        "\n",
        "# Group by artist and sum the duration in minutes\n",
        "df_grouped = df.groupby('artist_name')['track_duration_min'].sum().sort_values(ascending=False)\n",
        "\n",
        "print(df_grouped)"
      ]
    },
    {
      "cell_type": "markdown",
      "metadata": {
        "id": "DFF7Bjd7v379"
      },
      "source": [
        "+ The artist with the longest total duration: `Miles Davis`\n",
        "+ The artist with the shortest total duration: `Frank Sinatra`"
      ]
    },
    {
      "cell_type": "code",
      "execution_count": 13,
      "metadata": {
        "colab": {
          "base_uri": "https://localhost:8080/",
          "height": 667
        },
        "collapsed": true,
        "id": "ZYEq6u-fwOFm",
        "outputId": "958a3474-7b50-4243-847a-0f071dda4414"
      },
      "outputs": [
        {
          "data": {
            "application/vnd.plotly.v1+json": {
              "config": {
                "plotlyServerURL": "https://plot.ly"
              },
              "data": [
                {
                  "hovertemplate": "Duration (Mins)=%{x}<br>Artist=%{y}<extra></extra>",
                  "legendgroup": "",
                  "marker": {
                    "color": "#636efa",
                    "pattern": {
                      "shape": ""
                    }
                  },
                  "name": "",
                  "orientation": "h",
                  "showlegend": false,
                  "textposition": "auto",
                  "type": "bar",
                  "x": {
                    "bdata": "AAAAAAAANEAAAAAAAIA4QAAAAAAAADpAAAAAAAAAO0AAAAAAAAA7QAAAAAAAgD9AAAAAAAAAQEAAAAAAAMBAQAAAAAAAAEFAAAAAAABAQUAAAAAAAIBBQAAAAAAAgEFAAAAAAACAQkAAAAAAAMBCQAAAAAAAwERAAAAAAADAREAAAAAAAMBFQAAAAAAAAEdAAAAAAAAAR0AAAAAAAABHQAAAAAAAwEhAAAAAAAAASUAAAAAAAMBJQAAAAAAAgE1A",
                    "dtype": "f8"
                  },
                  "xaxis": "x",
                  "y": [
                    "frank_sinatra",
                    "ac_dc",
                    "andrea_bocelli",
                    "john_legend",
                    "jason_aldean",
                    "rihanna",
                    "alicia_keys",
                    "led_zeppelin",
                    "maggie_rogers",
                    "dr_dre",
                    "bach",
                    "tupac",
                    "adele",
                    "beethoven",
                    "pink_floyd",
                    "john_mayer",
                    "bruce_springsteen",
                    "jay_z",
                    "chris_stapleton",
                    "ariana_grande",
                    "coldplay",
                    "taylor_swift",
                    "john_coltrane",
                    "miles_davis"
                  ],
                  "yaxis": "y"
                }
              ],
              "layout": {
                "barmode": "relative",
                "height": 650,
                "legend": {
                  "tracegroupgap": 0
                },
                "template": {
                  "data": {
                    "bar": [
                      {
                        "error_x": {
                          "color": "#2a3f5f"
                        },
                        "error_y": {
                          "color": "#2a3f5f"
                        },
                        "marker": {
                          "line": {
                            "color": "#E5ECF6",
                            "width": 0.5
                          },
                          "pattern": {
                            "fillmode": "overlay",
                            "size": 10,
                            "solidity": 0.2
                          }
                        },
                        "type": "bar"
                      }
                    ],
                    "barpolar": [
                      {
                        "marker": {
                          "line": {
                            "color": "#E5ECF6",
                            "width": 0.5
                          },
                          "pattern": {
                            "fillmode": "overlay",
                            "size": 10,
                            "solidity": 0.2
                          }
                        },
                        "type": "barpolar"
                      }
                    ],
                    "carpet": [
                      {
                        "aaxis": {
                          "endlinecolor": "#2a3f5f",
                          "gridcolor": "white",
                          "linecolor": "white",
                          "minorgridcolor": "white",
                          "startlinecolor": "#2a3f5f"
                        },
                        "baxis": {
                          "endlinecolor": "#2a3f5f",
                          "gridcolor": "white",
                          "linecolor": "white",
                          "minorgridcolor": "white",
                          "startlinecolor": "#2a3f5f"
                        },
                        "type": "carpet"
                      }
                    ],
                    "choropleth": [
                      {
                        "colorbar": {
                          "outlinewidth": 0,
                          "ticks": ""
                        },
                        "type": "choropleth"
                      }
                    ],
                    "contour": [
                      {
                        "colorbar": {
                          "outlinewidth": 0,
                          "ticks": ""
                        },
                        "colorscale": [
                          [
                            0,
                            "#0d0887"
                          ],
                          [
                            0.1111111111111111,
                            "#46039f"
                          ],
                          [
                            0.2222222222222222,
                            "#7201a8"
                          ],
                          [
                            0.3333333333333333,
                            "#9c179e"
                          ],
                          [
                            0.4444444444444444,
                            "#bd3786"
                          ],
                          [
                            0.5555555555555556,
                            "#d8576b"
                          ],
                          [
                            0.6666666666666666,
                            "#ed7953"
                          ],
                          [
                            0.7777777777777778,
                            "#fb9f3a"
                          ],
                          [
                            0.8888888888888888,
                            "#fdca26"
                          ],
                          [
                            1,
                            "#f0f921"
                          ]
                        ],
                        "type": "contour"
                      }
                    ],
                    "contourcarpet": [
                      {
                        "colorbar": {
                          "outlinewidth": 0,
                          "ticks": ""
                        },
                        "type": "contourcarpet"
                      }
                    ],
                    "heatmap": [
                      {
                        "colorbar": {
                          "outlinewidth": 0,
                          "ticks": ""
                        },
                        "colorscale": [
                          [
                            0,
                            "#0d0887"
                          ],
                          [
                            0.1111111111111111,
                            "#46039f"
                          ],
                          [
                            0.2222222222222222,
                            "#7201a8"
                          ],
                          [
                            0.3333333333333333,
                            "#9c179e"
                          ],
                          [
                            0.4444444444444444,
                            "#bd3786"
                          ],
                          [
                            0.5555555555555556,
                            "#d8576b"
                          ],
                          [
                            0.6666666666666666,
                            "#ed7953"
                          ],
                          [
                            0.7777777777777778,
                            "#fb9f3a"
                          ],
                          [
                            0.8888888888888888,
                            "#fdca26"
                          ],
                          [
                            1,
                            "#f0f921"
                          ]
                        ],
                        "type": "heatmap"
                      }
                    ],
                    "histogram": [
                      {
                        "marker": {
                          "pattern": {
                            "fillmode": "overlay",
                            "size": 10,
                            "solidity": 0.2
                          }
                        },
                        "type": "histogram"
                      }
                    ],
                    "histogram2d": [
                      {
                        "colorbar": {
                          "outlinewidth": 0,
                          "ticks": ""
                        },
                        "colorscale": [
                          [
                            0,
                            "#0d0887"
                          ],
                          [
                            0.1111111111111111,
                            "#46039f"
                          ],
                          [
                            0.2222222222222222,
                            "#7201a8"
                          ],
                          [
                            0.3333333333333333,
                            "#9c179e"
                          ],
                          [
                            0.4444444444444444,
                            "#bd3786"
                          ],
                          [
                            0.5555555555555556,
                            "#d8576b"
                          ],
                          [
                            0.6666666666666666,
                            "#ed7953"
                          ],
                          [
                            0.7777777777777778,
                            "#fb9f3a"
                          ],
                          [
                            0.8888888888888888,
                            "#fdca26"
                          ],
                          [
                            1,
                            "#f0f921"
                          ]
                        ],
                        "type": "histogram2d"
                      }
                    ],
                    "histogram2dcontour": [
                      {
                        "colorbar": {
                          "outlinewidth": 0,
                          "ticks": ""
                        },
                        "colorscale": [
                          [
                            0,
                            "#0d0887"
                          ],
                          [
                            0.1111111111111111,
                            "#46039f"
                          ],
                          [
                            0.2222222222222222,
                            "#7201a8"
                          ],
                          [
                            0.3333333333333333,
                            "#9c179e"
                          ],
                          [
                            0.4444444444444444,
                            "#bd3786"
                          ],
                          [
                            0.5555555555555556,
                            "#d8576b"
                          ],
                          [
                            0.6666666666666666,
                            "#ed7953"
                          ],
                          [
                            0.7777777777777778,
                            "#fb9f3a"
                          ],
                          [
                            0.8888888888888888,
                            "#fdca26"
                          ],
                          [
                            1,
                            "#f0f921"
                          ]
                        ],
                        "type": "histogram2dcontour"
                      }
                    ],
                    "mesh3d": [
                      {
                        "colorbar": {
                          "outlinewidth": 0,
                          "ticks": ""
                        },
                        "type": "mesh3d"
                      }
                    ],
                    "parcoords": [
                      {
                        "line": {
                          "colorbar": {
                            "outlinewidth": 0,
                            "ticks": ""
                          }
                        },
                        "type": "parcoords"
                      }
                    ],
                    "pie": [
                      {
                        "automargin": true,
                        "type": "pie"
                      }
                    ],
                    "scatter": [
                      {
                        "fillpattern": {
                          "fillmode": "overlay",
                          "size": 10,
                          "solidity": 0.2
                        },
                        "type": "scatter"
                      }
                    ],
                    "scatter3d": [
                      {
                        "line": {
                          "colorbar": {
                            "outlinewidth": 0,
                            "ticks": ""
                          }
                        },
                        "marker": {
                          "colorbar": {
                            "outlinewidth": 0,
                            "ticks": ""
                          }
                        },
                        "type": "scatter3d"
                      }
                    ],
                    "scattercarpet": [
                      {
                        "marker": {
                          "colorbar": {
                            "outlinewidth": 0,
                            "ticks": ""
                          }
                        },
                        "type": "scattercarpet"
                      }
                    ],
                    "scattergeo": [
                      {
                        "marker": {
                          "colorbar": {
                            "outlinewidth": 0,
                            "ticks": ""
                          }
                        },
                        "type": "scattergeo"
                      }
                    ],
                    "scattergl": [
                      {
                        "marker": {
                          "colorbar": {
                            "outlinewidth": 0,
                            "ticks": ""
                          }
                        },
                        "type": "scattergl"
                      }
                    ],
                    "scattermap": [
                      {
                        "marker": {
                          "colorbar": {
                            "outlinewidth": 0,
                            "ticks": ""
                          }
                        },
                        "type": "scattermap"
                      }
                    ],
                    "scattermapbox": [
                      {
                        "marker": {
                          "colorbar": {
                            "outlinewidth": 0,
                            "ticks": ""
                          }
                        },
                        "type": "scattermapbox"
                      }
                    ],
                    "scatterpolar": [
                      {
                        "marker": {
                          "colorbar": {
                            "outlinewidth": 0,
                            "ticks": ""
                          }
                        },
                        "type": "scatterpolar"
                      }
                    ],
                    "scatterpolargl": [
                      {
                        "marker": {
                          "colorbar": {
                            "outlinewidth": 0,
                            "ticks": ""
                          }
                        },
                        "type": "scatterpolargl"
                      }
                    ],
                    "scatterternary": [
                      {
                        "marker": {
                          "colorbar": {
                            "outlinewidth": 0,
                            "ticks": ""
                          }
                        },
                        "type": "scatterternary"
                      }
                    ],
                    "surface": [
                      {
                        "colorbar": {
                          "outlinewidth": 0,
                          "ticks": ""
                        },
                        "colorscale": [
                          [
                            0,
                            "#0d0887"
                          ],
                          [
                            0.1111111111111111,
                            "#46039f"
                          ],
                          [
                            0.2222222222222222,
                            "#7201a8"
                          ],
                          [
                            0.3333333333333333,
                            "#9c179e"
                          ],
                          [
                            0.4444444444444444,
                            "#bd3786"
                          ],
                          [
                            0.5555555555555556,
                            "#d8576b"
                          ],
                          [
                            0.6666666666666666,
                            "#ed7953"
                          ],
                          [
                            0.7777777777777778,
                            "#fb9f3a"
                          ],
                          [
                            0.8888888888888888,
                            "#fdca26"
                          ],
                          [
                            1,
                            "#f0f921"
                          ]
                        ],
                        "type": "surface"
                      }
                    ],
                    "table": [
                      {
                        "cells": {
                          "fill": {
                            "color": "#EBF0F8"
                          },
                          "line": {
                            "color": "white"
                          }
                        },
                        "header": {
                          "fill": {
                            "color": "#C8D4E3"
                          },
                          "line": {
                            "color": "white"
                          }
                        },
                        "type": "table"
                      }
                    ]
                  },
                  "layout": {
                    "annotationdefaults": {
                      "arrowcolor": "#2a3f5f",
                      "arrowhead": 0,
                      "arrowwidth": 1
                    },
                    "autotypenumbers": "strict",
                    "coloraxis": {
                      "colorbar": {
                        "outlinewidth": 0,
                        "ticks": ""
                      }
                    },
                    "colorscale": {
                      "diverging": [
                        [
                          0,
                          "#8e0152"
                        ],
                        [
                          0.1,
                          "#c51b7d"
                        ],
                        [
                          0.2,
                          "#de77ae"
                        ],
                        [
                          0.3,
                          "#f1b6da"
                        ],
                        [
                          0.4,
                          "#fde0ef"
                        ],
                        [
                          0.5,
                          "#f7f7f7"
                        ],
                        [
                          0.6,
                          "#e6f5d0"
                        ],
                        [
                          0.7,
                          "#b8e186"
                        ],
                        [
                          0.8,
                          "#7fbc41"
                        ],
                        [
                          0.9,
                          "#4d9221"
                        ],
                        [
                          1,
                          "#276419"
                        ]
                      ],
                      "sequential": [
                        [
                          0,
                          "#0d0887"
                        ],
                        [
                          0.1111111111111111,
                          "#46039f"
                        ],
                        [
                          0.2222222222222222,
                          "#7201a8"
                        ],
                        [
                          0.3333333333333333,
                          "#9c179e"
                        ],
                        [
                          0.4444444444444444,
                          "#bd3786"
                        ],
                        [
                          0.5555555555555556,
                          "#d8576b"
                        ],
                        [
                          0.6666666666666666,
                          "#ed7953"
                        ],
                        [
                          0.7777777777777778,
                          "#fb9f3a"
                        ],
                        [
                          0.8888888888888888,
                          "#fdca26"
                        ],
                        [
                          1,
                          "#f0f921"
                        ]
                      ],
                      "sequentialminus": [
                        [
                          0,
                          "#0d0887"
                        ],
                        [
                          0.1111111111111111,
                          "#46039f"
                        ],
                        [
                          0.2222222222222222,
                          "#7201a8"
                        ],
                        [
                          0.3333333333333333,
                          "#9c179e"
                        ],
                        [
                          0.4444444444444444,
                          "#bd3786"
                        ],
                        [
                          0.5555555555555556,
                          "#d8576b"
                        ],
                        [
                          0.6666666666666666,
                          "#ed7953"
                        ],
                        [
                          0.7777777777777778,
                          "#fb9f3a"
                        ],
                        [
                          0.8888888888888888,
                          "#fdca26"
                        ],
                        [
                          1,
                          "#f0f921"
                        ]
                      ]
                    },
                    "colorway": [
                      "#636efa",
                      "#EF553B",
                      "#00cc96",
                      "#ab63fa",
                      "#FFA15A",
                      "#19d3f3",
                      "#FF6692",
                      "#B6E880",
                      "#FF97FF",
                      "#FECB52"
                    ],
                    "font": {
                      "color": "#2a3f5f"
                    },
                    "geo": {
                      "bgcolor": "white",
                      "lakecolor": "white",
                      "landcolor": "#E5ECF6",
                      "showlakes": true,
                      "showland": true,
                      "subunitcolor": "white"
                    },
                    "hoverlabel": {
                      "align": "left"
                    },
                    "hovermode": "closest",
                    "mapbox": {
                      "style": "light"
                    },
                    "paper_bgcolor": "white",
                    "plot_bgcolor": "#E5ECF6",
                    "polar": {
                      "angularaxis": {
                        "gridcolor": "white",
                        "linecolor": "white",
                        "ticks": ""
                      },
                      "bgcolor": "#E5ECF6",
                      "radialaxis": {
                        "gridcolor": "white",
                        "linecolor": "white",
                        "ticks": ""
                      }
                    },
                    "scene": {
                      "xaxis": {
                        "backgroundcolor": "#E5ECF6",
                        "gridcolor": "white",
                        "gridwidth": 2,
                        "linecolor": "white",
                        "showbackground": true,
                        "ticks": "",
                        "zerolinecolor": "white"
                      },
                      "yaxis": {
                        "backgroundcolor": "#E5ECF6",
                        "gridcolor": "white",
                        "gridwidth": 2,
                        "linecolor": "white",
                        "showbackground": true,
                        "ticks": "",
                        "zerolinecolor": "white"
                      },
                      "zaxis": {
                        "backgroundcolor": "#E5ECF6",
                        "gridcolor": "white",
                        "gridwidth": 2,
                        "linecolor": "white",
                        "showbackground": true,
                        "ticks": "",
                        "zerolinecolor": "white"
                      }
                    },
                    "shapedefaults": {
                      "line": {
                        "color": "#2a3f5f"
                      }
                    },
                    "ternary": {
                      "aaxis": {
                        "gridcolor": "white",
                        "linecolor": "white",
                        "ticks": ""
                      },
                      "baxis": {
                        "gridcolor": "white",
                        "linecolor": "white",
                        "ticks": ""
                      },
                      "bgcolor": "#E5ECF6",
                      "caxis": {
                        "gridcolor": "white",
                        "linecolor": "white",
                        "ticks": ""
                      }
                    },
                    "title": {
                      "x": 0.05
                    },
                    "xaxis": {
                      "automargin": true,
                      "gridcolor": "white",
                      "linecolor": "white",
                      "ticks": "",
                      "title": {
                        "standoff": 15
                      },
                      "zerolinecolor": "white",
                      "zerolinewidth": 2
                    },
                    "yaxis": {
                      "automargin": true,
                      "gridcolor": "white",
                      "linecolor": "white",
                      "ticks": "",
                      "title": {
                        "standoff": 15
                      },
                      "zerolinecolor": "white",
                      "zerolinewidth": 2
                    }
                  }
                },
                "title": {
                  "text": "Total Duration per Artist"
                },
                "width": 1000,
                "xaxis": {
                  "anchor": "y",
                  "domain": [
                    0,
                    1
                  ],
                  "title": {
                    "text": "Duration (Mins)"
                  }
                },
                "yaxis": {
                  "anchor": "x",
                  "domain": [
                    0,
                    1
                  ],
                  "title": {
                    "text": "Artist"
                  }
                }
              }
            }
          },
          "metadata": {},
          "output_type": "display_data"
        }
      ],
      "source": [
        "# Create a horizontal bar chart of the total duration in minutes per artist, where the largest bars are on top.\n",
        "\n",
        "# Sort df_grouped in descending order\n",
        "df_grouped_sorted = df_grouped.sort_values(ascending=True)\n",
        "\n",
        "# Creating a horizontal bar chart using Plotly\n",
        "fig = px.bar(df_grouped_sorted,\n",
        "             x = df_grouped_sorted.values, y = df_grouped_sorted.index, orientation = 'h',\n",
        "             height = 650, width = 1000,\n",
        "             title='Total Duration per Artist',\n",
        "             labels={'x': 'Duration (Mins)', 'artist_name': 'Artist'})\n",
        "\n",
        "fig.show()"
      ]
    },
    {
      "cell_type": "code",
      "execution_count": 14,
      "metadata": {
        "colab": {
          "base_uri": "https://localhost:8080/"
        },
        "collapsed": true,
        "id": "Of_Z0R2dzd_j",
        "outputId": "315f1ed1-50eb-4380-c8a8-50dc3c6e8c58"
      },
      "outputs": [
        {
          "name": "stdout",
          "output_type": "stream",
          "text": [
            "artist_name\n",
            "jay_z                131.795568\n",
            "beethoven            129.735525\n",
            "john_coltrane        128.196795\n",
            "adele                127.675907\n",
            "ariana_grande        127.312845\n",
            "miles_davis          126.816801\n",
            "rihanna              126.761981\n",
            "jason_aldean         126.464488\n",
            "chris_stapleton      126.166627\n",
            "coldplay             124.537433\n",
            "pink_floyd           124.496634\n",
            "tupac                122.128452\n",
            "frank_sinatra        121.527763\n",
            "john_mayer           121.052416\n",
            "bach                 119.993363\n",
            "ac_dc                119.782243\n",
            "taylor_swift         118.584689\n",
            "led_zeppelin         117.711761\n",
            "maggie_rogers        117.125269\n",
            "john_legend          116.857779\n",
            "bruce_springsteen    116.255265\n",
            "andrea_bocelli       114.514543\n",
            "alicia_keys          111.908552\n",
            "dr_dre               110.993482\n",
            "Name: tempo, dtype: float64\n"
          ]
        }
      ],
      "source": [
        "# Average Tempo per Artist\n",
        "# Using groupby, print the average tempo per artist.\n",
        "\n",
        "# Group by artist, count unique songs, and sort by count in descending order\n",
        "group_artist = df.groupby('artist_name')\n",
        "average_tempo_per_artist = group_artist['tempo'].mean().sort_values(ascending=False)\n",
        "\n",
        "# Print the result\n",
        "print(average_tempo_per_artist)"
      ]
    },
    {
      "cell_type": "markdown",
      "metadata": {
        "id": "Q-DyAkLJ2As8"
      },
      "source": [
        "+ The artist with the highest average tempo: `Jay Z`\n",
        "+ The artist with the lowest average tempo: `Dr Dre`"
      ]
    },
    {
      "cell_type": "code",
      "execution_count": 15,
      "metadata": {
        "colab": {
          "base_uri": "https://localhost:8080/",
          "height": 667
        },
        "collapsed": true,
        "id": "UcwyEVfJzd9O",
        "outputId": "dd59105c-196c-481d-e9b6-cfe8535100c7"
      },
      "outputs": [
        {
          "data": {
            "application/vnd.plotly.v1+json": {
              "config": {
                "plotlyServerURL": "https://plot.ly"
              },
              "data": [
                {
                  "hovertemplate": "Tempo (BPM)=%{x}<br>Artist=%{y}<extra></extra>",
                  "legendgroup": "",
                  "marker": {
                    "color": "#636efa",
                    "pattern": {
                      "shape": ""
                    }
                  },
                  "name": "",
                  "orientation": "h",
                  "showlegend": false,
                  "textposition": "auto",
                  "type": "bar",
                  "x": {
                    "bdata": "xuejNJW/W0Cdx8+1JfpbQHDJhEbuoFxAI2ltQVYQXUDZJMLY5TZdQMmwp2gESF1At/sffI1tXUASl3mNa6VdQIeaJEYQ8l1APmEyQpP/XUBdvLXIWkNeQKCGZ9/GYV5Amj1/kDiIXkBtb4fYyB9fQJ7pRE1lIl9ACLYtA6qKX0Dz3dAtup1fQBy05kzEsF9Aq34MeUa0X0D9PCalBdRfQJVgEhFC619AxGoSJkwGYEDCk+ZriTdgQJqTGEt1eWBA",
                    "dtype": "f8"
                  },
                  "xaxis": "x",
                  "y": [
                    "dr_dre",
                    "alicia_keys",
                    "andrea_bocelli",
                    "bruce_springsteen",
                    "john_legend",
                    "maggie_rogers",
                    "led_zeppelin",
                    "taylor_swift",
                    "ac_dc",
                    "bach",
                    "john_mayer",
                    "frank_sinatra",
                    "tupac",
                    "pink_floyd",
                    "coldplay",
                    "chris_stapleton",
                    "jason_aldean",
                    "rihanna",
                    "miles_davis",
                    "ariana_grande",
                    "adele",
                    "john_coltrane",
                    "beethoven",
                    "jay_z"
                  ],
                  "yaxis": "y"
                }
              ],
              "layout": {
                "barmode": "relative",
                "height": 650,
                "legend": {
                  "tracegroupgap": 0
                },
                "template": {
                  "data": {
                    "bar": [
                      {
                        "error_x": {
                          "color": "#2a3f5f"
                        },
                        "error_y": {
                          "color": "#2a3f5f"
                        },
                        "marker": {
                          "line": {
                            "color": "#E5ECF6",
                            "width": 0.5
                          },
                          "pattern": {
                            "fillmode": "overlay",
                            "size": 10,
                            "solidity": 0.2
                          }
                        },
                        "type": "bar"
                      }
                    ],
                    "barpolar": [
                      {
                        "marker": {
                          "line": {
                            "color": "#E5ECF6",
                            "width": 0.5
                          },
                          "pattern": {
                            "fillmode": "overlay",
                            "size": 10,
                            "solidity": 0.2
                          }
                        },
                        "type": "barpolar"
                      }
                    ],
                    "carpet": [
                      {
                        "aaxis": {
                          "endlinecolor": "#2a3f5f",
                          "gridcolor": "white",
                          "linecolor": "white",
                          "minorgridcolor": "white",
                          "startlinecolor": "#2a3f5f"
                        },
                        "baxis": {
                          "endlinecolor": "#2a3f5f",
                          "gridcolor": "white",
                          "linecolor": "white",
                          "minorgridcolor": "white",
                          "startlinecolor": "#2a3f5f"
                        },
                        "type": "carpet"
                      }
                    ],
                    "choropleth": [
                      {
                        "colorbar": {
                          "outlinewidth": 0,
                          "ticks": ""
                        },
                        "type": "choropleth"
                      }
                    ],
                    "contour": [
                      {
                        "colorbar": {
                          "outlinewidth": 0,
                          "ticks": ""
                        },
                        "colorscale": [
                          [
                            0,
                            "#0d0887"
                          ],
                          [
                            0.1111111111111111,
                            "#46039f"
                          ],
                          [
                            0.2222222222222222,
                            "#7201a8"
                          ],
                          [
                            0.3333333333333333,
                            "#9c179e"
                          ],
                          [
                            0.4444444444444444,
                            "#bd3786"
                          ],
                          [
                            0.5555555555555556,
                            "#d8576b"
                          ],
                          [
                            0.6666666666666666,
                            "#ed7953"
                          ],
                          [
                            0.7777777777777778,
                            "#fb9f3a"
                          ],
                          [
                            0.8888888888888888,
                            "#fdca26"
                          ],
                          [
                            1,
                            "#f0f921"
                          ]
                        ],
                        "type": "contour"
                      }
                    ],
                    "contourcarpet": [
                      {
                        "colorbar": {
                          "outlinewidth": 0,
                          "ticks": ""
                        },
                        "type": "contourcarpet"
                      }
                    ],
                    "heatmap": [
                      {
                        "colorbar": {
                          "outlinewidth": 0,
                          "ticks": ""
                        },
                        "colorscale": [
                          [
                            0,
                            "#0d0887"
                          ],
                          [
                            0.1111111111111111,
                            "#46039f"
                          ],
                          [
                            0.2222222222222222,
                            "#7201a8"
                          ],
                          [
                            0.3333333333333333,
                            "#9c179e"
                          ],
                          [
                            0.4444444444444444,
                            "#bd3786"
                          ],
                          [
                            0.5555555555555556,
                            "#d8576b"
                          ],
                          [
                            0.6666666666666666,
                            "#ed7953"
                          ],
                          [
                            0.7777777777777778,
                            "#fb9f3a"
                          ],
                          [
                            0.8888888888888888,
                            "#fdca26"
                          ],
                          [
                            1,
                            "#f0f921"
                          ]
                        ],
                        "type": "heatmap"
                      }
                    ],
                    "histogram": [
                      {
                        "marker": {
                          "pattern": {
                            "fillmode": "overlay",
                            "size": 10,
                            "solidity": 0.2
                          }
                        },
                        "type": "histogram"
                      }
                    ],
                    "histogram2d": [
                      {
                        "colorbar": {
                          "outlinewidth": 0,
                          "ticks": ""
                        },
                        "colorscale": [
                          [
                            0,
                            "#0d0887"
                          ],
                          [
                            0.1111111111111111,
                            "#46039f"
                          ],
                          [
                            0.2222222222222222,
                            "#7201a8"
                          ],
                          [
                            0.3333333333333333,
                            "#9c179e"
                          ],
                          [
                            0.4444444444444444,
                            "#bd3786"
                          ],
                          [
                            0.5555555555555556,
                            "#d8576b"
                          ],
                          [
                            0.6666666666666666,
                            "#ed7953"
                          ],
                          [
                            0.7777777777777778,
                            "#fb9f3a"
                          ],
                          [
                            0.8888888888888888,
                            "#fdca26"
                          ],
                          [
                            1,
                            "#f0f921"
                          ]
                        ],
                        "type": "histogram2d"
                      }
                    ],
                    "histogram2dcontour": [
                      {
                        "colorbar": {
                          "outlinewidth": 0,
                          "ticks": ""
                        },
                        "colorscale": [
                          [
                            0,
                            "#0d0887"
                          ],
                          [
                            0.1111111111111111,
                            "#46039f"
                          ],
                          [
                            0.2222222222222222,
                            "#7201a8"
                          ],
                          [
                            0.3333333333333333,
                            "#9c179e"
                          ],
                          [
                            0.4444444444444444,
                            "#bd3786"
                          ],
                          [
                            0.5555555555555556,
                            "#d8576b"
                          ],
                          [
                            0.6666666666666666,
                            "#ed7953"
                          ],
                          [
                            0.7777777777777778,
                            "#fb9f3a"
                          ],
                          [
                            0.8888888888888888,
                            "#fdca26"
                          ],
                          [
                            1,
                            "#f0f921"
                          ]
                        ],
                        "type": "histogram2dcontour"
                      }
                    ],
                    "mesh3d": [
                      {
                        "colorbar": {
                          "outlinewidth": 0,
                          "ticks": ""
                        },
                        "type": "mesh3d"
                      }
                    ],
                    "parcoords": [
                      {
                        "line": {
                          "colorbar": {
                            "outlinewidth": 0,
                            "ticks": ""
                          }
                        },
                        "type": "parcoords"
                      }
                    ],
                    "pie": [
                      {
                        "automargin": true,
                        "type": "pie"
                      }
                    ],
                    "scatter": [
                      {
                        "fillpattern": {
                          "fillmode": "overlay",
                          "size": 10,
                          "solidity": 0.2
                        },
                        "type": "scatter"
                      }
                    ],
                    "scatter3d": [
                      {
                        "line": {
                          "colorbar": {
                            "outlinewidth": 0,
                            "ticks": ""
                          }
                        },
                        "marker": {
                          "colorbar": {
                            "outlinewidth": 0,
                            "ticks": ""
                          }
                        },
                        "type": "scatter3d"
                      }
                    ],
                    "scattercarpet": [
                      {
                        "marker": {
                          "colorbar": {
                            "outlinewidth": 0,
                            "ticks": ""
                          }
                        },
                        "type": "scattercarpet"
                      }
                    ],
                    "scattergeo": [
                      {
                        "marker": {
                          "colorbar": {
                            "outlinewidth": 0,
                            "ticks": ""
                          }
                        },
                        "type": "scattergeo"
                      }
                    ],
                    "scattergl": [
                      {
                        "marker": {
                          "colorbar": {
                            "outlinewidth": 0,
                            "ticks": ""
                          }
                        },
                        "type": "scattergl"
                      }
                    ],
                    "scattermap": [
                      {
                        "marker": {
                          "colorbar": {
                            "outlinewidth": 0,
                            "ticks": ""
                          }
                        },
                        "type": "scattermap"
                      }
                    ],
                    "scattermapbox": [
                      {
                        "marker": {
                          "colorbar": {
                            "outlinewidth": 0,
                            "ticks": ""
                          }
                        },
                        "type": "scattermapbox"
                      }
                    ],
                    "scatterpolar": [
                      {
                        "marker": {
                          "colorbar": {
                            "outlinewidth": 0,
                            "ticks": ""
                          }
                        },
                        "type": "scatterpolar"
                      }
                    ],
                    "scatterpolargl": [
                      {
                        "marker": {
                          "colorbar": {
                            "outlinewidth": 0,
                            "ticks": ""
                          }
                        },
                        "type": "scatterpolargl"
                      }
                    ],
                    "scatterternary": [
                      {
                        "marker": {
                          "colorbar": {
                            "outlinewidth": 0,
                            "ticks": ""
                          }
                        },
                        "type": "scatterternary"
                      }
                    ],
                    "surface": [
                      {
                        "colorbar": {
                          "outlinewidth": 0,
                          "ticks": ""
                        },
                        "colorscale": [
                          [
                            0,
                            "#0d0887"
                          ],
                          [
                            0.1111111111111111,
                            "#46039f"
                          ],
                          [
                            0.2222222222222222,
                            "#7201a8"
                          ],
                          [
                            0.3333333333333333,
                            "#9c179e"
                          ],
                          [
                            0.4444444444444444,
                            "#bd3786"
                          ],
                          [
                            0.5555555555555556,
                            "#d8576b"
                          ],
                          [
                            0.6666666666666666,
                            "#ed7953"
                          ],
                          [
                            0.7777777777777778,
                            "#fb9f3a"
                          ],
                          [
                            0.8888888888888888,
                            "#fdca26"
                          ],
                          [
                            1,
                            "#f0f921"
                          ]
                        ],
                        "type": "surface"
                      }
                    ],
                    "table": [
                      {
                        "cells": {
                          "fill": {
                            "color": "#EBF0F8"
                          },
                          "line": {
                            "color": "white"
                          }
                        },
                        "header": {
                          "fill": {
                            "color": "#C8D4E3"
                          },
                          "line": {
                            "color": "white"
                          }
                        },
                        "type": "table"
                      }
                    ]
                  },
                  "layout": {
                    "annotationdefaults": {
                      "arrowcolor": "#2a3f5f",
                      "arrowhead": 0,
                      "arrowwidth": 1
                    },
                    "autotypenumbers": "strict",
                    "coloraxis": {
                      "colorbar": {
                        "outlinewidth": 0,
                        "ticks": ""
                      }
                    },
                    "colorscale": {
                      "diverging": [
                        [
                          0,
                          "#8e0152"
                        ],
                        [
                          0.1,
                          "#c51b7d"
                        ],
                        [
                          0.2,
                          "#de77ae"
                        ],
                        [
                          0.3,
                          "#f1b6da"
                        ],
                        [
                          0.4,
                          "#fde0ef"
                        ],
                        [
                          0.5,
                          "#f7f7f7"
                        ],
                        [
                          0.6,
                          "#e6f5d0"
                        ],
                        [
                          0.7,
                          "#b8e186"
                        ],
                        [
                          0.8,
                          "#7fbc41"
                        ],
                        [
                          0.9,
                          "#4d9221"
                        ],
                        [
                          1,
                          "#276419"
                        ]
                      ],
                      "sequential": [
                        [
                          0,
                          "#0d0887"
                        ],
                        [
                          0.1111111111111111,
                          "#46039f"
                        ],
                        [
                          0.2222222222222222,
                          "#7201a8"
                        ],
                        [
                          0.3333333333333333,
                          "#9c179e"
                        ],
                        [
                          0.4444444444444444,
                          "#bd3786"
                        ],
                        [
                          0.5555555555555556,
                          "#d8576b"
                        ],
                        [
                          0.6666666666666666,
                          "#ed7953"
                        ],
                        [
                          0.7777777777777778,
                          "#fb9f3a"
                        ],
                        [
                          0.8888888888888888,
                          "#fdca26"
                        ],
                        [
                          1,
                          "#f0f921"
                        ]
                      ],
                      "sequentialminus": [
                        [
                          0,
                          "#0d0887"
                        ],
                        [
                          0.1111111111111111,
                          "#46039f"
                        ],
                        [
                          0.2222222222222222,
                          "#7201a8"
                        ],
                        [
                          0.3333333333333333,
                          "#9c179e"
                        ],
                        [
                          0.4444444444444444,
                          "#bd3786"
                        ],
                        [
                          0.5555555555555556,
                          "#d8576b"
                        ],
                        [
                          0.6666666666666666,
                          "#ed7953"
                        ],
                        [
                          0.7777777777777778,
                          "#fb9f3a"
                        ],
                        [
                          0.8888888888888888,
                          "#fdca26"
                        ],
                        [
                          1,
                          "#f0f921"
                        ]
                      ]
                    },
                    "colorway": [
                      "#636efa",
                      "#EF553B",
                      "#00cc96",
                      "#ab63fa",
                      "#FFA15A",
                      "#19d3f3",
                      "#FF6692",
                      "#B6E880",
                      "#FF97FF",
                      "#FECB52"
                    ],
                    "font": {
                      "color": "#2a3f5f"
                    },
                    "geo": {
                      "bgcolor": "white",
                      "lakecolor": "white",
                      "landcolor": "#E5ECF6",
                      "showlakes": true,
                      "showland": true,
                      "subunitcolor": "white"
                    },
                    "hoverlabel": {
                      "align": "left"
                    },
                    "hovermode": "closest",
                    "mapbox": {
                      "style": "light"
                    },
                    "paper_bgcolor": "white",
                    "plot_bgcolor": "#E5ECF6",
                    "polar": {
                      "angularaxis": {
                        "gridcolor": "white",
                        "linecolor": "white",
                        "ticks": ""
                      },
                      "bgcolor": "#E5ECF6",
                      "radialaxis": {
                        "gridcolor": "white",
                        "linecolor": "white",
                        "ticks": ""
                      }
                    },
                    "scene": {
                      "xaxis": {
                        "backgroundcolor": "#E5ECF6",
                        "gridcolor": "white",
                        "gridwidth": 2,
                        "linecolor": "white",
                        "showbackground": true,
                        "ticks": "",
                        "zerolinecolor": "white"
                      },
                      "yaxis": {
                        "backgroundcolor": "#E5ECF6",
                        "gridcolor": "white",
                        "gridwidth": 2,
                        "linecolor": "white",
                        "showbackground": true,
                        "ticks": "",
                        "zerolinecolor": "white"
                      },
                      "zaxis": {
                        "backgroundcolor": "#E5ECF6",
                        "gridcolor": "white",
                        "gridwidth": 2,
                        "linecolor": "white",
                        "showbackground": true,
                        "ticks": "",
                        "zerolinecolor": "white"
                      }
                    },
                    "shapedefaults": {
                      "line": {
                        "color": "#2a3f5f"
                      }
                    },
                    "ternary": {
                      "aaxis": {
                        "gridcolor": "white",
                        "linecolor": "white",
                        "ticks": ""
                      },
                      "baxis": {
                        "gridcolor": "white",
                        "linecolor": "white",
                        "ticks": ""
                      },
                      "bgcolor": "#E5ECF6",
                      "caxis": {
                        "gridcolor": "white",
                        "linecolor": "white",
                        "ticks": ""
                      }
                    },
                    "title": {
                      "x": 0.05
                    },
                    "xaxis": {
                      "automargin": true,
                      "gridcolor": "white",
                      "linecolor": "white",
                      "ticks": "",
                      "title": {
                        "standoff": 15
                      },
                      "zerolinecolor": "white",
                      "zerolinewidth": 2
                    },
                    "yaxis": {
                      "automargin": true,
                      "gridcolor": "white",
                      "linecolor": "white",
                      "ticks": "",
                      "title": {
                        "standoff": 15
                      },
                      "zerolinecolor": "white",
                      "zerolinewidth": 2
                    }
                  }
                },
                "title": {
                  "text": "Average Tempo per Artist"
                },
                "width": 1000,
                "xaxis": {
                  "anchor": "y",
                  "domain": [
                    0,
                    1
                  ],
                  "title": {
                    "text": "Tempo (BPM)"
                  }
                },
                "yaxis": {
                  "anchor": "x",
                  "domain": [
                    0,
                    1
                  ],
                  "title": {
                    "text": "Artist"
                  }
                }
              }
            }
          },
          "metadata": {},
          "output_type": "display_data"
        }
      ],
      "source": [
        "# Create a horizontal bar chart of the average tempo per artist, where the largest bars are on top.\n",
        "\n",
        "# Sort df_grouped in descending order\n",
        "average_tempo_per_artist_sorted = average_tempo_per_artist.sort_values(ascending=True)\n",
        "\n",
        "# Creating a horizontal bar chart using Plotly\n",
        "fig = px.bar(average_tempo_per_artist_sorted,\n",
        "             x = average_tempo_per_artist_sorted.values, y = average_tempo_per_artist_sorted.index, orientation = 'h',\n",
        "             height = 650, width = 1000,\n",
        "             title='Average Tempo per Artist',\n",
        "             labels={'x': 'Tempo (BPM)', 'artist_name': 'Artist'})\n",
        "\n",
        "fig.show()"
      ]
    },
    {
      "cell_type": "code",
      "execution_count": 16,
      "metadata": {
        "colab": {
          "base_uri": "https://localhost:8080/"
        },
        "collapsed": true,
        "id": "6efe951lzd5D",
        "outputId": "97e53e8e-292a-4c03-9fad-bb15152e1d4a"
      },
      "outputs": [
        {
          "name": "stdout",
          "output_type": "stream",
          "text": [
            "          artist_name        tempo\n",
            "0               tupac  1154.445256\n",
            "1              dr_dre   924.390317\n",
            "2               jay_z   779.302222\n",
            "3     chris_stapleton   724.111820\n",
            "4        led_zeppelin   668.316129\n",
            "5        taylor_swift   624.064072\n",
            "6        jason_aldean   615.191101\n",
            "7   bruce_springsteen   597.348392\n",
            "8         alicia_keys   555.928764\n",
            "9             rihanna   512.382646\n",
            "10      ariana_grande   495.034984\n",
            "11        john_legend   469.615001\n",
            "12      john_coltrane   466.104578\n",
            "13      maggie_rogers   438.469787\n",
            "14      frank_sinatra   362.290527\n",
            "15         john_mayer   343.170670\n",
            "16           coldplay   312.686523\n",
            "17              adele   299.420981\n",
            "18              ac_dc   234.394016\n",
            "19          beethoven   232.235508\n",
            "20     andrea_bocelli   194.820338\n",
            "21        miles_davis   167.675505\n",
            "22         pink_floyd   125.919142\n",
            "23               bach    65.055989\n"
          ]
        }
      ],
      "source": [
        "# Print the variance in tempo for each artist\n",
        "tempo_variance_per_artist = df.groupby('artist_name')['tempo'].var().sort_values(ascending=False)\n",
        "tempo_variance_per_artist = tempo_variance_per_artist.reset_index()\n",
        "\n",
        "print(tempo_variance_per_artist)"
      ]
    },
    {
      "cell_type": "markdown",
      "metadata": {
        "id": "eyBCtF1BlZ3W"
      },
      "source": [
        "## Artist Classification\n"
      ]
    },
    {
      "cell_type": "markdown",
      "metadata": {
        "id": "kNOrYJmyJyTs"
      },
      "source": [
        "### Train and Test Split"
      ]
    },
    {
      "cell_type": "code",
      "execution_count": 17,
      "metadata": {
        "id": "u77dOcq39xQR"
      },
      "outputs": [],
      "source": [
        "# Selecting target and features\n",
        "\n",
        "# Target\n",
        "y = df['artist_name']\n",
        "\n",
        "# Features\n",
        "x = df.drop(columns=[\"artist_name\", 'video_id', 'audio_filename', 'track_length', 'track_duration_sec', 'track_duration_min'])"
      ]
    },
    {
      "cell_type": "code",
      "execution_count": 18,
      "metadata": {
        "colab": {
          "base_uri": "https://localhost:8080/"
        },
        "collapsed": true,
        "id": "k40q4OT8B8sK",
        "outputId": "eade353a-9479-441d-8040-2c2a0083b5d7"
      },
      "outputs": [
        {
          "name": "stdout",
          "output_type": "stream",
          "text": [
            "X: (1818, 42)\n",
            "Y: (1818,)\n"
          ]
        }
      ],
      "source": [
        "print(\"X:\", x.shape)\n",
        "print(\"Y:\", y.shape)"
      ]
    },
    {
      "cell_type": "markdown",
      "metadata": {
        "id": "oHrOF-PaQupt"
      },
      "source": [
        "### Data Scaling"
      ]
    },
    {
      "cell_type": "code",
      "execution_count": 19,
      "metadata": {
        "colab": {
          "base_uri": "https://localhost:8080/"
        },
        "collapsed": true,
        "id": "lD2K8DXuQnNa",
        "outputId": "5d14a364-f725-4df6-ba84-e3444fca6c4f"
      },
      "outputs": [
        {
          "name": "stdout",
          "output_type": "stream",
          "text": [
            "SCALED VALUES: MEAN & STDEV:\n",
            "--------\n",
            "                                 mean  std\n",
            "track_number             3.517538e-17  1.0\n",
            "tempo                   -8.403008e-16  1.0\n",
            "chroma_stft_mean         1.563350e-17  1.0\n",
            "chroma_stft_var         -2.626429e-15  1.0\n",
            "rms_mean                -1.719685e-16  1.0\n",
            "rms_var                  7.816752e-17  1.0\n",
            "spectral_centroid_mean   2.266858e-16  1.0\n",
            "spectral_centroid_var    8.598427e-17  1.0\n",
            "spectral_bandwidth_mean  7.504082e-16  1.0\n",
            "spectral_bandwidth_var   0.000000e+00  1.0\n",
            "spectral_rolloff_mean   -1.954188e-16  1.0\n",
            "spectral_rolloff_var    -2.032355e-16  1.0\n",
            "zero_crossing_rate_mean -4.690051e-17  1.0\n",
            "zero_crossing_rate_var  -1.367932e-17  1.0\n",
            "tonnetz_mean            -2.345026e-17  1.0\n",
            "tonnetz_var              0.000000e+00  1.0\n",
            "mfcc_1_mean             -7.035077e-17  1.0\n",
            "mfcc_1_var              -7.816752e-18  1.0\n",
            "mfcc_2_mean              2.892198e-16  1.0\n",
            "mfcc_2_var               1.563350e-17  1.0\n",
            "mfcc_3_mean             -7.816752e-18  1.0\n",
            "mfcc_3_var              -7.035077e-17  1.0\n",
            "mfcc_4_mean             -2.188690e-16  1.0\n",
            "mfcc_4_var               6.253401e-17  1.0\n",
            "mfcc_5_mean              6.253401e-17  1.0\n",
            "mfcc_5_var               1.407015e-16  1.0\n",
            "mfcc_6_mean             -7.816752e-17  1.0\n",
            "mfcc_6_var               9.380102e-17  1.0\n",
            "mfcc_7_mean              3.126701e-17  1.0\n",
            "mfcc_7_var              -9.380102e-17  1.0\n",
            "mfcc_8_mean              1.094345e-16  1.0\n",
            "mfcc_8_var               0.000000e+00  1.0\n",
            "mfcc_9_mean              1.563350e-17  1.0\n",
            "mfcc_9_var               2.188690e-16  1.0\n",
            "mfcc_10_mean            -1.563350e-17  1.0\n",
            "mfcc_10_var              3.126701e-17  1.0\n",
            "mfcc_11_mean            -3.126701e-17  1.0\n",
            "mfcc_11_var              9.380102e-17  1.0\n",
            "mfcc_12_mean            -9.380102e-17  1.0\n",
            "mfcc_12_var             -1.407015e-16  1.0\n",
            "mfcc_13_mean            -3.126701e-17  1.0\n",
            "mfcc_13_var              1.563350e-17  1.0\n"
          ]
        }
      ],
      "source": [
        "x = x.select_dtypes(include='number')\n",
        "x_scaled = (x - x.mean()) / x.std()\n",
        "print(\"SCALED VALUES: MEAN & STDEV:\")\n",
        "print(\"--------\")\n",
        "print(x_scaled.describe().T[[\"mean\", \"std\"]])"
      ]
    },
    {
      "cell_type": "markdown",
      "metadata": {
        "id": "GqgVlNRoT-ZV"
      },
      "source": [
        "### Train Test Split"
      ]
    },
    {
      "cell_type": "code",
      "execution_count": 20,
      "metadata": {},
      "outputs": [
        {
          "name": "stdout",
          "output_type": "stream",
          "text": [
            "Requirement already satisfied: scikit-learn in /Users/chibuzor/Downloads/Python Repo/venv/lib/python3.12/site-packages (1.6.1)\n",
            "Requirement already satisfied: numpy>=1.19.5 in /Users/chibuzor/Downloads/Python Repo/venv/lib/python3.12/site-packages (from scikit-learn) (2.0.2)\n",
            "Requirement already satisfied: scipy>=1.6.0 in /Users/chibuzor/Downloads/Python Repo/venv/lib/python3.12/site-packages (from scikit-learn) (1.15.2)\n",
            "Requirement already satisfied: joblib>=1.2.0 in /Users/chibuzor/Downloads/Python Repo/venv/lib/python3.12/site-packages (from scikit-learn) (1.4.2)\n",
            "Requirement already satisfied: threadpoolctl>=3.1.0 in /Users/chibuzor/Downloads/Python Repo/venv/lib/python3.12/site-packages (from scikit-learn) (3.5.0)\n",
            "\n",
            "\u001b[1m[\u001b[0m\u001b[34;49mnotice\u001b[0m\u001b[1;39;49m]\u001b[0m\u001b[39;49m A new release of pip is available: \u001b[0m\u001b[31;49m24.3.1\u001b[0m\u001b[39;49m -> \u001b[0m\u001b[32;49m25.0.1\u001b[0m\n",
            "\u001b[1m[\u001b[0m\u001b[34;49mnotice\u001b[0m\u001b[1;39;49m]\u001b[0m\u001b[39;49m To update, run: \u001b[0m\u001b[32;49mpip install --upgrade pip\u001b[0m\n",
            "Note: you may need to restart the kernel to use updated packages.\n"
          ]
        }
      ],
      "source": [
        "%pip install scikit-learn\n"
      ]
    },
    {
      "cell_type": "code",
      "execution_count": 21,
      "metadata": {
        "colab": {
          "base_uri": "https://localhost:8080/"
        },
        "collapsed": true,
        "id": "h2BjTEnMQZNl",
        "outputId": "cf8b79a4-8784-4c5a-adde-ae4233525326"
      },
      "outputs": [
        {
          "name": "stdout",
          "output_type": "stream",
          "text": [
            "x_train shape: (1454, 42)\n",
            "x_test shape: (364, 42)\n",
            "y_train shape: (1454,)\n",
            "y_test shape: (364,)\n"
          ]
        }
      ],
      "source": [
        "# C) Train/Test Split:\n",
        "# Perform a train/test split on the target and scaled features. Use 20% of the rows in the test set. Use a random state for reproducibility.\n",
        "\n",
        "from sklearn.model_selection import train_test_split\n",
        "\n",
        "x_train, x_test, y_train, y_test = train_test_split(x_scaled, y, test_size= 0.2, random_state=99)\n",
        "\n",
        "print(f\"x_train shape: {x_train.shape}\")\n",
        "print(f\"x_test shape: {x_test.shape}\")\n",
        "print(f\"y_train shape: {y_train.shape}\")\n",
        "print(f\"y_test shape: {y_test.shape}\")"
      ]
    },
    {
      "cell_type": "markdown",
      "metadata": {},
      "source": []
    },
    {
      "cell_type": "markdown",
      "metadata": {
        "id": "qxLjpbEsQXuE"
      },
      "source": [
        "### Model Training"
      ]
    },
    {
      "cell_type": "code",
      "execution_count": 22,
      "metadata": {
        "colab": {
          "base_uri": "https://localhost:8080/",
          "height": 80
        },
        "collapsed": true,
        "id": "82en3kfs2vAa",
        "outputId": "cadb9485-e461-408f-f445-9d05ee413921"
      },
      "outputs": [
        {
          "data": {
            "text/html": [
              "<style>#sk-container-id-1 {\n",
              "  /* Definition of color scheme common for light and dark mode */\n",
              "  --sklearn-color-text: #000;\n",
              "  --sklearn-color-text-muted: #666;\n",
              "  --sklearn-color-line: gray;\n",
              "  /* Definition of color scheme for unfitted estimators */\n",
              "  --sklearn-color-unfitted-level-0: #fff5e6;\n",
              "  --sklearn-color-unfitted-level-1: #f6e4d2;\n",
              "  --sklearn-color-unfitted-level-2: #ffe0b3;\n",
              "  --sklearn-color-unfitted-level-3: chocolate;\n",
              "  /* Definition of color scheme for fitted estimators */\n",
              "  --sklearn-color-fitted-level-0: #f0f8ff;\n",
              "  --sklearn-color-fitted-level-1: #d4ebff;\n",
              "  --sklearn-color-fitted-level-2: #b3dbfd;\n",
              "  --sklearn-color-fitted-level-3: cornflowerblue;\n",
              "\n",
              "  /* Specific color for light theme */\n",
              "  --sklearn-color-text-on-default-background: var(--sg-text-color, var(--theme-code-foreground, var(--jp-content-font-color1, black)));\n",
              "  --sklearn-color-background: var(--sg-background-color, var(--theme-background, var(--jp-layout-color0, white)));\n",
              "  --sklearn-color-border-box: var(--sg-text-color, var(--theme-code-foreground, var(--jp-content-font-color1, black)));\n",
              "  --sklearn-color-icon: #696969;\n",
              "\n",
              "  @media (prefers-color-scheme: dark) {\n",
              "    /* Redefinition of color scheme for dark theme */\n",
              "    --sklearn-color-text-on-default-background: var(--sg-text-color, var(--theme-code-foreground, var(--jp-content-font-color1, white)));\n",
              "    --sklearn-color-background: var(--sg-background-color, var(--theme-background, var(--jp-layout-color0, #111)));\n",
              "    --sklearn-color-border-box: var(--sg-text-color, var(--theme-code-foreground, var(--jp-content-font-color1, white)));\n",
              "    --sklearn-color-icon: #878787;\n",
              "  }\n",
              "}\n",
              "\n",
              "#sk-container-id-1 {\n",
              "  color: var(--sklearn-color-text);\n",
              "}\n",
              "\n",
              "#sk-container-id-1 pre {\n",
              "  padding: 0;\n",
              "}\n",
              "\n",
              "#sk-container-id-1 input.sk-hidden--visually {\n",
              "  border: 0;\n",
              "  clip: rect(1px 1px 1px 1px);\n",
              "  clip: rect(1px, 1px, 1px, 1px);\n",
              "  height: 1px;\n",
              "  margin: -1px;\n",
              "  overflow: hidden;\n",
              "  padding: 0;\n",
              "  position: absolute;\n",
              "  width: 1px;\n",
              "}\n",
              "\n",
              "#sk-container-id-1 div.sk-dashed-wrapped {\n",
              "  border: 1px dashed var(--sklearn-color-line);\n",
              "  margin: 0 0.4em 0.5em 0.4em;\n",
              "  box-sizing: border-box;\n",
              "  padding-bottom: 0.4em;\n",
              "  background-color: var(--sklearn-color-background);\n",
              "}\n",
              "\n",
              "#sk-container-id-1 div.sk-container {\n",
              "  /* jupyter's `normalize.less` sets `[hidden] { display: none; }`\n",
              "     but bootstrap.min.css set `[hidden] { display: none !important; }`\n",
              "     so we also need the `!important` here to be able to override the\n",
              "     default hidden behavior on the sphinx rendered scikit-learn.org.\n",
              "     See: https://github.com/scikit-learn/scikit-learn/issues/21755 */\n",
              "  display: inline-block !important;\n",
              "  position: relative;\n",
              "}\n",
              "\n",
              "#sk-container-id-1 div.sk-text-repr-fallback {\n",
              "  display: none;\n",
              "}\n",
              "\n",
              "div.sk-parallel-item,\n",
              "div.sk-serial,\n",
              "div.sk-item {\n",
              "  /* draw centered vertical line to link estimators */\n",
              "  background-image: linear-gradient(var(--sklearn-color-text-on-default-background), var(--sklearn-color-text-on-default-background));\n",
              "  background-size: 2px 100%;\n",
              "  background-repeat: no-repeat;\n",
              "  background-position: center center;\n",
              "}\n",
              "\n",
              "/* Parallel-specific style estimator block */\n",
              "\n",
              "#sk-container-id-1 div.sk-parallel-item::after {\n",
              "  content: \"\";\n",
              "  width: 100%;\n",
              "  border-bottom: 2px solid var(--sklearn-color-text-on-default-background);\n",
              "  flex-grow: 1;\n",
              "}\n",
              "\n",
              "#sk-container-id-1 div.sk-parallel {\n",
              "  display: flex;\n",
              "  align-items: stretch;\n",
              "  justify-content: center;\n",
              "  background-color: var(--sklearn-color-background);\n",
              "  position: relative;\n",
              "}\n",
              "\n",
              "#sk-container-id-1 div.sk-parallel-item {\n",
              "  display: flex;\n",
              "  flex-direction: column;\n",
              "}\n",
              "\n",
              "#sk-container-id-1 div.sk-parallel-item:first-child::after {\n",
              "  align-self: flex-end;\n",
              "  width: 50%;\n",
              "}\n",
              "\n",
              "#sk-container-id-1 div.sk-parallel-item:last-child::after {\n",
              "  align-self: flex-start;\n",
              "  width: 50%;\n",
              "}\n",
              "\n",
              "#sk-container-id-1 div.sk-parallel-item:only-child::after {\n",
              "  width: 0;\n",
              "}\n",
              "\n",
              "/* Serial-specific style estimator block */\n",
              "\n",
              "#sk-container-id-1 div.sk-serial {\n",
              "  display: flex;\n",
              "  flex-direction: column;\n",
              "  align-items: center;\n",
              "  background-color: var(--sklearn-color-background);\n",
              "  padding-right: 1em;\n",
              "  padding-left: 1em;\n",
              "}\n",
              "\n",
              "\n",
              "/* Toggleable style: style used for estimator/Pipeline/ColumnTransformer box that is\n",
              "clickable and can be expanded/collapsed.\n",
              "- Pipeline and ColumnTransformer use this feature and define the default style\n",
              "- Estimators will overwrite some part of the style using the `sk-estimator` class\n",
              "*/\n",
              "\n",
              "/* Pipeline and ColumnTransformer style (default) */\n",
              "\n",
              "#sk-container-id-1 div.sk-toggleable {\n",
              "  /* Default theme specific background. It is overwritten whether we have a\n",
              "  specific estimator or a Pipeline/ColumnTransformer */\n",
              "  background-color: var(--sklearn-color-background);\n",
              "}\n",
              "\n",
              "/* Toggleable label */\n",
              "#sk-container-id-1 label.sk-toggleable__label {\n",
              "  cursor: pointer;\n",
              "  display: flex;\n",
              "  width: 100%;\n",
              "  margin-bottom: 0;\n",
              "  padding: 0.5em;\n",
              "  box-sizing: border-box;\n",
              "  text-align: center;\n",
              "  align-items: start;\n",
              "  justify-content: space-between;\n",
              "  gap: 0.5em;\n",
              "}\n",
              "\n",
              "#sk-container-id-1 label.sk-toggleable__label .caption {\n",
              "  font-size: 0.6rem;\n",
              "  font-weight: lighter;\n",
              "  color: var(--sklearn-color-text-muted);\n",
              "}\n",
              "\n",
              "#sk-container-id-1 label.sk-toggleable__label-arrow:before {\n",
              "  /* Arrow on the left of the label */\n",
              "  content: \"▸\";\n",
              "  float: left;\n",
              "  margin-right: 0.25em;\n",
              "  color: var(--sklearn-color-icon);\n",
              "}\n",
              "\n",
              "#sk-container-id-1 label.sk-toggleable__label-arrow:hover:before {\n",
              "  color: var(--sklearn-color-text);\n",
              "}\n",
              "\n",
              "/* Toggleable content - dropdown */\n",
              "\n",
              "#sk-container-id-1 div.sk-toggleable__content {\n",
              "  max-height: 0;\n",
              "  max-width: 0;\n",
              "  overflow: hidden;\n",
              "  text-align: left;\n",
              "  /* unfitted */\n",
              "  background-color: var(--sklearn-color-unfitted-level-0);\n",
              "}\n",
              "\n",
              "#sk-container-id-1 div.sk-toggleable__content.fitted {\n",
              "  /* fitted */\n",
              "  background-color: var(--sklearn-color-fitted-level-0);\n",
              "}\n",
              "\n",
              "#sk-container-id-1 div.sk-toggleable__content pre {\n",
              "  margin: 0.2em;\n",
              "  border-radius: 0.25em;\n",
              "  color: var(--sklearn-color-text);\n",
              "  /* unfitted */\n",
              "  background-color: var(--sklearn-color-unfitted-level-0);\n",
              "}\n",
              "\n",
              "#sk-container-id-1 div.sk-toggleable__content.fitted pre {\n",
              "  /* unfitted */\n",
              "  background-color: var(--sklearn-color-fitted-level-0);\n",
              "}\n",
              "\n",
              "#sk-container-id-1 input.sk-toggleable__control:checked~div.sk-toggleable__content {\n",
              "  /* Expand drop-down */\n",
              "  max-height: 200px;\n",
              "  max-width: 100%;\n",
              "  overflow: auto;\n",
              "}\n",
              "\n",
              "#sk-container-id-1 input.sk-toggleable__control:checked~label.sk-toggleable__label-arrow:before {\n",
              "  content: \"▾\";\n",
              "}\n",
              "\n",
              "/* Pipeline/ColumnTransformer-specific style */\n",
              "\n",
              "#sk-container-id-1 div.sk-label input.sk-toggleable__control:checked~label.sk-toggleable__label {\n",
              "  color: var(--sklearn-color-text);\n",
              "  background-color: var(--sklearn-color-unfitted-level-2);\n",
              "}\n",
              "\n",
              "#sk-container-id-1 div.sk-label.fitted input.sk-toggleable__control:checked~label.sk-toggleable__label {\n",
              "  background-color: var(--sklearn-color-fitted-level-2);\n",
              "}\n",
              "\n",
              "/* Estimator-specific style */\n",
              "\n",
              "/* Colorize estimator box */\n",
              "#sk-container-id-1 div.sk-estimator input.sk-toggleable__control:checked~label.sk-toggleable__label {\n",
              "  /* unfitted */\n",
              "  background-color: var(--sklearn-color-unfitted-level-2);\n",
              "}\n",
              "\n",
              "#sk-container-id-1 div.sk-estimator.fitted input.sk-toggleable__control:checked~label.sk-toggleable__label {\n",
              "  /* fitted */\n",
              "  background-color: var(--sklearn-color-fitted-level-2);\n",
              "}\n",
              "\n",
              "#sk-container-id-1 div.sk-label label.sk-toggleable__label,\n",
              "#sk-container-id-1 div.sk-label label {\n",
              "  /* The background is the default theme color */\n",
              "  color: var(--sklearn-color-text-on-default-background);\n",
              "}\n",
              "\n",
              "/* On hover, darken the color of the background */\n",
              "#sk-container-id-1 div.sk-label:hover label.sk-toggleable__label {\n",
              "  color: var(--sklearn-color-text);\n",
              "  background-color: var(--sklearn-color-unfitted-level-2);\n",
              "}\n",
              "\n",
              "/* Label box, darken color on hover, fitted */\n",
              "#sk-container-id-1 div.sk-label.fitted:hover label.sk-toggleable__label.fitted {\n",
              "  color: var(--sklearn-color-text);\n",
              "  background-color: var(--sklearn-color-fitted-level-2);\n",
              "}\n",
              "\n",
              "/* Estimator label */\n",
              "\n",
              "#sk-container-id-1 div.sk-label label {\n",
              "  font-family: monospace;\n",
              "  font-weight: bold;\n",
              "  display: inline-block;\n",
              "  line-height: 1.2em;\n",
              "}\n",
              "\n",
              "#sk-container-id-1 div.sk-label-container {\n",
              "  text-align: center;\n",
              "}\n",
              "\n",
              "/* Estimator-specific */\n",
              "#sk-container-id-1 div.sk-estimator {\n",
              "  font-family: monospace;\n",
              "  border: 1px dotted var(--sklearn-color-border-box);\n",
              "  border-radius: 0.25em;\n",
              "  box-sizing: border-box;\n",
              "  margin-bottom: 0.5em;\n",
              "  /* unfitted */\n",
              "  background-color: var(--sklearn-color-unfitted-level-0);\n",
              "}\n",
              "\n",
              "#sk-container-id-1 div.sk-estimator.fitted {\n",
              "  /* fitted */\n",
              "  background-color: var(--sklearn-color-fitted-level-0);\n",
              "}\n",
              "\n",
              "/* on hover */\n",
              "#sk-container-id-1 div.sk-estimator:hover {\n",
              "  /* unfitted */\n",
              "  background-color: var(--sklearn-color-unfitted-level-2);\n",
              "}\n",
              "\n",
              "#sk-container-id-1 div.sk-estimator.fitted:hover {\n",
              "  /* fitted */\n",
              "  background-color: var(--sklearn-color-fitted-level-2);\n",
              "}\n",
              "\n",
              "/* Specification for estimator info (e.g. \"i\" and \"?\") */\n",
              "\n",
              "/* Common style for \"i\" and \"?\" */\n",
              "\n",
              ".sk-estimator-doc-link,\n",
              "a:link.sk-estimator-doc-link,\n",
              "a:visited.sk-estimator-doc-link {\n",
              "  float: right;\n",
              "  font-size: smaller;\n",
              "  line-height: 1em;\n",
              "  font-family: monospace;\n",
              "  background-color: var(--sklearn-color-background);\n",
              "  border-radius: 1em;\n",
              "  height: 1em;\n",
              "  width: 1em;\n",
              "  text-decoration: none !important;\n",
              "  margin-left: 0.5em;\n",
              "  text-align: center;\n",
              "  /* unfitted */\n",
              "  border: var(--sklearn-color-unfitted-level-1) 1pt solid;\n",
              "  color: var(--sklearn-color-unfitted-level-1);\n",
              "}\n",
              "\n",
              ".sk-estimator-doc-link.fitted,\n",
              "a:link.sk-estimator-doc-link.fitted,\n",
              "a:visited.sk-estimator-doc-link.fitted {\n",
              "  /* fitted */\n",
              "  border: var(--sklearn-color-fitted-level-1) 1pt solid;\n",
              "  color: var(--sklearn-color-fitted-level-1);\n",
              "}\n",
              "\n",
              "/* On hover */\n",
              "div.sk-estimator:hover .sk-estimator-doc-link:hover,\n",
              ".sk-estimator-doc-link:hover,\n",
              "div.sk-label-container:hover .sk-estimator-doc-link:hover,\n",
              ".sk-estimator-doc-link:hover {\n",
              "  /* unfitted */\n",
              "  background-color: var(--sklearn-color-unfitted-level-3);\n",
              "  color: var(--sklearn-color-background);\n",
              "  text-decoration: none;\n",
              "}\n",
              "\n",
              "div.sk-estimator.fitted:hover .sk-estimator-doc-link.fitted:hover,\n",
              ".sk-estimator-doc-link.fitted:hover,\n",
              "div.sk-label-container:hover .sk-estimator-doc-link.fitted:hover,\n",
              ".sk-estimator-doc-link.fitted:hover {\n",
              "  /* fitted */\n",
              "  background-color: var(--sklearn-color-fitted-level-3);\n",
              "  color: var(--sklearn-color-background);\n",
              "  text-decoration: none;\n",
              "}\n",
              "\n",
              "/* Span, style for the box shown on hovering the info icon */\n",
              ".sk-estimator-doc-link span {\n",
              "  display: none;\n",
              "  z-index: 9999;\n",
              "  position: relative;\n",
              "  font-weight: normal;\n",
              "  right: .2ex;\n",
              "  padding: .5ex;\n",
              "  margin: .5ex;\n",
              "  width: min-content;\n",
              "  min-width: 20ex;\n",
              "  max-width: 50ex;\n",
              "  color: var(--sklearn-color-text);\n",
              "  box-shadow: 2pt 2pt 4pt #999;\n",
              "  /* unfitted */\n",
              "  background: var(--sklearn-color-unfitted-level-0);\n",
              "  border: .5pt solid var(--sklearn-color-unfitted-level-3);\n",
              "}\n",
              "\n",
              ".sk-estimator-doc-link.fitted span {\n",
              "  /* fitted */\n",
              "  background: var(--sklearn-color-fitted-level-0);\n",
              "  border: var(--sklearn-color-fitted-level-3);\n",
              "}\n",
              "\n",
              ".sk-estimator-doc-link:hover span {\n",
              "  display: block;\n",
              "}\n",
              "\n",
              "/* \"?\"-specific style due to the `<a>` HTML tag */\n",
              "\n",
              "#sk-container-id-1 a.estimator_doc_link {\n",
              "  float: right;\n",
              "  font-size: 1rem;\n",
              "  line-height: 1em;\n",
              "  font-family: monospace;\n",
              "  background-color: var(--sklearn-color-background);\n",
              "  border-radius: 1rem;\n",
              "  height: 1rem;\n",
              "  width: 1rem;\n",
              "  text-decoration: none;\n",
              "  /* unfitted */\n",
              "  color: var(--sklearn-color-unfitted-level-1);\n",
              "  border: var(--sklearn-color-unfitted-level-1) 1pt solid;\n",
              "}\n",
              "\n",
              "#sk-container-id-1 a.estimator_doc_link.fitted {\n",
              "  /* fitted */\n",
              "  border: var(--sklearn-color-fitted-level-1) 1pt solid;\n",
              "  color: var(--sklearn-color-fitted-level-1);\n",
              "}\n",
              "\n",
              "/* On hover */\n",
              "#sk-container-id-1 a.estimator_doc_link:hover {\n",
              "  /* unfitted */\n",
              "  background-color: var(--sklearn-color-unfitted-level-3);\n",
              "  color: var(--sklearn-color-background);\n",
              "  text-decoration: none;\n",
              "}\n",
              "\n",
              "#sk-container-id-1 a.estimator_doc_link.fitted:hover {\n",
              "  /* fitted */\n",
              "  background-color: var(--sklearn-color-fitted-level-3);\n",
              "}\n",
              "</style><div id=\"sk-container-id-1\" class=\"sk-top-container\"><div class=\"sk-text-repr-fallback\"><pre>LogisticRegression()</pre><b>In a Jupyter environment, please rerun this cell to show the HTML representation or trust the notebook. <br />On GitHub, the HTML representation is unable to render, please try loading this page with nbviewer.org.</b></div><div class=\"sk-container\" hidden><div class=\"sk-item\"><div class=\"sk-estimator fitted sk-toggleable\"><input class=\"sk-toggleable__control sk-hidden--visually\" id=\"sk-estimator-id-1\" type=\"checkbox\" checked><label for=\"sk-estimator-id-1\" class=\"sk-toggleable__label fitted sk-toggleable__label-arrow\"><div><div>LogisticRegression</div></div><div><a class=\"sk-estimator-doc-link fitted\" rel=\"noreferrer\" target=\"_blank\" href=\"https://scikit-learn.org/1.6/modules/generated/sklearn.linear_model.LogisticRegression.html\">?<span>Documentation for LogisticRegression</span></a><span class=\"sk-estimator-doc-link fitted\">i<span>Fitted</span></span></div></label><div class=\"sk-toggleable__content fitted\"><pre>LogisticRegression()</pre></div> </div></div></div></div>"
            ],
            "text/plain": [
              "LogisticRegression()"
            ]
          },
          "execution_count": 22,
          "metadata": {},
          "output_type": "execute_result"
        }
      ],
      "source": [
        "# Using a LogisticRegression model from sklearn, train the model on the training data.\n",
        "\n",
        "from sklearn.linear_model import LogisticRegression\n",
        "\n",
        "model = LogisticRegression()\n",
        "model.fit(x_train, y_train)"
      ]
    },
    {
      "cell_type": "code",
      "execution_count": 23,
      "metadata": {
        "colab": {
          "base_uri": "https://localhost:8080/"
        },
        "collapsed": true,
        "id": "J8O06aTF3KJC",
        "outputId": "7244e8ea-c01b-4a00-c852-be431cb5d55a"
      },
      "outputs": [
        {
          "name": "stdout",
          "output_type": "stream",
          "text": [
            "Coefficient  shape: (24, 42)\n"
          ]
        }
      ],
      "source": [
        "from pandas import Series\n",
        "\n",
        "coefs = model.coef_\n",
        "\n",
        "# Shape of Coefficients\n",
        "print(f\"Coefficient  shape: {coefs.shape}\")"
      ]
    },
    {
      "cell_type": "code",
      "execution_count": 24,
      "metadata": {
        "colab": {
          "base_uri": "https://localhost:8080/"
        },
        "collapsed": true,
        "id": "_L4cWYBK682P",
        "outputId": "a98afc48-7855-4911-f53c-db5fff401423"
      },
      "outputs": [
        {
          "name": "stdout",
          "output_type": "stream",
          "text": [
            "Model Coefficients\n",
            "mfcc_5_mean                1.572781\n",
            "mfcc_11_mean               1.200513\n",
            "mfcc_3_var                 1.132944\n",
            "mfcc_4_var                 1.071336\n",
            "mfcc_1_mean                1.016710\n",
            "zero_crossing_rate_mean    0.648296\n",
            "spectral_rolloff_mean      0.630266\n",
            "spectral_centroid_mean     0.520662\n",
            "tonnetz_mean               0.475521\n",
            "chroma_stft_mean           0.443427\n",
            "spectral_bandwidth_var     0.349344\n",
            "mfcc_6_var                 0.274007\n",
            "spectral_rolloff_var       0.239327\n",
            "mfcc_12_mean               0.192956\n",
            "spectral_bandwidth_mean    0.064816\n",
            "spectral_centroid_var      0.035511\n",
            "mfcc_1_var                -0.026653\n",
            "mfcc_2_var                -0.098279\n",
            "tempo                     -0.113061\n",
            "mfcc_6_mean               -0.119610\n",
            "mfcc_8_mean               -0.119980\n",
            "mfcc_8_var                -0.176268\n",
            "rms_mean                  -0.185410\n",
            "mfcc_10_mean              -0.222570\n",
            "mfcc_13_var               -0.229519\n",
            "mfcc_11_var               -0.249361\n",
            "tonnetz_var               -0.298946\n",
            "mfcc_4_mean               -0.349429\n",
            "mfcc_2_mean               -0.392236\n",
            "rms_var                   -0.412189\n",
            "mfcc_7_var                -0.447184\n",
            "zero_crossing_rate_var    -0.450736\n",
            "mfcc_9_mean               -0.458902\n",
            "mfcc_9_var                -0.468835\n",
            "mfcc_12_var               -0.582897\n",
            "mfcc_13_mean              -0.655968\n",
            "mfcc_10_var               -0.805448\n",
            "mfcc_7_mean               -0.833274\n",
            "chroma_stft_var           -0.932953\n",
            "mfcc_5_var                -0.989636\n",
            "track_number              -1.115428\n",
            "mfcc_3_mean               -1.334938\n",
            "dtype: float64\n"
          ]
        }
      ],
      "source": [
        "coef_series = pd.Series(model.coef_[0], index=x_train.columns)\n",
        "\n",
        "print(\"Model Coefficients\")\n",
        "print(coef_series.sort_values(ascending=False))"
      ]
    },
    {
      "cell_type": "code",
      "execution_count": 25,
      "metadata": {
        "colab": {
          "base_uri": "https://localhost:8080/"
        },
        "collapsed": true,
        "id": "Xev4SYfX-LFA",
        "outputId": "39c4ed91-cd3a-4d0a-8b6e-1f77dfdc1bf7"
      },
      "outputs": [
        {
          "name": "stdout",
          "output_type": "stream",
          "text": [
            "Top Five Most Predictive Features for ariana_grande:\n",
            "rms_mean                 1.661495\n",
            "spectral_rolloff_mean    1.332904\n",
            "mfcc_9_mean              1.246814\n",
            "mfcc_2_var               1.152729\n",
            "chroma_stft_mean         1.150108\n",
            "dtype: float64\n"
          ]
        }
      ],
      "source": [
        "# Choose one of the artists, and using the coeficients, determine the top five most predictive features for that artist.\n",
        "\n",
        "# Extract coefficients for the chosen artist\n",
        "artist_coefs = model.coef_[4]\n",
        "\n",
        "artist_coef_series = pd.Series(artist_coefs, index=x_train.columns)\n",
        "\n",
        "# Sorting to get the top 5 predictive features\n",
        "top_5_features_artist = artist_coef_series.sort_values(ascending=False).head(5)\n",
        "\n",
        "# Get artist's name\n",
        "chosen_artist = model.classes_[4]\n",
        "\n",
        "# Display features\n",
        "print(f\"Top Five Most Predictive Features for {chosen_artist}:\")\n",
        "print(top_5_features_artist)"
      ]
    },
    {
      "cell_type": "markdown",
      "metadata": {
        "id": "mDKF_i2DE6D5"
      },
      "source": [
        "The Top Five Most Predictive Features for Ariana Grande are:\n",
        "\n",
        "*   rms_mean: `1.661495`\n",
        "*   spectral_rolloff_mean: `1.332904`\n",
        "*   mfcc_9_mean: `1.246814`\n",
        "*   mfcc_2_var: `1.152729`\n",
        "*   chroma_stft_mean: `1.150108`"
      ]
    },
    {
      "cell_type": "markdown",
      "metadata": {
        "id": "Wo3yUc7BaNF4"
      },
      "source": [
        "### Model Evaluation"
      ]
    },
    {
      "cell_type": "code",
      "execution_count": 26,
      "metadata": {
        "id": "f8BbetogGpWA"
      },
      "outputs": [],
      "source": [
        "# E) Model Evaluation: Evaluate the model using a classification report.\n",
        "\n",
        "from sklearn.metrics import classification_report, confusion_matrix, roc_auc_score\n",
        "import plotly.figure_factory as ff\n",
        "\n",
        "# Predictions\n",
        "y_pred = model.predict(x_test)\n",
        "y_pred_proba = model.predict_proba(x_test)[:, 1]"
      ]
    },
    {
      "cell_type": "code",
      "execution_count": 27,
      "metadata": {
        "colab": {
          "base_uri": "https://localhost:8080/"
        },
        "collapsed": true,
        "id": "qoQ4Yw3WGxbH",
        "outputId": "1b5a0994-4e87-4a3a-fc10-9062d462ee90"
      },
      "outputs": [
        {
          "name": "stdout",
          "output_type": "stream",
          "text": [
            "\n",
            "Classification Report:\n",
            "                   precision    recall  f1-score   support\n",
            "\n",
            "            ac_dc       1.00      1.00      1.00        11\n",
            "            adele       0.58      0.64      0.61        11\n",
            "      alicia_keys       0.55      0.55      0.55        11\n",
            "   andrea_bocelli       1.00      0.69      0.82        13\n",
            "    ariana_grande       0.75      0.67      0.71         9\n",
            "             bach       0.86      0.92      0.89        13\n",
            "        beethoven       0.90      1.00      0.95         9\n",
            "bruce_springsteen       0.52      0.80      0.63        15\n",
            "  chris_stapleton       0.72      1.00      0.84        18\n",
            "         coldplay       0.50      0.75      0.60        20\n",
            "           dr_dre       0.92      0.92      0.92        12\n",
            "    frank_sinatra       0.80      0.33      0.47        12\n",
            "     jason_aldean       0.75      0.75      0.75         8\n",
            "            jay_z       0.86      0.69      0.77        26\n",
            "    john_coltrane       1.00      0.86      0.92        35\n",
            "      john_legend       0.50      0.27      0.35        11\n",
            "       john_mayer       0.79      0.69      0.73        16\n",
            "     led_zeppelin       0.60      0.50      0.55        12\n",
            "    maggie_rogers       0.89      0.80      0.84        10\n",
            "      miles_davis       0.85      0.92      0.88        25\n",
            "       pink_floyd       0.65      0.68      0.67        19\n",
            "          rihanna       0.69      0.60      0.64        15\n",
            "     taylor_swift       0.65      0.68      0.67        22\n",
            "            tupac       0.69      0.82      0.75        11\n",
            "\n",
            "         accuracy                           0.74       364\n",
            "        macro avg       0.75      0.73      0.73       364\n",
            "     weighted avg       0.76      0.74      0.74       364\n",
            "\n"
          ]
        }
      ],
      "source": [
        "# Classification Report\n",
        "print(\"\\nClassification Report:\")\n",
        "print(classification_report(y_test, y_pred))"
      ]
    },
    {
      "cell_type": "markdown",
      "metadata": {
        "id": "wYgwxfTnHpfN"
      },
      "source": [
        "Overall Model Performance:\n",
        "\n",
        "*   Accuracy: The model achieved an overall accuracy of `74%`, meaning it correctly predicted the artist for about 3 out of 4 tracks in the test set.\n",
        "*  Precision: On average, the model's precision was `76%` (weighted avg),indicating how well the predictions matched the true labels without including false positives.\n",
        "*   Recall: The model's average recall was `74%`, reflecting its ability to identify tracks for each artist correctly without missing any.\n",
        "*   F1-score: The weighted average F1-score was `74%`, balancing precision and recall for the entire dataset.\n",
        "\n",
        "Random Chance Guess: There are 24 artists in the dataset, so a random guess would have a 1/24 chance of being correct, which is about `4.17%` accuracy. The model's `74%` accuracy is far better than random chance.\n",
        "\n",
        "Highest F1 Scores:\n",
        "\n",
        "*   Ac_dc: `1.00` (perfect precision and recall for 11 samples).\n",
        "*   Beethoven: `0.95` (high precision and perfect recall for 9 samples).\n",
        "*   Dr Dre: `0.92` (excellent balance of precision and recall for 12 samples).\n",
        "*   John Coltrane: `0.92` (perfect recall and strong precision for 35 samples).\n",
        "\n",
        "Lowest F1 Scores:\n",
        "*   John Legend: `0.35` (low recall of 27% and poor precision of 50%).   \n",
        "*   Frank Sinatra: `0.47` (low recall of 33% despite good precision of 80%).\n",
        "*   Alicia Keys: `0.55` (moderate precision and recall of 55%).\n",
        "*   Led Zeppelin: `0.55` (precision and recall of 60% and 50%, respectively).\n",
        "\n",
        "Summary:\n",
        "The model performed significantly better than random guessing, with notable accuracy for artists with distinct musical characteristics (e.g., `Ac_dc, Beethoven`). However, performance was weaker for some artists with overlapping features or fewer distinct tracks, such as `Frank Sinatra and John Legend`."
      ]
    },
    {
      "cell_type": "code",
      "execution_count": 28,
      "metadata": {
        "colab": {
          "base_uri": "https://localhost:8080/",
          "height": 917
        },
        "collapsed": true,
        "id": "nVFYmlDMQ4pq",
        "outputId": "0dc89846-d7c0-4259-d744-d04a4be36261"
      },
      "outputs": [
        {
          "data": {
            "application/vnd.plotly.v1+json": {
              "config": {
                "plotlyServerURL": "https://plot.ly"
              },
              "data": [
                {
                  "coloraxis": "coloraxis",
                  "hovertemplate": "Predicted: %{x}<br>Actual: %{y}<br>color: %{z}<extra></extra>",
                  "name": "0",
                  "texttemplate": "%{z}",
                  "type": "heatmap",
                  "x": [
                    "ac_dc",
                    "adele",
                    "alicia_keys",
                    "andrea_bocelli",
                    "ariana_grande",
                    "bach",
                    "beethoven",
                    "bruce_springsteen",
                    "chris_stapleton",
                    "coldplay",
                    "dr_dre",
                    "frank_sinatra",
                    "jason_aldean",
                    "jay_z",
                    "john_coltrane",
                    "john_legend",
                    "john_mayer",
                    "led_zeppelin",
                    "maggie_rogers",
                    "miles_davis",
                    "pink_floyd",
                    "rihanna",
                    "taylor_swift",
                    "tupac"
                  ],
                  "xaxis": "x",
                  "y": [
                    "ac_dc",
                    "adele",
                    "alicia_keys",
                    "andrea_bocelli",
                    "ariana_grande",
                    "bach",
                    "beethoven",
                    "bruce_springsteen",
                    "chris_stapleton",
                    "coldplay",
                    "dr_dre",
                    "frank_sinatra",
                    "jason_aldean",
                    "jay_z",
                    "john_coltrane",
                    "john_legend",
                    "john_mayer",
                    "led_zeppelin",
                    "maggie_rogers",
                    "miles_davis",
                    "pink_floyd",
                    "rihanna",
                    "taylor_swift",
                    "tupac"
                  ],
                  "yaxis": "y",
                  "z": {
                    "bdata": "CwAAAAAAAAAAAAAAAAAAAAAAAAAAAAAAAAcBAAAAAAIBAAAAAAAAAAAAAAAAAAAAAAAGAAAAAAAAAAAAAAAAAQIAAAAAAAIAAAAACQABAAAAAAAAAAEAAAAAAAAAAAIAAAAAAAYAAAAAAQAAAAAAAQAAAQAAAAAAAAAAAAAMAAAAAAAAAAAAAAAAAAABAAAAAAAAAAAACQAAAAAAAAAAAAAAAAAAAAAAAAAAAAAAAAwAAQAAAAEAAAABAAAAAAAAAAAAAAAAAAASAAAAAAAAAAAAAAAAAAAAAAAAAAAAAAECDwAAAgAAAAAAAAAAAAAAAAAAAAAAAAAAAAsAAAAAAAAAAAAAAAABAAAAAAAAAAIABAAEAAAAAAABAAAAAAEAAAAAAAAAAAAAAQAABgAAAAAAAAABAAAAAAEAAAEAAAIAAAEAABIAAAABAAAAAAEBAAAAAAAAAAABAAAAAAAeAAAAAAMBAAAAAAABAAEAAAEAAgAAAAAAAwAAAAACAQAAAAAAAAAAAAEDAQAAAAAAAAsAAAAAAAAAAAEAAAAAAAEAAgAAAAAAAAEGAAAAAQAAAAAAAAAAAAAAAQAAAAAAAAAACAAAAAEAAAAAAAAAAAAAAAAAAAAAAAAAABcCAAAAAAIBAAAAAAEAAQABAAAAAAAAAAANAAAAAAABAAAAAAAAAAAAAAEAAAABAAAACQECAAEBAAABAQAAAAAAAAAAAAAAAAEAAg8AAAAAAAAAAAAAAQAAAAAAAQAAAAAAAAAJ",
                    "dtype": "i1",
                    "shape": "24, 24"
                  }
                }
              ],
              "layout": {
                "coloraxis": {
                  "colorscale": [
                    [
                      0,
                      "rgb(247,251,255)"
                    ],
                    [
                      0.125,
                      "rgb(222,235,247)"
                    ],
                    [
                      0.25,
                      "rgb(198,219,239)"
                    ],
                    [
                      0.375,
                      "rgb(158,202,225)"
                    ],
                    [
                      0.5,
                      "rgb(107,174,214)"
                    ],
                    [
                      0.625,
                      "rgb(66,146,198)"
                    ],
                    [
                      0.75,
                      "rgb(33,113,181)"
                    ],
                    [
                      0.875,
                      "rgb(8,81,156)"
                    ],
                    [
                      1,
                      "rgb(8,48,107)"
                    ]
                  ],
                  "showscale": false
                },
                "height": 900,
                "margin": {
                  "t": 60
                },
                "template": {
                  "data": {
                    "bar": [
                      {
                        "error_x": {
                          "color": "#2a3f5f"
                        },
                        "error_y": {
                          "color": "#2a3f5f"
                        },
                        "marker": {
                          "line": {
                            "color": "#E5ECF6",
                            "width": 0.5
                          },
                          "pattern": {
                            "fillmode": "overlay",
                            "size": 10,
                            "solidity": 0.2
                          }
                        },
                        "type": "bar"
                      }
                    ],
                    "barpolar": [
                      {
                        "marker": {
                          "line": {
                            "color": "#E5ECF6",
                            "width": 0.5
                          },
                          "pattern": {
                            "fillmode": "overlay",
                            "size": 10,
                            "solidity": 0.2
                          }
                        },
                        "type": "barpolar"
                      }
                    ],
                    "carpet": [
                      {
                        "aaxis": {
                          "endlinecolor": "#2a3f5f",
                          "gridcolor": "white",
                          "linecolor": "white",
                          "minorgridcolor": "white",
                          "startlinecolor": "#2a3f5f"
                        },
                        "baxis": {
                          "endlinecolor": "#2a3f5f",
                          "gridcolor": "white",
                          "linecolor": "white",
                          "minorgridcolor": "white",
                          "startlinecolor": "#2a3f5f"
                        },
                        "type": "carpet"
                      }
                    ],
                    "choropleth": [
                      {
                        "colorbar": {
                          "outlinewidth": 0,
                          "ticks": ""
                        },
                        "type": "choropleth"
                      }
                    ],
                    "contour": [
                      {
                        "colorbar": {
                          "outlinewidth": 0,
                          "ticks": ""
                        },
                        "colorscale": [
                          [
                            0,
                            "#0d0887"
                          ],
                          [
                            0.1111111111111111,
                            "#46039f"
                          ],
                          [
                            0.2222222222222222,
                            "#7201a8"
                          ],
                          [
                            0.3333333333333333,
                            "#9c179e"
                          ],
                          [
                            0.4444444444444444,
                            "#bd3786"
                          ],
                          [
                            0.5555555555555556,
                            "#d8576b"
                          ],
                          [
                            0.6666666666666666,
                            "#ed7953"
                          ],
                          [
                            0.7777777777777778,
                            "#fb9f3a"
                          ],
                          [
                            0.8888888888888888,
                            "#fdca26"
                          ],
                          [
                            1,
                            "#f0f921"
                          ]
                        ],
                        "type": "contour"
                      }
                    ],
                    "contourcarpet": [
                      {
                        "colorbar": {
                          "outlinewidth": 0,
                          "ticks": ""
                        },
                        "type": "contourcarpet"
                      }
                    ],
                    "heatmap": [
                      {
                        "colorbar": {
                          "outlinewidth": 0,
                          "ticks": ""
                        },
                        "colorscale": [
                          [
                            0,
                            "#0d0887"
                          ],
                          [
                            0.1111111111111111,
                            "#46039f"
                          ],
                          [
                            0.2222222222222222,
                            "#7201a8"
                          ],
                          [
                            0.3333333333333333,
                            "#9c179e"
                          ],
                          [
                            0.4444444444444444,
                            "#bd3786"
                          ],
                          [
                            0.5555555555555556,
                            "#d8576b"
                          ],
                          [
                            0.6666666666666666,
                            "#ed7953"
                          ],
                          [
                            0.7777777777777778,
                            "#fb9f3a"
                          ],
                          [
                            0.8888888888888888,
                            "#fdca26"
                          ],
                          [
                            1,
                            "#f0f921"
                          ]
                        ],
                        "type": "heatmap"
                      }
                    ],
                    "histogram": [
                      {
                        "marker": {
                          "pattern": {
                            "fillmode": "overlay",
                            "size": 10,
                            "solidity": 0.2
                          }
                        },
                        "type": "histogram"
                      }
                    ],
                    "histogram2d": [
                      {
                        "colorbar": {
                          "outlinewidth": 0,
                          "ticks": ""
                        },
                        "colorscale": [
                          [
                            0,
                            "#0d0887"
                          ],
                          [
                            0.1111111111111111,
                            "#46039f"
                          ],
                          [
                            0.2222222222222222,
                            "#7201a8"
                          ],
                          [
                            0.3333333333333333,
                            "#9c179e"
                          ],
                          [
                            0.4444444444444444,
                            "#bd3786"
                          ],
                          [
                            0.5555555555555556,
                            "#d8576b"
                          ],
                          [
                            0.6666666666666666,
                            "#ed7953"
                          ],
                          [
                            0.7777777777777778,
                            "#fb9f3a"
                          ],
                          [
                            0.8888888888888888,
                            "#fdca26"
                          ],
                          [
                            1,
                            "#f0f921"
                          ]
                        ],
                        "type": "histogram2d"
                      }
                    ],
                    "histogram2dcontour": [
                      {
                        "colorbar": {
                          "outlinewidth": 0,
                          "ticks": ""
                        },
                        "colorscale": [
                          [
                            0,
                            "#0d0887"
                          ],
                          [
                            0.1111111111111111,
                            "#46039f"
                          ],
                          [
                            0.2222222222222222,
                            "#7201a8"
                          ],
                          [
                            0.3333333333333333,
                            "#9c179e"
                          ],
                          [
                            0.4444444444444444,
                            "#bd3786"
                          ],
                          [
                            0.5555555555555556,
                            "#d8576b"
                          ],
                          [
                            0.6666666666666666,
                            "#ed7953"
                          ],
                          [
                            0.7777777777777778,
                            "#fb9f3a"
                          ],
                          [
                            0.8888888888888888,
                            "#fdca26"
                          ],
                          [
                            1,
                            "#f0f921"
                          ]
                        ],
                        "type": "histogram2dcontour"
                      }
                    ],
                    "mesh3d": [
                      {
                        "colorbar": {
                          "outlinewidth": 0,
                          "ticks": ""
                        },
                        "type": "mesh3d"
                      }
                    ],
                    "parcoords": [
                      {
                        "line": {
                          "colorbar": {
                            "outlinewidth": 0,
                            "ticks": ""
                          }
                        },
                        "type": "parcoords"
                      }
                    ],
                    "pie": [
                      {
                        "automargin": true,
                        "type": "pie"
                      }
                    ],
                    "scatter": [
                      {
                        "fillpattern": {
                          "fillmode": "overlay",
                          "size": 10,
                          "solidity": 0.2
                        },
                        "type": "scatter"
                      }
                    ],
                    "scatter3d": [
                      {
                        "line": {
                          "colorbar": {
                            "outlinewidth": 0,
                            "ticks": ""
                          }
                        },
                        "marker": {
                          "colorbar": {
                            "outlinewidth": 0,
                            "ticks": ""
                          }
                        },
                        "type": "scatter3d"
                      }
                    ],
                    "scattercarpet": [
                      {
                        "marker": {
                          "colorbar": {
                            "outlinewidth": 0,
                            "ticks": ""
                          }
                        },
                        "type": "scattercarpet"
                      }
                    ],
                    "scattergeo": [
                      {
                        "marker": {
                          "colorbar": {
                            "outlinewidth": 0,
                            "ticks": ""
                          }
                        },
                        "type": "scattergeo"
                      }
                    ],
                    "scattergl": [
                      {
                        "marker": {
                          "colorbar": {
                            "outlinewidth": 0,
                            "ticks": ""
                          }
                        },
                        "type": "scattergl"
                      }
                    ],
                    "scattermap": [
                      {
                        "marker": {
                          "colorbar": {
                            "outlinewidth": 0,
                            "ticks": ""
                          }
                        },
                        "type": "scattermap"
                      }
                    ],
                    "scattermapbox": [
                      {
                        "marker": {
                          "colorbar": {
                            "outlinewidth": 0,
                            "ticks": ""
                          }
                        },
                        "type": "scattermapbox"
                      }
                    ],
                    "scatterpolar": [
                      {
                        "marker": {
                          "colorbar": {
                            "outlinewidth": 0,
                            "ticks": ""
                          }
                        },
                        "type": "scatterpolar"
                      }
                    ],
                    "scatterpolargl": [
                      {
                        "marker": {
                          "colorbar": {
                            "outlinewidth": 0,
                            "ticks": ""
                          }
                        },
                        "type": "scatterpolargl"
                      }
                    ],
                    "scatterternary": [
                      {
                        "marker": {
                          "colorbar": {
                            "outlinewidth": 0,
                            "ticks": ""
                          }
                        },
                        "type": "scatterternary"
                      }
                    ],
                    "surface": [
                      {
                        "colorbar": {
                          "outlinewidth": 0,
                          "ticks": ""
                        },
                        "colorscale": [
                          [
                            0,
                            "#0d0887"
                          ],
                          [
                            0.1111111111111111,
                            "#46039f"
                          ],
                          [
                            0.2222222222222222,
                            "#7201a8"
                          ],
                          [
                            0.3333333333333333,
                            "#9c179e"
                          ],
                          [
                            0.4444444444444444,
                            "#bd3786"
                          ],
                          [
                            0.5555555555555556,
                            "#d8576b"
                          ],
                          [
                            0.6666666666666666,
                            "#ed7953"
                          ],
                          [
                            0.7777777777777778,
                            "#fb9f3a"
                          ],
                          [
                            0.8888888888888888,
                            "#fdca26"
                          ],
                          [
                            1,
                            "#f0f921"
                          ]
                        ],
                        "type": "surface"
                      }
                    ],
                    "table": [
                      {
                        "cells": {
                          "fill": {
                            "color": "#EBF0F8"
                          },
                          "line": {
                            "color": "white"
                          }
                        },
                        "header": {
                          "fill": {
                            "color": "#C8D4E3"
                          },
                          "line": {
                            "color": "white"
                          }
                        },
                        "type": "table"
                      }
                    ]
                  },
                  "layout": {
                    "annotationdefaults": {
                      "arrowcolor": "#2a3f5f",
                      "arrowhead": 0,
                      "arrowwidth": 1
                    },
                    "autotypenumbers": "strict",
                    "coloraxis": {
                      "colorbar": {
                        "outlinewidth": 0,
                        "ticks": ""
                      }
                    },
                    "colorscale": {
                      "diverging": [
                        [
                          0,
                          "#8e0152"
                        ],
                        [
                          0.1,
                          "#c51b7d"
                        ],
                        [
                          0.2,
                          "#de77ae"
                        ],
                        [
                          0.3,
                          "#f1b6da"
                        ],
                        [
                          0.4,
                          "#fde0ef"
                        ],
                        [
                          0.5,
                          "#f7f7f7"
                        ],
                        [
                          0.6,
                          "#e6f5d0"
                        ],
                        [
                          0.7,
                          "#b8e186"
                        ],
                        [
                          0.8,
                          "#7fbc41"
                        ],
                        [
                          0.9,
                          "#4d9221"
                        ],
                        [
                          1,
                          "#276419"
                        ]
                      ],
                      "sequential": [
                        [
                          0,
                          "#0d0887"
                        ],
                        [
                          0.1111111111111111,
                          "#46039f"
                        ],
                        [
                          0.2222222222222222,
                          "#7201a8"
                        ],
                        [
                          0.3333333333333333,
                          "#9c179e"
                        ],
                        [
                          0.4444444444444444,
                          "#bd3786"
                        ],
                        [
                          0.5555555555555556,
                          "#d8576b"
                        ],
                        [
                          0.6666666666666666,
                          "#ed7953"
                        ],
                        [
                          0.7777777777777778,
                          "#fb9f3a"
                        ],
                        [
                          0.8888888888888888,
                          "#fdca26"
                        ],
                        [
                          1,
                          "#f0f921"
                        ]
                      ],
                      "sequentialminus": [
                        [
                          0,
                          "#0d0887"
                        ],
                        [
                          0.1111111111111111,
                          "#46039f"
                        ],
                        [
                          0.2222222222222222,
                          "#7201a8"
                        ],
                        [
                          0.3333333333333333,
                          "#9c179e"
                        ],
                        [
                          0.4444444444444444,
                          "#bd3786"
                        ],
                        [
                          0.5555555555555556,
                          "#d8576b"
                        ],
                        [
                          0.6666666666666666,
                          "#ed7953"
                        ],
                        [
                          0.7777777777777778,
                          "#fb9f3a"
                        ],
                        [
                          0.8888888888888888,
                          "#fdca26"
                        ],
                        [
                          1,
                          "#f0f921"
                        ]
                      ]
                    },
                    "colorway": [
                      "#636efa",
                      "#EF553B",
                      "#00cc96",
                      "#ab63fa",
                      "#FFA15A",
                      "#19d3f3",
                      "#FF6692",
                      "#B6E880",
                      "#FF97FF",
                      "#FECB52"
                    ],
                    "font": {
                      "color": "#2a3f5f"
                    },
                    "geo": {
                      "bgcolor": "white",
                      "lakecolor": "white",
                      "landcolor": "#E5ECF6",
                      "showlakes": true,
                      "showland": true,
                      "subunitcolor": "white"
                    },
                    "hoverlabel": {
                      "align": "left"
                    },
                    "hovermode": "closest",
                    "mapbox": {
                      "style": "light"
                    },
                    "paper_bgcolor": "white",
                    "plot_bgcolor": "#E5ECF6",
                    "polar": {
                      "angularaxis": {
                        "gridcolor": "white",
                        "linecolor": "white",
                        "ticks": ""
                      },
                      "bgcolor": "#E5ECF6",
                      "radialaxis": {
                        "gridcolor": "white",
                        "linecolor": "white",
                        "ticks": ""
                      }
                    },
                    "scene": {
                      "xaxis": {
                        "backgroundcolor": "#E5ECF6",
                        "gridcolor": "white",
                        "gridwidth": 2,
                        "linecolor": "white",
                        "showbackground": true,
                        "ticks": "",
                        "zerolinecolor": "white"
                      },
                      "yaxis": {
                        "backgroundcolor": "#E5ECF6",
                        "gridcolor": "white",
                        "gridwidth": 2,
                        "linecolor": "white",
                        "showbackground": true,
                        "ticks": "",
                        "zerolinecolor": "white"
                      },
                      "zaxis": {
                        "backgroundcolor": "#E5ECF6",
                        "gridcolor": "white",
                        "gridwidth": 2,
                        "linecolor": "white",
                        "showbackground": true,
                        "ticks": "",
                        "zerolinecolor": "white"
                      }
                    },
                    "shapedefaults": {
                      "line": {
                        "color": "#2a3f5f"
                      }
                    },
                    "ternary": {
                      "aaxis": {
                        "gridcolor": "white",
                        "linecolor": "white",
                        "ticks": ""
                      },
                      "baxis": {
                        "gridcolor": "white",
                        "linecolor": "white",
                        "ticks": ""
                      },
                      "bgcolor": "#E5ECF6",
                      "caxis": {
                        "gridcolor": "white",
                        "linecolor": "white",
                        "ticks": ""
                      }
                    },
                    "title": {
                      "x": 0.05
                    },
                    "xaxis": {
                      "automargin": true,
                      "gridcolor": "white",
                      "linecolor": "white",
                      "ticks": "",
                      "title": {
                        "standoff": 15
                      },
                      "zerolinecolor": "white",
                      "zerolinewidth": 2
                    },
                    "yaxis": {
                      "automargin": true,
                      "gridcolor": "white",
                      "linecolor": "white",
                      "ticks": "",
                      "title": {
                        "standoff": 15
                      },
                      "zerolinecolor": "white",
                      "zerolinewidth": 2
                    }
                  }
                },
                "title": {
                  "text": "Confusion Matrix",
                  "x": 0.485,
                  "xanchor": "center"
                },
                "xaxis": {
                  "anchor": "y",
                  "constrain": "domain",
                  "domain": [
                    0,
                    1
                  ],
                  "scaleanchor": "y",
                  "title": {
                    "text": "Predicted"
                  }
                },
                "yaxis": {
                  "anchor": "x",
                  "autorange": "reversed",
                  "constrain": "domain",
                  "domain": [
                    0,
                    1
                  ],
                  "title": {
                    "text": "Actual"
                  }
                }
              }
            }
          },
          "metadata": {},
          "output_type": "display_data"
        }
      ],
      "source": [
        "from sklearn.metrics import confusion_matrix\n",
        "import plotly.express as px\n",
        "\n",
        "def plot_confusion_matrix(y_true, y_pred, height=450, showscale=False, title=None, subtitle=None):\n",
        "    # https://scikit-learn.org/stable/modules/generated/sklearn.metrics.confusion_matrix.html\n",
        "    # Confusion matrix whose i-th row and j-th column\n",
        "    # ... indicates the number of samples with\n",
        "    # ... true label being i-th class (ROW)\n",
        "    # ... and predicted label being j-th class (COLUMN)\n",
        "    cm = confusion_matrix(y_true, y_pred)\n",
        "\n",
        "    class_names = sorted(y_test.unique().tolist())\n",
        "\n",
        "    cm = confusion_matrix(y_test, y_pred, labels=class_names)\n",
        "\n",
        "    title = title or \"Confusion Matrix\"\n",
        "    if subtitle:\n",
        "        title += f\"<br><sup>{subtitle}</sup>\"\n",
        "\n",
        "    fig = px.imshow(cm, x=class_names, y=class_names, height=height,\n",
        "                    labels={\"x\": \"Predicted\", \"y\": \"Actual\"},\n",
        "                    color_continuous_scale=\"Blues\", text_auto=True,\n",
        "    )\n",
        "    fig.update_layout(title={'text': title, 'x':0.485, 'xanchor': 'center'})\n",
        "    fig.update_coloraxes(showscale=showscale)\n",
        "\n",
        "    fig.show()\n",
        "\n",
        "\n",
        "\n",
        "plot_confusion_matrix(y_test, y_pred, height=900)"
      ]
    },
    {
      "cell_type": "markdown",
      "metadata": {
        "id": "Xp4KP2B2Kf5v"
      },
      "source": [
        "#### Top three pairs of artists who were most confused with each other.\n",
        "\n",
        "*   `4` - Predicted: `Cold Play` Actual: `Frank Sinatra`\n",
        "*   `3` - Predicted: `Chris Stapleton` Actual: `John Mayer`\n",
        "*   `3` - Predicted: `Miles Davis` Actual: `John Coltrane`\n",
        "\n"
      ]
    },
    {
      "cell_type": "markdown",
      "metadata": {
        "id": "Ck5oLeqmIxVG"
      },
      "source": [
        "## Dimensionality Reduction"
      ]
    },
    {
      "cell_type": "markdown",
      "metadata": {
        "id": "NL8sNhHcd4jj"
      },
      "source": [
        "Performing dimensionality reduction on the audio features."
      ]
    },
    {
      "cell_type": "code",
      "execution_count": 29,
      "metadata": {
        "colab": {
          "base_uri": "https://localhost:8080/"
        },
        "collapsed": true,
        "id": "YX5fO64DJeL6",
        "outputId": "22203dbd-0fe8-4043-8f56-6334c8481683"
      },
      "outputs": [
        {
          "name": "stdout",
          "output_type": "stream",
          "text": [
            "PCA embeddings (2 components):\n",
            "[[ 2.28569942  0.76033006]\n",
            " [ 2.55098238  0.02637963]\n",
            " [-1.07916235  0.46552184]\n",
            " [ 0.25819892  0.4874113 ]\n",
            " [-1.17209878 -0.10913769]]\n"
          ]
        }
      ],
      "source": [
        "# A) Use a PCA model from sklearn with two components. Use a random state for reproducibility. \n",
        "# Training the model on the scaled data to obtain the embeddings.\n",
        "\n",
        "from sklearn.decomposition import PCA\n",
        "\n",
        "pca = PCA(n_components=2, random_state=99)\n",
        "\n",
        "pca_embeddings = pca.fit_transform(x_scaled)\n",
        "\n",
        "print(f\"PCA embeddings (2 components):\\n{pca_embeddings[:5]}\")  # Show first 5 rows for reference"
      ]
    },
    {
      "cell_type": "code",
      "execution_count": 30,
      "metadata": {
        "colab": {
          "base_uri": "https://localhost:8080/"
        },
        "collapsed": true,
        "id": "mDOLViZTLUBB",
        "outputId": "4d622bfd-4395-4db8-867e-4c6e919bb0c8"
      },
      "outputs": [
        {
          "name": "stdout",
          "output_type": "stream",
          "text": [
            "Explained Variance Ratio: 0.2146, 0.1670\n",
            "Total Explained Variance: 16.0262\n"
          ]
        }
      ],
      "source": [
        "# Explained variance ratio for each component\n",
        "print(f\"Explained Variance Ratio: {pca.explained_variance_ratio_[0]:.4f}, {pca.explained_variance_ratio_[1]:.4f}\")\n",
        "\n",
        "# Print the sum of explained variance\n",
        "print(f\"Total Explained Variance: {pca.explained_variance_.sum():.4f}\")"
      ]
    },
    {
      "cell_type": "markdown",
      "metadata": {
        "id": "0zmHqx2BQEJD"
      },
      "source": [
        "The explained variance ratios indicate how much of the total variance in the dataset is captured by each principal component. In this case:\n",
        "\n",
        "+ First component explains `21.46%` of the variance\n",
        "Second component explains `16.70%` of the variance\n",
        "Together, these two components account for `38.16%` of the total variance\n",
        "+ For the sum of explained variance for all components: The sum of explained variance `16.03` indicates the total amount of variance retained after performing PCA.\n",
        "\n",
        "This suggests that while these two components capture a significant portion of the data's variability, there's still a considerable amount of information `(61.84%)` not explained by these components. This implies the dataset has complexity that isn't fully represented by just these two principal components."
      ]
    },
    {
      "cell_type": "markdown",
      "metadata": {
        "id": "qFSsJ-KZt-WR"
      },
      "source": [
        "### Track Embeddings Plot"
      ]
    },
    {
      "cell_type": "code",
      "execution_count": 31,
      "metadata": {
        "colab": {
          "base_uri": "https://localhost:8080/"
        },
        "collapsed": true,
        "id": "I1lUpY2DLVqM",
        "outputId": "3443717f-92c1-4b53-dec7-b269151033b5"
      },
      "outputs": [
        {
          "name": "stdout",
          "output_type": "stream",
          "text": [
            "   component_1  component_2\n",
            "0     2.285699     0.760330\n",
            "1     2.550982     0.026380\n",
            "2    -1.079162     0.465522\n",
            "3     0.258199     0.487411\n",
            "4    -1.172099    -0.109138\n",
            "5    -0.994269    -0.913397\n",
            "6    -1.205898    -0.118464\n",
            "7    -2.317212     0.158391\n",
            "8    -1.869898    -1.077974\n",
            "9    -0.177722    -1.181422\n"
          ]
        }
      ],
      "source": [
        "# Wrap the embeddings in a pandas.DataFrame, using appropriate column names (\"component_1\" and \"component_2\"), and appropriate index values.\n",
        "\n",
        "pca_df = pd.DataFrame(pca_embeddings, columns=[\"component_1\", \"component_2\"], index=x_scaled.index)\n",
        "\n",
        "# Print the first few rows of the resulting DataFrame\n",
        "print(pca_df.head(10))"
      ]
    },
    {
      "cell_type": "code",
      "execution_count": 32,
      "metadata": {
        "colab": {
          "base_uri": "https://localhost:8080/",
          "height": 542
        },
        "collapsed": true,
        "id": "H1QOyvz6XOi7",
        "outputId": "4f3cce0d-fb2c-451f-b9e3-277510c6c31e"
      },
      "outputs": [
        {
          "data": {
            "application/vnd.plotly.v1+json": {
              "config": {
                "plotlyServerURL": "https://plot.ly"
              },
              "data": [
                {
                  "hovertemplate": "Artist Name=frank_sinatra<br>Component 1=%{x}<br>Component 2=%{y}<extra></extra>",
                  "legendgroup": "frank_sinatra",
                  "marker": {
                    "color": "#636efa",
                    "symbol": "circle"
                  },
                  "mode": "markers",
                  "name": "frank_sinatra",
                  "showlegend": true,
                  "type": "scattergl",
                  "x": {
                    "bdata": "rgt0xhxJAkB9Eq1yaWgEQI75kLw/RPG/WXbJw1SG0D8uTOum6sDyvwS6knwN0e+/C9KPWltL87+YhbF0pokCwJzINewZ6/2/4SoBRJy/xr8nev4530vKvywo1tZm0NK/F3HL55Uk+b/rl9r50Mn/v2zctVjy4va/z8/ISgC76r+/wmfutAv4v2keRjdrveK/vzpB7RbO+L/7wLGZcYipPy7SdjX2V+u/XXS9UGFp9b8NlwVAdu0GwFPmiXQnY/u/pkd34KtGCMB9xvR3Btv5P4WzHJCQlvE/OrgSyUPV7L+iID6R4gbxvwHV4lxTFP2/Ib3aDCrO/L+/zF5Tc5cBQAAxpy6ku/M/UNtETPnh379DNKPlfij7vx7aig7Onfq/vC9VIxRO6b++MKCuXa34v7S98L4PYwvAlBd/upYB9L8=",
                    "dtype": "f8"
                  },
                  "xaxis": "x",
                  "y": {
                    "bdata": "o6rssp9U6D+xBvMsQwObP34/xx0cy90/JyYlK78x3z9NSqyUcvC7v4N799qMOu2/S+rwnKFTvr9ydZC7K0bEPw4/3IFhP/G/lPwzdxrn8r81/iRMWerov76ZocApdei/yqdJyADm778gVnFuSGXHv3Kn2diZSALApo34gfJd9L9KH0mC5Tv2v6+JP3OtPdO/awf8HCUu9r8IJBOjBxPuPybS2KrVZdU/YDdUIkcF8D+HcLsPDnwDQMruvqjraQJAfmYG8dQ0AEA0M7xxnGXpP4+2DmbWheK/TkEHAz8/278jgat57yHgP8XedNMChPM/u8lhO9fF9D9EdviXn0b1vzcO7vRHcPm//JUo9Bji5b84cBKNd1zVv8dc1lYZHOo/jqpewfr7+78S8lDmc/jKv9VVOZXNDfQ/h2Rw82qqC8A=",
                    "dtype": "f8"
                  },
                  "yaxis": "y"
                },
                {
                  "hovertemplate": "Artist Name=ac_dc<br>Component 1=%{x}<br>Component 2=%{y}<extra></extra>",
                  "legendgroup": "ac_dc",
                  "marker": {
                    "color": "#EF553B",
                    "symbol": "circle"
                  },
                  "mode": "markers",
                  "name": "ac_dc",
                  "showlegend": true,
                  "type": "scattergl",
                  "x": {
                    "bdata": "8HPoZYNmDkD1K9Dl4IDXP+bqNMgmE/2/BBqAedJKA8ATxg8lTWgIwNuSt6XGpA/A8svw8TCC4z/QMa6OjMbwv+n789JAr/W/BmP5N+lrCMBdNiWR9TQIwKr+p4j6xQvAkJEb5J5UD8BGEnAcKM79v5c6bEVQ4Q/AgCxqfNfvEcDsA78cLyUGwPkUIKww0QTAe9fxhekFCMCVybhQI8f4v+odGK5zgRLAY1Xs2X1LDMBuKTwGMykRwA/outVhRALAmosVBKbhqb/rNw0MMuACwCBjo2v8Tw/AMD4XW1y9EcA0oTLR8kwMwIVPTkk4rBPAJcv9hTVH7b+tHLFWSxQQwJPZsRbePAfAB/U+gUb5DMBXrE4Yg0sOwEIAv6N4lALAwjXHK0mMFMDbncMoNuARwK+6T2Q5FRPAyf6Q+AhwCUCXvuRXKeEIwIXF0kaF2w7A/UoDfU/SBMBJlAnYbFYQwNBxjp2xJAfAjoJtk2raC8B1fYalV6YRwFo5qeNcVxDAbkWdRw1aEMA=",
                    "dtype": "f8"
                  },
                  "xaxis": "x",
                  "y": {
                    "bdata": "PmyTRbQC2D/X+j/5vfgFQDaNzasBAQpAcDswSBGBDEC92MIfHdEKQOFDPlaFUw5AkXrx97TVE0CzGZUVK78KQF+/8LmlWwhA9MZSHNWMBUAcrTVYHJ4BQJAcdGVsFApA6e9kdAoPCkA8+yK3dMz6P4NIuIqoCtI/OxjCJp7w/z8Em6Xb1AQBQAHYs/yYWQZAaRN+XYWIDECII3gdgCcKQN0yV2U1rw1Ak3f64hW9CUA1S8e0ZcwJQJaVU1kkNQhAFIZlrCnACkDOiWAJ7UEKQBBGpAPDqAVAQAzvxpybB0DLow2WVDkGQEJmBhoT4AhAkQGsFcx0+j/wG+0DHdAQQCQljgQdfQxAYv3CBHizCkDnBvjxHiIMQEyi2ObtYxBABDNByfWrEECiao6Nt/sQQFOPV9BMMRFAFLUVIngiFsCn1Thycnbkv+MIb3HfDgJApKJjZ5ZABEDdEaORFL0JQM+vRmL88ApAir2Lq7gxCUDWXLmkE68GQOZ1Hs9AywxAWOkFx+JYB0A=",
                    "dtype": "f8"
                  },
                  "yaxis": "y"
                },
                {
                  "hovertemplate": "Artist Name=coldplay<br>Component 1=%{x}<br>Component 2=%{y}<extra></extra>",
                  "legendgroup": "coldplay",
                  "marker": {
                    "color": "#00cc96",
                    "symbol": "circle"
                  },
                  "mode": "markers",
                  "name": "coldplay",
                  "showlegend": true,
                  "type": "scattergl",
                  "x": {
                    "bdata": "jwDvRD9FAEDJWKxBXLAAQLUIixUHkwBAUG6+iflz+r/XPmX54eEBQM52uiQuHqQ/V50Pxw9fw7+W0dL2LuP5v0nntL4u5xFAfkB11u8S7L/bYjKXcdsFwM/437Pdoey/LDDapzqCCMCfRGRL3YcOwJKsdxhWGM8/iEOmPNKBDMDnMlKpID7mv9wVBhJMWv+/l42B3VxVBsCEX1JO+O0DwEuxPXDGDQTAD1Zwfe1VA8CqiRnMM/IQwOP+Dd4UtvY/rDHI9cNx8z830bor3RDSPyTcoo4K5wDAVyDD+LdKwj/dIfz7OG0DwK1vgsbBxsi/lYcT8ngcAcBDNDgEzX8DwGuruME82grAeQmqglg/FEAWraomRnj4v/rfJ533qQPAQbq/DaaaB8ARRaobL28CwGMVFs7rVwrAw5lnNG3wBsDz821IjrMEwFGBazss/xLANmBywUWt5L8WBNiq2y7zv+HHZRRwfgXAvtSXarRFDsC2UV6rXE8IwAGmE6SAfAzAWurOhS8eBMB+gLfVqhIHwFRvHpO3peM/KdSkh1K/qb9kk6/2GTcAwOA4FOvSRQ7A4LPsqYRlBcCs2rmRwEYGwOjR7vusswLArpunvR/CAcAs9JSdEMECwE3Xk05/b/M/Rn4xi0N11j/G6DeRfm28vzMbl2Btf/W/5SJypIJQAcBejmy8mZICwMk4Xa7xIRDAgHyoHOddEsAriv6o3wf2v20bONjen/S/EcNvU9Xq4r8l11OoKBQAwPjO0eN0wAPA7Jq+JoHQDsDZm5bc3Y8MwD6otZo6Ldk/S/NDA/3C9L/8D8ssQNP5vz7je+R6kgPA49AHPEG8+79t0yrUZk0BwD2N+ODXpRPAfhvF95DaB8DgtRl3srr0v36MqS+ta/a/zyRVC4Pr6j9hKPbWpEjuvy0yDKg2yAzAGCUceYhyA8DimithNVANwKedEQkmLwjA8cdj0pX4E0Dwms7L1BYQQOTZKbncg/K/X5XqBait7L8REGX488sFwC+wCcLIrhLAp3p2TBLXF8AuAEMtPgYVwLAxWeECVQ/A",
                    "dtype": "f8"
                  },
                  "xaxis": "x",
                  "y": {
                    "bdata": "rqrNtEHgAUDC0S8rHD0FwAzbnbdhQ8u/bjFGMQJ+AUDVnlGg12fnvzgq2VMpnfQ/pbAz4I/K3D8ZwIZ6WFT3P/k3Y5C/oxTAG1tkI5KF3z/D12WCvln0v20CgS8OZOc/9pOWInuW/r80WllJjIDQv6mlwXzaNhDAxnAx2qp97D8IPin+8/j8v5cNXZiFcva/4gspRWyNoD+eUbsqTwrnv/0oJYeTLtS/IrNj8aY7679VcRkq8fPKvwi2OiF3xgnASNYsKp0v9z8Y9Gl/uNjgv25bmZCvuvo/a39vbt7x+z9xb+3NW0r5P+xGqCuCTf0/hgnsm4F03T//LFwGzF32PwiaOUDC9Pk/6YTKM7Ih+j8bcFFNRpbpP+3w0k20ov0/8w7hX4op+j8ihbdBzqbzP/UiIACEGQJAZrzu58pr9T+FaNffdDP5PyXxlNe6tABAYLCUJW9c5T/h/6AIOcAIQI3NVtLqPvA/RsD7sCG/5T/vK2g0pmTUP/oBKuRpTOQ/FkeYZlJYDcBRD0wbQ9ngP9Z+dsoHwgLA78vKL5vX/b+r4pFw9j/kv8JHhCZ//Lg/HfqSlSnM779bjF5eCUO+vzcl8fNi/Na/jI5iPHjj278Fc40hDSLhvwvIIF3JygfAbHMKWYg9BcCebjMK+M8FwMW/SeI1k9S/28GvtHDUuz8pM9CWXrPtP/B4RdlyPe2/GN6hMBk38r9/gMi7DbXxv7edDEsEEe6/Wl46V7vJ8b/01guzqqDvv17alCMVreA/UM1kK7To9T+es7EVo7/gP4+zCv1Zp/m/uXlcyprm9r+b7mziEezoPxuhs6N5N/k/eWejaMmXwj/yE/DmW3vuP5smE6RQsQZAFUGn+wcMAEBC8wKSwE3EP6Bz3I4O4gVAGdvik96f178L3ViDmof+P01sXzH13/Y/+tB3hhos9b/tG+ZVXnr/P43Il0RkCO4/UOXFJBjTAsDyDBJs9FYGwETky68lQA3ATJ91b24EDMDpmf7PcH8EwGaoa+/3Q9C/tqEk2QY09z9bzx/r3MnwPw/4MLF5K72/",
                    "dtype": "f8"
                  },
                  "yaxis": "y"
                },
                {
                  "hovertemplate": "Artist Name=led_zeppelin<br>Component 1=%{x}<br>Component 2=%{y}<extra></extra>",
                  "legendgroup": "led_zeppelin",
                  "marker": {
                    "color": "#ab63fa",
                    "symbol": "circle"
                  },
                  "mode": "markers",
                  "name": "led_zeppelin",
                  "showlegend": true,
                  "type": "scattergl",
                  "x": {
                    "bdata": "wYla68wb+T+w55rVxPj+vwqP8ye9bQjAOrFjvgasAMCs8oljm0UHwMC5WpNz3QrAf3Rdb7QGDsAgcdzFDnQSwFh/TRehXBDAmuVm7kFLFMBSmQHTcbkRwKW2FJgdUxDAarRxr9jhBsC0lB3FlZgHQO93PVRDjQTAmn0J2QRk3r8Sg0UDpqXmv6amCWkmYOC/CEyelSqMBsCcsU35bLTKP6wqzPCtDfe/Y5CSEB9rC8AuLMl8u8qxP5VuOi4vZe6/S9NgCpVe/b/nT/rz5nf1v5j4e5mMcAHATwTlzYhR9L9J2SLSFJINwEOqFk79B9G/Ey4ysFMHBMDvOgekBjADwJlYgyFACgLAfgPZ70gTCsBkOpscR+38vxA9TNF4Lvu/mIt/nxKC/783ZmfVS0n9v/iQjIPvtwLAWN0qS1lA+L84v8pYaMoFwD+CCymI2QDA+CtvMQgM1T9YsG1z7bP3P4KyHVOfCQpA6XBcjS3lBkBBfyr8edztv2Pa1SYmuPA/Kbc1PiOnAsB1EA5Ut8XnP5XhLI+x5eC/5chIvNaD/r+JXrNMsvznv21JaWfdVgHAFUdtoDLFDcDtKZDqguL4v5RkK+gj+e6/AJJ7V1dOD0A89IpQDvv5vynNniMZMwbAQDnX1gAe6b+SOHCCJ9YEwOdAf1Nrzfe/hlTSMJ+/AsBUEdnKJTT6P0ciQ51WBQVAOhIMe2cbDcA=",
                    "dtype": "f8"
                  },
                  "xaxis": "x",
                  "y": {
                    "bdata": "iUBkUlKQAECvB9eR3xf/P4lZ5nH3vANA4S7eqzNIAUAOWlHPwcj2P2CPvpyjVOY/GCbB3iCUDkDbdCJHxMwJQAQlqVrEAgRAsJZSzMV/B0A7EjJoqzQLQOdgnji3iQNAuR3PB6sF/z+PTIO9D6XjvzXD+XquTdY/QwYgx9Kqwb/MJJsi/XByP/0LNnpamsa/XyQNuc4M4D+1JYm0eWXkv4ukqaEvH+Q/g9nXNZg98T9ZeFUr7Tniv3VmcnTPOuE/Eds/U2uI4j8AAajTUxbjP3jQ/d8ZJ7Q/u3xN7LNI578jsFHSKzzhP7TE72gkYuO/6ohNmVVx5D+Ohr1vFjXlPyO3/hEA3+o/6RWhKyJJsL+QNC12J5nav3Y9558RJus/l14K9V7E8r/ny/W9auDqPyy0D64iTei/Aep+6A1g0D+0PI3b8uL1P8tu9GievOQ/kQWBjyFdFcBF0Vl1KIQTwAXOOBNqLxDAtiVXshlAEMC+roVmxd0TwMZNG6YofhPAt6xPPYq7EsCDUAjFGF4TwD+jUI47eAXA3hi75JYLtj/S/NKwYSzhv+GMyw69tuq/9j/l2Mzp6j+i+aKkIQz2P/h8K9lcdPo/0hFhS2ng2j+nKKbvYnrqv/7N+RaYlPo/+k2EwQjcBEA4WMaYQBYCQJaSiB0Wvtg/FblNXYUDBEBkSCCZxy4BQGnlocIiX/o/aBNa1ROX/D8=",
                    "dtype": "f8"
                  },
                  "yaxis": "y"
                },
                {
                  "hovertemplate": "Artist Name=bruce_springsteen<br>Component 1=%{x}<br>Component 2=%{y}<extra></extra>",
                  "legendgroup": "bruce_springsteen",
                  "marker": {
                    "color": "#FFA15A",
                    "symbol": "circle"
                  },
                  "mode": "markers",
                  "name": "bruce_springsteen",
                  "showlegend": true,
                  "type": "scattergl",
                  "x": {
                    "bdata": "imX6DM5gBcAADuV3cijIv8L7Fx9SD/e/tQq7ZZHy9L8GfXn87nQBwOUrN0rVkfa/MmAOdUC7g7+XA/EPfbUHwEUI6kVplQTAydZyJdH0AsCjLYjJ2KwDwMHDv9qhFwPAc+sbFH65A8DkhcdIBlUNwEym/Hb4/BHAav9oTVh/+78U1rdsWhQEwMZ7GROm1BDAUW0zSf06EcBASGQHNGgRwJqaShQnLve/YBQQn+oYEsD3qpcpytIRwMhbh41hmRHAotPFIRf2CsBENE+zd7YPwMwAyggVAg7Ait944RU9CMAabSSfI88OwCwh9jPxsA/ArmdptjcKDMBAZGmQKQEMwLfHOjkv9gvAVTcoew8+EMBPyg5CwBULwE22Zop8OxDAQwaZkwiNE8BsIew2Zm4IwHjG1sVZvPW/rKUnh5qxCMAnOgKUIqEIwIRPITAaSQnAksDSR5RY6r9Xc3QlNE8EwDC1D6cJQwzAKTartL6hEMBeyqGL+z0JwIzPbZ+4FAbA4Ooet9/gBMD39E4xpdsQwJHCF/gy6QfAJipcXCsTDMDvcnyd40QOwDsSFE0AgBDA5Hlz/SPXE8C1tGhn8z0PwKh3X+2lHRDAIterm19qCsBKSBhOPhARwFbMC0xCPRXAAyWrSs88BMDo2XYTduL1P3YF4QSor6C/p1hvFAhI8b+NsSy38Dj5v0JYOVC4Qrq/M3jo/uQy778ctUzKM7EBwOC3GdUpquM/9Iu5JfYlAsCOT/l0itj+vzaTFO6HLQbArgqtkMDpBcDYUQd63rQIwMZfuJhbRQzAUabGpuYMDcCgJyb0bPgNwE6qFlaDiAjACAq16CI9CsAsoLB2ii0NQPYmiQtErKs/9gHR3iI9AMBQv0+CZZICwP0r4N4kE/y/k7OPcT4M9r8ZN9v4tDsOwFODPnqwfA7A",
                    "dtype": "f8"
                  },
                  "xaxis": "x",
                  "y": {
                    "bdata": "fp/6WVi5/T+l3sIxX7DxP6TU1G237PM/n3nn5LlO7T8KPAE93CroP5NTP51zcpC/TIbbY9z32L/0LwFqFq/tv5BxQdZ/Bdm/JVIFmIDK5r8TYkCkE/Ptv0QPpjBdGeG/78dt4qwv7b+L6jrzU6zwv0IwI8ACPe6/wuU4Z9YG1T93+p31lCz+PxfG5WfgzghAeZn4t+GACUApIaGrh0AJQAJvYOAwBfc/tiwuGpPeCED2NYKqVbQGQKqnYyytpwpAvJDDhXcTsb/P6KpbdNTiP1PoUadbK+o/VO2cB6Ml8b8tqvHnBMvNP5zFc2X7seg/1295pgBv9z8cL1YHwEQBQJokPR9sjwBABYt8daUS+z+rpyhaCGYAQIv5txYNpPk/BH9RDlsV8D+jm8iJxYHgP7EralSRNvc/Y1rYhctYBEDH/thEuC4DQJ9D9jk6lQVAL0o66EN0/j/ys2LxwngBQOfuUhrNQgNA8fAH3VcCB0BH5HRwt4UFQL+H0ipIGv2/A/p4osoK6z9NbgCaidTsv/I0fWjF/9i/rkJd9cjx379GfTLCaYbav9t9v/nFlpC/ALIPjxAwy7/cCH+rz9TPv1pgSmijxXc/cPLQv0550L+l8e3lFNrlP3VK2hyQpOU/CbM61ML+8z/vTI52lNryP+U0MeBXp9o/grGWXoiF/z8DlpGNUzwCQIe4WmlvhqQ/hGW79sXQ+T9zCs0ZAscBQEo4m50kKfM/SSuOdR2EAUBizW1TGtK5P6Xh/Ocq89g/2va651Kh3D/Hc2WfTXnVP8avfIJ7uOM/UkMmlJku4j/Ww+TAKATaP20qWz0MyvA/Jj3Oj9bU2T8HGhPOn+cEQL4l1ulRg7q/6flp3Psg0r/MpO51gPDTv0deQJ4VgtG/YCNrhPln0j9UirhnGc3wv7n8Tb7qdPa/",
                    "dtype": "f8"
                  },
                  "yaxis": "y"
                },
                {
                  "hovertemplate": "Artist Name=dr_dre<br>Component 1=%{x}<br>Component 2=%{y}<extra></extra>",
                  "legendgroup": "dr_dre",
                  "marker": {
                    "color": "#19d3f3",
                    "symbol": "circle"
                  },
                  "mode": "markers",
                  "name": "dr_dre",
                  "showlegend": true,
                  "type": "scattergl",
                  "x": {
                    "bdata": "mNSyKOM8GUAuvjhy9osTQA2q4bPJJhlAHBkTRw1sE0DhW+cNCeMeQPwUHawswRVA7cygIezIGkAH2rVo5vkUQLXqRDA6hBJAJ9/4MdLGEEBdRI4BwnETQBYUFQHrdxNAiR0vSugfEEBRzuTb6Z0PQE14o7nUXRFAPEYqrJ9NEEB3U7n8XiMYQLF6L6+bVwdAPlqy7Da7DUBQKk34bnMQQCA2Wszpw/4/ueF9insq8T98maAguuIMQDVMmmXfJQBAZsyHyx+ADkBKTNTkegUMQHwxuFXLMuk/qOfzsbHt8D+iqAKJL4fzP3roBwZfnAJA79tKTDf/9j9M882FxH0HQFUyH0mD7PA/+jRsKdBf8D+a8kQTWLsJQMaBZMImDgpAGtyMjVbsA0B5hv0K6CQAQAq4D1ajkQZA3YydxOMjA0A96vsAxjwDQLtWExz5dvo/oMFTarmOEkBaNvn7LoIPQHz/bO79hPI/p80HLHkj7j8F+2ShCyLgP9Tb9axsXOM/rUpWkLTWxj8B39RriHfhP/gzpxsOOdW//fVXhHThp7+aWc8DqkLyP4O2E7bcyew/llbv6M0YC0A5GHcH2XqRP/g28lhjJqM/beTgu7LowD8VqDeHds3YP28Qg9wFG+o/mb79fku/2j+bO/6hXGqiPw5nJG9VKyBAbJv9ZU2hFUAQ11OVdh4VQATqHHzKWhxAtH6VBWfrFEDJGQ2TCAYVQN5HdTBkHRRA",
                    "dtype": "f8"
                  },
                  "xaxis": "x",
                  "y": {
                    "bdata": "8laLGFbzEkCawqd7dCgOQIhasAU7uw9A1taCmH4AC0D6H38cfVIMQJO/57PKJhBAXVeZu5p2AEDNviWNC8sRQKHiqNZx9g9AJMkwOvd0CEAI74tzmnEQQBEyFP+hrRFAuIrVbZAOCEBbhl+kONMJQP6pKAX8kAxAxh/jn7fLC0Be8dI104j6P5cjx/QrPxBA1+IrEki4DkAHKzHoXWMIQOdLy1hN0/I/nv7yeAkACUAUX3WaaTMPQLtis7N4YwdA08ENaKFZCUBeKARV6awIQI5sgXAgaRBAVTjHYfG0CUAhzRvsLA0GQEAvlVy9qwtAD7eI8An5CEDoEvURDCoLQEYV+MLVXgZAG7V8U4OABEA04dr0ITvQv7C/hv/+CQpAazAP3LVlCkA3R3NFyRYMQOxR7GF01glA7vtUmfxwCkAA80kUuIEIQBEjDj6weQpAQoPT2bsOCkBqSvMG1jIRQFs1AOGbRA1AM8hIbOmUDECUxR3AlE0NQO2HpUX6xw5A/z7rWKxxDEBaG5bCsxUOQME/elH1wQxAov1nJs/TC0AB3aeGhA0MQIh+Z24aSQZApcO/5P1n+T+kWx/YUvEJQFZD2J/CWghAYEs0TIL3CUBygZdZpvsMQAhi8Rw+3QhAdPQFsU1mCEBTx2m9rWwOQIKIQYjZ/gZA9qMDqC+1DEBpyZ2Tee4LQK4TxN6NDAdAESinmrN6CEDhjhe+RxsJQI7w8oFv9ghA",
                    "dtype": "f8"
                  },
                  "yaxis": "y"
                },
                {
                  "hovertemplate": "Artist Name=john_mayer<br>Component 1=%{x}<br>Component 2=%{y}<extra></extra>",
                  "legendgroup": "john_mayer",
                  "marker": {
                    "color": "#FF6692",
                    "symbol": "circle"
                  },
                  "mode": "markers",
                  "name": "john_mayer",
                  "showlegend": true,
                  "type": "scattergl",
                  "x": {
                    "bdata": "uKjb+fo3+z+syY9Gx8/2PzZU0j6YuNa/JOjJnjY5+L83s0bVmcv1P4ogBLrrFwLAL0raZTIQA8DeADrsUMAIwOKVgH8m9vI/yupQLfMI9r85XI7ZcIzLvz1Z4P7Ktfy/6rdZb6Es9L+twIv6CboAwEUKVXajaATAWg25xspUDMA2ahKeI54OwPOjnP1cQBFAiJBDIMhj7j80vk0uGA74v/C4kEnUefE/vgm8Fq1i/7+bafKoOKvHv9hRe2pHD/O/Fmc7VZx0CsBQshlFzUgQwEfLNEYSoe6/+emrRnly6b8IFLW3kgv7vwpghq4mxPi/s50jf2di+b8R4m79hsX/vxWu4foxS/i/4fmr1yQl+79YH5wvwcoKwJkHCEObbgrABic8niSU8b9GBShY0egEwK8HZnAL0ArAtAHRv8l3AcBUWk0Tq2sJwFJ571vC4grARynh9sOzDsAZjqaWwg0QwM4kNSHtExLA5mLD8VS9EsDKP9z5dqASwCgG6zDrFO+/CJwzKuZ/9r/qnEFTUOftv9QGnOx76ve/LXGJwWgf/L8jCwu2OhQEwJwKsmILNPK/C8CoiQs5/b9FYCU7Vd77v+JCUs0D3gLAlAUv9NprA8DORf1q6I8EwGrOO2JmFwPADYitUOBjAcDZb8YgWBQGwOa5QlM+SwnA/OIsU9Mf1z86baesQpD6v9D4mv75WgPA0TBxcSNp+r8MWqRhk1kGwB2iOiVprQzA14MCpmceDMD4wDqbUCwJwGfbggA3cQLAQ6n3qype/7+yO97D4UT0v2VhRPe1+Pi/3nhbw4Gy/b9uNlMaqlLzv/GDHx+p9v6/RmSzGys4CcAwFPxTLTIUwDHHaeZMAhLA3xn19T2lDsAXDrq+GQPxvw==",
                    "dtype": "f8"
                  },
                  "xaxis": "x",
                  "y": {
                    "bdata": "e0djnBBK8z9p1cLYrST8P0vEsEvZ4so/87+R49IDn7/Pu1WGaXoDwN+WDJwgYva/fdAGuIEx8r8M4AHl2Jnuv2+/UitDkvK/Zeey909c3j+G0dbIggn1P7CDxxUZevE/a42BS/dw8j/dBYxbmw/wP9duEgLjxQJAbfKGAUNN0D8jBkWrAaD4Px1mmHRMNwPAysZr0GMy5r+37DEjCnfcP0lpSf4e1aO/aLv/LXir+T8yNETEP6X+v+OZKl8keuu/xnZLmH2R8j+vPTIh9owCQD+2mZJwkue/Y5GgHkU1AEAYJvzlptLWP9Hs7urm7N4/9dyaq34o4D+eT9CW+f+Zv8bjLtZrDMG/S/TPVnB21L8nhP/oHBreP2hUJWTHQMo/9ERMNUTV77+jdDEUzBjZP3Bn+Dg6NMG/+1vJlh/S5j86GtNH8Ky8P/cb8UJtUOO/vaE5/iVH3D8L8Z0W0zmtPyAAr5BSXug/DQ3G3Dh15j8QRjPKgTLpP7dW98NTBeO/ypv8wRDbzz9IXV/UIp/HP5jNsdWzJcS/Qn37Bg8cgT9C3CZ8+Kb3v+qNjwH+AeG/GMLw+LJ04T+AsL5q0TTmv7O0iAg2/dc/zdzA3T63xr8EQmBqiEm9P1fnHalrT7M/abrMu5+A3T8R5EtbcnjUP9PFrRWpruC/AyTXRuxx/L+V4YMUlwrpv5nJ5V9Car+/OqgdMyipz7+TlvqabsjNP51fzCQwMOU/oGq7ji/n4D+R+p3bqS3xPz0JzyHALve/vRdklSv31b9XGxvY1Se8v4obEao6/8K/h1ifgLxH0r+EhNcf7FrWPzqaHWfJ6NG/HmBesatx1L9RZyi6sRiAv5mPlA3U4cO/N5i37IC3tL9Fed3q1NgFwA==",
                    "dtype": "f8"
                  },
                  "yaxis": "y"
                },
                {
                  "hovertemplate": "Artist Name=tupac<br>Component 1=%{x}<br>Component 2=%{y}<extra></extra>",
                  "legendgroup": "tupac",
                  "marker": {
                    "color": "#B6E880",
                    "symbol": "circle"
                  },
                  "mode": "markers",
                  "name": "tupac",
                  "showlegend": true,
                  "type": "scattergl",
                  "x": {
                    "bdata": "9gCMK1dKDUCoB7eqGTsMQF+c313V2AlAgEcX1Jd1CkCQtiOXulcEQAcY/MwDJwpAsGsI9BNVCUCbKSorh74PQFiYV3uj9QHAFPNPoQ1B1r961Z+fR1vwv7tOcrzJEve/hNTPrNGF8b9KcQsj9nL4v1DcVp2CWve/9K5JGGcQAcBYYJxvTZARQLXyZD7jexpA2l1OtC9QGEB58HtENTQaQFzyJ0PMLRpABLxv4TaTGEDh6As/cCYcQBJV2s/cLh5AemyXXbxSF0DVf/NNmmPRv7eYg+f7n/q/icK5MuA/p79mS7vOnUrkv1dbxGatDu2/OA2iMkwd8j+clFcMQljlvxzm4kJuYwZA5LDKzcLRBkDSnptmucsDQCKHJXu7HQdA/56pYURMAUCb5gB13LQBQHP9j3JcNQJAanvAMaCJAkDDvaXDdU0BQD3dVrIbOA9A/4XnhAeR8z9+8/sfX/nHP2q5slBI+/4/QkH5Aoyx2L/y9Dziu/XeP7mYfKZRwpI/dUIYIjRv/T/LhA2r8hXev3iVVmVlNfA/SsjSAZMf4j8cm3sMPivJPxO+TB1AuNy/OBYdhJdE7b+mdjKoBQTjv5B+a24ObMa/lkV/MInJ8r+9Dk0mMm3hv33LIWN9VN6/g/MwU1VvCECUUL5IEyDxP7t6A4+tvfg/0gNCoAYs8j/gzf1Y5JXmP/UK2lmGigJA1R5wdgXl9j+NFqGk8V36P1ON241wQPc/orn3t7nj8j8=",
                    "dtype": "f8"
                  },
                  "xaxis": "x",
                  "y": {
                    "bdata": "jWVyqNpaCUA8GzcuB60TQD6WDcpvqBJAw/7NlAzHD0BreOHo49oQQGwLfUCPaxNA5MDdKkJtE0ARYR7xx/oUQIaHbvvskfU/Gfm/Vvdk079zEz0NlFkQQDHmWwnL7wdAjKXEM1v0CECgmoCR16wMQAnN9t2WLQZAfos0niZ3EECJBH/SwYz+P7QZlNkWwew/OjW6AXD19D8R+Bbw0IrXPx/hk9sMu+E/e6Nd0Emd1j+Xze+17J/wP6dmmqaZEaw/3F3lekkS8z/FBomgjKAOQC6QDboUUg5Ahd123WA/EECcJ0Kq34gNQPGhTANiDQ5AO+DWYOjhEEBbM3igb8EMQGVWmQatrA9APHG8PV6cCkBHiWHmrh8OQGMV91kkCBBAVKprwDFiD0CxQzgltVMOQIx5j8K9OQ5Aipj6nhO3DUDG5jqiklIJQPrCC3f+rwJAZx/CVcbaB0C2SGZhmKgGQESofEfFXANAWcW9+bXzCEBP9AOH+kgEQEeFMivtQwdA0iaEcJZwAUD6+bHvocYDQBlA7bQ23ApAgkgrYCYfDED4a22hp+sMQHKoDcyBOgtAcxd5nYVREEAI6YbHek0LQAfvzn++2wZAIQHQ18apDEBFwU8oRZEEQM+4MlpsjghA+2Gs6AWNCEAuRJDNzQQGQOmYVoNHnwZAd7j+fT/KBUAdO0OllTsHQFI5+LrNwQpAv5rlCs01CECXRBNsY2wEQKCF32b41ANAX9peA9vqCUA=",
                    "dtype": "f8"
                  },
                  "yaxis": "y"
                },
                {
                  "hovertemplate": "Artist Name=beethoven<br>Component 1=%{x}<br>Component 2=%{y}<extra></extra>",
                  "legendgroup": "beethoven",
                  "marker": {
                    "color": "#FF97FF",
                    "symbol": "circle"
                  },
                  "mode": "markers",
                  "name": "beethoven",
                  "showlegend": true,
                  "type": "scattergl",
                  "x": {
                    "bdata": "/95Bzt3pzL/qRUipt2zwv2YZG6+HyMo/FbX/me6K7r+hK4Y+wTDgP9krWMlk3uY/BwPxaGw8y7/AYdHSVw7KPzlfUAFb+eW/ssl9hAc9BUCbp9QusBnivxKyZO4Qyg3AxWLSOtLMDMDhWc4oBpcIwJXZq4kLow3Azp37sa9WDMBwRzRTml/gP9TLYVvkXPW/IRBlopnM/78CNbAlKs8GwPmNDIYZ2v6/clOqlnZYAcBj88NPNZ0FwIyGSxEcZfm/iOYIb/vq+L/n8lU5/z75vzHs9R+irvw/diu3+pYH4L8EkX7dDyENwKCY/pg+HQPAvp0SIJIdBcCZbK0e+YEJwFSK9xDYLgvAY4OwgAKiCMBayyTwPZwIwPXPB42o4ArAkUjZ/EAfBcCSG1MehHMKwBzSjnI4rAjAbUxNkSp8CsDMBtSQBrwNwF++nNWVDArAWfsaxIDQCcBQKgB3sdgHwKcOFILVQdO/XEdx/Xr+7r/6Td0EDr0AwFIjQ4HfiNM/5JKyZ0VzAsCbNuHs2cQLwBfvsyiAEPi/wE2swGgEAcDtZNteKtCgP6uSzNDlAuS/nq1CSQDIAcD6v7+XH5oBwJwUiWN3xgbA1c6LODx5BEDoO9arYXAMwK4XAoaGGQvAMUmbvhDECcDDc2NNgaD3v6/KHuQaIfO/U9oIXHVTBMCz69B5FPf4vwEdKXZ79QPAFCHAcljLAcBEVRclAi3xv72l2eEcwPy/T08Yh7Q4+r9YWMGWzo4HwCdrL2HbRP+/6Czh+JVCCcAa9/tOuvq/v2bbxtQuNOU/",
                    "dtype": "f8"
                  },
                  "xaxis": "x",
                  "y": {
                    "bdata": "0dSJ3aTXIMCQ5P4fDg0iwG2veRUUYCHAHf/w5/+ZIcC4AUjY+gQhwL72/dz0bCDAxW1cx0nQIcDzml59X2EhwB3vewL2vB7AupC5F+kVIMBraBqJg7kgwBlrNgPMEBvAXVMoEklgHsB6VN3LtCsewO+nSrjmxRvARLCIZqoYGcDqLsZS4ocPwHJ6LuIngxHAkza0FfPyEMClosIviLINwFS0sHy6axHAAJrvPOhEE8A8coD1ilIQwHqOi9lRmhDANaVKhlRlEcBvveONtTASwCek7R6NpA/AZg9sXd07FMA7l9riuMILwFXLfNQCpw7A+luMYKxxEcAcEzzfUp8gwL6/oNphWCLA6YQs+KM5I8BOhm27wN8hwC329uJLlCDAMFN/dZ0wIMDwyFp6J7QhwINBvHrE3CHAcb0uck/yIMCDMAi4RkAgwBksETF84hfAYZes24fcEMBBvYC6cZ0SwHJtc5QwxATAoNuUKRTXAcA44xdgg9AEwK5879nidg7AV8qfBmyjE8BEE5UHcwQUwDc6cssmdg/AwIhQngCiEcBeqqegsqQOwINCbHzFIQrABFn9UhtPBsBNQLPa2KkRwJPgvvSlJhPA5WK0F6HHEcBKutd+3WwZwDBp0d6cKxTAI6mqSTotE8Dhu+p12OgPwGale1GupwjAdBVYhrrcCsBSfodULwgVwH9GcvV4ZRfAwkLWW2Z0FcBtE6sctMoTwN/ySm0lYBXA03CVDYloC8DuIgdTodIQwL8Z+Dx2gRDAW7UI0tbeFcAkaxussUkRwJSyTXKQ0RDA",
                    "dtype": "f8"
                  },
                  "yaxis": "y"
                },
                {
                  "hovertemplate": "Artist Name=john_coltrane<br>Component 1=%{x}<br>Component 2=%{y}<extra></extra>",
                  "legendgroup": "john_coltrane",
                  "marker": {
                    "color": "#FECB52",
                    "symbol": "circle"
                  },
                  "mode": "markers",
                  "name": "john_coltrane",
                  "showlegend": true,
                  "type": "scattergl",
                  "x": {
                    "bdata": "UncCbtyuAMAEJcXnYCv1vwCbJckjoADA85NoAo+D6L9pJDWNwxb2v4neOCgawuS/UH0bQkrqDMDINSSrpdQNwIXvuIgAyw7AQgZpbswIEMDj/C136AYQwNo07gL8/ArAzR3zl6NmBsDgup4iAdoDwOqtwfAGJBDA+pzlbfj8w7+s+NwaW07XvwLRL4RMZrI/NDmmesOl8z+aam/4TzPcP3lwGQzvJtI/3auksG513r+7Q/ybeMLoP6BVtMAiff8/I8oP9gsC+L8TAVTHrEbaP0GPFu9UBPq/+WRuPCTVA8AuIM+9fGsIwFvUFco3dwjAaXIlL8KJCcByqT3LhS8FwIiShumTmQbAqQyAUuEHCMB7gI9HFMIHwEnS/T0DCwzA8o0lsJbFBsCw13QismkEwI45idtjUcS/LgvKaCyG8r8YL3Wm3kwBwIkHmjvDMPy/hoTTcZQh8r+V0u/Vqs7pv9/hu0JiNva/qPWyv9pa97/nUZbEYkP2v3x3hZgQ4fO/3DSMvKu+AMBI3qPHXDbxvwEl/ICanvG/eJ7Q5WkI8L/j+MpRL4b3vyHmGoNqnP+/QwZiAYGgAsDEhRiEYn73v+nc8hSv/vw/Ixl0Iz1r9L8c5fhWoWH4v7PL74b+8v2/p88+hMvxAsBApgWkpRT7v1hFk+a50fq/+MI+wpi4AsDJwDajB8Drv0EOrtNhcfq/O5V6NAHDAsB60AuqNSQFwKcKDKPrsgbAvsajzxEvAsC7UygqvC4EwMPVDA+g1AHA92Asvm0bAsAETKxblgjEv0herCWjEwhAKcLnfbQK9r9hns9Jav0DwBuRwKRVjwnANNsEMjnvAsCnr6zPIesHwAsYBtxRPQbAOTXrGQrGEMDmpHpkGloJwPoDpQhVCAnA36KT54SkDcDvxZsPqoMPwJD3vmIqkhDAD4ZvP8qACsAojazW8kcQwC5oheCsww3AD8N9mFAhDcABlgMb/2X8vwo21vdopAHAcfafsEa1AMClk4kQeIgDwLJhlNGnYg/AOULrcTW5BMC3CQYUdl4IwJFmBUMkY/i/BGAg/j7iBsCH4mRffF8JwOTovpglTg3AH8G1MZPZC8A=",
                    "dtype": "f8"
                  },
                  "xaxis": "x",
                  "y": {
                    "bdata": "JToX0UyyBsCM1tNQE2ANwKpaat/kYwnA7cfd2jNkCsAhdluCEwwKwFlVQRBlVQrAgONRgcOc4j9K083O2931P843sBPfmwBA9sp3kOMO/T+U/voLDvz5P7oIY23jgv4/FPVhcwCryT/yMbooHm/xPw8YsOyofPM/sqeM3pXSFMAb/TZoBV8WwFr7caSOMhPAYu+eDel8EsDqQObGlBEKwGrGjwWJ2QTAugqfqkdqCsBA1AwAx4wCwB6ISNmigQ7AvD4fdo8Z5L87rwo5qkACQHB3gZ73Ssm/dcVzBsblwz/8DQOUtrfzPx1zCbRt2/c/7NvpngMT7z+RJpcLyhHrP9mT/IFaDvI/xO7xye089z91OCt+YjPxP9q/qjVu+gBACZi+qgw/7j+fWWCrJvSBPwpoBFYWegFAM4bXJnHj+r9LY9UV4iTtv5Yua+s1MfW/ef9J8jdPAMAEq/Dt0xv+v0/DVVtuEv6/tVCjaNUBAMDcnHcimS3yvyj9bdy8Jvy/SiPjDaor8b8skyrIk5X3v9aD1SClCwLAc9KOY3BR+7/nPt7Fth39v0kdH/2EKue/Dz61i2+t8L/xKc5MoccWwPO1wBwDWts/jAKywrOL8D/W875D0Qr6P/QVZDdtufo/rnqiF7X89T+DeaWByLj/PxTlBYP/NgFAUiFya9w9AEC74zNjULf+P9sRLRfI/vw/dgVl5xQlAEAvGZ7O60gFQGeiEihcOwFAT+jWcCWn+z/X+nnd4NzzP2dVjKkFqPg/spKGzTLD9z8Qlh3jS8oJQNGBTUQijvI/YHviM7HpE8DUco7/4WcDwM1Cg5Tznfy/V5SGeX2a+r8LKMg8dWkCwOdAN7hHevS/HbfHtt/g8r8y6rIao53zvy/olFp1C/a/v4uwN6CF6r/BSMkGRP7jv+sDkZ6e3Oy/FY2gRsPE4L88FtclLHb1v8rzzZ6Lofi/mY5wC8gx+r8hJVCcNzj5v8vmQruuHva/gH6L0wBP9b+/6YNXf/v0v+7XKABrSfi/htyiqMGA87+1zVxJjULxvysSPi8y6PW/M1CTHKYd57+toF5cQFfvv0Wkf6hi0gHAbbu77Fef+r8=",
                    "dtype": "f8"
                  },
                  "yaxis": "y"
                },
                {
                  "hovertemplate": "Artist Name=miles_davis<br>Component 1=%{x}<br>Component 2=%{y}<extra></extra>",
                  "legendgroup": "miles_davis",
                  "marker": {
                    "color": "#636efa",
                    "symbol": "circle"
                  },
                  "mode": "markers",
                  "name": "miles_davis",
                  "showlegend": true,
                  "type": "scattergl",
                  "x": {
                    "bdata": "lX2N8BJN5z9FL06A/EXyvx5aE57PWt0/8eEr29La3r+CLjXFhSb5v+oWLzn7OgDAmIVUaiSbA8BEe78BIVj1P+/3+pp0Gvk/fIUshfhN3j/gm1SqGoP9v8ECOEDanAXA2/hfpoo3AcCFj+hK1eH+v1r94bIG/QDAKsAYvQSy8r9yHqVbRC3Avw01Q8KJ+vW/0jxpkKQXAMBgYCIIhqkDwPmP+YCEhAbAsgULexPEAMCzIdDylC3+P6sg4m8WocG/XE0LJQLf8T97wtQmz9r4P6QZ+g2oPvE/4pWM236c2D/xnDuiZNvJPw49+QEPhuE/x1dZ6se5CEBoAYFxAFkLQJEZYsfaC/s/3fi4er+v9r/rFcB+yuD7P2EgTkz3r++/Otz9ASVE9r94FWhQ21/zv3IgOG6Yge+/ZdTz2NWT+78YEbrk/mABwIdPzX4qUQHAoejott+q/b97jBVXhKOev2Eq/p7fZPE/LHgD2O7h7L8hVF8YYp76v0mNl9BQ/O2/dTdULtn/4z8T8g0aHrbAv1LKrSB6WPq/vDnmbYw677/do8C7/ojxv3cVnR0sDfm/Mpd4ZgaC+7+MwL9ZmdHuv+7zAgCwJfO/wo2KF39T9L9hk4iOeFr2v+ooNMBwMvu/mclu6Sh3AMBwfToYbJ8IwPCJZvxJ9f6/yO4VqncvAcAZu47VlqTnvxgVl5bSjgFA+Tx14s+o+T9S9+O1s1fBv56nqG6OGxBAi2YgunsjFEDWuA4KQOoPQHjRpkFBoRxAs2dtUJhiIEDpB1W0vj8VQAdNuctAaRlAAnOf6G2irz/KHotzyuHrvwrrVT/UXwFA7LxKPJBwEEByHNOwY7P6PwfAQLU3+gHAYVxoHVLH6b8K4Fr/Sef5v+zDoGUiw/2/SCGTOWanrr9FyA5NQE3hv1Rs9xH+iwHA4rxohe8uAsDXnm7HDBYEwAFvq3f6eQfAv7iLewgRA8DKdcqlDAIPwPGBb5LvMgbAdSffHp18BsAS7tvBiSLhv27DJNr0jvO/+jbplrLv4b/wIjcdcssCwFK87M032QPAxkMzUoaWC8Ct9KXTrz8iQGU/6140+yJAijn/dImGIECFHrpCddEWQAGf2V0AJRBArPNsZzrrEkDs03chdigTQFRROIG7IxFAOBEFMKAbFkAubt72vg4WQGln/EAlcRFAy9QPKssKE0CgIWBmroYMQBKvkpnUKBNA1zWY5XfRBUAwxrUEwx8bQFxYMZLrLxxAZ0doL54tGkA=",
                    "dtype": "f8"
                  },
                  "xaxis": "x",
                  "y": {
                    "bdata": "v8qimNeY/L8jFrHY/uXyv/zWxo4J3Nu/EdW+JTJ9778zz61bB5QGwM3jyie5dQTAYxEaIzYIB8Cwcnpnrqu9vyKTxij64M+/sRB+eyQM3L+ofsOXbDgQwD4xD/kNZPM/KOGuLjMXA0DbHWwH0YYDQJtAavzKXwhApeCRBo0h5D+s/v1jSS/wP1i6LEFHyPY/+V4vkWgJAUCdUXpwfe4DQJ+Xoto+aAVAGVPdgbEG8T/3gp4XkssZwM4ma+S9fQDAKcdlv8CT9T8N6PSa3hekPwHXKlgMteI/fbtFzegI6b/8sc4nJxn+vwMADfph1AHANoMNKnGBAcAVVGpd8Ke2P1nduqKH1vW/QryDZ8JfyL9mL6PFZQjdP3et9jNrFQRAAYmuaP27BkAJ6DoW4foIQApNKs3C6wJAm9eoBIr44z8qLLXwDIboPwPlBrIf/vI/TDgkFApi7z89T/ZyTEPqP0IPcm6Gzvg/OwhqVSRZ8j/YKRfIZSDRP3P765klKQ/AsQ1jMm668r8lC2NOdQfmv6F7Vzce5ew/qk7SqJzU5j/xLXcor07hP/xndeAP6es/AsdR/UY65z9cxwSyvEfuP0//Do7aWus/zgwBeYly1D+nse4a3JrhP038yAFN3fE/YfkQfYe38z/QasKnnUD6P3Gy7ZuVyeo/ZSk57XaB8T9n8GrksmfpP6+YfIiY/BLADTdJNcUyA8DQ1e+pI/gHwEMb5jF0peq/4xSa9ang4b88Mp4hw/71v7LZXZHjqsE/v0n0Cc532r84LJvoXqHqv7TOIk7rW9S/E4xpU3J1DcD9P5vWtPcMwMJmC3VYrAHAaf3kb8VA8b/K7MJLy5UGwOBtrTxvKAvAWC0MPVj7DsAsxX/t5Wj5v/Y6yU/ief6/C2NvUOPsAcDlarTgEbn+v72hgt79a/q/3KvQlgFO/r9um9SAMi0DwMJIhRKPmATAgF9mSMIsAcCBjlLZGZgKwGun/I4QGArAUYim4F+xCcDgUaDSku37v/mLy03ltgHAgzncyaQT/b8RSXejb435v9pJxDBKBfO/LeC3Cgfg87+na92eDYXvvwZbS4pE7wRA0QQdZsSWC0BKlrxNh1fzv77kbNn12gLAdklgurKm8r/UJ3ZoT1zyvzFeNnXj/9O/wTRSvmJ7+L9ycaWGFs7Yv0S/Ua1WGe8/tZac1T604L8YZxW9TqYFwLHtcTJT2/+/M8pFpEbQ8r8y3bdRryAKQAU2YsK54e8/B4wLQuCF8z8=",
                    "dtype": "f8"
                  },
                  "yaxis": "y"
                },
                {
                  "hovertemplate": "Artist Name=jason_aldean<br>Component 1=%{x}<br>Component 2=%{y}<extra></extra>",
                  "legendgroup": "jason_aldean",
                  "marker": {
                    "color": "#EF553B",
                    "symbol": "circle"
                  },
                  "mode": "markers",
                  "name": "jason_aldean",
                  "showlegend": true,
                  "type": "scattergl",
                  "x": {
                    "bdata": "KYY7XNwzBkCeUaigMHDmv/Kt4p1fZuk/zqpShBxSCsDry/38+6vxvxElodY+FhHAofyvJ6EcAMCtsSjv1iPkv3lTO8dkiQHA7iOt6x2NAMBANgIZSOkGwP4CVtg8FATACEhDN6LuDMDgRUruxnIcQEyfqUFHAPo/4eQJ60gitb84gGZtT1W1PzzNXE2uOwXAiHfPAtP+579n1d224dwAQGcGx+SlIvS/Dwk2vpOB9b90+c1Hhh0AwESHsWlyTAPAoTfZS0GnBsADfe6WExoIwBV4spAsYQfAgwJQbCwg/j++OCIY0wDuvz7c7qAboAXA2RKUQs/xAcBPJxrSj5IOwG4R36Q0qQ3AAXD6oNZZEMC2S1mEN/cCQM5vyE/dhNy/ioKcLKvh9r9oz3QG8CQIwN2hhOR8x/K/EZexmqOmCcCTpEslAmfnP+heZRljzYs/IHdD2azPvr/gSGT6OV0AwAiNf2qvlQLAK+pITMVjB8BAYtb8t4wFwNtdclxvwgFAllrxpIZF5b9fCqtyQKGlv/D41hGeZfm/pkI5yY8b/r9uZThJHzvpPwCfk1FVgg5A",
                    "dtype": "f8"
                  },
                  "xaxis": "x",
                  "y": {
                    "bdata": "g/EdPQUp47/Fw3qB1qTpP04hb3vYgeG/Ih+jrptI8j/LgMXZ2oHiP1NhC4bwefI/dC4gUEpW5D8yPuAwHSv8P3WwLylmWvo/CSwX8jn5/j/f7QZmds7yP1DnhoXBMPU/rWFbJREb+z/vPpuMsxcAwJ7LX9E59uW/6XqeEyn/6r+qFP90DcTPv3EWd2cYg7m/b/yFmhws5L8faoq8mHbzv0sFmsb73wHAm4mM+5iu978j9lXWNYPHv9Ea/tMLU9y/Kpuq81Qizz88fRzZ3wflPzi7YMBhK5+/GQZ2ruq0BcDkJ2gwXVvYPymDWzHlg/A/VdfKRKVV+T/fxNRGjyf2Px4Is+/CWPs/ET05jDmC/j8GrQ738oEQwMKIQdBwiuC/Iin0OBwU0b/NO8wzodntP3LWfaR0z5C/0nVTGgJA5j/Yd1n0VxO/vwHNrTc6H80/+klk8Rz03T8UdFnWLP7kPxRFjQK4VeI/SKp3CCh15j9qtKVwkpXtP/5TgWBTwAHAZ0F3LNUQ7z+a5ywVPd7hP2InewJ0rPM/7V2pPIc9+T+eineQk3TzP2/dp+uSwfS/",
                    "dtype": "f8"
                  },
                  "yaxis": "y"
                },
                {
                  "hovertemplate": "Artist Name=alicia_keys<br>Component 1=%{x}<br>Component 2=%{y}<extra></extra>",
                  "legendgroup": "alicia_keys",
                  "marker": {
                    "color": "#00cc96",
                    "symbol": "circle"
                  },
                  "mode": "markers",
                  "name": "alicia_keys",
                  "showlegend": true,
                  "type": "scattergl",
                  "x": {
                    "bdata": "ZLLHaQjxGUALJNwTUfsVQOLVXbc6Y8+/E0cTOfZRzb+lwsRsp6kDwJqIp8pa6O+/CHff3UqsDsA+lX09Il4NQCmAOnqznOc/JkF+Nirt8L+0OF9umBfnPyriMggLlc+/t4Uvs+eT87/FGzLIJuX/v5fvsvYMGAjAPOxqNoBY97+431FU0EICwNYj53Bm1QrA/+9wRRpz/79HwKQUnIgIwBFMTXXNPQrAKw1JMk+qBMBfY/mY350GwIKX/A1yDQXApRNVi5c9E0Dic/mbTZTuP5S9zMphaO0/8byYbycJ5D9dLMvUpf/Rv/VIKo9NpbI//UZ9b2ps5L/QQr2u1Sj/P90V1o+1hwVAsKLiWOZz/T/LCUgjB2n1P0OkcL6WA+q/RwR3RDzg+L+/Q6ZAHEkpQGUsqYlFZgVAhTINPKu0BkDSCPPHP4/lP7jv7HoMsdO/OraLammD9r867ov1se0MQPceUQfEFxBAAPdNwlzWDkDAw105mhcQQCoIj066fAVAwz9eN9vVFkBj9U2VO88AQHbePz1J3hFA7GvpoNwrAkC4TozwLqm2vxA+SoMqFf2/oROK+EW+6r9yrqCOsgH4v1+pQzJ6TM0/EFLz97ibtT+7QJtQ97qav3E9jWcj7ABALJwmWTKSBEB9VfffVUj9P/gVV3xQEto/elSEvwZK+b8=",
                    "dtype": "f8"
                  },
                  "xaxis": "x",
                  "y": {
                    "bdata": "LEGuN0GtDsAZPh1fOhr1v1ZAHwuKWuU/9WzISw1/6j9gyl8IgjX1P57gv/9KjLA/OxDawDrq7T/R9V6xaN0MQPFIuXTqVgFA9KAYUtph/j9Qob58JZb1P9lPUT7scf4/TngKLSTs+T9Gb5gB5L34P3i7vFYHcgJALUM4HI+9CMBRTZxL7X7uP5k/cPGDncM/2zzqV84x2T8VR1R72EqgPzNGKitek3W/gOu0Ys1U1z8aPpZD9rGqv67mIMdcB+c/Vrgi4PVnBsBX0Ek5GMb1P6pZotdk4/Y/0ivg7bqz9D/MXsSx9MbxPyvt6DMRn/0/aM0CMCKK9j9a0T994kkQwMCdZa8DBee/oFr5wph66b/k0B90ODXUvygK4feMTe+/CLjwJtuuoj/Tq5xo67gEwDi31r1E4Oi/tdYiemFl47/IxMU+Olfav5EOu47vpN+/MkmsiRigvr+/nR0x0vvQPzGRGYMgYtw/0NQ3Z9/y5r8VsyUHQ3HnP1PkOf00oce/2OP1zy0/6D/GuY6tQTypP+DIaUwdasu/LqGOvE946T9gF0QZrJPwv43s2mfLDOi/aPTwZzf6+r9l2oFibCbzvyCuq/HHNvm/Jzs0630M47/9WzakVD74v9/ZYyH0DgHAVGGXQ2LW+b/5z76/I6L8v5fO772spv2/7SQRm8Sk4b8=",
                    "dtype": "f8"
                  },
                  "yaxis": "y"
                },
                {
                  "hovertemplate": "Artist Name=jay_z<br>Component 1=%{x}<br>Component 2=%{y}<extra></extra>",
                  "legendgroup": "jay_z",
                  "marker": {
                    "color": "#ab63fa",
                    "symbol": "circle"
                  },
                  "mode": "markers",
                  "name": "jay_z",
                  "showlegend": true,
                  "type": "scattergl",
                  "x": {
                    "bdata": "5ahPv7xCCkC1gSO/wsP/P6CuCeK+dPg/2fFRRtzWAEDQEI5JYgb4P0wJaYsDh+m/Qh2IWzEqAkAaon6h2+b4vzRwFmE92AnAsE+bU+/OBMBLdsgFG/4HwFV2QJ1wNgbAPjsCFnxOC8BS4ZEkFpf3P01v1mqnnvc/rSnrACos6D9tuE0WI+7pP/Im+cNeOMg/XjTxEFrc8z8hqVk/yHRmvzub6/LLYRxAY6w2E6HBCUCd1EOxSEziP332r2Ay+fC/w6jf9t9d0j81uyMNbzPyv25y29ngY9A/Lv5N/dVrrb+OY/5ALp3iP6vNXTZWjvu/ckpU/Q5f+j/YP2yeSyHKv61ZbojcDfU/KxNBpYAd8T8JP19rFPHTvw0Q6lxKXs2/lXRrR3rv2b/oyo71AYH9v7Aj/VoLRBBALkT9Sn/vBkD5SxiDF6ABQGvhfYO5+gJA7dKmniHBCEC35tRJpbv3PwW4qDD5mQtAC1XAkc9Bsb/rUTg2QS/5v69a7B/67dK/M5yzfuHe57+6SpMiLiAAwIlmK5bRRNq/MSLlIMfw6L9mQIRzHFfnv7Us8mZmpPK/yFXwMyep6r8ygx/rm/QKwOTJsQc1GgHAePBprOrv/z/MSCmUYmoPQK9zky/uxwDAd0vJOKY4/r+0z5qoyecHwNIBLpOZZgHAshY+axgGC8CAzzr1W/cKwBEJ+Cu92RLAgmadMZ4OAECey3i6AhnwP3hbS124Mvu/QLu4e2GU4b+NalJFVDr+v05c4eS+M+m/2YA0wZVPC8B2gqqwr78AQE7uQL/Elvg/3uDsV3hGAUBaNYrEU7wAQBd711+FgwJANcMPJ41CDUC5gM9VfNwKQHd4YOLZDQNACdiUX7YO57/HCT5Dw4sNQAMGyHN2eApAfHoYEkmmDEDvWdjnTqkHQAkEsHIG0QRAP62KwXzh9z/bjA+DrL4JQBA0uX9y8P8/nZKq10fACUCLLPecMfQIQA==",
                    "dtype": "f8"
                  },
                  "xaxis": "x",
                  "y": {
                    "bdata": "FY7WbCATAUDPupTMLL35P2c4vC4FSP8/4TFOSifWAkCQMmPBBCIFQN4IsewjSBBAlriUKxMT9j/UlRu1gLPxv3jygOy9GgZAggXLfqzWB0DIeQNX1skJQKWdCXu6cwhAbG+HKQR4AEDpN/J+F7kGQMqVvnMZrgRA2aTfwPxMAkDLVl2f2AkCQO3+1nAXkwFAfDOeCEuJAUDfUcpdDdsCQG8hH6XGsRFAx687JRBUEUDRBAvpVuIJQGMQE8beuQlA1iCiFcpeCUAWydNSLHgIQN5tyrItTApAXu4uNr3wCkB7Ody4xHIKQEsDN8diUwdAnbdw0tjnC0BWSfWccsgOQNlzmzFIgg1AGXZsqRNlC0Cas+xzu+4OQNxI9z8KaQxAPn5bY43GDEDBbWowvtYPQBb6zkXragJAU03FjQGHC0CXEFWKfngKQP1NKMzkSQpA0M4RQVWBD0CsWfz4ik8IQKlyrxuaEgZAn/IpSRDiA0Bhhuk814fdv3pK9roC0RNARqur5BiKEUB4m0ij2vwSQLqga0RabBVAphknW8vZEkBIN7NTVTAUQDmV8HDUfBJAABtXbOyWE0BgANPso2/hP8JWd0Xx8tS/XoTLD/5YGMA/GzbbmhcFwAezWxKhJv8/LMg59npHA0ACFAnRDT32P5+R3BenTQFAZlhwA4ke8T/9ZoiNr1MAQJOyh0ALtuG/XAZN/XgHD0AQaBVqb7cNQAHiY7Jg1QZAc1vtyBMiA0Dg19ySRAwDQAUqycd/twhAiHxMWMZqB0B4+y7v0Uv1P5EPYDeepwRA6ymtZnIxAkBNBDJPjXr+Pw+JzxM5uwJAMFDTb1NQ5T+ptDpyiMUEQAzXsUER1vw/KVrloe9x9D96SsVvFK3kPyarl/vLtMc/rWFMOmfJsT9+zY6yqp67P7M15cFS6qo/SA7GOTjy2D+LPYhatTX6P/4qicl/gdM/iZcYEh3C5D84J+v9ImvmPw==",
                    "dtype": "f8"
                  },
                  "yaxis": "y"
                },
                {
                  "hovertemplate": "Artist Name=ariana_grande<br>Component 1=%{x}<br>Component 2=%{y}<extra></extra>",
                  "legendgroup": "ariana_grande",
                  "marker": {
                    "color": "#FFA15A",
                    "symbol": "circle"
                  },
                  "mode": "markers",
                  "name": "ariana_grande",
                  "showlegend": true,
                  "type": "scattergl",
                  "x": {
                    "bdata": "QqWQpHceJED3+V0qQ7caQFqQQkViHBRA7eZbOWOMHEB6Sykv6UMSQNpXAF8WESBAYbQDWa3e5j/Qw8tAC6AbQJIAG4KXZQtAB7y6HFqxBkB/D8uybMUBQBEfWKniVQFA+gLqfTBbHED/45k/W74QQGYhQ3PurRtALg5lMbJzA0CXVoQ3f60VQGJB72ar9eY/mgak6mmmGUAb7VhLr0wfQMPOKhBJWSZAJncc7Aj8HUA6epXVy94eQJJVr/rbdh1Akgd4JvfHH0D08P/z+xkfQJaeQ9QeaxNAmiwt/1rWF0DWAaWiOg0WQGoLPCfw3RJAnBXTgEVJB0DVpssf4iDzPwnRApamFfO/UFLH7IdDDcAjyv0x1IHsv+S2ZnEQ9RhAY31LcF/CHUAtZh53mrMYQLUTgwaPKxBA1rmFwsAZ6T8sbtogEDoRQHA7QD8b9/E/s6EHTo4qCUDK/rYelgUSQPYdEtftPyRAuiSUZiZKGECj/qdFXXYSQNKtipi4fgNA39mLLWj6E0Cig9M7l/MYQB1wa8EsbhlAzqRI6UW1/z+Gln5tDzYZQAUDdtBsSglAWEfanl+IG0BwsPbs0KkRQLdZduRnY/u/AHqs3hH6yj9eJVGDXNUOwMj0E1UH++6/TO0qafstEMBHDnUhoD4FwJ893y6y4gZA6Q1tHoXpG0C1coaInWYCQPfPr755Cfo/wzRTSg6J1T+4E4Q732n7v/2Bk8Yqof8/XH/IaWJFBsCLCkCBEE4ZQBw3s/gGR+i/K+QJzDDCFUCZyp9UIuoTQDPu+qjRQiFAGNC4HBVkAUBzHu+i6scBwO7A2OwX6ypAFnZtH21gJUDFKc5NvWIXQAMx+Z3L6QJAVVHSq/VeEUBwHZgdBiEPQNVC6Hpl3BJAzUklob6E178c69OPN1EiQDm1v4PDwhZAOeGrAFHOGEANl54Ub+0VQENFNU6HdBpAxvJ+J3o+GkATvMWJrUj8Pw==",
                    "dtype": "f8"
                  },
                  "xaxis": "x",
                  "y": {
                    "bdata": "PLnNcxuBDEBltkS7fb4LQDbZm2xH/gxA28stN0y1C0DLPpBKtmIKQJX8XXrsJgFAeyAVpFjSDkCYwLYxxzzpvxz+idn8Sw1ALZUFaQCZC0AzAL+dPHkHQGV5GgT1iAhAlZX8PFxC0z8D/ccVg5IQQFtJYdWEm/s/AiD1ehELEUAJgfMr+T/tP7ljHmotFxJA4+omUufDtz+fXmZpLRcQQB+B/c7B9Pc/cNNFzWe6DEAaSPuXl+8RQOGplQ17QQxAFHInGF/GCEBL/ZIMXp0DQJG1B2cVmQvAMXzSHjDn+L8Zs8+wVyPwvywG2o3eb82/pXo7OUZE4b9oyRkZ24/Pv+vkaX9MzvQ//NcKTdAC9z/usxTZHxfxv7/PB3FVMNQ/mmrBhCPz4z+EQXRL9c7VP3w1JfViGQJAybLJVE/c+T9UFzol51iiP+XkoTa+avs/wf4WG2m78D9TmeJgULr/v9yFciTd0QfAG6VOrRJ87b8GwGxqjHPYv0dH3732A/E/3byQXvNI5b/LpASN3/jiP+50sI8s0uS/WhUGRqK39T/W7p4c6Dv5vyiiFJ9E7gfANlb7ION9AsD8sWKJBHH6P8mn/YoY2ARALn2OUpQVA0CcVQSR31cLQO72+GVxffA/PLnBv/vuCkBIjv82bpAKQMXTDc6xk90/AK7d5Jdz67++ENFuW88CQGxaLEVkegJADVcbNd8TBUC4Z9LfmR0JQBWEy1QYVgNAwAyjk2nKCkBksLxEHAwGwLbv8wAG6RRAfc+yPYAF7j+4SxRWUbQOQBIS9bfP+vs/Ibvaly3F/z+t94JNrbcJQG0oO0h8vvG//wQOlYd1+z+qy+T5dw0FQPu17mCHlQ9AtQG7QRJFAkD2B5ilW6UDQKI42kxjMg1AGL4iujk2C0DVvhjAGHr2PwZBfXKK2wdA6F96yaTfA0DJfxf1KYEEQDCh6sn2eQlAyPeX828b4D9E3k3L/mgKwA==",
                    "dtype": "f8"
                  },
                  "yaxis": "y"
                },
                {
                  "hovertemplate": "Artist Name=chris_stapleton<br>Component 1=%{x}<br>Component 2=%{y}<extra></extra>",
                  "legendgroup": "chris_stapleton",
                  "marker": {
                    "color": "#19d3f3",
                    "symbol": "circle"
                  },
                  "mode": "markers",
                  "name": "chris_stapleton",
                  "showlegend": true,
                  "type": "scattergl",
                  "x": {
                    "bdata": "PrYBdgEf+z+Ajz5j/wa8v/7ITJWpCum/He2lD6PjBEC4BrZfls2Cv4U3pBCihQNAnOfgeJjwAkBdHfSQSfeAv2OberGMBtm/NbW0Ixg45L/z4Ks1oODyv/vWEReTs+u//nDK+vpaCkDZH5Q4aKcMQHn9B3RsTRFAPTXFqmFMEUAqt1pqF0ALQOkPfDeKgQtAydC/2x0p9b+isf86qbkBwOqmT5pML9s/MA+4vzwO8L9N+MYU1C73v9x1eyfqlQHAAtGQ5SoW9r+mSsMbZ4kCwIDPeAEyOgLA8C12LeAJEECjZ15G6h8BQF4ZxYpg3gJAHbierkLS6T8qI4ERHdMAwAleTzSDsRBACjmh+nm++D8YAsX5NfLIvxKkByyRAfI/tCJHnYPL4z9cxw3RBpCjP/gH1q6GeM2/CxYEuiem7r9hTvjJHXYFwCDpvzabY/O/60v+qfcdBcCDROaoj8z4v9K72EZfa9S/9WlNOaOZ278f0K5MZWAIwLp1lF6PvfS/I026vjeoB8BS+u9yG5oQwPD+wJA9qwfADsRM4C/28r+Q4K1LrHGovyJoflshdeU/lauZyRthw7++rS1j/k/1v9JAZ8rQ7ds/ToJi6sKcxj+YZFUZwEP4vy0NAtH2Mfi/MBKVlWjK9z8OeJd6Uk8HQAlyEp8jh/E/gGkI82av8b85gKx/uVTivw7iIvEKhfG/ZAIfA/tN/b+mM5JF3WwGwGG06/FsAgjA48HsnRet/78RaEcod/4FQL0FcwSpJaK/F+cASFxF0b8REx0E/87zvw+mTmpI+/+/IGR5opa0/r8h65zVphr0P2svY1sM38+/f1Xeok6cCECif7tGPgPTP0gaHQyiT8a/0QKNbSUK4L9ITICi6yz/vz8lfB7sbwLA26DoKN0b6j8tPJNneV3xP3LjE2gNyuC/V4MBNhMM5L8rdBICnLyzvy1AS2zbGv6/5fhpGiO+BsC1V5ykzuLDPw==",
                    "dtype": "f8"
                  },
                  "xaxis": "x",
                  "y": {
                    "bdata": "ipNGYf4M4z8lf4OEkt3wP0ul5bfxmfM/izpSU8Yy0b9/fGj2Heb1PxXu/z5gAPc/53YpW363BMCD96LYn0vnv/x/tQfgltS/4whRf+0/nL/j5K5fkY+8vzh61Cyjweo/gn277+JuyT9hTwHbAKvZvzSbe0YHxd2/j9rSPIy15r+656zmngLzv9j+XxH4ofa/IJTxMvMJ+7815WPBREsAwN7MyRXDrgnA4LwKzjai47+rD+ZapiXgPznSOqBjSui/DcLZ/hvD4D+S7DHL6qzvP6FtiRYbNbQ/s3gp34mJ/T9eFOjmh2H1P7ghYp1yz/Y/gsd8LI6Q8T8Z3hv8rB7mP489u/ydw+e/A96p11RWvL9+JIeIzEfiP3z6FpaF856/9kpCVWPW0z+TJprx8keqP905oVKUWt0/t/54mxLZ1j+g866SmQjSv/QreVc6yOE/xsqt8RC14z9zq4b6mwQBwItzDgB9xwjAl03jDxeuwr8yCoSzhk34P+/8x+4djNM/9maQVZJY/z/KBkYRs6v0P2+PDni93gLAVWmqouIrvL9CkTSOLmbNP8sQxIeMaKu/5cxPJtI8zD8Hk56i1xHpv2v1N08PgM4/2oHuPmFCxj/QDU3XWejjvxvFmXmMiOm/SoEqyAbkDMBWdcFWkUrkP/c/hPmxlvM/CMjs6RS40z/yRscUWnztP+OWHqNEYfc/sax/+peLZT/kQ+/JJ5faP1OwcPZaSfI/1tQnzwjj7r8MSa4IGGwFwFo26ZkiVOQ//yHXTzjd2z+KuX7Dvk3kP3Y08itZF+E/CkY7hqcK8j8EODUnXlD/v0rhAlpFqRDAdRx1TzroBMDTlLS0T0/xvzCUIqb0/Os/9GOQjk2KzD/8LidcPof1P5iE23LvtfY/eczX8TkR8j9FCacZCMrbvwxW5DBol8G/R0GFd7fx8D8fnTXXQEnwP5pBwbsitew/RBvHQYwp4z85aUOLXu7wvw==",
                    "dtype": "f8"
                  },
                  "yaxis": "y"
                },
                {
                  "hovertemplate": "Artist Name=bach<br>Component 1=%{x}<br>Component 2=%{y}<extra></extra>",
                  "legendgroup": "bach",
                  "marker": {
                    "color": "#FF6692",
                    "symbol": "circle"
                  },
                  "mode": "markers",
                  "name": "bach",
                  "showlegend": true,
                  "type": "scattergl",
                  "x": {
                    "bdata": "Gvf2rjCt9b9alQRiHSX2P2ZRmdKttvm/vpD4mH6fwj+jJTcYi6LcPzXw3vEciwDA8+qBpxDKCMCSJ3ztcxHxP7RkQWaL5eW/SpKpBuVS3j8hNT1hN37lv7bE19b7ttu/cCSBcipV9b8SnbhZSeHtPz0cIU7bUvm/9gd6kM6L7L+LL04Dlxv1v09B4+5GCvy/dli1pWQb+7/00wS3EEj6v1uAVinRaQLAZ5/Z4CNtsL9z1DK9Zh/Zv+CkzHzVOvs/c1eBFHiy0j99z5cP4q7iP76Ercm7LcS/tnWPFvxNBMAVQGBVJ9THP0B1bM1C/vm/mUmc6bOBtL9Ze1PPjMb6v8AxhMKtzPG/G956OtZM178pmHauPhH6v4d4Pkb5QOO/AQNRrkol6b+KkvdY+dXWv77BcVEnZfs/ybepcJZK9T+iy0W4tPPkPwt4GapVA/4/4tiHYJH+37+LOZuLVmfjP7fC+PmGZhFAnmBlPViPD0CUsq6GEhcRQEMgF4a7fwRAYikN9N4G9T8Ok0ZJ/HLwP0KFyMi6OvI/5ftlUxg1yr8aYTNU4ukLQEAZXRbg/ey/25jedjxIAEDaomTEEMEDwIOx+QPHZeo//vS688H8B8A54VeLPkLkP0Vd+B3j+cW//RzQ2Ofq8797YTBt/Pf4P+gCqmYxggbAl+gJLvBRAMBrUw1+/f/uv6/LjL3jvwDAaInVJpjwDsCf/VNGb9+jv+Eu6lzH9ea/Vvn1HwkCD8A=",
                    "dtype": "f8"
                  },
                  "xaxis": "x",
                  "y": {
                    "bdata": "H61qIBDAEcDjXICq8scTwLTnXO9qQhDAnKaNU1tAEMCM1BfK2wcRwCZeZBk1thDAlqyzhvU+EcBVFeYMFxMSwG6ScM3KbATAZDedsh7BBcAIQqvk1wMHwLfmys/aygfA5qitySZdB8AmkKsY+agEwFl98gdK+fa/GNx00WKF9b9EYsw29Or8vy12Ww84Hv6/JF0sGuIj+L/AAW4Cv5n7v9HrzsF1hhTAieFv9SIWEcBSa7xykekMwCGhQCNapw3A8Vc6gW9AEMACEbMJiE0MwN2epver3wnAt+OJIdqVBcBqWZ4+cZYIwLT5TiUeIwfA+TszyDkMCcCeLtrcuVANwOpO0K2FyArAHt2co4GNCsAfqsduKpEFwCyoaaX1DgvAA+HwAmQYDsBWQarO3doGwGR/cOp64Q3AWfMHVswxEcDo50Z65G4TwHtZDcjCzhHAxh6r5tZzFcDDNB/MDwcUwB4gppuZuxPAANaNRJsbEcA22Yn5uBcRwJH6dWLaYRPAOhvYTLSYF8DL7cnFD+gSwPEM2Z0C0RDAq8QEG6f8FMAUjicYb0fsv61dWt93UALALW0Ne0TBAsDpUAod+a4GwNW17Oo6ff2/+G2TLDS9/r8jQve7+KASwERbgUy9iRHAcvMheik1DsAQL11Jp/0JwH7U2DgQcxLAXc9/a2rLCMChvLxeycEOwPslpmS0IA7AAPCiOleDB8Cbr9aVYIELwEerPw20hQPAfhP7Th+r/b8=",
                    "dtype": "f8"
                  },
                  "yaxis": "y"
                },
                {
                  "hovertemplate": "Artist Name=rihanna<br>Component 1=%{x}<br>Component 2=%{y}<extra></extra>",
                  "legendgroup": "rihanna",
                  "marker": {
                    "color": "#B6E880",
                    "symbol": "circle"
                  },
                  "mode": "markers",
                  "name": "rihanna",
                  "showlegend": true,
                  "type": "scattergl",
                  "x": {
                    "bdata": "abXJOty54T89HNcBbMrZPxJ9DSf3gvk/7q3pkJ4+xr/X58XsvR6XPwvuW2cOHvg/lsyNk9DC4r9qMlSXQUQAwBA5h9ISwxZAYYtK8cW16D+Cm7dKeUYMwNWgPvN9/uS/6tsqetpRAMDzVb39uwD2v4aLTr0d89Y/UvPtjd0y7b/kQtu+TLT4P3eW3SCEDyVAg2aIYV/rFEDNv0m/7FYQQPEjy1M1IwpAtdJ07dQn/D+G8W1iEbsoQH5sNYPhZwZA4dHXOEh45j8j16DawRr7vwU8/0yW5uA/T7MKyzH4CsCCEJ0NdvrNP6ruUH8jXwPASuXoFnXWDcCUVafSubYXQPVrALqOZeE/UC2+cXm55D+ZNaVPaafTv2vjX9Y6ENw/NrlYThJywj/2gSp9qusFwERubIuyAw1AFLr82jUqDUDjXlY9PacWQOZw5ldhDRhApyKeBNj0GkC2vQfbczEaQAET5vqewhlA78BEtT3ZFkBKEG2iG/EQQCEJUJCeCRhAK2dbzDNBFkDOKwHvyGYaQGB8v26pSRVAZOufvxP8GEDay6V5YyYZQCsXNxEnERZAi312jCuGHUBME1NByQMgQA1I8EVja/k/NgCgjA/S/783WoV3FwYJwLQLe7MufgbAJWZNOOQD2T85gvH9S74DwFZRXj/tivS/",
                    "dtype": "f8"
                  },
                  "xaxis": "x",
                  "y": {
                    "bdata": "Qnk1h5/Dx796cjraVOnKP0jsCZixQPM/b/hUTXnZ7j9iSPMttL3fP/zWmKTwuek/0P4pZmY39j9EcQR/ZMgWwCay1Lt9OQfAZNdQVDWF+j/JSkjR1zAEQPSgzGSKggBAPEAFLqR/AkBwLCYX/d36P5hz6gNXGPc/fws5JQYr7T9RjOmFde0IwKERMO7j3QXAjFF/o41nBsBg8kFXz9MGwJsR9wa7nf2/ALU0CRJ64781nvZ1qjv1v5FqFlJGthJAPjeMAStYEkCyr3ifltAQQJFA6U5tCBJAFmXk+2t8EEC2iS1kWsAHQHDRh5/c3w1AJiYyB54rEEC9D+UIbrPSvxQxBboyc/c/5YxEabeZD0AyubleSt4GQKDiE4a7p/g/X6T7c0T3DUB4kb0f27oOQEooqMtsj+k/gzH6HJoB4T/SeP0MRF0CQHSzwFo19/4/F+7U+DH19j9NFd7GKvjyPwVCElttcPw/0fVvsHhd/T/LzYHQSbf6v9oRS8chT/o/b15NxP1J/z+mEVHIaDgEQF0OQrpN9eU/+ZD/6KBx+T9E40j3p+v/PxLi9iVw7Ow/Ghy4WP1b/b92kzZiFo7nP/atqi3oPb2/8n/SeEQ9A0DzvIgK9swRQBa8tKUaNg9AKlcDTbok2j+ZI5PIqdwJQJf+fw3O/Q9A",
                    "dtype": "f8"
                  },
                  "yaxis": "y"
                },
                {
                  "hovertemplate": "Artist Name=pink_floyd<br>Component 1=%{x}<br>Component 2=%{y}<extra></extra>",
                  "legendgroup": "pink_floyd",
                  "marker": {
                    "color": "#FF97FF",
                    "symbol": "circle"
                  },
                  "mode": "markers",
                  "name": "pink_floyd",
                  "showlegend": true,
                  "type": "scattergl",
                  "x": {
                    "bdata": "ZuuGdcRbBsA1oA4zGCoIwBd3CBbrxgDA24l7J2bZ8b9bDi692Sbiv1h0rTwuBvW/WBvCaIJ1AcCWHJzXYGoBwGxw63ZwqRFAK15zVf+M7z9O9I+DqP/wP2Wf6jIHduM/lKBCvAvw8b8pRQ9EnAYBwIwuVdQIbQXA4fntOBhO8T9rUYu+HBzrv4Y+zrDF9ti/WrZ5JGQkCsDXAegtwlHSvx9BFCLTRe+/qZpDkdxABcDjwUSh2MgBwFC4y+LfVwTAv/WfGZWt/r+VzYf8rXEHwLVpFJu1x88/xR1oEjgd9z8XftHnMWThv3tS7+nibuC/EvHDWRt7EcA1nUaLnvv8v5cNh+ZfdNu/75Fu84Ce5b/OERtKxRABwHYnXxTKywTAgoqPzUpD47+z1MFSBrwFwJMsGruQxPS/jM7Blhd4A0APz999TaThv9NP3AlojeQ/zyibIvU08b8t4AO9rwkWQEqiF0SKMQxAjXOjx4mz+r/jNFUfAq8FwGGgElk0xtW/D3ET9AdX2L+H4nXxm4Dyv+e/RtRcLgfAuo8HEQ/QAsC/xwqhCIPuv6twbNTIYIY/G76ZrL6F1j/UEZhuD8Dyv4wt93RzwPe/9JboMO64EMDLrnqDwg4IwHEpm9ZeDA3ARFDglJ1fCsC3nVNkfXMDwC4JQ2ODqAbAQZrjg7T6B8BNYLNqXGQEwMnRg7fDagTAw8toAxFb5z9bz2ssmBL2v0oQU3SRJP2/4HnGaF8t+L/MsOmuXwH9v8G7XDMS/uk/MK8k+3qTxT/J7AYcBLL0v10SbAguWPq/qJeLIBnP9b8ePBwR6cj3vzHRwU3KKvi/QEYAMoNFAcDsbn5aKhkDwFFCgLbipPa/iRMshstP97+VF38Bq0ENwA==",
                    "dtype": "f8"
                  },
                  "xaxis": "x",
                  "y": {
                    "bdata": "339sro8SBUAHHSf+i6AAQMmpqsKo4ue/QoI/sina8r8dtD1mJbMFwB3bH2G4KPu/pw6QYzOZ+7+asUBtFQ4CwFwDA+nXTQlAqZ3f/xdHwT8wqe03r9TjP4AnCAx9qOI/RE2PPcnn9D+r901kiTv0P8QkC7Ue2/A/OTNGIBhW6z9TWnvuUkTcvwbDdM9bev2/JIRWK+z8DsCnzkyFRVMUwB8zKFWrRQPAbtx9xzOJ2b/now6TXID7v6ACm8dCrfO/X4S2IAl78r/Pf/4yfOD5vzhfZEbdjAjAMzNAZz1jAMDIs8BLt17ov81phSE5b/c/wVe6dcBm9T/v6yfS5ff1P7J50D+ekt6/pqqgb9Bn2j800VMP9pcdwIys5Kl/SBjAGf1L/XqgA8AChIq+5FPqv/VokwItqPy/NyfByP7TF8DMyxK/wEsTwBERVBXZIhfAVyW/YIiCF8CyAbhhlSkTQKIFLQfe/fm/yPEd4WUqEsBWZlomxdARwFFS5NGtmP+/pJEqUfTzqL8oN9mPyyW7v16iS1QYI1A/fdMCpL9Ivr+FEK8u5SLjP66amnagHdO/WxAx2zZY878zmq+FllXxvxvaiatXUhDAPuyxDBmaFcC5GQbWRZQVwObmNzA65hXAWEljZE2pFsBRCO9p4mQYwJh1VZk1NRfA6AMPWoAsFcB0jzge4F0RwNmZpxHU0/K/UZTG5SZ49L+F7edlRDn8vzHA2LeC0Pm/L52u26lQFsC1gfYiSvYSwI8DbLYDbAHAd6cILjsmAMDLjn7PDjwAwC/Aa+wIx/O/kiGAZzPB/b8LrEdYkx8AwD7yl2oBZ/O/Xk3z77xCB8B9/izWf8wEwJwQ6urSg/W/OeSadCPe9b+fDS2vC1UBwA==",
                    "dtype": "f8"
                  },
                  "yaxis": "y"
                },
                {
                  "hovertemplate": "Artist Name=john_legend<br>Component 1=%{x}<br>Component 2=%{y}<extra></extra>",
                  "legendgroup": "john_legend",
                  "marker": {
                    "color": "#FECB52",
                    "symbol": "circle"
                  },
                  "mode": "markers",
                  "name": "john_legend",
                  "showlegend": true,
                  "type": "scattergl",
                  "x": {
                    "bdata": "fpNZWeW8F0D1Xb/NUKUPQP9pKG79CfI/y6E0YpkP7b+hGAYVRXq2vypk6SEyZeI/1ktuAcGh/D9upYNitQgNQJCMTkCe2P0/dhfEQN8r+7+Al5MA6p3Rv1GzKIWXtvm/eZjHnD+3AsAqiEjVQc4IwIZqW7dSFQNAGUwXP5Wn/T9CoWdpEIX1P+LFd1CmLPc/hUebowVG7D9SEc2HK0/sP3CrZKCpXei/2qeRzUjJGkDFc/Km6wQAwHveiuVWHMQ/xpfu+k9iAMC7ejjym0jtv6VtF+Ik/Pk/txtrzyraA0B80w9Y/LoNQJ0FpCaBEwVALxV5IMoiD0B+4qoPY5gFQEgsOQj/AOg//40Nq24onb+KZtPAQQPRvyHgwZUT2ANAGKUWw1BkAUBVRMYug6LrP0Ge/FEFKf2/y5Kp/A+E5j8f1d9+Wu37v1xAPLKGbqE/7x2HFwrv7b9YgyfcFxnWv8hBsbixfgxAa2JOt2osA0CKoLgr3vUDQC/57AkkAxFAq2gT8W0vA0BEhMoTl38HQH7qeMAiBAVAUpaVyND4EEA9Cswk/iEQQGXGfSNcM/E/",
                    "dtype": "f8"
                  },
                  "xaxis": "x",
                  "y": {
                    "bdata": "NkmAmUjDA8CaKyAPcFTDv6cH+33LdO4/DhCmFQb7xj/XxjXawMHzPzPiZwxA7/E/z2UeRPZPyT/+wD2I4W8FwEcaSkhpIfi/XFepImVuAkDf6/vMzQ0QQI35fxUiIgBASP9c3GWmDEBcrUey6/oSQJdZNQ6BtQDAjacv4IhPC0ALuRoJvmIKQHcVP+qADgRAObFdepAhCEDmDjZtJ0sDQBezgc1KDPs/M55rtdyl8L++I3S/qikNQMdSaoMIBw1AZtx6Ce+CDUAwnDn6iUYEQLlLGK4/Nfc/rmSx1LtKEsBSIUhk7QQFwD6PwgO2WgbAWVnvPUevCMASIIbZbloCwKKlcBzjqwrAipfjlqDjBsC6LwWL/zf0vxRI93CqhQTA4qfCzto03D/49YkmvQkJQD3PXMouRAZAbdIsQ0z6CkABHQM6yUIGQK3bmpRRsABAZH7lPGU5BUBY/MecwIb/P8vp/LQOLxfAPoY2KWXKE8DaY5jSZrkQwH1/jlXCCBHAcaAVes0AEMDlF+48z/0OwHhj6YVhbA/AmcNlUbZlBcBF9q4vBzwTwB4qXGyA1hLA",
                    "dtype": "f8"
                  },
                  "yaxis": "y"
                },
                {
                  "hovertemplate": "Artist Name=maggie_rogers<br>Component 1=%{x}<br>Component 2=%{y}<extra></extra>",
                  "legendgroup": "maggie_rogers",
                  "marker": {
                    "color": "#636efa",
                    "symbol": "circle"
                  },
                  "mode": "markers",
                  "name": "maggie_rogers",
                  "showlegend": true,
                  "type": "scattergl",
                  "x": {
                    "bdata": "N6Wfz/VGFUBKPzD9yeXcv4ZQns9R9Xs/6bUMxD6m2L8JJ+AGlpbovwIBx/Ye9vC/cW1zGrn5+7+k1FY+AeMgQEc+bWuVhgxA055cK/6gYj+pdMkCfa8QQIWjgNOAANC/B22Ub+6A9z91UmoeJa7yv9x8OkHlyQRAOibMO0grC0DfVu4HBU8JQGYX2HGSjghA21o0HC0rF0Axej614zsOQANXU8lL2BFA5W53njDOEECnBr4HVMsVQI3UF5nvDRNAjRbJAbwICkDDiL55Ee7Iv0JUEMfG3/0/Xvk+Iiv6BkBEUyMqaosIQO2rbKzmhfS/ELeayyGjKED+9e6qv4kLQKAo+qd/J9M/OSx0ax3I678POMvIZlvZP0ayhXTamvO/qY1h/LumBkCTcivp3K7/vx/+OjQldRHA9FzGjIbQBECf85/5lYMZQKA50TMS4v4/eXZKrPfY3D9hbcrgwp0AQGnEK2LTBPK/m9TorqtG8z/9ff/YlNQGwP1ukFav5RdA2S0KLlukH0AlPj8RvfL8P2fxJFE+BRBASnpqTF33B0AlCs8hZ2/1v39P79m2zPm/dEA30EBrFECS9yQE4mq2PyGZXSxCqv+/AKyjX7K3+7/w5Ev7ZzH+v9U2vk9Yevq/3UoVz0JiD8BbErNaADMfQFGJjyatgfo/f+cxEBLhCUD1dMNE444WQM/UE7MBgPe/GY+Va9ZA/D9fb2FSvsoDwA==",
                    "dtype": "f8"
                  },
                  "xaxis": "x",
                  "y": {
                    "bdata": "D7ZxuMYzzj85Ty4VmZ/7P2uVTV1KSPA/wXYchZT19D/AYwQwldb1PzcI7Yb8POU/296PjfvF5D/XQuH/p2O1v8YoUdbT3fA/lVTLaRAR+D8CcS9KoHHlP1k2cdYv9Pk/k0S3Mgo73j98oAZVVQz2P24j4utJgArAjwnsA/jLDMBLELow3fIHwA9anXYspgbAciS5qdTVA8BfpfE9H4MFwHAP4tgjNw7A2zCBgoM6C8CcQAfwPUvuvw18o3TOwvu/xqLDr9iZA8D5DhoG6Ybsv8kChuGIMPu/qN2p2M+PGsCAYxLuDknwv8YA7Ih4Uu0/YZ6VY6oJFMB8vafm8ZvKP1M5OreECOQ/Q8/kqQ3I5D/WHOQP4urwP5aWctnVDdU/877y06Sv9L/Py1NOPGm9P1QmNhrWuvA/13UWMhcxCsCaQDiZooUCQL4vPTHMO9g/IYEnt3qu+D/PXL0YMwT4P8C70e9XkwFAlKjK4DlS/r80BsnWHZ4BQGoGUJ7Q4Oe/W7a+htwyD8D7IPbG1a4FwEAWQwW/fMO/zFCCI1dG4b8VqrV/P1rfvyYylgVD4Mq/7twbe9LQE8DeaK8bpgj1v7iG2DwL3fE/KoOzMNXU8z91m7hL3VzpPwUBYil2lv0/uz+QMjnt3j8GSHC/32MBwKVolEB8isw/NN9uOyiOzj90aV/YpKvgv33rns3xLvM/pEkw7www97/SK/KZlX/xPw==",
                    "dtype": "f8"
                  },
                  "yaxis": "y"
                },
                {
                  "hovertemplate": "Artist Name=andrea_bocelli<br>Component 1=%{x}<br>Component 2=%{y}<extra></extra>",
                  "legendgroup": "andrea_bocelli",
                  "marker": {
                    "color": "#EF553B",
                    "symbol": "circle"
                  },
                  "mode": "markers",
                  "name": "andrea_bocelli",
                  "showlegend": true,
                  "type": "scattergl",
                  "x": {
                    "bdata": "AhnvFt2lE0CKVgD/60kWQPyk8cuu//s/fm6P4FSYCECzMDkstS7pP0NzQhn/QwNA0QfgJgGNEkClhmmXk9r8Pwa6dj07udE/YrB6gTCQ2D8tmwWRq4zKv8HuMMAmt+M/OR0mzA3I0z+RIVo8LmrNPyvdLjA9MAZAsNt94nlEBUAuuLNi/lXsP9nRICNh08A/8WDjLpEV5D8KtrEJDwnqPyu9koeY4wBAtfWLl9qi+D95e9rPfcO6v6Gnt1GIQv0/2MCHs+3rxj/M0s7vQXGzv9Xtu0hIMsK/k7FLbc6MBkAVx7wGvYMKQItvJ8KuSAxAyTInPLof4781hG5sb5UIQIyNZmtmYBRAezuFpo386r9sKqlvDQH7v4lrtl2ztfq/4qzvdhNFDUDOcG9Ec/YFQI9hXZ4soA1A7wj5BbOC3T8RujflSLcTQAzITxcfnfC/GM+AzU81xT9mGkscpgYQQDGeQ8hRHfS/pMedAxut7L/NSoL4CkUBQAKi5vtSUANArhyyzFQ95b+1seVFkJT3P7Qkvw0MSfS/gAdYdkW55j8=",
                    "dtype": "f8"
                  },
                  "xaxis": "x",
                  "y": {
                    "bdata": "GAUWVV08/b8NYSiyc831v2AtZ69tntm/2S45MACn1r+5tLXfsTPJv/kQNxITW/a/B84iPslV4r/HK13DF0vfv54LCKXqFuu/km+0k0Bc379ZBmddSprwvzZ5dETc09K/JWtAaiH75r82Jo4rYTXWv+4dmYQvohHA+NKPWo6p879KQTqlGJXXv+EnyJPWZQXADx8vSRM237++DditreLlv3YI8cFum++/T+WDfaP95L9HYlV/ZRL0v3He16FX78m/oRMEchp827/5cfZ/g4Dwv0GvEan4rPE/hGY4CMBW8D8LE3QBexcTwEn7S07yVADAWm14ctt2DcAxsWt1GsH3v4Yt/4ycNfy/SEqDFhj/+r8BsjaojO/jv9JoW89l7PK/Vb4n8OL9EsACaBO9XMUTwH0Oxj73bQ/AuAKJp4SR978nU2TukVT/v3yP6fnWLNq/PZtPSZzg5L9EOS5z+0b6v/qWhXp5RxrAv//8cgdoFsBzDqEte1MSwBhZTbpyQhHAl3RKyWQfFsB+xfK+ouEOwP+jvnIi8QfAKy59wuwDCMA=",
                    "dtype": "f8"
                  },
                  "yaxis": "y"
                },
                {
                  "hovertemplate": "Artist Name=adele<br>Component 1=%{x}<br>Component 2=%{y}<extra></extra>",
                  "legendgroup": "adele",
                  "marker": {
                    "color": "#00cc96",
                    "symbol": "circle"
                  },
                  "mode": "markers",
                  "name": "adele",
                  "showlegend": true,
                  "type": "scattergl",
                  "x": {
                    "bdata": "iDql4JCjEcC+SLzt0UMMwEOg84dgbArA4aj4MRZkC0DYbyVaktIEQBMXbfOFj+c/8NUgJPh46D+kALbqu1/kPyh4np2Q6dy/+7AVNOF74z/z9sda8VruPwUZg1TOJQRA2sFoIB2R8L9csjaEuJ0HwAix8ARIQAbAdreenxmeEMAJ2Jtwah0QwMiWn2WJURHAL2rzbbdeA8DLH1yIC+TuP58WsxcwOAZAWY7c1K3+5T+JGnPOzrnyPzaJLiIzh/w/NmS31HUP8T9j/904R+zhP7uyDU4PPvk/aKktfzzIBkAfRexwP1UKQBNW3IhA3ei//LkpZ+/p+r8PTlTWcRL/vz7P0djnJgjAIDBFTpfYwL+YjP+cRBgJwG6qbWAXDQBAH8DX9U2RBEBvn1FLlTj/Pw4mgvxu//4/z9rlp/3E5z9vZOd+R/7cPzgkMlWwONO/hHP8Hk7wA0Cf0Wp0gtcFwEyVUQjBefs/w0DCdV949j8oBO5cWtXxP4a+oCB9QwNAFQ6AFr/99j9BFqh7xAvzP7KVgquT2wRAS7HU8VYEA0A7Kh2mdRICQMi3JRaFiQRA6gj1Ex68BECbKm3TuvHUv0KrKnf7p/Y/x1g7juHToD8CA1X6otbwvxPbNaGP5QXAg2d54PosAMCkrJJgZx79v2f3eDfpnwTAK35TkXjs+L8WrYG2mnsUQKDWmLHgLQpAcUdSHgJEBUBGAyBq4DP1v9IKx8lomOo/Wiy4Ga4Q6T8cmM+Xo+EDwKhbnF04YQzA3ShdlWT/C8CVGGO/8y74vw==",
                    "dtype": "f8"
                  },
                  "xaxis": "x",
                  "y": {
                    "bdata": "CGWZjnXF1j931sESMk0EQBhtkj7X/ApAa0gOh4p27b9Ss6EO4m7fvwaQWjWrEpq//zA/tziqvT8o7/v6CmzhPzwv5dQDYOa/GPN3lxQ85T/0D5lELnMCwGTpdMUKVuK/mN/wfqHT+D86QkIXNccCQDo6H33R1gJAOnabMd2eBkAD8MwKExEGQKTbm2u48wdA6hCNe2s1B0Bbb65yRz4SwJ4o69ZoKwPAfPXMBtJNAcDtZ/Td4XYTwCcbvr47lwHAu4HmDpSF+L8YP+Gfj8n8v02b2q9NHvK/teoN5dMmA8BFWgL5IijvP+tdrCA3Ifs/jhvTz2zW9D/hAEGF2f7yP6aY9pmsDfg/lSYpXuUM4z+QkSWTi33wPw/T4q6/twvAsmd0zUh1AcByFhuJZ/Tuv8GjdE1aFc0/3+I+4THH8z/G9HRRBRPhP4Cp0GzWKb8/c70z4Wam5L9+H8IE3xj2P8JDC/qmJBbA/YJ8wHLEEMAxq4DhJK0JwC1QlK5eMwfAeDy7v24VB8DqksI/mDsEwNSKhGE9IQTA7UyMRVrf/L8wbxyeOBn3v3goODH/gRDAak/oylf7A8BJ7D9YflTuv7arSl/EpPC/yS3MdsZACsDcKV/8RP3Xv5f+AQeRpKq/53kcBlDB578pgTmKMKm2vy8apTGKb86/e/diZo1dlD+Q6YgJPO30v5NaJKpjzP+/lTeu08FJ27+oTzxoR3juP8Z5BlZMrPC/wScpppuUxT+gXpBe+TjzP9ZKrZhM2OY/Me2Eph+c5T+Wk5G9u+jiPw==",
                    "dtype": "f8"
                  },
                  "yaxis": "y"
                },
                {
                  "hovertemplate": "Artist Name=taylor_swift<br>Component 1=%{x}<br>Component 2=%{y}<extra></extra>",
                  "legendgroup": "taylor_swift",
                  "marker": {
                    "color": "#ab63fa",
                    "symbol": "circle"
                  },
                  "mode": "markers",
                  "name": "taylor_swift",
                  "showlegend": true,
                  "type": "scattergl",
                  "x": {
                    "bdata": "CpQmWwNAFECYmUp3P0QWQCFeAj8Rug1A9Kppw6OYG0AkJ1sW/9IQQELlivbaCPc/lt5NqqjR8T8gcSifQKoXQFT+Jqu5LAJAUPKLAMKKDEB11EFPoG3Qv1q/J5oDVQvAC4wGe989FUD92yidd0gGwIpe90+E+d2/POFc86Yhpb/0Qbbvw3MmQF6tCcotgBZAobQnrXGoCECXBqIILUQbQA+2ppuFges/qvyKNI/Z+b9/iPAWk0gVQOvjzlKT1fQ/O5JcZ12Bpr/WcMeTkD4EwHgDPDerTNs/IFX5ymq0B8Co7e1NHhbfP6Y13aLepAjAGgxhBK2ED8DfzfoEt67Cv6HSe5/h1wtAZ9T34Et89T9oUztIP9PWP5u/MY/jr+a/zs49uzFntL+75hD/pW/mv8B4wOHqFgDAyKpaYSA20b+v+dd0ZNbwvwjsi1wnQiNAS0w8rIVMEkDJ4HMaTUD2P26BUN9aphBAAP3ZKQTx1j+6E/9rIlkGQIXQBahKJBNAG0p68ghkCECD1HOtsiwWQGmXeJ93dcO/MxAAqPat2j+ZTYJU1SSyP6NRrFdMOPg/QPvGHJYo0b9NanG8v/DmP4y3K1E7ywjAu4oCR5fqAEBeNiMY2fDZv+iGCAADxwhAU45Io18n6T+LL0ViaaLsv5+Rr+5DRPA/VnEzm3xaDsAhTa0juzcRQEDauuDjwQLAWTMZRLkbGEA4sgZeBO30PyW/oonGAgFAd0A5dwdI/T+bnBMi8jsEQD/aG6+5Vu6/7FoMswN5AUDXvr97bb0UQLeozhjyePS/1A82jHKk7L+GoNoS56/hvwYmeFOTCQ1AYvlSfDpiDsA8aBSaJ6PRvxFyiJ4YZf6/sDDvLNps7b9COSpuqBUBwG0WUT92GOa/tMSqg7pNHEAtkVMf43sgQOXplZav/iBA+GZkbOd1CUBZwA/EFrDmv5d9PfqTkNo/Efm/CGAkDUA2WJt1pW7yvzYvYj6/vQHAqSThNMEzAcBeafQ0Y1ATwNScqfajLhDANeRj7lVjxr9w0TWllfnMvwIIeSn4OhPAexygpz3VC0A=",
                    "dtype": "f8"
                  },
                  "xaxis": "x",
                  "y": {
                    "bdata": "sX/DemzcE8BBw0MSBBD2v9C48uBrM/u/kUVIh1n6+r+sjC9FNhngv9ID4VDNROY/GKqIcSqsAMAYFPoqBQIYwK9UWo1QKgHAGiY8nbU867+g8jGJjSTpv2JJZ8vHS9O/KX30JBbfE8BHOtZYMULfvygQQBilcArAXN58UcKlGsDbJl7xSG4iwCC757lpmxHACU/da1pcEMA+LutNNRwQwAMBGhZacgLAh5z2JLm43L++/UsL1GL6v+D3ZqEiWAbA1NooeFRM0b9dcZSceg3BP3kkgAFCwvA/VxVv0eIUAUDg894Fw1HhP+Ig/m2PfwRAyyvSznqaAkC6gIs+4y/4PwsHUP8roPq/NtNwPy8/5L9KLaCkYvv0vzV7jiPzovm/cWcJSjM6879VejjYU4Xsv/zkKbDMyea/tLF0cOzlBsDHCHT5UcwQwC2GPJO0Bug/N+4tLu81AkDNbEObDccKQL+grU/54wBAg5WRQBEHC0CkwwjYqA0HQKZeBYoYzwFA4CY0U4VXBUAc7Gs34/QGwA2xcEda0+S/k3YRGgd65T80IJ5Jh/2ZP5JT+F+IC94/e2Nn5wpUzj8JCqxO3Ceiv+EjzGu0TN0/Ex7fV1D0CEDzTF2SQN8KQJ3lDfolGgRACLX9oqFKCEDBrPCWAqoNQPu28S0kAw5AbkRx+7RFEEARoG2J4cj4P5rUzfhRkQVAPkqPdLFZAkDZzCXfqFgKQDUleu5/8QZA+AOod8G8CEAEdt9aHyL/P6SXa+ONmwVAU2kSmUwoCUAUIYPiP6j1PzRGljUNpvg/br0x77Yu8z+rDYvVJ3rzP9wH/TtZEey/C0ezj1qbAkDywOk+nBryPwXwlo60dPU/+rwOXtG46j9Lxr79oKjxP6RBrnf7Jdc/whcehftA/j8X+AwxcHICQOI1dVhz4/c/2M896t2Y1z+YK3NmW5jqPx7G1pX8UPa/q5BgTyG0+D/l7J2jfmUCQNIJ2v8YAAdABrD0ro/1BkD4a26M2H4QQAhitzCMIBFAAt89iGgF9D+34pBt5QoEQOVTDz28ihFAWkQoscWWpj8=",
                    "dtype": "f8"
                  },
                  "yaxis": "y"
                }
              ],
              "layout": {
                "legend": {
                  "title": {
                    "text": "Artist Name"
                  },
                  "tracegroupgap": 0
                },
                "template": {
                  "data": {
                    "bar": [
                      {
                        "error_x": {
                          "color": "#2a3f5f"
                        },
                        "error_y": {
                          "color": "#2a3f5f"
                        },
                        "marker": {
                          "line": {
                            "color": "#E5ECF6",
                            "width": 0.5
                          },
                          "pattern": {
                            "fillmode": "overlay",
                            "size": 10,
                            "solidity": 0.2
                          }
                        },
                        "type": "bar"
                      }
                    ],
                    "barpolar": [
                      {
                        "marker": {
                          "line": {
                            "color": "#E5ECF6",
                            "width": 0.5
                          },
                          "pattern": {
                            "fillmode": "overlay",
                            "size": 10,
                            "solidity": 0.2
                          }
                        },
                        "type": "barpolar"
                      }
                    ],
                    "carpet": [
                      {
                        "aaxis": {
                          "endlinecolor": "#2a3f5f",
                          "gridcolor": "white",
                          "linecolor": "white",
                          "minorgridcolor": "white",
                          "startlinecolor": "#2a3f5f"
                        },
                        "baxis": {
                          "endlinecolor": "#2a3f5f",
                          "gridcolor": "white",
                          "linecolor": "white",
                          "minorgridcolor": "white",
                          "startlinecolor": "#2a3f5f"
                        },
                        "type": "carpet"
                      }
                    ],
                    "choropleth": [
                      {
                        "colorbar": {
                          "outlinewidth": 0,
                          "ticks": ""
                        },
                        "type": "choropleth"
                      }
                    ],
                    "contour": [
                      {
                        "colorbar": {
                          "outlinewidth": 0,
                          "ticks": ""
                        },
                        "colorscale": [
                          [
                            0,
                            "#0d0887"
                          ],
                          [
                            0.1111111111111111,
                            "#46039f"
                          ],
                          [
                            0.2222222222222222,
                            "#7201a8"
                          ],
                          [
                            0.3333333333333333,
                            "#9c179e"
                          ],
                          [
                            0.4444444444444444,
                            "#bd3786"
                          ],
                          [
                            0.5555555555555556,
                            "#d8576b"
                          ],
                          [
                            0.6666666666666666,
                            "#ed7953"
                          ],
                          [
                            0.7777777777777778,
                            "#fb9f3a"
                          ],
                          [
                            0.8888888888888888,
                            "#fdca26"
                          ],
                          [
                            1,
                            "#f0f921"
                          ]
                        ],
                        "type": "contour"
                      }
                    ],
                    "contourcarpet": [
                      {
                        "colorbar": {
                          "outlinewidth": 0,
                          "ticks": ""
                        },
                        "type": "contourcarpet"
                      }
                    ],
                    "heatmap": [
                      {
                        "colorbar": {
                          "outlinewidth": 0,
                          "ticks": ""
                        },
                        "colorscale": [
                          [
                            0,
                            "#0d0887"
                          ],
                          [
                            0.1111111111111111,
                            "#46039f"
                          ],
                          [
                            0.2222222222222222,
                            "#7201a8"
                          ],
                          [
                            0.3333333333333333,
                            "#9c179e"
                          ],
                          [
                            0.4444444444444444,
                            "#bd3786"
                          ],
                          [
                            0.5555555555555556,
                            "#d8576b"
                          ],
                          [
                            0.6666666666666666,
                            "#ed7953"
                          ],
                          [
                            0.7777777777777778,
                            "#fb9f3a"
                          ],
                          [
                            0.8888888888888888,
                            "#fdca26"
                          ],
                          [
                            1,
                            "#f0f921"
                          ]
                        ],
                        "type": "heatmap"
                      }
                    ],
                    "histogram": [
                      {
                        "marker": {
                          "pattern": {
                            "fillmode": "overlay",
                            "size": 10,
                            "solidity": 0.2
                          }
                        },
                        "type": "histogram"
                      }
                    ],
                    "histogram2d": [
                      {
                        "colorbar": {
                          "outlinewidth": 0,
                          "ticks": ""
                        },
                        "colorscale": [
                          [
                            0,
                            "#0d0887"
                          ],
                          [
                            0.1111111111111111,
                            "#46039f"
                          ],
                          [
                            0.2222222222222222,
                            "#7201a8"
                          ],
                          [
                            0.3333333333333333,
                            "#9c179e"
                          ],
                          [
                            0.4444444444444444,
                            "#bd3786"
                          ],
                          [
                            0.5555555555555556,
                            "#d8576b"
                          ],
                          [
                            0.6666666666666666,
                            "#ed7953"
                          ],
                          [
                            0.7777777777777778,
                            "#fb9f3a"
                          ],
                          [
                            0.8888888888888888,
                            "#fdca26"
                          ],
                          [
                            1,
                            "#f0f921"
                          ]
                        ],
                        "type": "histogram2d"
                      }
                    ],
                    "histogram2dcontour": [
                      {
                        "colorbar": {
                          "outlinewidth": 0,
                          "ticks": ""
                        },
                        "colorscale": [
                          [
                            0,
                            "#0d0887"
                          ],
                          [
                            0.1111111111111111,
                            "#46039f"
                          ],
                          [
                            0.2222222222222222,
                            "#7201a8"
                          ],
                          [
                            0.3333333333333333,
                            "#9c179e"
                          ],
                          [
                            0.4444444444444444,
                            "#bd3786"
                          ],
                          [
                            0.5555555555555556,
                            "#d8576b"
                          ],
                          [
                            0.6666666666666666,
                            "#ed7953"
                          ],
                          [
                            0.7777777777777778,
                            "#fb9f3a"
                          ],
                          [
                            0.8888888888888888,
                            "#fdca26"
                          ],
                          [
                            1,
                            "#f0f921"
                          ]
                        ],
                        "type": "histogram2dcontour"
                      }
                    ],
                    "mesh3d": [
                      {
                        "colorbar": {
                          "outlinewidth": 0,
                          "ticks": ""
                        },
                        "type": "mesh3d"
                      }
                    ],
                    "parcoords": [
                      {
                        "line": {
                          "colorbar": {
                            "outlinewidth": 0,
                            "ticks": ""
                          }
                        },
                        "type": "parcoords"
                      }
                    ],
                    "pie": [
                      {
                        "automargin": true,
                        "type": "pie"
                      }
                    ],
                    "scatter": [
                      {
                        "fillpattern": {
                          "fillmode": "overlay",
                          "size": 10,
                          "solidity": 0.2
                        },
                        "type": "scatter"
                      }
                    ],
                    "scatter3d": [
                      {
                        "line": {
                          "colorbar": {
                            "outlinewidth": 0,
                            "ticks": ""
                          }
                        },
                        "marker": {
                          "colorbar": {
                            "outlinewidth": 0,
                            "ticks": ""
                          }
                        },
                        "type": "scatter3d"
                      }
                    ],
                    "scattercarpet": [
                      {
                        "marker": {
                          "colorbar": {
                            "outlinewidth": 0,
                            "ticks": ""
                          }
                        },
                        "type": "scattercarpet"
                      }
                    ],
                    "scattergeo": [
                      {
                        "marker": {
                          "colorbar": {
                            "outlinewidth": 0,
                            "ticks": ""
                          }
                        },
                        "type": "scattergeo"
                      }
                    ],
                    "scattergl": [
                      {
                        "marker": {
                          "colorbar": {
                            "outlinewidth": 0,
                            "ticks": ""
                          }
                        },
                        "type": "scattergl"
                      }
                    ],
                    "scattermap": [
                      {
                        "marker": {
                          "colorbar": {
                            "outlinewidth": 0,
                            "ticks": ""
                          }
                        },
                        "type": "scattermap"
                      }
                    ],
                    "scattermapbox": [
                      {
                        "marker": {
                          "colorbar": {
                            "outlinewidth": 0,
                            "ticks": ""
                          }
                        },
                        "type": "scattermapbox"
                      }
                    ],
                    "scatterpolar": [
                      {
                        "marker": {
                          "colorbar": {
                            "outlinewidth": 0,
                            "ticks": ""
                          }
                        },
                        "type": "scatterpolar"
                      }
                    ],
                    "scatterpolargl": [
                      {
                        "marker": {
                          "colorbar": {
                            "outlinewidth": 0,
                            "ticks": ""
                          }
                        },
                        "type": "scatterpolargl"
                      }
                    ],
                    "scatterternary": [
                      {
                        "marker": {
                          "colorbar": {
                            "outlinewidth": 0,
                            "ticks": ""
                          }
                        },
                        "type": "scatterternary"
                      }
                    ],
                    "surface": [
                      {
                        "colorbar": {
                          "outlinewidth": 0,
                          "ticks": ""
                        },
                        "colorscale": [
                          [
                            0,
                            "#0d0887"
                          ],
                          [
                            0.1111111111111111,
                            "#46039f"
                          ],
                          [
                            0.2222222222222222,
                            "#7201a8"
                          ],
                          [
                            0.3333333333333333,
                            "#9c179e"
                          ],
                          [
                            0.4444444444444444,
                            "#bd3786"
                          ],
                          [
                            0.5555555555555556,
                            "#d8576b"
                          ],
                          [
                            0.6666666666666666,
                            "#ed7953"
                          ],
                          [
                            0.7777777777777778,
                            "#fb9f3a"
                          ],
                          [
                            0.8888888888888888,
                            "#fdca26"
                          ],
                          [
                            1,
                            "#f0f921"
                          ]
                        ],
                        "type": "surface"
                      }
                    ],
                    "table": [
                      {
                        "cells": {
                          "fill": {
                            "color": "#EBF0F8"
                          },
                          "line": {
                            "color": "white"
                          }
                        },
                        "header": {
                          "fill": {
                            "color": "#C8D4E3"
                          },
                          "line": {
                            "color": "white"
                          }
                        },
                        "type": "table"
                      }
                    ]
                  },
                  "layout": {
                    "annotationdefaults": {
                      "arrowcolor": "#2a3f5f",
                      "arrowhead": 0,
                      "arrowwidth": 1
                    },
                    "autotypenumbers": "strict",
                    "coloraxis": {
                      "colorbar": {
                        "outlinewidth": 0,
                        "ticks": ""
                      }
                    },
                    "colorscale": {
                      "diverging": [
                        [
                          0,
                          "#8e0152"
                        ],
                        [
                          0.1,
                          "#c51b7d"
                        ],
                        [
                          0.2,
                          "#de77ae"
                        ],
                        [
                          0.3,
                          "#f1b6da"
                        ],
                        [
                          0.4,
                          "#fde0ef"
                        ],
                        [
                          0.5,
                          "#f7f7f7"
                        ],
                        [
                          0.6,
                          "#e6f5d0"
                        ],
                        [
                          0.7,
                          "#b8e186"
                        ],
                        [
                          0.8,
                          "#7fbc41"
                        ],
                        [
                          0.9,
                          "#4d9221"
                        ],
                        [
                          1,
                          "#276419"
                        ]
                      ],
                      "sequential": [
                        [
                          0,
                          "#0d0887"
                        ],
                        [
                          0.1111111111111111,
                          "#46039f"
                        ],
                        [
                          0.2222222222222222,
                          "#7201a8"
                        ],
                        [
                          0.3333333333333333,
                          "#9c179e"
                        ],
                        [
                          0.4444444444444444,
                          "#bd3786"
                        ],
                        [
                          0.5555555555555556,
                          "#d8576b"
                        ],
                        [
                          0.6666666666666666,
                          "#ed7953"
                        ],
                        [
                          0.7777777777777778,
                          "#fb9f3a"
                        ],
                        [
                          0.8888888888888888,
                          "#fdca26"
                        ],
                        [
                          1,
                          "#f0f921"
                        ]
                      ],
                      "sequentialminus": [
                        [
                          0,
                          "#0d0887"
                        ],
                        [
                          0.1111111111111111,
                          "#46039f"
                        ],
                        [
                          0.2222222222222222,
                          "#7201a8"
                        ],
                        [
                          0.3333333333333333,
                          "#9c179e"
                        ],
                        [
                          0.4444444444444444,
                          "#bd3786"
                        ],
                        [
                          0.5555555555555556,
                          "#d8576b"
                        ],
                        [
                          0.6666666666666666,
                          "#ed7953"
                        ],
                        [
                          0.7777777777777778,
                          "#fb9f3a"
                        ],
                        [
                          0.8888888888888888,
                          "#fdca26"
                        ],
                        [
                          1,
                          "#f0f921"
                        ]
                      ]
                    },
                    "colorway": [
                      "#636efa",
                      "#EF553B",
                      "#00cc96",
                      "#ab63fa",
                      "#FFA15A",
                      "#19d3f3",
                      "#FF6692",
                      "#B6E880",
                      "#FF97FF",
                      "#FECB52"
                    ],
                    "font": {
                      "color": "#2a3f5f"
                    },
                    "geo": {
                      "bgcolor": "white",
                      "lakecolor": "white",
                      "landcolor": "#E5ECF6",
                      "showlakes": true,
                      "showland": true,
                      "subunitcolor": "white"
                    },
                    "hoverlabel": {
                      "align": "left"
                    },
                    "hovermode": "closest",
                    "mapbox": {
                      "style": "light"
                    },
                    "paper_bgcolor": "white",
                    "plot_bgcolor": "#E5ECF6",
                    "polar": {
                      "angularaxis": {
                        "gridcolor": "white",
                        "linecolor": "white",
                        "ticks": ""
                      },
                      "bgcolor": "#E5ECF6",
                      "radialaxis": {
                        "gridcolor": "white",
                        "linecolor": "white",
                        "ticks": ""
                      }
                    },
                    "scene": {
                      "xaxis": {
                        "backgroundcolor": "#E5ECF6",
                        "gridcolor": "white",
                        "gridwidth": 2,
                        "linecolor": "white",
                        "showbackground": true,
                        "ticks": "",
                        "zerolinecolor": "white"
                      },
                      "yaxis": {
                        "backgroundcolor": "#E5ECF6",
                        "gridcolor": "white",
                        "gridwidth": 2,
                        "linecolor": "white",
                        "showbackground": true,
                        "ticks": "",
                        "zerolinecolor": "white"
                      },
                      "zaxis": {
                        "backgroundcolor": "#E5ECF6",
                        "gridcolor": "white",
                        "gridwidth": 2,
                        "linecolor": "white",
                        "showbackground": true,
                        "ticks": "",
                        "zerolinecolor": "white"
                      }
                    },
                    "shapedefaults": {
                      "line": {
                        "color": "#2a3f5f"
                      }
                    },
                    "ternary": {
                      "aaxis": {
                        "gridcolor": "white",
                        "linecolor": "white",
                        "ticks": ""
                      },
                      "baxis": {
                        "gridcolor": "white",
                        "linecolor": "white",
                        "ticks": ""
                      },
                      "bgcolor": "#E5ECF6",
                      "caxis": {
                        "gridcolor": "white",
                        "linecolor": "white",
                        "ticks": ""
                      }
                    },
                    "title": {
                      "x": 0.05
                    },
                    "xaxis": {
                      "automargin": true,
                      "gridcolor": "white",
                      "linecolor": "white",
                      "ticks": "",
                      "title": {
                        "standoff": 15
                      },
                      "zerolinecolor": "white",
                      "zerolinewidth": 2
                    },
                    "yaxis": {
                      "automargin": true,
                      "gridcolor": "white",
                      "linecolor": "white",
                      "ticks": "",
                      "title": {
                        "standoff": 15
                      },
                      "zerolinecolor": "white",
                      "zerolinewidth": 2
                    }
                  }
                },
                "title": {
                  "text": "PCA Embeddings of Audio Features"
                },
                "xaxis": {
                  "anchor": "y",
                  "domain": [
                    0,
                    1
                  ],
                  "title": {
                    "text": "Component 1"
                  }
                },
                "yaxis": {
                  "anchor": "x",
                  "domain": [
                    0,
                    1
                  ],
                  "title": {
                    "text": "Component 2"
                  }
                }
              }
            }
          },
          "metadata": {},
          "output_type": "display_data"
        }
      ],
      "source": [
        "# Plot the embeddings using a scatterplot, with \"component_1\" on the x axis and \"component_2\" on the y axis. Color on artist label.\n",
        "\n",
        "# Create the scatter plot using Plotly\n",
        "fig = px.scatter(pca_df, x='component_1', y='component_2', color=df['artist_name'],\n",
        "                 title=\"PCA Embeddings of Audio Features\",\n",
        "                 labels={'component_1': 'Component 1', 'component_2': 'Component 2', 'color': 'Artist Name'},\n",
        "                 color_continuous_scale='Set2')\n",
        "\n",
        "# Show the plot\n",
        "fig.show()"
      ]
    },
    {
      "cell_type": "markdown",
      "metadata": {
        "id": "-cexqEvcU8R-"
      },
      "source": [
        "> The plot for `Beethoven` appears clustered on the left side of component_1, contrasting with other artists such as `Andrea Bocelli, Maggie Rogers`, and `Adele`, whose points overlap significantly. This suggests a potential similarity in how their music is recommended or consumed. Notably, there are a few outliers, including `Ariana Grande`."
      ]
    },
    {
      "cell_type": "markdown",
      "metadata": {
        "id": "C-A4UdwFt_2v"
      },
      "source": [
        "### Artist Centroids Plot"
      ]
    },
    {
      "cell_type": "code",
      "execution_count": 33,
      "metadata": {
        "colab": {
          "base_uri": "https://localhost:8080/"
        },
        "collapsed": true,
        "id": "sdkdFKhdLYXs",
        "outputId": "ad9b1522-c72b-47c2-d974-e5695364e77c"
      },
      "outputs": [
        {
          "name": "stdout",
          "output_type": "stream",
          "text": [
            "                   component_1  component_2\n",
            "artist                                     \n",
            "ac_dc                -2.650474     2.703622\n",
            "adele                 0.101009    -0.642272\n",
            "alicia_keys           0.617628    -0.153177\n",
            "andrea_bocelli        1.372134    -2.115613\n",
            "ariana_grande         4.242824     1.510066\n",
            "bach                 -0.175216    -3.555729\n",
            "beethoven            -1.796875    -5.714091\n",
            "bruce_springsteen    -2.742395     0.874943\n",
            "chris_stapleton      -0.228719    -0.130422\n",
            "coldplay             -1.555954    -0.157235\n",
            "dr_dre                3.001062     3.247707\n",
            "frank_sinatra        -0.766613    -0.158465\n",
            "jason_aldean         -1.088423     0.222854\n",
            "jay_z                 0.511442     2.449474\n",
            "john_coltrane        -2.056012    -0.644847\n",
            "john_legend           1.112730    -0.185813\n",
            "john_mayer           -2.056997     0.109605\n",
            "led_zeppelin         -1.620247     0.212123\n",
            "maggie_rogers         1.752033    -0.453864\n",
            "miles_davis           0.635915    -0.380263\n",
            "pink_floyd           -1.135664    -1.885106\n",
            "rihanna               2.004803     1.099241\n",
            "taylor_swift          1.391802     0.442900\n",
            "tupac                 1.928975     2.970762\n"
          ]
        }
      ],
      "source": [
        "# E) Calculate the centroids for each artist. The centroid for a given artist is comprised of the \"component_1\" mean and the \"component_2\" mean for that artist.\n",
        "\n",
        "# Adding the 'artist' label to the pca_df\n",
        "pca_df['artist'] = y_train\n",
        "\n",
        "# Calculating the centroids for each artist\n",
        "centroids = pca_df.groupby('artist')[['component_1', 'component_2']].mean()\n",
        "\n",
        "# Print the centroids\n",
        "print(centroids)"
      ]
    },
    {
      "cell_type": "code",
      "execution_count": 34,
      "metadata": {
        "colab": {
          "base_uri": "https://localhost:8080/",
          "height": 542
        },
        "collapsed": true,
        "id": "GwAUa9LnXFw_",
        "outputId": "cbfa2a83-5c3a-4970-ee65-9023435f7d24"
      },
      "outputs": [
        {
          "data": {
            "application/vnd.plotly.v1+json": {
              "config": {
                "plotlyServerURL": "https://plot.ly"
              },
              "data": [
                {
                  "hovertemplate": "Artist Name=ac_dc<br>PCA Component 1=%{x}<br>PCA Component 2=%{y}<extra></extra>",
                  "legendgroup": "ac_dc",
                  "marker": {
                    "color": "#636efa",
                    "size": 24,
                    "symbol": "circle"
                  },
                  "mode": "markers",
                  "name": "ac_dc",
                  "orientation": "v",
                  "showlegend": true,
                  "type": "scatter",
                  "x": {
                    "bdata": "ZbtL5Ss0BcA=",
                    "dtype": "f8"
                  },
                  "xaxis": "x",
                  "y": {
                    "bdata": "9L66zgShBUA=",
                    "dtype": "f8"
                  },
                  "yaxis": "y"
                },
                {
                  "hovertemplate": "Artist Name=adele<br>PCA Component 1=%{x}<br>PCA Component 2=%{y}<extra></extra>",
                  "legendgroup": "adele",
                  "marker": {
                    "color": "#EF553B",
                    "size": 24,
                    "symbol": "circle"
                  },
                  "mode": "markers",
                  "name": "adele",
                  "orientation": "v",
                  "showlegend": true,
                  "type": "scatter",
                  "x": {
                    "bdata": "aqezpb7buT8=",
                    "dtype": "f8"
                  },
                  "xaxis": "x",
                  "y": {
                    "bdata": "yDFq632N5L8=",
                    "dtype": "f8"
                  },
                  "yaxis": "y"
                },
                {
                  "hovertemplate": "Artist Name=alicia_keys<br>PCA Component 1=%{x}<br>PCA Component 2=%{y}<extra></extra>",
                  "legendgroup": "alicia_keys",
                  "marker": {
                    "color": "#00cc96",
                    "size": 24,
                    "symbol": "circle"
                  },
                  "mode": "markers",
                  "name": "alicia_keys",
                  "orientation": "v",
                  "showlegend": true,
                  "type": "scatter",
                  "x": {
                    "bdata": "wOx1KZzD4z8=",
                    "dtype": "f8"
                  },
                  "xaxis": "x",
                  "y": {
                    "bdata": "QpgsSk2bw78=",
                    "dtype": "f8"
                  },
                  "yaxis": "y"
                },
                {
                  "hovertemplate": "Artist Name=andrea_bocelli<br>PCA Component 1=%{x}<br>PCA Component 2=%{y}<extra></extra>",
                  "legendgroup": "andrea_bocelli",
                  "marker": {
                    "color": "#ab63fa",
                    "size": 24,
                    "symbol": "circle"
                  },
                  "mode": "markers",
                  "name": "andrea_bocelli",
                  "orientation": "v",
                  "showlegend": true,
                  "type": "scatter",
                  "x": {
                    "bdata": "LYbgCkP09T8=",
                    "dtype": "f8"
                  },
                  "xaxis": "x",
                  "y": {
                    "bdata": "B7kgjMbsAMA=",
                    "dtype": "f8"
                  },
                  "yaxis": "y"
                },
                {
                  "hovertemplate": "Artist Name=ariana_grande<br>PCA Component 1=%{x}<br>PCA Component 2=%{y}<extra></extra>",
                  "legendgroup": "ariana_grande",
                  "marker": {
                    "color": "#FFA15A",
                    "size": 24,
                    "symbol": "circle"
                  },
                  "mode": "markers",
                  "name": "ariana_grande",
                  "orientation": "v",
                  "showlegend": true,
                  "type": "scatter",
                  "x": {
                    "bdata": "uyFLzab4EEA=",
                    "dtype": "f8"
                  },
                  "xaxis": "x",
                  "y": {
                    "bdata": "WvmqBDsp+D8=",
                    "dtype": "f8"
                  },
                  "yaxis": "y"
                },
                {
                  "hovertemplate": "Artist Name=bach<br>PCA Component 1=%{x}<br>PCA Component 2=%{y}<extra></extra>",
                  "legendgroup": "bach",
                  "marker": {
                    "color": "#19d3f3",
                    "size": 24,
                    "symbol": "circle"
                  },
                  "mode": "markers",
                  "name": "bach",
                  "orientation": "v",
                  "showlegend": true,
                  "type": "scatter",
                  "x": {
                    "bdata": "MFqqrndtxr8=",
                    "dtype": "f8"
                  },
                  "xaxis": "x",
                  "y": {
                    "bdata": "pC9i8yFyDMA=",
                    "dtype": "f8"
                  },
                  "yaxis": "y"
                },
                {
                  "hovertemplate": "Artist Name=beethoven<br>PCA Component 1=%{x}<br>PCA Component 2=%{y}<extra></extra>",
                  "legendgroup": "beethoven",
                  "marker": {
                    "color": "#FF6692",
                    "size": 24,
                    "symbol": "circle"
                  },
                  "mode": "markers",
                  "name": "beethoven",
                  "orientation": "v",
                  "showlegend": true,
                  "type": "scatter",
                  "x": {
                    "bdata": "Gj7zBADA/L8=",
                    "dtype": "f8"
                  },
                  "xaxis": "x",
                  "y": {
                    "bdata": "IGa6rzrbFsA=",
                    "dtype": "f8"
                  },
                  "yaxis": "y"
                },
                {
                  "hovertemplate": "Artist Name=bruce_springsteen<br>PCA Component 1=%{x}<br>PCA Component 2=%{y}<extra></extra>",
                  "legendgroup": "bruce_springsteen",
                  "marker": {
                    "color": "#B6E880",
                    "size": 24,
                    "symbol": "circle"
                  },
                  "mode": "markers",
                  "name": "bruce_springsteen",
                  "orientation": "v",
                  "showlegend": true,
                  "type": "scatter",
                  "x": {
                    "bdata": "wFi10mzwBcA=",
                    "dtype": "f8"
                  },
                  "xaxis": "x",
                  "y": {
                    "bdata": "nmgnq4j/6z8=",
                    "dtype": "f8"
                  },
                  "yaxis": "y"
                },
                {
                  "hovertemplate": "Artist Name=chris_stapleton<br>PCA Component 1=%{x}<br>PCA Component 2=%{y}<extra></extra>",
                  "legendgroup": "chris_stapleton",
                  "marker": {
                    "color": "#FF97FF",
                    "size": 24,
                    "symbol": "circle"
                  },
                  "mode": "markers",
                  "name": "chris_stapleton",
                  "orientation": "v",
                  "showlegend": true,
                  "type": "scatter",
                  "x": {
                    "bdata": "zOLAOqtGzb8=",
                    "dtype": "f8"
                  },
                  "xaxis": "x",
                  "y": {
                    "bdata": "j2CPnaexwL8=",
                    "dtype": "f8"
                  },
                  "yaxis": "y"
                },
                {
                  "hovertemplate": "Artist Name=coldplay<br>PCA Component 1=%{x}<br>PCA Component 2=%{y}<extra></extra>",
                  "legendgroup": "coldplay",
                  "marker": {
                    "color": "#FECB52",
                    "size": 24,
                    "symbol": "circle"
                  },
                  "mode": "markers",
                  "name": "coldplay",
                  "orientation": "v",
                  "showlegend": true,
                  "type": "scatter",
                  "x": {
                    "bdata": "EuaG5i/l+L8=",
                    "dtype": "f8"
                  },
                  "xaxis": "x",
                  "y": {
                    "bdata": "PmVMqUkgxL8=",
                    "dtype": "f8"
                  },
                  "yaxis": "y"
                },
                {
                  "hovertemplate": "Artist Name=dr_dre<br>PCA Component 1=%{x}<br>PCA Component 2=%{y}<extra></extra>",
                  "legendgroup": "dr_dre",
                  "marker": {
                    "color": "#636efa",
                    "size": 24,
                    "symbol": "circle"
                  },
                  "mode": "markers",
                  "name": "dr_dre",
                  "orientation": "v",
                  "showlegend": true,
                  "type": "scatter",
                  "x": {
                    "bdata": "AKt/DS0CCEA=",
                    "dtype": "f8"
                  },
                  "xaxis": "x",
                  "y": {
                    "bdata": "rYmA9E37CUA=",
                    "dtype": "f8"
                  },
                  "yaxis": "y"
                },
                {
                  "hovertemplate": "Artist Name=frank_sinatra<br>PCA Component 1=%{x}<br>PCA Component 2=%{y}<extra></extra>",
                  "legendgroup": "frank_sinatra",
                  "marker": {
                    "color": "#EF553B",
                    "size": 24,
                    "symbol": "circle"
                  },
                  "mode": "markers",
                  "name": "frank_sinatra",
                  "orientation": "v",
                  "showlegend": true,
                  "type": "scatter",
                  "x": {
                    "bdata": "ngrH0xiI6L8=",
                    "dtype": "f8"
                  },
                  "xaxis": "x",
                  "y": {
                    "bdata": "EhEAf5hIxL8=",
                    "dtype": "f8"
                  },
                  "yaxis": "y"
                },
                {
                  "hovertemplate": "Artist Name=jason_aldean<br>PCA Component 1=%{x}<br>PCA Component 2=%{y}<extra></extra>",
                  "legendgroup": "jason_aldean",
                  "marker": {
                    "color": "#00cc96",
                    "size": 24,
                    "symbol": "circle"
                  },
                  "mode": "markers",
                  "name": "jason_aldean",
                  "orientation": "v",
                  "showlegend": true,
                  "type": "scatter",
                  "x": {
                    "bdata": "U46qZy5q8b8=",
                    "dtype": "f8"
                  },
                  "xaxis": "x",
                  "y": {
                    "bdata": "7y3iZ3eGzD8=",
                    "dtype": "f8"
                  },
                  "yaxis": "y"
                },
                {
                  "hovertemplate": "Artist Name=jay_z<br>PCA Component 1=%{x}<br>PCA Component 2=%{y}<extra></extra>",
                  "legendgroup": "jay_z",
                  "marker": {
                    "color": "#ab63fa",
                    "size": 24,
                    "symbol": "circle"
                  },
                  "mode": "markers",
                  "name": "jay_z",
                  "orientation": "v",
                  "showlegend": true,
                  "type": "scatter",
                  "x": {
                    "bdata": "OG41ertd4D8=",
                    "dtype": "f8"
                  },
                  "xaxis": "x",
                  "y": {
                    "bdata": "wma2qYWYA0A=",
                    "dtype": "f8"
                  },
                  "yaxis": "y"
                },
                {
                  "hovertemplate": "Artist Name=john_coltrane<br>PCA Component 1=%{x}<br>PCA Component 2=%{y}<extra></extra>",
                  "legendgroup": "john_coltrane",
                  "marker": {
                    "color": "#FFA15A",
                    "size": 24,
                    "symbol": "circle"
                  },
                  "mode": "markers",
                  "name": "john_coltrane",
                  "orientation": "v",
                  "showlegend": true,
                  "type": "scatter",
                  "x": {
                    "bdata": "dpFmTLZyAMA=",
                    "dtype": "f8"
                  },
                  "xaxis": "x",
                  "y": {
                    "bdata": "+K2odpWi5L8=",
                    "dtype": "f8"
                  },
                  "yaxis": "y"
                },
                {
                  "hovertemplate": "Artist Name=john_legend<br>PCA Component 1=%{x}<br>PCA Component 2=%{y}<extra></extra>",
                  "legendgroup": "john_legend",
                  "marker": {
                    "color": "#19d3f3",
                    "size": 24,
                    "symbol": "circle"
                  },
                  "mode": "markers",
                  "name": "john_legend",
                  "orientation": "v",
                  "showlegend": true,
                  "type": "scatter",
                  "x": {
                    "bdata": "TRA9OL7N8T8=",
                    "dtype": "f8"
                  },
                  "xaxis": "x",
                  "y": {
                    "bdata": "t4CFMLrIx78=",
                    "dtype": "f8"
                  },
                  "yaxis": "y"
                },
                {
                  "hovertemplate": "Artist Name=john_mayer<br>PCA Component 1=%{x}<br>PCA Component 2=%{y}<extra></extra>",
                  "legendgroup": "john_mayer",
                  "marker": {
                    "color": "#FF6692",
                    "size": 24,
                    "symbol": "circle"
                  },
                  "mode": "markers",
                  "name": "john_mayer",
                  "orientation": "v",
                  "showlegend": true,
                  "type": "scatter",
                  "x": {
                    "bdata": "uNp5yrp0AMA=",
                    "dtype": "f8"
                  },
                  "xaxis": "x",
                  "y": {
                    "bdata": "FVIPDhQPvD8=",
                    "dtype": "f8"
                  },
                  "yaxis": "y"
                },
                {
                  "hovertemplate": "Artist Name=led_zeppelin<br>PCA Component 1=%{x}<br>PCA Component 2=%{y}<extra></extra>",
                  "legendgroup": "led_zeppelin",
                  "marker": {
                    "color": "#B6E880",
                    "size": 24,
                    "symbol": "circle"
                  },
                  "mode": "markers",
                  "name": "led_zeppelin",
                  "orientation": "v",
                  "showlegend": true,
                  "type": "scatter",
                  "x": {
                    "bdata": "mGbk2Ifs+b8=",
                    "dtype": "f8"
                  },
                  "xaxis": "x",
                  "y": {
                    "bdata": "Wn2i49smyz8=",
                    "dtype": "f8"
                  },
                  "yaxis": "y"
                },
                {
                  "hovertemplate": "Artist Name=maggie_rogers<br>PCA Component 1=%{x}<br>PCA Component 2=%{y}<extra></extra>",
                  "legendgroup": "maggie_rogers",
                  "marker": {
                    "color": "#FF97FF",
                    "size": 24,
                    "symbol": "circle"
                  },
                  "mode": "markers",
                  "name": "maggie_rogers",
                  "orientation": "v",
                  "showlegend": true,
                  "type": "scatter",
                  "x": {
                    "bdata": "i8yKLFQI/D8=",
                    "dtype": "f8"
                  },
                  "xaxis": "x",
                  "y": {
                    "bdata": "KoSa+BoM3b8=",
                    "dtype": "f8"
                  },
                  "yaxis": "y"
                },
                {
                  "hovertemplate": "Artist Name=miles_davis<br>PCA Component 1=%{x}<br>PCA Component 2=%{y}<extra></extra>",
                  "legendgroup": "miles_davis",
                  "marker": {
                    "color": "#FECB52",
                    "size": 24,
                    "symbol": "circle"
                  },
                  "mode": "markers",
                  "name": "miles_davis",
                  "orientation": "v",
                  "showlegend": true,
                  "type": "scatter",
                  "x": {
                    "bdata": "KwHOcmpZ5D8=",
                    "dtype": "f8"
                  },
                  "xaxis": "x",
                  "y": {
                    "bdata": "vXSYYzlW2L8=",
                    "dtype": "f8"
                  },
                  "yaxis": "y"
                },
                {
                  "hovertemplate": "Artist Name=pink_floyd<br>PCA Component 1=%{x}<br>PCA Component 2=%{y}<extra></extra>",
                  "legendgroup": "pink_floyd",
                  "marker": {
                    "color": "#636efa",
                    "size": 24,
                    "symbol": "circle"
                  },
                  "mode": "markers",
                  "name": "pink_floyd",
                  "orientation": "v",
                  "showlegend": true,
                  "type": "scatter",
                  "x": {
                    "bdata": "k266+K0r8r8=",
                    "dtype": "f8"
                  },
                  "xaxis": "x",
                  "y": {
                    "bdata": "EaELrWQp/r8=",
                    "dtype": "f8"
                  },
                  "yaxis": "y"
                },
                {
                  "hovertemplate": "Artist Name=rihanna<br>PCA Component 1=%{x}<br>PCA Component 2=%{y}<extra></extra>",
                  "legendgroup": "rihanna",
                  "marker": {
                    "color": "#EF553B",
                    "size": 24,
                    "symbol": "circle"
                  },
                  "mode": "markers",
                  "name": "rihanna",
                  "orientation": "v",
                  "showlegend": true,
                  "type": "scatter",
                  "x": {
                    "bdata": "bZwUadYJAEA=",
                    "dtype": "f8"
                  },
                  "xaxis": "x",
                  "y": {
                    "bdata": "4OkBsX2W8T8=",
                    "dtype": "f8"
                  },
                  "yaxis": "y"
                },
                {
                  "hovertemplate": "Artist Name=taylor_swift<br>PCA Component 1=%{x}<br>PCA Component 2=%{y}<extra></extra>",
                  "legendgroup": "taylor_swift",
                  "marker": {
                    "color": "#00cc96",
                    "size": 24,
                    "symbol": "circle"
                  },
                  "mode": "markers",
                  "name": "taylor_swift",
                  "orientation": "v",
                  "showlegend": true,
                  "type": "scatter",
                  "x": {
                    "bdata": "+xFe79FE9j8=",
                    "dtype": "f8"
                  },
                  "xaxis": "x",
                  "y": {
                    "bdata": "PZICYHdY3D8=",
                    "dtype": "f8"
                  },
                  "yaxis": "y"
                },
                {
                  "hovertemplate": "Artist Name=tupac<br>PCA Component 1=%{x}<br>PCA Component 2=%{y}<extra></extra>",
                  "legendgroup": "tupac",
                  "marker": {
                    "color": "#ab63fa",
                    "size": 24,
                    "symbol": "circle"
                  },
                  "mode": "markers",
                  "name": "tupac",
                  "orientation": "v",
                  "showlegend": true,
                  "type": "scatter",
                  "x": {
                    "bdata": "QA8dNRXd/j8=",
                    "dtype": "f8"
                  },
                  "xaxis": "x",
                  "y": {
                    "bdata": "/viK5x7EB0A=",
                    "dtype": "f8"
                  },
                  "yaxis": "y"
                }
              ],
              "layout": {
                "legend": {
                  "title": {
                    "text": "Artist Name"
                  },
                  "tracegroupgap": 0
                },
                "template": {
                  "data": {
                    "bar": [
                      {
                        "error_x": {
                          "color": "#2a3f5f"
                        },
                        "error_y": {
                          "color": "#2a3f5f"
                        },
                        "marker": {
                          "line": {
                            "color": "#E5ECF6",
                            "width": 0.5
                          },
                          "pattern": {
                            "fillmode": "overlay",
                            "size": 10,
                            "solidity": 0.2
                          }
                        },
                        "type": "bar"
                      }
                    ],
                    "barpolar": [
                      {
                        "marker": {
                          "line": {
                            "color": "#E5ECF6",
                            "width": 0.5
                          },
                          "pattern": {
                            "fillmode": "overlay",
                            "size": 10,
                            "solidity": 0.2
                          }
                        },
                        "type": "barpolar"
                      }
                    ],
                    "carpet": [
                      {
                        "aaxis": {
                          "endlinecolor": "#2a3f5f",
                          "gridcolor": "white",
                          "linecolor": "white",
                          "minorgridcolor": "white",
                          "startlinecolor": "#2a3f5f"
                        },
                        "baxis": {
                          "endlinecolor": "#2a3f5f",
                          "gridcolor": "white",
                          "linecolor": "white",
                          "minorgridcolor": "white",
                          "startlinecolor": "#2a3f5f"
                        },
                        "type": "carpet"
                      }
                    ],
                    "choropleth": [
                      {
                        "colorbar": {
                          "outlinewidth": 0,
                          "ticks": ""
                        },
                        "type": "choropleth"
                      }
                    ],
                    "contour": [
                      {
                        "colorbar": {
                          "outlinewidth": 0,
                          "ticks": ""
                        },
                        "colorscale": [
                          [
                            0,
                            "#0d0887"
                          ],
                          [
                            0.1111111111111111,
                            "#46039f"
                          ],
                          [
                            0.2222222222222222,
                            "#7201a8"
                          ],
                          [
                            0.3333333333333333,
                            "#9c179e"
                          ],
                          [
                            0.4444444444444444,
                            "#bd3786"
                          ],
                          [
                            0.5555555555555556,
                            "#d8576b"
                          ],
                          [
                            0.6666666666666666,
                            "#ed7953"
                          ],
                          [
                            0.7777777777777778,
                            "#fb9f3a"
                          ],
                          [
                            0.8888888888888888,
                            "#fdca26"
                          ],
                          [
                            1,
                            "#f0f921"
                          ]
                        ],
                        "type": "contour"
                      }
                    ],
                    "contourcarpet": [
                      {
                        "colorbar": {
                          "outlinewidth": 0,
                          "ticks": ""
                        },
                        "type": "contourcarpet"
                      }
                    ],
                    "heatmap": [
                      {
                        "colorbar": {
                          "outlinewidth": 0,
                          "ticks": ""
                        },
                        "colorscale": [
                          [
                            0,
                            "#0d0887"
                          ],
                          [
                            0.1111111111111111,
                            "#46039f"
                          ],
                          [
                            0.2222222222222222,
                            "#7201a8"
                          ],
                          [
                            0.3333333333333333,
                            "#9c179e"
                          ],
                          [
                            0.4444444444444444,
                            "#bd3786"
                          ],
                          [
                            0.5555555555555556,
                            "#d8576b"
                          ],
                          [
                            0.6666666666666666,
                            "#ed7953"
                          ],
                          [
                            0.7777777777777778,
                            "#fb9f3a"
                          ],
                          [
                            0.8888888888888888,
                            "#fdca26"
                          ],
                          [
                            1,
                            "#f0f921"
                          ]
                        ],
                        "type": "heatmap"
                      }
                    ],
                    "histogram": [
                      {
                        "marker": {
                          "pattern": {
                            "fillmode": "overlay",
                            "size": 10,
                            "solidity": 0.2
                          }
                        },
                        "type": "histogram"
                      }
                    ],
                    "histogram2d": [
                      {
                        "colorbar": {
                          "outlinewidth": 0,
                          "ticks": ""
                        },
                        "colorscale": [
                          [
                            0,
                            "#0d0887"
                          ],
                          [
                            0.1111111111111111,
                            "#46039f"
                          ],
                          [
                            0.2222222222222222,
                            "#7201a8"
                          ],
                          [
                            0.3333333333333333,
                            "#9c179e"
                          ],
                          [
                            0.4444444444444444,
                            "#bd3786"
                          ],
                          [
                            0.5555555555555556,
                            "#d8576b"
                          ],
                          [
                            0.6666666666666666,
                            "#ed7953"
                          ],
                          [
                            0.7777777777777778,
                            "#fb9f3a"
                          ],
                          [
                            0.8888888888888888,
                            "#fdca26"
                          ],
                          [
                            1,
                            "#f0f921"
                          ]
                        ],
                        "type": "histogram2d"
                      }
                    ],
                    "histogram2dcontour": [
                      {
                        "colorbar": {
                          "outlinewidth": 0,
                          "ticks": ""
                        },
                        "colorscale": [
                          [
                            0,
                            "#0d0887"
                          ],
                          [
                            0.1111111111111111,
                            "#46039f"
                          ],
                          [
                            0.2222222222222222,
                            "#7201a8"
                          ],
                          [
                            0.3333333333333333,
                            "#9c179e"
                          ],
                          [
                            0.4444444444444444,
                            "#bd3786"
                          ],
                          [
                            0.5555555555555556,
                            "#d8576b"
                          ],
                          [
                            0.6666666666666666,
                            "#ed7953"
                          ],
                          [
                            0.7777777777777778,
                            "#fb9f3a"
                          ],
                          [
                            0.8888888888888888,
                            "#fdca26"
                          ],
                          [
                            1,
                            "#f0f921"
                          ]
                        ],
                        "type": "histogram2dcontour"
                      }
                    ],
                    "mesh3d": [
                      {
                        "colorbar": {
                          "outlinewidth": 0,
                          "ticks": ""
                        },
                        "type": "mesh3d"
                      }
                    ],
                    "parcoords": [
                      {
                        "line": {
                          "colorbar": {
                            "outlinewidth": 0,
                            "ticks": ""
                          }
                        },
                        "type": "parcoords"
                      }
                    ],
                    "pie": [
                      {
                        "automargin": true,
                        "type": "pie"
                      }
                    ],
                    "scatter": [
                      {
                        "fillpattern": {
                          "fillmode": "overlay",
                          "size": 10,
                          "solidity": 0.2
                        },
                        "type": "scatter"
                      }
                    ],
                    "scatter3d": [
                      {
                        "line": {
                          "colorbar": {
                            "outlinewidth": 0,
                            "ticks": ""
                          }
                        },
                        "marker": {
                          "colorbar": {
                            "outlinewidth": 0,
                            "ticks": ""
                          }
                        },
                        "type": "scatter3d"
                      }
                    ],
                    "scattercarpet": [
                      {
                        "marker": {
                          "colorbar": {
                            "outlinewidth": 0,
                            "ticks": ""
                          }
                        },
                        "type": "scattercarpet"
                      }
                    ],
                    "scattergeo": [
                      {
                        "marker": {
                          "colorbar": {
                            "outlinewidth": 0,
                            "ticks": ""
                          }
                        },
                        "type": "scattergeo"
                      }
                    ],
                    "scattergl": [
                      {
                        "marker": {
                          "colorbar": {
                            "outlinewidth": 0,
                            "ticks": ""
                          }
                        },
                        "type": "scattergl"
                      }
                    ],
                    "scattermap": [
                      {
                        "marker": {
                          "colorbar": {
                            "outlinewidth": 0,
                            "ticks": ""
                          }
                        },
                        "type": "scattermap"
                      }
                    ],
                    "scattermapbox": [
                      {
                        "marker": {
                          "colorbar": {
                            "outlinewidth": 0,
                            "ticks": ""
                          }
                        },
                        "type": "scattermapbox"
                      }
                    ],
                    "scatterpolar": [
                      {
                        "marker": {
                          "colorbar": {
                            "outlinewidth": 0,
                            "ticks": ""
                          }
                        },
                        "type": "scatterpolar"
                      }
                    ],
                    "scatterpolargl": [
                      {
                        "marker": {
                          "colorbar": {
                            "outlinewidth": 0,
                            "ticks": ""
                          }
                        },
                        "type": "scatterpolargl"
                      }
                    ],
                    "scatterternary": [
                      {
                        "marker": {
                          "colorbar": {
                            "outlinewidth": 0,
                            "ticks": ""
                          }
                        },
                        "type": "scatterternary"
                      }
                    ],
                    "surface": [
                      {
                        "colorbar": {
                          "outlinewidth": 0,
                          "ticks": ""
                        },
                        "colorscale": [
                          [
                            0,
                            "#0d0887"
                          ],
                          [
                            0.1111111111111111,
                            "#46039f"
                          ],
                          [
                            0.2222222222222222,
                            "#7201a8"
                          ],
                          [
                            0.3333333333333333,
                            "#9c179e"
                          ],
                          [
                            0.4444444444444444,
                            "#bd3786"
                          ],
                          [
                            0.5555555555555556,
                            "#d8576b"
                          ],
                          [
                            0.6666666666666666,
                            "#ed7953"
                          ],
                          [
                            0.7777777777777778,
                            "#fb9f3a"
                          ],
                          [
                            0.8888888888888888,
                            "#fdca26"
                          ],
                          [
                            1,
                            "#f0f921"
                          ]
                        ],
                        "type": "surface"
                      }
                    ],
                    "table": [
                      {
                        "cells": {
                          "fill": {
                            "color": "#EBF0F8"
                          },
                          "line": {
                            "color": "white"
                          }
                        },
                        "header": {
                          "fill": {
                            "color": "#C8D4E3"
                          },
                          "line": {
                            "color": "white"
                          }
                        },
                        "type": "table"
                      }
                    ]
                  },
                  "layout": {
                    "annotationdefaults": {
                      "arrowcolor": "#2a3f5f",
                      "arrowhead": 0,
                      "arrowwidth": 1
                    },
                    "autotypenumbers": "strict",
                    "coloraxis": {
                      "colorbar": {
                        "outlinewidth": 0,
                        "ticks": ""
                      }
                    },
                    "colorscale": {
                      "diverging": [
                        [
                          0,
                          "#8e0152"
                        ],
                        [
                          0.1,
                          "#c51b7d"
                        ],
                        [
                          0.2,
                          "#de77ae"
                        ],
                        [
                          0.3,
                          "#f1b6da"
                        ],
                        [
                          0.4,
                          "#fde0ef"
                        ],
                        [
                          0.5,
                          "#f7f7f7"
                        ],
                        [
                          0.6,
                          "#e6f5d0"
                        ],
                        [
                          0.7,
                          "#b8e186"
                        ],
                        [
                          0.8,
                          "#7fbc41"
                        ],
                        [
                          0.9,
                          "#4d9221"
                        ],
                        [
                          1,
                          "#276419"
                        ]
                      ],
                      "sequential": [
                        [
                          0,
                          "#0d0887"
                        ],
                        [
                          0.1111111111111111,
                          "#46039f"
                        ],
                        [
                          0.2222222222222222,
                          "#7201a8"
                        ],
                        [
                          0.3333333333333333,
                          "#9c179e"
                        ],
                        [
                          0.4444444444444444,
                          "#bd3786"
                        ],
                        [
                          0.5555555555555556,
                          "#d8576b"
                        ],
                        [
                          0.6666666666666666,
                          "#ed7953"
                        ],
                        [
                          0.7777777777777778,
                          "#fb9f3a"
                        ],
                        [
                          0.8888888888888888,
                          "#fdca26"
                        ],
                        [
                          1,
                          "#f0f921"
                        ]
                      ],
                      "sequentialminus": [
                        [
                          0,
                          "#0d0887"
                        ],
                        [
                          0.1111111111111111,
                          "#46039f"
                        ],
                        [
                          0.2222222222222222,
                          "#7201a8"
                        ],
                        [
                          0.3333333333333333,
                          "#9c179e"
                        ],
                        [
                          0.4444444444444444,
                          "#bd3786"
                        ],
                        [
                          0.5555555555555556,
                          "#d8576b"
                        ],
                        [
                          0.6666666666666666,
                          "#ed7953"
                        ],
                        [
                          0.7777777777777778,
                          "#fb9f3a"
                        ],
                        [
                          0.8888888888888888,
                          "#fdca26"
                        ],
                        [
                          1,
                          "#f0f921"
                        ]
                      ]
                    },
                    "colorway": [
                      "#636efa",
                      "#EF553B",
                      "#00cc96",
                      "#ab63fa",
                      "#FFA15A",
                      "#19d3f3",
                      "#FF6692",
                      "#B6E880",
                      "#FF97FF",
                      "#FECB52"
                    ],
                    "font": {
                      "color": "#2a3f5f"
                    },
                    "geo": {
                      "bgcolor": "white",
                      "lakecolor": "white",
                      "landcolor": "#E5ECF6",
                      "showlakes": true,
                      "showland": true,
                      "subunitcolor": "white"
                    },
                    "hoverlabel": {
                      "align": "left"
                    },
                    "hovermode": "closest",
                    "mapbox": {
                      "style": "light"
                    },
                    "paper_bgcolor": "white",
                    "plot_bgcolor": "#E5ECF6",
                    "polar": {
                      "angularaxis": {
                        "gridcolor": "white",
                        "linecolor": "white",
                        "ticks": ""
                      },
                      "bgcolor": "#E5ECF6",
                      "radialaxis": {
                        "gridcolor": "white",
                        "linecolor": "white",
                        "ticks": ""
                      }
                    },
                    "scene": {
                      "xaxis": {
                        "backgroundcolor": "#E5ECF6",
                        "gridcolor": "white",
                        "gridwidth": 2,
                        "linecolor": "white",
                        "showbackground": true,
                        "ticks": "",
                        "zerolinecolor": "white"
                      },
                      "yaxis": {
                        "backgroundcolor": "#E5ECF6",
                        "gridcolor": "white",
                        "gridwidth": 2,
                        "linecolor": "white",
                        "showbackground": true,
                        "ticks": "",
                        "zerolinecolor": "white"
                      },
                      "zaxis": {
                        "backgroundcolor": "#E5ECF6",
                        "gridcolor": "white",
                        "gridwidth": 2,
                        "linecolor": "white",
                        "showbackground": true,
                        "ticks": "",
                        "zerolinecolor": "white"
                      }
                    },
                    "shapedefaults": {
                      "line": {
                        "color": "#2a3f5f"
                      }
                    },
                    "ternary": {
                      "aaxis": {
                        "gridcolor": "white",
                        "linecolor": "white",
                        "ticks": ""
                      },
                      "baxis": {
                        "gridcolor": "white",
                        "linecolor": "white",
                        "ticks": ""
                      },
                      "bgcolor": "#E5ECF6",
                      "caxis": {
                        "gridcolor": "white",
                        "linecolor": "white",
                        "ticks": ""
                      }
                    },
                    "title": {
                      "x": 0.05
                    },
                    "xaxis": {
                      "automargin": true,
                      "gridcolor": "white",
                      "linecolor": "white",
                      "ticks": "",
                      "title": {
                        "standoff": 15
                      },
                      "zerolinecolor": "white",
                      "zerolinewidth": 2
                    },
                    "yaxis": {
                      "automargin": true,
                      "gridcolor": "white",
                      "linecolor": "white",
                      "ticks": "",
                      "title": {
                        "standoff": 15
                      },
                      "zerolinecolor": "white",
                      "zerolinewidth": 2
                    }
                  }
                },
                "title": {
                  "text": "Artist Centroids in PCA Space"
                },
                "xaxis": {
                  "anchor": "y",
                  "domain": [
                    0,
                    1
                  ],
                  "title": {
                    "text": "PCA Component 1"
                  }
                },
                "yaxis": {
                  "anchor": "x",
                  "domain": [
                    0,
                    1
                  ],
                  "title": {
                    "text": "PCA Component 2"
                  }
                }
              }
            }
          },
          "metadata": {},
          "output_type": "display_data"
        }
      ],
      "source": [
        "# F) Plot the centroids using a scatterplot, with \"component_1\" on the x axis and \"component_2\" on the y axis. Color on artist label.\n",
        "\n",
        "# Plot the centroids with artist color\n",
        "fig = px.scatter(centroids, x='component_1', y='component_2', color=centroids.index,\n",
        "                 title=\"Artist Centroids in PCA Space\",\n",
        "                 labels={'component_1': 'PCA Component 1', 'component_2': 'PCA Component 2', 'artist': 'Artist Name'},\n",
        "                 color_continuous_scale='Viridis')\n",
        "\n",
        "fig.update_traces(marker=dict(size=24))\n",
        "\n",
        "fig.show()"
      ]
    },
    {
      "cell_type": "markdown",
      "metadata": {
        "id": "dzVXkwZGVYi4"
      },
      "source": [
        "+ Artists in Similar Areas: Several artists cluster closely together, suggesting similarities in their data features. For instance, `John Mayer, Led Zeppelin, Jason Aldean`, and F`rank Sinatra` are grouped to the left of component_1, while `Taylor Swift, John Legend, Alicia Keys, and Maggie Rogers` form a cluster near the center-right of component_1, indicating shared characteristics.\n",
        "\n",
        "+ More Distinct Artists: dr_dre stands out at the far right of component_1, reflecting a unique feature set. Similarly, `Ariana Grande` is separated from other artists, positioned far right but in a different region than `Dr dre`. On the bottom left of component_2, beethoven and bach emphasize their distinctiveness from pop artists. Additionally, `Ac_dc` and the `Jay Z` and `Tupac` pair exhibit their uniqueness in separate regions."
      ]
    },
    {
      "cell_type": "markdown",
      "metadata": {
        "id": "ngvWkKpyJgw3"
      },
      "source": [
        "## PCA Tuning"
      ]
    },
    {
      "cell_type": "code",
      "execution_count": 35,
      "metadata": {
        "colab": {
          "base_uri": "https://localhost:8080/"
        },
        "collapsed": true,
        "id": "JFtYZXm8yWVS",
        "outputId": "7750960b-9d19-4b08-8b88-2884d84db496"
      },
      "outputs": [
        {
          "name": "stdout",
          "output_type": "stream",
          "text": [
            "Number of components: 1, Sum of explained variance: 0.2146\n",
            "Number of components: 2, Sum of explained variance: 0.3816\n",
            "Number of components: 3, Sum of explained variance: 0.4773\n",
            "Number of components: 4, Sum of explained variance: 0.5454\n",
            "Number of components: 5, Sum of explained variance: 0.5905\n",
            "Number of components: 6, Sum of explained variance: 0.6281\n",
            "Number of components: 7, Sum of explained variance: 0.6596\n",
            "Number of components: 8, Sum of explained variance: 0.6868\n",
            "Number of components: 9, Sum of explained variance: 0.7127\n",
            "Number of components: 10, Sum of explained variance: 0.7367\n",
            "Number of components: 11, Sum of explained variance: 0.7599\n",
            "Number of components: 12, Sum of explained variance: 0.7812\n",
            "Number of components: 13, Sum of explained variance: 0.8005\n",
            "Number of components: 14, Sum of explained variance: 0.8174\n",
            "Number of components: 15, Sum of explained variance: 0.8326\n",
            "Number of components: 16, Sum of explained variance: 0.8467\n",
            "Number of components: 17, Sum of explained variance: 0.8604\n",
            "Number of components: 18, Sum of explained variance: 0.8736\n",
            "Number of components: 19, Sum of explained variance: 0.8857\n",
            "Number of components: 20, Sum of explained variance: 0.8966\n",
            "Number of components: 21, Sum of explained variance: 0.9062\n",
            "Number of components: 22, Sum of explained variance: 0.9155\n",
            "Number of components: 23, Sum of explained variance: 0.9245\n",
            "Number of components: 24, Sum of explained variance: 0.9326\n",
            "Number of components: 25, Sum of explained variance: 0.9397\n",
            "Number of components: 26, Sum of explained variance: 0.9467\n",
            "Number of components: 27, Sum of explained variance: 0.9527\n",
            "Number of components: 28, Sum of explained variance: 0.9587\n",
            "Number of components: 29, Sum of explained variance: 0.9643\n",
            "Number of components: 30, Sum of explained variance: 0.9695\n",
            "Number of components: 31, Sum of explained variance: 0.9744\n",
            "Number of components: 32, Sum of explained variance: 0.9791\n",
            "Number of components: 33, Sum of explained variance: 0.9836\n",
            "Number of components: 34, Sum of explained variance: 0.9879\n",
            "Number of components: 35, Sum of explained variance: 0.9915\n",
            "Number of components: 36, Sum of explained variance: 0.9941\n",
            "Number of components: 37, Sum of explained variance: 0.9962\n",
            "Number of components: 38, Sum of explained variance: 0.9977\n",
            "Number of components: 39, Sum of explained variance: 0.9988\n",
            "Number of components: 40, Sum of explained variance: 0.9996\n",
            "Number of components: 41, Sum of explained variance: 0.9999\n",
            "Number of components: 42, Sum of explained variance: 1.0000\n"
          ]
        }
      ],
      "source": [
        "# List to store explained variance and number of components\n",
        "explained_variance_list = []\n",
        "\n",
        "for n in range(1, x_scaled.shape[1] + 1):\n",
        "    # Initialize PCA model with n components\n",
        "    pca = PCA(n_components=n, random_state=99)\n",
        "\n",
        "    # Train PCA model on scaled data (all rows of the features)\n",
        "    pca.fit(x_scaled)\n",
        "\n",
        "    # Calculate the sum of explained variance for n components\n",
        "    explained_variance_sum = pca.explained_variance_ratio_.sum()\n",
        "\n",
        "    # Print the sum of explained variance for n components\n",
        "    print(f\"Number of components: {n}, Sum of explained variance: {explained_variance_sum:.4f}\")\n",
        "\n",
        "    # Store the sum of explained variance and number of components in a list\n",
        "    explained_variance_list.append({'n_components': n, 'explained_variance_sum': explained_variance_sum})"
      ]
    },
    {
      "cell_type": "code",
      "execution_count": 36,
      "metadata": {
        "colab": {
          "base_uri": "https://localhost:8080/"
        },
        "collapsed": true,
        "id": "0XtmIUi70jjT",
        "outputId": "b0919bda-62a0-4455-be64-54580c763f93"
      },
      "outputs": [
        {
          "name": "stdout",
          "output_type": "stream",
          "text": [
            "    n_components  explained_variance_sum\n",
            "0              1                0.214583\n",
            "1              2                0.381577\n",
            "2              3                0.477308\n",
            "3              4                0.545424\n",
            "4              5                0.590539\n",
            "5              6                0.628133\n",
            "6              7                0.659592\n",
            "7              8                0.686835\n",
            "8              9                0.712749\n",
            "9             10                0.736742\n",
            "10            11                0.759914\n",
            "11            12                0.781168\n",
            "12            13                0.800504\n",
            "13            14                0.817374\n",
            "14            15                0.832558\n",
            "15            16                0.846739\n",
            "16            17                0.860355\n",
            "17            18                0.873572\n",
            "18            19                0.885747\n",
            "19            20                0.896589\n",
            "20            21                0.906169\n",
            "21            22                0.915500\n",
            "22            23                0.924526\n",
            "23            24                0.932565\n",
            "24            25                0.939715\n",
            "25            26                0.946671\n",
            "26            27                0.952748\n",
            "27            28                0.958665\n",
            "28            29                0.964319\n",
            "29            30                0.969467\n",
            "30            31                0.974385\n",
            "31            32                0.979088\n",
            "32            33                0.983597\n",
            "33            34                0.987913\n",
            "34            35                0.991458\n",
            "35            36                0.994062\n",
            "36            37                0.996171\n",
            "37            38                0.997704\n",
            "38            39                0.998796\n",
            "39            40                0.999644\n",
            "40            41                0.999914\n",
            "41            42                1.000000\n"
          ]
        }
      ],
      "source": [
        "explained_variance_df = pd.DataFrame(explained_variance_list)\n",
        "\n",
        "# Print the DataFrame\n",
        "print(explained_variance_df)"
      ]
    },
    {
      "cell_type": "markdown",
      "metadata": {
        "id": "E03dKVDztmgS"
      },
      "source": [
        "### Explained Variance Plot"
      ]
    },
    {
      "cell_type": "code",
      "execution_count": 37,
      "metadata": {
        "colab": {
          "base_uri": "https://localhost:8080/",
          "height": 542
        },
        "collapsed": true,
        "id": "kIIdXXbJKWXr",
        "outputId": "cb453bf3-b298-4157-a9ca-b67bb4ecdd8d"
      },
      "outputs": [
        {
          "data": {
            "application/vnd.plotly.v1+json": {
              "config": {
                "plotlyServerURL": "https://plot.ly"
              },
              "data": [
                {
                  "hovertemplate": "Number of Components=%{x}<br>Explained Variance=%{y}<extra></extra>",
                  "legendgroup": "",
                  "line": {
                    "color": "#636efa",
                    "dash": "solid"
                  },
                  "marker": {
                    "symbol": "circle"
                  },
                  "mode": "lines+markers",
                  "name": "",
                  "orientation": "v",
                  "showlegend": false,
                  "type": "scatter",
                  "x": {
                    "bdata": "AQIDBAUGBwgJCgsMDQ4PEBESExQVFhcYGRobHB0eHyAhIiMkJSYnKCkq",
                    "dtype": "i1"
                  },
                  "xaxis": "x",
                  "y": {
                    "bdata": "/aEg7nB3yz/gJVY/wWvYPwhVJnY1jN4/2IaPqx104T+QBGRysuXiP+CTmIOpGeQ/l+lai2Ab5T+JczLOjPrlP6u0SKLWzuY/+8gFxWST5z9msEpwNlHoP/VYyyFU/+g/nODOkrud6T+FlNrp7SfqP5N5mTxQpOo/1DcHEX0Y6z8yfYxUB4jrP+PqbspM9Os/GARHfglY7D96wwGm27DsP+8BXsRV/+w/7nQCHcdL7T9x1y81uJXtP/U/Dq6R1+0/Y3oDFSUS7j+gTyr1H0vuPwXZ0jjpfO4/kay3BGKt7j8tzau2stvuP2KC68TeBe8/kRN/Wiou7z+sLxHXr1TvP7lExxqgee8/MBcyj/yc7z8MEvtaBbrvP69ujQ5cz+8/ygam76Lg7z/nuxMIMO3vPyJpJnEj9u8/RK6eahT97z8PUCo2TP/vP////////+8/",
                    "dtype": "f8"
                  },
                  "yaxis": "y"
                }
              ],
              "layout": {
                "legend": {
                  "tracegroupgap": 0
                },
                "shapes": [
                  {
                    "line": {
                      "color": "red",
                      "dash": "dot",
                      "width": 1
                    },
                    "type": "line",
                    "x0": 0,
                    "x1": 1,
                    "xref": "x domain",
                    "y0": 0.8,
                    "y1": 0.8,
                    "yref": "y"
                  },
                  {
                    "line": {
                      "color": "green",
                      "dash": "dot",
                      "width": 1
                    },
                    "type": "line",
                    "x0": 0,
                    "x1": 1,
                    "xref": "x domain",
                    "y0": 0.9,
                    "y1": 0.9,
                    "yref": "y"
                  }
                ],
                "template": {
                  "data": {
                    "bar": [
                      {
                        "error_x": {
                          "color": "#2a3f5f"
                        },
                        "error_y": {
                          "color": "#2a3f5f"
                        },
                        "marker": {
                          "line": {
                            "color": "#E5ECF6",
                            "width": 0.5
                          },
                          "pattern": {
                            "fillmode": "overlay",
                            "size": 10,
                            "solidity": 0.2
                          }
                        },
                        "type": "bar"
                      }
                    ],
                    "barpolar": [
                      {
                        "marker": {
                          "line": {
                            "color": "#E5ECF6",
                            "width": 0.5
                          },
                          "pattern": {
                            "fillmode": "overlay",
                            "size": 10,
                            "solidity": 0.2
                          }
                        },
                        "type": "barpolar"
                      }
                    ],
                    "carpet": [
                      {
                        "aaxis": {
                          "endlinecolor": "#2a3f5f",
                          "gridcolor": "white",
                          "linecolor": "white",
                          "minorgridcolor": "white",
                          "startlinecolor": "#2a3f5f"
                        },
                        "baxis": {
                          "endlinecolor": "#2a3f5f",
                          "gridcolor": "white",
                          "linecolor": "white",
                          "minorgridcolor": "white",
                          "startlinecolor": "#2a3f5f"
                        },
                        "type": "carpet"
                      }
                    ],
                    "choropleth": [
                      {
                        "colorbar": {
                          "outlinewidth": 0,
                          "ticks": ""
                        },
                        "type": "choropleth"
                      }
                    ],
                    "contour": [
                      {
                        "colorbar": {
                          "outlinewidth": 0,
                          "ticks": ""
                        },
                        "colorscale": [
                          [
                            0,
                            "#0d0887"
                          ],
                          [
                            0.1111111111111111,
                            "#46039f"
                          ],
                          [
                            0.2222222222222222,
                            "#7201a8"
                          ],
                          [
                            0.3333333333333333,
                            "#9c179e"
                          ],
                          [
                            0.4444444444444444,
                            "#bd3786"
                          ],
                          [
                            0.5555555555555556,
                            "#d8576b"
                          ],
                          [
                            0.6666666666666666,
                            "#ed7953"
                          ],
                          [
                            0.7777777777777778,
                            "#fb9f3a"
                          ],
                          [
                            0.8888888888888888,
                            "#fdca26"
                          ],
                          [
                            1,
                            "#f0f921"
                          ]
                        ],
                        "type": "contour"
                      }
                    ],
                    "contourcarpet": [
                      {
                        "colorbar": {
                          "outlinewidth": 0,
                          "ticks": ""
                        },
                        "type": "contourcarpet"
                      }
                    ],
                    "heatmap": [
                      {
                        "colorbar": {
                          "outlinewidth": 0,
                          "ticks": ""
                        },
                        "colorscale": [
                          [
                            0,
                            "#0d0887"
                          ],
                          [
                            0.1111111111111111,
                            "#46039f"
                          ],
                          [
                            0.2222222222222222,
                            "#7201a8"
                          ],
                          [
                            0.3333333333333333,
                            "#9c179e"
                          ],
                          [
                            0.4444444444444444,
                            "#bd3786"
                          ],
                          [
                            0.5555555555555556,
                            "#d8576b"
                          ],
                          [
                            0.6666666666666666,
                            "#ed7953"
                          ],
                          [
                            0.7777777777777778,
                            "#fb9f3a"
                          ],
                          [
                            0.8888888888888888,
                            "#fdca26"
                          ],
                          [
                            1,
                            "#f0f921"
                          ]
                        ],
                        "type": "heatmap"
                      }
                    ],
                    "histogram": [
                      {
                        "marker": {
                          "pattern": {
                            "fillmode": "overlay",
                            "size": 10,
                            "solidity": 0.2
                          }
                        },
                        "type": "histogram"
                      }
                    ],
                    "histogram2d": [
                      {
                        "colorbar": {
                          "outlinewidth": 0,
                          "ticks": ""
                        },
                        "colorscale": [
                          [
                            0,
                            "#0d0887"
                          ],
                          [
                            0.1111111111111111,
                            "#46039f"
                          ],
                          [
                            0.2222222222222222,
                            "#7201a8"
                          ],
                          [
                            0.3333333333333333,
                            "#9c179e"
                          ],
                          [
                            0.4444444444444444,
                            "#bd3786"
                          ],
                          [
                            0.5555555555555556,
                            "#d8576b"
                          ],
                          [
                            0.6666666666666666,
                            "#ed7953"
                          ],
                          [
                            0.7777777777777778,
                            "#fb9f3a"
                          ],
                          [
                            0.8888888888888888,
                            "#fdca26"
                          ],
                          [
                            1,
                            "#f0f921"
                          ]
                        ],
                        "type": "histogram2d"
                      }
                    ],
                    "histogram2dcontour": [
                      {
                        "colorbar": {
                          "outlinewidth": 0,
                          "ticks": ""
                        },
                        "colorscale": [
                          [
                            0,
                            "#0d0887"
                          ],
                          [
                            0.1111111111111111,
                            "#46039f"
                          ],
                          [
                            0.2222222222222222,
                            "#7201a8"
                          ],
                          [
                            0.3333333333333333,
                            "#9c179e"
                          ],
                          [
                            0.4444444444444444,
                            "#bd3786"
                          ],
                          [
                            0.5555555555555556,
                            "#d8576b"
                          ],
                          [
                            0.6666666666666666,
                            "#ed7953"
                          ],
                          [
                            0.7777777777777778,
                            "#fb9f3a"
                          ],
                          [
                            0.8888888888888888,
                            "#fdca26"
                          ],
                          [
                            1,
                            "#f0f921"
                          ]
                        ],
                        "type": "histogram2dcontour"
                      }
                    ],
                    "mesh3d": [
                      {
                        "colorbar": {
                          "outlinewidth": 0,
                          "ticks": ""
                        },
                        "type": "mesh3d"
                      }
                    ],
                    "parcoords": [
                      {
                        "line": {
                          "colorbar": {
                            "outlinewidth": 0,
                            "ticks": ""
                          }
                        },
                        "type": "parcoords"
                      }
                    ],
                    "pie": [
                      {
                        "automargin": true,
                        "type": "pie"
                      }
                    ],
                    "scatter": [
                      {
                        "fillpattern": {
                          "fillmode": "overlay",
                          "size": 10,
                          "solidity": 0.2
                        },
                        "type": "scatter"
                      }
                    ],
                    "scatter3d": [
                      {
                        "line": {
                          "colorbar": {
                            "outlinewidth": 0,
                            "ticks": ""
                          }
                        },
                        "marker": {
                          "colorbar": {
                            "outlinewidth": 0,
                            "ticks": ""
                          }
                        },
                        "type": "scatter3d"
                      }
                    ],
                    "scattercarpet": [
                      {
                        "marker": {
                          "colorbar": {
                            "outlinewidth": 0,
                            "ticks": ""
                          }
                        },
                        "type": "scattercarpet"
                      }
                    ],
                    "scattergeo": [
                      {
                        "marker": {
                          "colorbar": {
                            "outlinewidth": 0,
                            "ticks": ""
                          }
                        },
                        "type": "scattergeo"
                      }
                    ],
                    "scattergl": [
                      {
                        "marker": {
                          "colorbar": {
                            "outlinewidth": 0,
                            "ticks": ""
                          }
                        },
                        "type": "scattergl"
                      }
                    ],
                    "scattermap": [
                      {
                        "marker": {
                          "colorbar": {
                            "outlinewidth": 0,
                            "ticks": ""
                          }
                        },
                        "type": "scattermap"
                      }
                    ],
                    "scattermapbox": [
                      {
                        "marker": {
                          "colorbar": {
                            "outlinewidth": 0,
                            "ticks": ""
                          }
                        },
                        "type": "scattermapbox"
                      }
                    ],
                    "scatterpolar": [
                      {
                        "marker": {
                          "colorbar": {
                            "outlinewidth": 0,
                            "ticks": ""
                          }
                        },
                        "type": "scatterpolar"
                      }
                    ],
                    "scatterpolargl": [
                      {
                        "marker": {
                          "colorbar": {
                            "outlinewidth": 0,
                            "ticks": ""
                          }
                        },
                        "type": "scatterpolargl"
                      }
                    ],
                    "scatterternary": [
                      {
                        "marker": {
                          "colorbar": {
                            "outlinewidth": 0,
                            "ticks": ""
                          }
                        },
                        "type": "scatterternary"
                      }
                    ],
                    "surface": [
                      {
                        "colorbar": {
                          "outlinewidth": 0,
                          "ticks": ""
                        },
                        "colorscale": [
                          [
                            0,
                            "#0d0887"
                          ],
                          [
                            0.1111111111111111,
                            "#46039f"
                          ],
                          [
                            0.2222222222222222,
                            "#7201a8"
                          ],
                          [
                            0.3333333333333333,
                            "#9c179e"
                          ],
                          [
                            0.4444444444444444,
                            "#bd3786"
                          ],
                          [
                            0.5555555555555556,
                            "#d8576b"
                          ],
                          [
                            0.6666666666666666,
                            "#ed7953"
                          ],
                          [
                            0.7777777777777778,
                            "#fb9f3a"
                          ],
                          [
                            0.8888888888888888,
                            "#fdca26"
                          ],
                          [
                            1,
                            "#f0f921"
                          ]
                        ],
                        "type": "surface"
                      }
                    ],
                    "table": [
                      {
                        "cells": {
                          "fill": {
                            "color": "#EBF0F8"
                          },
                          "line": {
                            "color": "white"
                          }
                        },
                        "header": {
                          "fill": {
                            "color": "#C8D4E3"
                          },
                          "line": {
                            "color": "white"
                          }
                        },
                        "type": "table"
                      }
                    ]
                  },
                  "layout": {
                    "annotationdefaults": {
                      "arrowcolor": "#2a3f5f",
                      "arrowhead": 0,
                      "arrowwidth": 1
                    },
                    "autotypenumbers": "strict",
                    "coloraxis": {
                      "colorbar": {
                        "outlinewidth": 0,
                        "ticks": ""
                      }
                    },
                    "colorscale": {
                      "diverging": [
                        [
                          0,
                          "#8e0152"
                        ],
                        [
                          0.1,
                          "#c51b7d"
                        ],
                        [
                          0.2,
                          "#de77ae"
                        ],
                        [
                          0.3,
                          "#f1b6da"
                        ],
                        [
                          0.4,
                          "#fde0ef"
                        ],
                        [
                          0.5,
                          "#f7f7f7"
                        ],
                        [
                          0.6,
                          "#e6f5d0"
                        ],
                        [
                          0.7,
                          "#b8e186"
                        ],
                        [
                          0.8,
                          "#7fbc41"
                        ],
                        [
                          0.9,
                          "#4d9221"
                        ],
                        [
                          1,
                          "#276419"
                        ]
                      ],
                      "sequential": [
                        [
                          0,
                          "#0d0887"
                        ],
                        [
                          0.1111111111111111,
                          "#46039f"
                        ],
                        [
                          0.2222222222222222,
                          "#7201a8"
                        ],
                        [
                          0.3333333333333333,
                          "#9c179e"
                        ],
                        [
                          0.4444444444444444,
                          "#bd3786"
                        ],
                        [
                          0.5555555555555556,
                          "#d8576b"
                        ],
                        [
                          0.6666666666666666,
                          "#ed7953"
                        ],
                        [
                          0.7777777777777778,
                          "#fb9f3a"
                        ],
                        [
                          0.8888888888888888,
                          "#fdca26"
                        ],
                        [
                          1,
                          "#f0f921"
                        ]
                      ],
                      "sequentialminus": [
                        [
                          0,
                          "#0d0887"
                        ],
                        [
                          0.1111111111111111,
                          "#46039f"
                        ],
                        [
                          0.2222222222222222,
                          "#7201a8"
                        ],
                        [
                          0.3333333333333333,
                          "#9c179e"
                        ],
                        [
                          0.4444444444444444,
                          "#bd3786"
                        ],
                        [
                          0.5555555555555556,
                          "#d8576b"
                        ],
                        [
                          0.6666666666666666,
                          "#ed7953"
                        ],
                        [
                          0.7777777777777778,
                          "#fb9f3a"
                        ],
                        [
                          0.8888888888888888,
                          "#fdca26"
                        ],
                        [
                          1,
                          "#f0f921"
                        ]
                      ]
                    },
                    "colorway": [
                      "#636efa",
                      "#EF553B",
                      "#00cc96",
                      "#ab63fa",
                      "#FFA15A",
                      "#19d3f3",
                      "#FF6692",
                      "#B6E880",
                      "#FF97FF",
                      "#FECB52"
                    ],
                    "font": {
                      "color": "#2a3f5f"
                    },
                    "geo": {
                      "bgcolor": "white",
                      "lakecolor": "white",
                      "landcolor": "#E5ECF6",
                      "showlakes": true,
                      "showland": true,
                      "subunitcolor": "white"
                    },
                    "hoverlabel": {
                      "align": "left"
                    },
                    "hovermode": "closest",
                    "mapbox": {
                      "style": "light"
                    },
                    "paper_bgcolor": "white",
                    "plot_bgcolor": "#E5ECF6",
                    "polar": {
                      "angularaxis": {
                        "gridcolor": "white",
                        "linecolor": "white",
                        "ticks": ""
                      },
                      "bgcolor": "#E5ECF6",
                      "radialaxis": {
                        "gridcolor": "white",
                        "linecolor": "white",
                        "ticks": ""
                      }
                    },
                    "scene": {
                      "xaxis": {
                        "backgroundcolor": "#E5ECF6",
                        "gridcolor": "white",
                        "gridwidth": 2,
                        "linecolor": "white",
                        "showbackground": true,
                        "ticks": "",
                        "zerolinecolor": "white"
                      },
                      "yaxis": {
                        "backgroundcolor": "#E5ECF6",
                        "gridcolor": "white",
                        "gridwidth": 2,
                        "linecolor": "white",
                        "showbackground": true,
                        "ticks": "",
                        "zerolinecolor": "white"
                      },
                      "zaxis": {
                        "backgroundcolor": "#E5ECF6",
                        "gridcolor": "white",
                        "gridwidth": 2,
                        "linecolor": "white",
                        "showbackground": true,
                        "ticks": "",
                        "zerolinecolor": "white"
                      }
                    },
                    "shapedefaults": {
                      "line": {
                        "color": "#2a3f5f"
                      }
                    },
                    "ternary": {
                      "aaxis": {
                        "gridcolor": "white",
                        "linecolor": "white",
                        "ticks": ""
                      },
                      "baxis": {
                        "gridcolor": "white",
                        "linecolor": "white",
                        "ticks": ""
                      },
                      "bgcolor": "#E5ECF6",
                      "caxis": {
                        "gridcolor": "white",
                        "linecolor": "white",
                        "ticks": ""
                      }
                    },
                    "title": {
                      "x": 0.05
                    },
                    "xaxis": {
                      "automargin": true,
                      "gridcolor": "white",
                      "linecolor": "white",
                      "ticks": "",
                      "title": {
                        "standoff": 15
                      },
                      "zerolinecolor": "white",
                      "zerolinewidth": 2
                    },
                    "yaxis": {
                      "automargin": true,
                      "gridcolor": "white",
                      "linecolor": "white",
                      "ticks": "",
                      "title": {
                        "standoff": 15
                      },
                      "zerolinecolor": "white",
                      "zerolinewidth": 2
                    }
                  }
                },
                "title": {
                  "text": "Explained Variance vs. Number of Components"
                },
                "xaxis": {
                  "anchor": "y",
                  "domain": [
                    0,
                    1
                  ],
                  "title": {
                    "text": "Number of Components"
                  }
                },
                "yaxis": {
                  "anchor": "x",
                  "domain": [
                    0,
                    1
                  ],
                  "title": {
                    "text": "Explained Variance"
                  }
                }
              }
            }
          },
          "metadata": {},
          "output_type": "display_data"
        }
      ],
      "source": [
        "# Plot a line chart of the explained variance on the y axis and the number of components on the x axis\n",
        "fig = px.line(explained_variance_df, x='n_components', y='explained_variance_sum', markers=True,\n",
        "              title='Explained Variance vs. Number of Components',\n",
        "              labels={'n_components': 'Number of Components', 'explained_variance_sum': 'Explained Variance'})\n",
        "\n",
        "fig.add_hline(y=0.8, line_width=1, line_dash=\"dot\", line_color=\"red\")\n",
        "fig.add_hline(y=0.9, line_width=1, line_dash=\"dot\", line_color=\"green\")\n",
        "\n",
        "# Show the plot\n",
        "fig.show()"
      ]
    },
    {
      "cell_type": "markdown",
      "metadata": {
        "id": "dT3ZzIYO1wdM"
      },
      "source": [
        "### The line chart shows the explained variance on the y-axis and the number of components on the x-axis. As the number of components increases, the explained variance also increases, approaching 100% when all components are included.\n",
        "\n",
        "\n",
        "*   ***80% Variance:*** To achieve 80% of the variance, `13` components are required.\n",
        "*   ***90% Variance:*** To achieve 90% of the variance, `21` components are required."
      ]
    },
    {
      "cell_type": "markdown",
      "metadata": {
        "id": "e6nVxPVTtlDG"
      },
      "source": [
        "### Scree Plot"
      ]
    },
    {
      "cell_type": "code",
      "execution_count": 38,
      "metadata": {
        "colab": {
          "base_uri": "https://localhost:8080/",
          "height": 542
        },
        "collapsed": true,
        "id": "stmtd1M1Kg5y",
        "outputId": "319b0032-7aa1-4181-fe65-f787efa584de"
      },
      "outputs": [
        {
          "data": {
            "application/vnd.plotly.v1+json": {
              "config": {
                "plotlyServerURL": "https://plot.ly"
              },
              "data": [
                {
                  "mode": "lines+markers",
                  "type": "scatter",
                  "x": [
                    1,
                    2,
                    3,
                    4,
                    5,
                    6,
                    7,
                    8,
                    9,
                    10,
                    11,
                    12,
                    13,
                    14,
                    15,
                    16,
                    17,
                    18,
                    19,
                    20,
                    21,
                    22,
                    23,
                    24,
                    25,
                    26,
                    27,
                    28,
                    29,
                    30,
                    31,
                    32,
                    33,
                    34,
                    35,
                    36,
                    37,
                    38,
                    39,
                    40,
                    41,
                    42
                  ],
                  "y": {
                    "bdata": "T2pFHGIGIkDTTrcNFw4cQMp74g8xFRBAdskZ3R7jBkASUG5PNFH+P5fBT2lEQ/k//QfxogMk9T/fUK57oU7yP81X02UOavE/lqqC2agf8D+H900ZZiTvP3+nGx/fkOw/fEGUivj86T8xhOtHQqzmP0iUUZMhaOQ/gjYB2loP4z99Yd0Tr0ziPwP/JVdlw+E/yCJ0gfVc4D9RzEYJ9STdP35+RPYRwNk/w7v1FTEV2T8VU+TuG0PYP8pK+qhbm9U/Cyx3yF040z8n+L2MUbLSPx8VTTMKVtA/6NMqzkXPzz+hZjXI9GTOP6nqzlnprMs/CUfXKJpxyj+LceK/mUfJP2DQfW+sPcg/Qx4aZqw0xz8goOS7xQ3DP7+VGbDLAbw/jaNHcAettj/Itf0PMHmwP+i6BtHzfqc/KHq12444oj/OzyI62UmHP8Ry3Q4df20/",
                    "dtype": "f8"
                  }
                }
              ],
              "layout": {
                "shapes": [
                  {
                    "line": {
                      "color": "blue",
                      "dash": "dot",
                      "width": 1
                    },
                    "type": "line",
                    "x0": 0,
                    "x1": 1,
                    "xref": "x domain",
                    "y0": 1,
                    "y1": 1,
                    "yref": "y"
                  }
                ],
                "template": {
                  "data": {
                    "bar": [
                      {
                        "error_x": {
                          "color": "#2a3f5f"
                        },
                        "error_y": {
                          "color": "#2a3f5f"
                        },
                        "marker": {
                          "line": {
                            "color": "white",
                            "width": 0.5
                          },
                          "pattern": {
                            "fillmode": "overlay",
                            "size": 10,
                            "solidity": 0.2
                          }
                        },
                        "type": "bar"
                      }
                    ],
                    "barpolar": [
                      {
                        "marker": {
                          "line": {
                            "color": "white",
                            "width": 0.5
                          },
                          "pattern": {
                            "fillmode": "overlay",
                            "size": 10,
                            "solidity": 0.2
                          }
                        },
                        "type": "barpolar"
                      }
                    ],
                    "carpet": [
                      {
                        "aaxis": {
                          "endlinecolor": "#2a3f5f",
                          "gridcolor": "#C8D4E3",
                          "linecolor": "#C8D4E3",
                          "minorgridcolor": "#C8D4E3",
                          "startlinecolor": "#2a3f5f"
                        },
                        "baxis": {
                          "endlinecolor": "#2a3f5f",
                          "gridcolor": "#C8D4E3",
                          "linecolor": "#C8D4E3",
                          "minorgridcolor": "#C8D4E3",
                          "startlinecolor": "#2a3f5f"
                        },
                        "type": "carpet"
                      }
                    ],
                    "choropleth": [
                      {
                        "colorbar": {
                          "outlinewidth": 0,
                          "ticks": ""
                        },
                        "type": "choropleth"
                      }
                    ],
                    "contour": [
                      {
                        "colorbar": {
                          "outlinewidth": 0,
                          "ticks": ""
                        },
                        "colorscale": [
                          [
                            0,
                            "#0d0887"
                          ],
                          [
                            0.1111111111111111,
                            "#46039f"
                          ],
                          [
                            0.2222222222222222,
                            "#7201a8"
                          ],
                          [
                            0.3333333333333333,
                            "#9c179e"
                          ],
                          [
                            0.4444444444444444,
                            "#bd3786"
                          ],
                          [
                            0.5555555555555556,
                            "#d8576b"
                          ],
                          [
                            0.6666666666666666,
                            "#ed7953"
                          ],
                          [
                            0.7777777777777778,
                            "#fb9f3a"
                          ],
                          [
                            0.8888888888888888,
                            "#fdca26"
                          ],
                          [
                            1,
                            "#f0f921"
                          ]
                        ],
                        "type": "contour"
                      }
                    ],
                    "contourcarpet": [
                      {
                        "colorbar": {
                          "outlinewidth": 0,
                          "ticks": ""
                        },
                        "type": "contourcarpet"
                      }
                    ],
                    "heatmap": [
                      {
                        "colorbar": {
                          "outlinewidth": 0,
                          "ticks": ""
                        },
                        "colorscale": [
                          [
                            0,
                            "#0d0887"
                          ],
                          [
                            0.1111111111111111,
                            "#46039f"
                          ],
                          [
                            0.2222222222222222,
                            "#7201a8"
                          ],
                          [
                            0.3333333333333333,
                            "#9c179e"
                          ],
                          [
                            0.4444444444444444,
                            "#bd3786"
                          ],
                          [
                            0.5555555555555556,
                            "#d8576b"
                          ],
                          [
                            0.6666666666666666,
                            "#ed7953"
                          ],
                          [
                            0.7777777777777778,
                            "#fb9f3a"
                          ],
                          [
                            0.8888888888888888,
                            "#fdca26"
                          ],
                          [
                            1,
                            "#f0f921"
                          ]
                        ],
                        "type": "heatmap"
                      }
                    ],
                    "histogram": [
                      {
                        "marker": {
                          "pattern": {
                            "fillmode": "overlay",
                            "size": 10,
                            "solidity": 0.2
                          }
                        },
                        "type": "histogram"
                      }
                    ],
                    "histogram2d": [
                      {
                        "colorbar": {
                          "outlinewidth": 0,
                          "ticks": ""
                        },
                        "colorscale": [
                          [
                            0,
                            "#0d0887"
                          ],
                          [
                            0.1111111111111111,
                            "#46039f"
                          ],
                          [
                            0.2222222222222222,
                            "#7201a8"
                          ],
                          [
                            0.3333333333333333,
                            "#9c179e"
                          ],
                          [
                            0.4444444444444444,
                            "#bd3786"
                          ],
                          [
                            0.5555555555555556,
                            "#d8576b"
                          ],
                          [
                            0.6666666666666666,
                            "#ed7953"
                          ],
                          [
                            0.7777777777777778,
                            "#fb9f3a"
                          ],
                          [
                            0.8888888888888888,
                            "#fdca26"
                          ],
                          [
                            1,
                            "#f0f921"
                          ]
                        ],
                        "type": "histogram2d"
                      }
                    ],
                    "histogram2dcontour": [
                      {
                        "colorbar": {
                          "outlinewidth": 0,
                          "ticks": ""
                        },
                        "colorscale": [
                          [
                            0,
                            "#0d0887"
                          ],
                          [
                            0.1111111111111111,
                            "#46039f"
                          ],
                          [
                            0.2222222222222222,
                            "#7201a8"
                          ],
                          [
                            0.3333333333333333,
                            "#9c179e"
                          ],
                          [
                            0.4444444444444444,
                            "#bd3786"
                          ],
                          [
                            0.5555555555555556,
                            "#d8576b"
                          ],
                          [
                            0.6666666666666666,
                            "#ed7953"
                          ],
                          [
                            0.7777777777777778,
                            "#fb9f3a"
                          ],
                          [
                            0.8888888888888888,
                            "#fdca26"
                          ],
                          [
                            1,
                            "#f0f921"
                          ]
                        ],
                        "type": "histogram2dcontour"
                      }
                    ],
                    "mesh3d": [
                      {
                        "colorbar": {
                          "outlinewidth": 0,
                          "ticks": ""
                        },
                        "type": "mesh3d"
                      }
                    ],
                    "parcoords": [
                      {
                        "line": {
                          "colorbar": {
                            "outlinewidth": 0,
                            "ticks": ""
                          }
                        },
                        "type": "parcoords"
                      }
                    ],
                    "pie": [
                      {
                        "automargin": true,
                        "type": "pie"
                      }
                    ],
                    "scatter": [
                      {
                        "fillpattern": {
                          "fillmode": "overlay",
                          "size": 10,
                          "solidity": 0.2
                        },
                        "type": "scatter"
                      }
                    ],
                    "scatter3d": [
                      {
                        "line": {
                          "colorbar": {
                            "outlinewidth": 0,
                            "ticks": ""
                          }
                        },
                        "marker": {
                          "colorbar": {
                            "outlinewidth": 0,
                            "ticks": ""
                          }
                        },
                        "type": "scatter3d"
                      }
                    ],
                    "scattercarpet": [
                      {
                        "marker": {
                          "colorbar": {
                            "outlinewidth": 0,
                            "ticks": ""
                          }
                        },
                        "type": "scattercarpet"
                      }
                    ],
                    "scattergeo": [
                      {
                        "marker": {
                          "colorbar": {
                            "outlinewidth": 0,
                            "ticks": ""
                          }
                        },
                        "type": "scattergeo"
                      }
                    ],
                    "scattergl": [
                      {
                        "marker": {
                          "colorbar": {
                            "outlinewidth": 0,
                            "ticks": ""
                          }
                        },
                        "type": "scattergl"
                      }
                    ],
                    "scattermap": [
                      {
                        "marker": {
                          "colorbar": {
                            "outlinewidth": 0,
                            "ticks": ""
                          }
                        },
                        "type": "scattermap"
                      }
                    ],
                    "scattermapbox": [
                      {
                        "marker": {
                          "colorbar": {
                            "outlinewidth": 0,
                            "ticks": ""
                          }
                        },
                        "type": "scattermapbox"
                      }
                    ],
                    "scatterpolar": [
                      {
                        "marker": {
                          "colorbar": {
                            "outlinewidth": 0,
                            "ticks": ""
                          }
                        },
                        "type": "scatterpolar"
                      }
                    ],
                    "scatterpolargl": [
                      {
                        "marker": {
                          "colorbar": {
                            "outlinewidth": 0,
                            "ticks": ""
                          }
                        },
                        "type": "scatterpolargl"
                      }
                    ],
                    "scatterternary": [
                      {
                        "marker": {
                          "colorbar": {
                            "outlinewidth": 0,
                            "ticks": ""
                          }
                        },
                        "type": "scatterternary"
                      }
                    ],
                    "surface": [
                      {
                        "colorbar": {
                          "outlinewidth": 0,
                          "ticks": ""
                        },
                        "colorscale": [
                          [
                            0,
                            "#0d0887"
                          ],
                          [
                            0.1111111111111111,
                            "#46039f"
                          ],
                          [
                            0.2222222222222222,
                            "#7201a8"
                          ],
                          [
                            0.3333333333333333,
                            "#9c179e"
                          ],
                          [
                            0.4444444444444444,
                            "#bd3786"
                          ],
                          [
                            0.5555555555555556,
                            "#d8576b"
                          ],
                          [
                            0.6666666666666666,
                            "#ed7953"
                          ],
                          [
                            0.7777777777777778,
                            "#fb9f3a"
                          ],
                          [
                            0.8888888888888888,
                            "#fdca26"
                          ],
                          [
                            1,
                            "#f0f921"
                          ]
                        ],
                        "type": "surface"
                      }
                    ],
                    "table": [
                      {
                        "cells": {
                          "fill": {
                            "color": "#EBF0F8"
                          },
                          "line": {
                            "color": "white"
                          }
                        },
                        "header": {
                          "fill": {
                            "color": "#C8D4E3"
                          },
                          "line": {
                            "color": "white"
                          }
                        },
                        "type": "table"
                      }
                    ]
                  },
                  "layout": {
                    "annotationdefaults": {
                      "arrowcolor": "#2a3f5f",
                      "arrowhead": 0,
                      "arrowwidth": 1
                    },
                    "autotypenumbers": "strict",
                    "coloraxis": {
                      "colorbar": {
                        "outlinewidth": 0,
                        "ticks": ""
                      }
                    },
                    "colorscale": {
                      "diverging": [
                        [
                          0,
                          "#8e0152"
                        ],
                        [
                          0.1,
                          "#c51b7d"
                        ],
                        [
                          0.2,
                          "#de77ae"
                        ],
                        [
                          0.3,
                          "#f1b6da"
                        ],
                        [
                          0.4,
                          "#fde0ef"
                        ],
                        [
                          0.5,
                          "#f7f7f7"
                        ],
                        [
                          0.6,
                          "#e6f5d0"
                        ],
                        [
                          0.7,
                          "#b8e186"
                        ],
                        [
                          0.8,
                          "#7fbc41"
                        ],
                        [
                          0.9,
                          "#4d9221"
                        ],
                        [
                          1,
                          "#276419"
                        ]
                      ],
                      "sequential": [
                        [
                          0,
                          "#0d0887"
                        ],
                        [
                          0.1111111111111111,
                          "#46039f"
                        ],
                        [
                          0.2222222222222222,
                          "#7201a8"
                        ],
                        [
                          0.3333333333333333,
                          "#9c179e"
                        ],
                        [
                          0.4444444444444444,
                          "#bd3786"
                        ],
                        [
                          0.5555555555555556,
                          "#d8576b"
                        ],
                        [
                          0.6666666666666666,
                          "#ed7953"
                        ],
                        [
                          0.7777777777777778,
                          "#fb9f3a"
                        ],
                        [
                          0.8888888888888888,
                          "#fdca26"
                        ],
                        [
                          1,
                          "#f0f921"
                        ]
                      ],
                      "sequentialminus": [
                        [
                          0,
                          "#0d0887"
                        ],
                        [
                          0.1111111111111111,
                          "#46039f"
                        ],
                        [
                          0.2222222222222222,
                          "#7201a8"
                        ],
                        [
                          0.3333333333333333,
                          "#9c179e"
                        ],
                        [
                          0.4444444444444444,
                          "#bd3786"
                        ],
                        [
                          0.5555555555555556,
                          "#d8576b"
                        ],
                        [
                          0.6666666666666666,
                          "#ed7953"
                        ],
                        [
                          0.7777777777777778,
                          "#fb9f3a"
                        ],
                        [
                          0.8888888888888888,
                          "#fdca26"
                        ],
                        [
                          1,
                          "#f0f921"
                        ]
                      ]
                    },
                    "colorway": [
                      "#636efa",
                      "#EF553B",
                      "#00cc96",
                      "#ab63fa",
                      "#FFA15A",
                      "#19d3f3",
                      "#FF6692",
                      "#B6E880",
                      "#FF97FF",
                      "#FECB52"
                    ],
                    "font": {
                      "color": "#2a3f5f"
                    },
                    "geo": {
                      "bgcolor": "white",
                      "lakecolor": "white",
                      "landcolor": "white",
                      "showlakes": true,
                      "showland": true,
                      "subunitcolor": "#C8D4E3"
                    },
                    "hoverlabel": {
                      "align": "left"
                    },
                    "hovermode": "closest",
                    "mapbox": {
                      "style": "light"
                    },
                    "paper_bgcolor": "white",
                    "plot_bgcolor": "white",
                    "polar": {
                      "angularaxis": {
                        "gridcolor": "#EBF0F8",
                        "linecolor": "#EBF0F8",
                        "ticks": ""
                      },
                      "bgcolor": "white",
                      "radialaxis": {
                        "gridcolor": "#EBF0F8",
                        "linecolor": "#EBF0F8",
                        "ticks": ""
                      }
                    },
                    "scene": {
                      "xaxis": {
                        "backgroundcolor": "white",
                        "gridcolor": "#DFE8F3",
                        "gridwidth": 2,
                        "linecolor": "#EBF0F8",
                        "showbackground": true,
                        "ticks": "",
                        "zerolinecolor": "#EBF0F8"
                      },
                      "yaxis": {
                        "backgroundcolor": "white",
                        "gridcolor": "#DFE8F3",
                        "gridwidth": 2,
                        "linecolor": "#EBF0F8",
                        "showbackground": true,
                        "ticks": "",
                        "zerolinecolor": "#EBF0F8"
                      },
                      "zaxis": {
                        "backgroundcolor": "white",
                        "gridcolor": "#DFE8F3",
                        "gridwidth": 2,
                        "linecolor": "#EBF0F8",
                        "showbackground": true,
                        "ticks": "",
                        "zerolinecolor": "#EBF0F8"
                      }
                    },
                    "shapedefaults": {
                      "line": {
                        "color": "#2a3f5f"
                      }
                    },
                    "ternary": {
                      "aaxis": {
                        "gridcolor": "#DFE8F3",
                        "linecolor": "#A2B1C6",
                        "ticks": ""
                      },
                      "baxis": {
                        "gridcolor": "#DFE8F3",
                        "linecolor": "#A2B1C6",
                        "ticks": ""
                      },
                      "bgcolor": "white",
                      "caxis": {
                        "gridcolor": "#DFE8F3",
                        "linecolor": "#A2B1C6",
                        "ticks": ""
                      }
                    },
                    "title": {
                      "x": 0.05
                    },
                    "xaxis": {
                      "automargin": true,
                      "gridcolor": "#EBF0F8",
                      "linecolor": "#EBF0F8",
                      "ticks": "",
                      "title": {
                        "standoff": 15
                      },
                      "zerolinecolor": "#EBF0F8",
                      "zerolinewidth": 2
                    },
                    "yaxis": {
                      "automargin": true,
                      "gridcolor": "#EBF0F8",
                      "linecolor": "#EBF0F8",
                      "ticks": "",
                      "title": {
                        "standoff": 15
                      },
                      "zerolinecolor": "#EBF0F8",
                      "zerolinewidth": 2
                    }
                  }
                },
                "title": {
                  "text": "Scree Plot"
                },
                "xaxis": {
                  "title": {
                    "text": "Number of Components"
                  }
                },
                "yaxis": {
                  "title": {
                    "text": "Eigenvalue"
                  }
                }
              }
            }
          },
          "metadata": {},
          "output_type": "display_data"
        }
      ],
      "source": [
        "import plotly.graph_objects as go\n",
        "\n",
        "# Get the eigenvalues (explained variance)\n",
        "eigenvalues = pca.explained_variance_\n",
        "\n",
        "# Plot the scree plot using Plotly\n",
        "fig = go.Figure()\n",
        "fig.add_trace(go.Scatter(x=list(range(1, len(eigenvalues) + 1)), y=eigenvalues, mode='lines+markers'))\n",
        "\n",
        "fig.update_layout(title='Scree Plot', xaxis_title='Number of Components',\n",
        "    yaxis_title='Eigenvalue', template='plotly_white'\n",
        ")\n",
        "fig.add_hline(y=1, line_width=1, line_dash=\"dot\", line_color=\"blue\", )\n",
        "fig.show()"
      ]
    },
    {
      "cell_type": "markdown",
      "metadata": {
        "id": "cAfIaEVV6MYn"
      },
      "source": [
        "The scree plot shows that the eigenvalues decrease as the number of components increases. The \"elbow\" point, where the curve starts to flatten, is at the first component. This indicates that the first component captures the most significant variance, and additional components contribute less significantly to the total variance.\n",
        "\n",
        "*   The greatest number of components where the eigenvalue is greater than one: `10`\n",
        "*   The curve shows an elbow bend starting at `component 4` and continuing through component 9`, after which the increase in explained variance becomes significantly smaller.\n"
      ]
    },
    {
      "cell_type": "markdown",
      "metadata": {
        "id": "wO14U8y6jRBT"
      },
      "source": [
        "### Optimal Number of Components"
      ]
    },
    {
      "cell_type": "markdown",
      "metadata": {
        "id": "bw-ZPV_OjWmr"
      },
      "source": [
        "Answer: `21 components`\n",
        "\n",
        "Based on the explained variance and scree plot analyses, I would select `21` components for this music recommendation dataset. This choice preserves `90%` of the variance, striking a good balance between reducing dimensionality and retaining most of the information. I also considered using  `10` as the scree plot shows eigenvalues greater than `1`."
      ]
    },
    {
      "cell_type": "markdown",
      "metadata": {
        "id": "zo9Ux2OELea4"
      },
      "source": [
        "## Artist Classification (Reduced Feature Embeddings)"
      ]
    },
    {
      "cell_type": "code",
      "execution_count": 39,
      "metadata": {
        "colab": {
          "base_uri": "https://localhost:8080/"
        },
        "collapsed": true,
        "id": "IxZZYSFgKrcZ",
        "outputId": "5e5c0618-8d9e-40e7-eb2a-ade80ec0f750"
      },
      "outputs": [
        {
          "name": "stdout",
          "output_type": "stream",
          "text": [
            "Sum of explained variance with 21 components: 0.9062\n"
          ]
        }
      ],
      "source": [
        "# Number of components identified in PCA Tuning \n",
        "n_components = 21\n",
        "\n",
        "# Train PCA model on the scaled data with the identified number of components\n",
        "pca = PCA(n_components=n_components, random_state=99)\n",
        "reduced_embeddings = pca.fit_transform(x_scaled)\n",
        "\n",
        "# Print the sum of explained variance when using this number of components\n",
        "explained_variance_sum = pca.explained_variance_ratio_.sum()\n",
        "print(f\"Sum of explained variance with {n_components} components: {explained_variance_sum:.4f}\")"
      ]
    },
    {
      "cell_type": "code",
      "execution_count": 40,
      "metadata": {
        "id": "-jbSFBgZK8UT"
      },
      "outputs": [],
      "source": [
        "# Store the embeddings in a pandas DataFrame with appropriate column names and index values\n",
        "column_names = [f'PC{i}' for i in range(1, n_components + 1)]\n",
        "reduced_embeddings_df = pd.DataFrame(reduced_embeddings, columns=column_names, index=df[\"artist_name\"])\n",
        "\n",
        "# Add / merge the artist name labels back in for charting later\n",
        "reduced_embeddings_df['artist_name'] = df['artist_name'].values"
      ]
    },
    {
      "cell_type": "code",
      "execution_count": 41,
      "metadata": {
        "id": "Amr-gZ8kPl7-"
      },
      "outputs": [],
      "source": [
        "# Perform train/test split using the embeddings as the features\n",
        "X_train, X_test, y_train, y_test = train_test_split(reduced_embeddings_df[column_names], reduced_embeddings_df['artist_name'], test_size=0.2, random_state=99)"
      ]
    },
    {
      "cell_type": "code",
      "execution_count": 42,
      "metadata": {
        "colab": {
          "base_uri": "https://localhost:8080/",
          "height": 80
        },
        "collapsed": true,
        "id": "0MtJXwUCLmTY",
        "outputId": "7ce00d0c-f98b-44b0-d149-75625552c9ac"
      },
      "outputs": [
        {
          "data": {
            "text/html": [
              "<style>#sk-container-id-2 {\n",
              "  /* Definition of color scheme common for light and dark mode */\n",
              "  --sklearn-color-text: #000;\n",
              "  --sklearn-color-text-muted: #666;\n",
              "  --sklearn-color-line: gray;\n",
              "  /* Definition of color scheme for unfitted estimators */\n",
              "  --sklearn-color-unfitted-level-0: #fff5e6;\n",
              "  --sklearn-color-unfitted-level-1: #f6e4d2;\n",
              "  --sklearn-color-unfitted-level-2: #ffe0b3;\n",
              "  --sklearn-color-unfitted-level-3: chocolate;\n",
              "  /* Definition of color scheme for fitted estimators */\n",
              "  --sklearn-color-fitted-level-0: #f0f8ff;\n",
              "  --sklearn-color-fitted-level-1: #d4ebff;\n",
              "  --sklearn-color-fitted-level-2: #b3dbfd;\n",
              "  --sklearn-color-fitted-level-3: cornflowerblue;\n",
              "\n",
              "  /* Specific color for light theme */\n",
              "  --sklearn-color-text-on-default-background: var(--sg-text-color, var(--theme-code-foreground, var(--jp-content-font-color1, black)));\n",
              "  --sklearn-color-background: var(--sg-background-color, var(--theme-background, var(--jp-layout-color0, white)));\n",
              "  --sklearn-color-border-box: var(--sg-text-color, var(--theme-code-foreground, var(--jp-content-font-color1, black)));\n",
              "  --sklearn-color-icon: #696969;\n",
              "\n",
              "  @media (prefers-color-scheme: dark) {\n",
              "    /* Redefinition of color scheme for dark theme */\n",
              "    --sklearn-color-text-on-default-background: var(--sg-text-color, var(--theme-code-foreground, var(--jp-content-font-color1, white)));\n",
              "    --sklearn-color-background: var(--sg-background-color, var(--theme-background, var(--jp-layout-color0, #111)));\n",
              "    --sklearn-color-border-box: var(--sg-text-color, var(--theme-code-foreground, var(--jp-content-font-color1, white)));\n",
              "    --sklearn-color-icon: #878787;\n",
              "  }\n",
              "}\n",
              "\n",
              "#sk-container-id-2 {\n",
              "  color: var(--sklearn-color-text);\n",
              "}\n",
              "\n",
              "#sk-container-id-2 pre {\n",
              "  padding: 0;\n",
              "}\n",
              "\n",
              "#sk-container-id-2 input.sk-hidden--visually {\n",
              "  border: 0;\n",
              "  clip: rect(1px 1px 1px 1px);\n",
              "  clip: rect(1px, 1px, 1px, 1px);\n",
              "  height: 1px;\n",
              "  margin: -1px;\n",
              "  overflow: hidden;\n",
              "  padding: 0;\n",
              "  position: absolute;\n",
              "  width: 1px;\n",
              "}\n",
              "\n",
              "#sk-container-id-2 div.sk-dashed-wrapped {\n",
              "  border: 1px dashed var(--sklearn-color-line);\n",
              "  margin: 0 0.4em 0.5em 0.4em;\n",
              "  box-sizing: border-box;\n",
              "  padding-bottom: 0.4em;\n",
              "  background-color: var(--sklearn-color-background);\n",
              "}\n",
              "\n",
              "#sk-container-id-2 div.sk-container {\n",
              "  /* jupyter's `normalize.less` sets `[hidden] { display: none; }`\n",
              "     but bootstrap.min.css set `[hidden] { display: none !important; }`\n",
              "     so we also need the `!important` here to be able to override the\n",
              "     default hidden behavior on the sphinx rendered scikit-learn.org.\n",
              "     See: https://github.com/scikit-learn/scikit-learn/issues/21755 */\n",
              "  display: inline-block !important;\n",
              "  position: relative;\n",
              "}\n",
              "\n",
              "#sk-container-id-2 div.sk-text-repr-fallback {\n",
              "  display: none;\n",
              "}\n",
              "\n",
              "div.sk-parallel-item,\n",
              "div.sk-serial,\n",
              "div.sk-item {\n",
              "  /* draw centered vertical line to link estimators */\n",
              "  background-image: linear-gradient(var(--sklearn-color-text-on-default-background), var(--sklearn-color-text-on-default-background));\n",
              "  background-size: 2px 100%;\n",
              "  background-repeat: no-repeat;\n",
              "  background-position: center center;\n",
              "}\n",
              "\n",
              "/* Parallel-specific style estimator block */\n",
              "\n",
              "#sk-container-id-2 div.sk-parallel-item::after {\n",
              "  content: \"\";\n",
              "  width: 100%;\n",
              "  border-bottom: 2px solid var(--sklearn-color-text-on-default-background);\n",
              "  flex-grow: 1;\n",
              "}\n",
              "\n",
              "#sk-container-id-2 div.sk-parallel {\n",
              "  display: flex;\n",
              "  align-items: stretch;\n",
              "  justify-content: center;\n",
              "  background-color: var(--sklearn-color-background);\n",
              "  position: relative;\n",
              "}\n",
              "\n",
              "#sk-container-id-2 div.sk-parallel-item {\n",
              "  display: flex;\n",
              "  flex-direction: column;\n",
              "}\n",
              "\n",
              "#sk-container-id-2 div.sk-parallel-item:first-child::after {\n",
              "  align-self: flex-end;\n",
              "  width: 50%;\n",
              "}\n",
              "\n",
              "#sk-container-id-2 div.sk-parallel-item:last-child::after {\n",
              "  align-self: flex-start;\n",
              "  width: 50%;\n",
              "}\n",
              "\n",
              "#sk-container-id-2 div.sk-parallel-item:only-child::after {\n",
              "  width: 0;\n",
              "}\n",
              "\n",
              "/* Serial-specific style estimator block */\n",
              "\n",
              "#sk-container-id-2 div.sk-serial {\n",
              "  display: flex;\n",
              "  flex-direction: column;\n",
              "  align-items: center;\n",
              "  background-color: var(--sklearn-color-background);\n",
              "  padding-right: 1em;\n",
              "  padding-left: 1em;\n",
              "}\n",
              "\n",
              "\n",
              "/* Toggleable style: style used for estimator/Pipeline/ColumnTransformer box that is\n",
              "clickable and can be expanded/collapsed.\n",
              "- Pipeline and ColumnTransformer use this feature and define the default style\n",
              "- Estimators will overwrite some part of the style using the `sk-estimator` class\n",
              "*/\n",
              "\n",
              "/* Pipeline and ColumnTransformer style (default) */\n",
              "\n",
              "#sk-container-id-2 div.sk-toggleable {\n",
              "  /* Default theme specific background. It is overwritten whether we have a\n",
              "  specific estimator or a Pipeline/ColumnTransformer */\n",
              "  background-color: var(--sklearn-color-background);\n",
              "}\n",
              "\n",
              "/* Toggleable label */\n",
              "#sk-container-id-2 label.sk-toggleable__label {\n",
              "  cursor: pointer;\n",
              "  display: flex;\n",
              "  width: 100%;\n",
              "  margin-bottom: 0;\n",
              "  padding: 0.5em;\n",
              "  box-sizing: border-box;\n",
              "  text-align: center;\n",
              "  align-items: start;\n",
              "  justify-content: space-between;\n",
              "  gap: 0.5em;\n",
              "}\n",
              "\n",
              "#sk-container-id-2 label.sk-toggleable__label .caption {\n",
              "  font-size: 0.6rem;\n",
              "  font-weight: lighter;\n",
              "  color: var(--sklearn-color-text-muted);\n",
              "}\n",
              "\n",
              "#sk-container-id-2 label.sk-toggleable__label-arrow:before {\n",
              "  /* Arrow on the left of the label */\n",
              "  content: \"▸\";\n",
              "  float: left;\n",
              "  margin-right: 0.25em;\n",
              "  color: var(--sklearn-color-icon);\n",
              "}\n",
              "\n",
              "#sk-container-id-2 label.sk-toggleable__label-arrow:hover:before {\n",
              "  color: var(--sklearn-color-text);\n",
              "}\n",
              "\n",
              "/* Toggleable content - dropdown */\n",
              "\n",
              "#sk-container-id-2 div.sk-toggleable__content {\n",
              "  max-height: 0;\n",
              "  max-width: 0;\n",
              "  overflow: hidden;\n",
              "  text-align: left;\n",
              "  /* unfitted */\n",
              "  background-color: var(--sklearn-color-unfitted-level-0);\n",
              "}\n",
              "\n",
              "#sk-container-id-2 div.sk-toggleable__content.fitted {\n",
              "  /* fitted */\n",
              "  background-color: var(--sklearn-color-fitted-level-0);\n",
              "}\n",
              "\n",
              "#sk-container-id-2 div.sk-toggleable__content pre {\n",
              "  margin: 0.2em;\n",
              "  border-radius: 0.25em;\n",
              "  color: var(--sklearn-color-text);\n",
              "  /* unfitted */\n",
              "  background-color: var(--sklearn-color-unfitted-level-0);\n",
              "}\n",
              "\n",
              "#sk-container-id-2 div.sk-toggleable__content.fitted pre {\n",
              "  /* unfitted */\n",
              "  background-color: var(--sklearn-color-fitted-level-0);\n",
              "}\n",
              "\n",
              "#sk-container-id-2 input.sk-toggleable__control:checked~div.sk-toggleable__content {\n",
              "  /* Expand drop-down */\n",
              "  max-height: 200px;\n",
              "  max-width: 100%;\n",
              "  overflow: auto;\n",
              "}\n",
              "\n",
              "#sk-container-id-2 input.sk-toggleable__control:checked~label.sk-toggleable__label-arrow:before {\n",
              "  content: \"▾\";\n",
              "}\n",
              "\n",
              "/* Pipeline/ColumnTransformer-specific style */\n",
              "\n",
              "#sk-container-id-2 div.sk-label input.sk-toggleable__control:checked~label.sk-toggleable__label {\n",
              "  color: var(--sklearn-color-text);\n",
              "  background-color: var(--sklearn-color-unfitted-level-2);\n",
              "}\n",
              "\n",
              "#sk-container-id-2 div.sk-label.fitted input.sk-toggleable__control:checked~label.sk-toggleable__label {\n",
              "  background-color: var(--sklearn-color-fitted-level-2);\n",
              "}\n",
              "\n",
              "/* Estimator-specific style */\n",
              "\n",
              "/* Colorize estimator box */\n",
              "#sk-container-id-2 div.sk-estimator input.sk-toggleable__control:checked~label.sk-toggleable__label {\n",
              "  /* unfitted */\n",
              "  background-color: var(--sklearn-color-unfitted-level-2);\n",
              "}\n",
              "\n",
              "#sk-container-id-2 div.sk-estimator.fitted input.sk-toggleable__control:checked~label.sk-toggleable__label {\n",
              "  /* fitted */\n",
              "  background-color: var(--sklearn-color-fitted-level-2);\n",
              "}\n",
              "\n",
              "#sk-container-id-2 div.sk-label label.sk-toggleable__label,\n",
              "#sk-container-id-2 div.sk-label label {\n",
              "  /* The background is the default theme color */\n",
              "  color: var(--sklearn-color-text-on-default-background);\n",
              "}\n",
              "\n",
              "/* On hover, darken the color of the background */\n",
              "#sk-container-id-2 div.sk-label:hover label.sk-toggleable__label {\n",
              "  color: var(--sklearn-color-text);\n",
              "  background-color: var(--sklearn-color-unfitted-level-2);\n",
              "}\n",
              "\n",
              "/* Label box, darken color on hover, fitted */\n",
              "#sk-container-id-2 div.sk-label.fitted:hover label.sk-toggleable__label.fitted {\n",
              "  color: var(--sklearn-color-text);\n",
              "  background-color: var(--sklearn-color-fitted-level-2);\n",
              "}\n",
              "\n",
              "/* Estimator label */\n",
              "\n",
              "#sk-container-id-2 div.sk-label label {\n",
              "  font-family: monospace;\n",
              "  font-weight: bold;\n",
              "  display: inline-block;\n",
              "  line-height: 1.2em;\n",
              "}\n",
              "\n",
              "#sk-container-id-2 div.sk-label-container {\n",
              "  text-align: center;\n",
              "}\n",
              "\n",
              "/* Estimator-specific */\n",
              "#sk-container-id-2 div.sk-estimator {\n",
              "  font-family: monospace;\n",
              "  border: 1px dotted var(--sklearn-color-border-box);\n",
              "  border-radius: 0.25em;\n",
              "  box-sizing: border-box;\n",
              "  margin-bottom: 0.5em;\n",
              "  /* unfitted */\n",
              "  background-color: var(--sklearn-color-unfitted-level-0);\n",
              "}\n",
              "\n",
              "#sk-container-id-2 div.sk-estimator.fitted {\n",
              "  /* fitted */\n",
              "  background-color: var(--sklearn-color-fitted-level-0);\n",
              "}\n",
              "\n",
              "/* on hover */\n",
              "#sk-container-id-2 div.sk-estimator:hover {\n",
              "  /* unfitted */\n",
              "  background-color: var(--sklearn-color-unfitted-level-2);\n",
              "}\n",
              "\n",
              "#sk-container-id-2 div.sk-estimator.fitted:hover {\n",
              "  /* fitted */\n",
              "  background-color: var(--sklearn-color-fitted-level-2);\n",
              "}\n",
              "\n",
              "/* Specification for estimator info (e.g. \"i\" and \"?\") */\n",
              "\n",
              "/* Common style for \"i\" and \"?\" */\n",
              "\n",
              ".sk-estimator-doc-link,\n",
              "a:link.sk-estimator-doc-link,\n",
              "a:visited.sk-estimator-doc-link {\n",
              "  float: right;\n",
              "  font-size: smaller;\n",
              "  line-height: 1em;\n",
              "  font-family: monospace;\n",
              "  background-color: var(--sklearn-color-background);\n",
              "  border-radius: 1em;\n",
              "  height: 1em;\n",
              "  width: 1em;\n",
              "  text-decoration: none !important;\n",
              "  margin-left: 0.5em;\n",
              "  text-align: center;\n",
              "  /* unfitted */\n",
              "  border: var(--sklearn-color-unfitted-level-1) 1pt solid;\n",
              "  color: var(--sklearn-color-unfitted-level-1);\n",
              "}\n",
              "\n",
              ".sk-estimator-doc-link.fitted,\n",
              "a:link.sk-estimator-doc-link.fitted,\n",
              "a:visited.sk-estimator-doc-link.fitted {\n",
              "  /* fitted */\n",
              "  border: var(--sklearn-color-fitted-level-1) 1pt solid;\n",
              "  color: var(--sklearn-color-fitted-level-1);\n",
              "}\n",
              "\n",
              "/* On hover */\n",
              "div.sk-estimator:hover .sk-estimator-doc-link:hover,\n",
              ".sk-estimator-doc-link:hover,\n",
              "div.sk-label-container:hover .sk-estimator-doc-link:hover,\n",
              ".sk-estimator-doc-link:hover {\n",
              "  /* unfitted */\n",
              "  background-color: var(--sklearn-color-unfitted-level-3);\n",
              "  color: var(--sklearn-color-background);\n",
              "  text-decoration: none;\n",
              "}\n",
              "\n",
              "div.sk-estimator.fitted:hover .sk-estimator-doc-link.fitted:hover,\n",
              ".sk-estimator-doc-link.fitted:hover,\n",
              "div.sk-label-container:hover .sk-estimator-doc-link.fitted:hover,\n",
              ".sk-estimator-doc-link.fitted:hover {\n",
              "  /* fitted */\n",
              "  background-color: var(--sklearn-color-fitted-level-3);\n",
              "  color: var(--sklearn-color-background);\n",
              "  text-decoration: none;\n",
              "}\n",
              "\n",
              "/* Span, style for the box shown on hovering the info icon */\n",
              ".sk-estimator-doc-link span {\n",
              "  display: none;\n",
              "  z-index: 9999;\n",
              "  position: relative;\n",
              "  font-weight: normal;\n",
              "  right: .2ex;\n",
              "  padding: .5ex;\n",
              "  margin: .5ex;\n",
              "  width: min-content;\n",
              "  min-width: 20ex;\n",
              "  max-width: 50ex;\n",
              "  color: var(--sklearn-color-text);\n",
              "  box-shadow: 2pt 2pt 4pt #999;\n",
              "  /* unfitted */\n",
              "  background: var(--sklearn-color-unfitted-level-0);\n",
              "  border: .5pt solid var(--sklearn-color-unfitted-level-3);\n",
              "}\n",
              "\n",
              ".sk-estimator-doc-link.fitted span {\n",
              "  /* fitted */\n",
              "  background: var(--sklearn-color-fitted-level-0);\n",
              "  border: var(--sklearn-color-fitted-level-3);\n",
              "}\n",
              "\n",
              ".sk-estimator-doc-link:hover span {\n",
              "  display: block;\n",
              "}\n",
              "\n",
              "/* \"?\"-specific style due to the `<a>` HTML tag */\n",
              "\n",
              "#sk-container-id-2 a.estimator_doc_link {\n",
              "  float: right;\n",
              "  font-size: 1rem;\n",
              "  line-height: 1em;\n",
              "  font-family: monospace;\n",
              "  background-color: var(--sklearn-color-background);\n",
              "  border-radius: 1rem;\n",
              "  height: 1rem;\n",
              "  width: 1rem;\n",
              "  text-decoration: none;\n",
              "  /* unfitted */\n",
              "  color: var(--sklearn-color-unfitted-level-1);\n",
              "  border: var(--sklearn-color-unfitted-level-1) 1pt solid;\n",
              "}\n",
              "\n",
              "#sk-container-id-2 a.estimator_doc_link.fitted {\n",
              "  /* fitted */\n",
              "  border: var(--sklearn-color-fitted-level-1) 1pt solid;\n",
              "  color: var(--sklearn-color-fitted-level-1);\n",
              "}\n",
              "\n",
              "/* On hover */\n",
              "#sk-container-id-2 a.estimator_doc_link:hover {\n",
              "  /* unfitted */\n",
              "  background-color: var(--sklearn-color-unfitted-level-3);\n",
              "  color: var(--sklearn-color-background);\n",
              "  text-decoration: none;\n",
              "}\n",
              "\n",
              "#sk-container-id-2 a.estimator_doc_link.fitted:hover {\n",
              "  /* fitted */\n",
              "  background-color: var(--sklearn-color-fitted-level-3);\n",
              "}\n",
              "</style><div id=\"sk-container-id-2\" class=\"sk-top-container\"><div class=\"sk-text-repr-fallback\"><pre>LogisticRegression(random_state=99)</pre><b>In a Jupyter environment, please rerun this cell to show the HTML representation or trust the notebook. <br />On GitHub, the HTML representation is unable to render, please try loading this page with nbviewer.org.</b></div><div class=\"sk-container\" hidden><div class=\"sk-item\"><div class=\"sk-estimator fitted sk-toggleable\"><input class=\"sk-toggleable__control sk-hidden--visually\" id=\"sk-estimator-id-2\" type=\"checkbox\" checked><label for=\"sk-estimator-id-2\" class=\"sk-toggleable__label fitted sk-toggleable__label-arrow\"><div><div>LogisticRegression</div></div><div><a class=\"sk-estimator-doc-link fitted\" rel=\"noreferrer\" target=\"_blank\" href=\"https://scikit-learn.org/1.6/modules/generated/sklearn.linear_model.LogisticRegression.html\">?<span>Documentation for LogisticRegression</span></a><span class=\"sk-estimator-doc-link fitted\">i<span>Fitted</span></span></div></label><div class=\"sk-toggleable__content fitted\"><pre>LogisticRegression(random_state=99)</pre></div> </div></div></div></div>"
            ],
            "text/plain": [
              "LogisticRegression(random_state=99)"
            ]
          },
          "execution_count": 42,
          "metadata": {},
          "output_type": "execute_result"
        }
      ],
      "source": [
        "# Train a LogisticRegression model using the embeddings training data\n",
        "model = LogisticRegression(random_state=99)\n",
        "model.fit(X_train, y_train)"
      ]
    },
    {
      "cell_type": "code",
      "execution_count": 43,
      "metadata": {
        "id": "TxJ8CBN5Pojl"
      },
      "outputs": [],
      "source": [
        "# Model Evaluation: Evaluate the model using a classification report.\n",
        "\n",
        "# Predictions\n",
        "y_pred = model.predict(X_test)\n",
        "y_pred_proba = model.predict_proba(X_test)[:, 1]"
      ]
    },
    {
      "cell_type": "code",
      "execution_count": 44,
      "metadata": {
        "colab": {
          "base_uri": "https://localhost:8080/"
        },
        "collapsed": true,
        "id": "AR_ebJqW02V_",
        "outputId": "88111079-87b6-44d0-f0c5-5bbd00cb168f"
      },
      "outputs": [
        {
          "name": "stdout",
          "output_type": "stream",
          "text": [
            "\n",
            "Classification Report:\n",
            "                   precision    recall  f1-score   support\n",
            "\n",
            "            ac_dc       1.00      1.00      1.00        11\n",
            "            adele       0.67      0.73      0.70        11\n",
            "      alicia_keys       0.50      0.45      0.48        11\n",
            "   andrea_bocelli       0.78      0.54      0.64        13\n",
            "    ariana_grande       0.56      0.56      0.56         9\n",
            "             bach       0.71      0.92      0.80        13\n",
            "        beethoven       0.89      0.89      0.89         9\n",
            "bruce_springsteen       0.48      0.87      0.62        15\n",
            "  chris_stapleton       0.68      0.94      0.79        18\n",
            "         coldplay       0.47      0.45      0.46        20\n",
            "           dr_dre       0.69      0.92      0.79        12\n",
            "    frank_sinatra       0.80      0.33      0.47        12\n",
            "     jason_aldean       0.55      0.75      0.63         8\n",
            "            jay_z       0.90      0.69      0.78        26\n",
            "    john_coltrane       0.97      0.80      0.88        35\n",
            "      john_legend       0.38      0.27      0.32        11\n",
            "       john_mayer       0.77      0.62      0.69        16\n",
            "     led_zeppelin       0.38      0.50      0.43        12\n",
            "    maggie_rogers       0.73      0.80      0.76        10\n",
            "      miles_davis       0.81      0.88      0.85        25\n",
            "       pink_floyd       0.74      0.74      0.74        19\n",
            "          rihanna       0.64      0.47      0.54        15\n",
            "     taylor_swift       0.67      0.64      0.65        22\n",
            "            tupac       0.89      0.73      0.80        11\n",
            "\n",
            "         accuracy                           0.70       364\n",
            "        macro avg       0.69      0.69      0.68       364\n",
            "     weighted avg       0.72      0.70      0.70       364\n",
            "\n"
          ]
        }
      ],
      "source": [
        "# Classification Report\n",
        "print(\"\\nClassification Report:\")\n",
        "print(classification_report(y_test, y_pred))"
      ]
    },
    {
      "cell_type": "code",
      "execution_count": 45,
      "metadata": {
        "colab": {
          "base_uri": "https://localhost:8080/",
          "height": 917
        },
        "collapsed": true,
        "id": "-C3XX3CBPZgy",
        "outputId": "adebed82-e099-40e9-ff69-b469470ca43e"
      },
      "outputs": [
        {
          "data": {
            "application/vnd.plotly.v1+json": {
              "config": {
                "plotlyServerURL": "https://plot.ly"
              },
              "data": [
                {
                  "coloraxis": "coloraxis",
                  "hovertemplate": "Predicted: %{x}<br>Actual: %{y}<br>color: %{z}<extra></extra>",
                  "name": "0",
                  "texttemplate": "%{z}",
                  "type": "heatmap",
                  "x": [
                    "ac_dc",
                    "adele",
                    "alicia_keys",
                    "andrea_bocelli",
                    "ariana_grande",
                    "bach",
                    "beethoven",
                    "bruce_springsteen",
                    "chris_stapleton",
                    "coldplay",
                    "dr_dre",
                    "frank_sinatra",
                    "jason_aldean",
                    "jay_z",
                    "john_coltrane",
                    "john_legend",
                    "john_mayer",
                    "led_zeppelin",
                    "maggie_rogers",
                    "miles_davis",
                    "pink_floyd",
                    "rihanna",
                    "taylor_swift",
                    "tupac"
                  ],
                  "xaxis": "x",
                  "y": [
                    "ac_dc",
                    "adele",
                    "alicia_keys",
                    "andrea_bocelli",
                    "ariana_grande",
                    "bach",
                    "beethoven",
                    "bruce_springsteen",
                    "chris_stapleton",
                    "coldplay",
                    "dr_dre",
                    "frank_sinatra",
                    "jason_aldean",
                    "jay_z",
                    "john_coltrane",
                    "john_legend",
                    "john_mayer",
                    "led_zeppelin",
                    "maggie_rogers",
                    "miles_davis",
                    "pink_floyd",
                    "rihanna",
                    "taylor_swift",
                    "tupac"
                  ],
                  "yaxis": "y",
                  "z": {
                    "bdata": "CwAAAAAAAAAAAAAAAAAAAAAAAAAAAAAAAAgAAAAAAAIAAAAAAAAAAAAAAQAAAAAAAAAFAQAAAAAAAQAAAAAAAQEAAAEAAAEAAAACBwECAAAAAAAAAAAAAAAAAAAAAAEAAAAAAAUAAAAAAQAAAAEAAAAAAgAAAAAAAAAAAAAMAAAAAAAAAAAAAAAAAAABAAAAAAAAAAABCAAAAAAAAAAAAAAAAAAAAAAAAAAAAAAAAA0AAAAAAAAAAAABAAAAAAEAAAAAAAAAAAARAAAAAAABAAAAAAAAAAAAAAEAAAAAAAQBCQAAAgAAAQEBAAAAAAAAAAAAAAAAAAAAAAsAAAAAAAAAAAAAAAABAAABAAAAAAIAAwAEAAAAAAACAAAAAAAAAAAAAAAAAAAAAAAABgAAAAABAAABAAAAAAEAAAEAAAEAAQIAABIAAQABAAAAAAAAAAAAAAAAAAADAAAAAAAcAAAAAAQAAAAAAAIAAAAAAAEAAgAAAQAAAwAAAAAAAQEAAAAAAAAAAAIDAAAAAAAAAQoAAAAAAAAAAAAAAAAAAAIAAgAAAQAAAAEGAAAAAAAAAAAAAAAAAAAAAAAAAAAAAAABCAAAAAEAAAAAAAAAAQAAAAAAAAAAAAAAABYCAAAAAAABAAABAAAAAAABAAAAAAACAAAOAAAAAAAAAQIAAAAAAAIAAAEAAAAAAAAABwIAAAABAAABAAABAAAAAAAAAAABAAABAw4AAAAAAAAAAAAAAAEAAQAAAQAAAAAAAAAI",
                    "dtype": "i1",
                    "shape": "24, 24"
                  }
                }
              ],
              "layout": {
                "coloraxis": {
                  "colorscale": [
                    [
                      0,
                      "rgb(247,251,255)"
                    ],
                    [
                      0.125,
                      "rgb(222,235,247)"
                    ],
                    [
                      0.25,
                      "rgb(198,219,239)"
                    ],
                    [
                      0.375,
                      "rgb(158,202,225)"
                    ],
                    [
                      0.5,
                      "rgb(107,174,214)"
                    ],
                    [
                      0.625,
                      "rgb(66,146,198)"
                    ],
                    [
                      0.75,
                      "rgb(33,113,181)"
                    ],
                    [
                      0.875,
                      "rgb(8,81,156)"
                    ],
                    [
                      1,
                      "rgb(8,48,107)"
                    ]
                  ],
                  "showscale": false
                },
                "height": 900,
                "margin": {
                  "t": 60
                },
                "template": {
                  "data": {
                    "bar": [
                      {
                        "error_x": {
                          "color": "#2a3f5f"
                        },
                        "error_y": {
                          "color": "#2a3f5f"
                        },
                        "marker": {
                          "line": {
                            "color": "#E5ECF6",
                            "width": 0.5
                          },
                          "pattern": {
                            "fillmode": "overlay",
                            "size": 10,
                            "solidity": 0.2
                          }
                        },
                        "type": "bar"
                      }
                    ],
                    "barpolar": [
                      {
                        "marker": {
                          "line": {
                            "color": "#E5ECF6",
                            "width": 0.5
                          },
                          "pattern": {
                            "fillmode": "overlay",
                            "size": 10,
                            "solidity": 0.2
                          }
                        },
                        "type": "barpolar"
                      }
                    ],
                    "carpet": [
                      {
                        "aaxis": {
                          "endlinecolor": "#2a3f5f",
                          "gridcolor": "white",
                          "linecolor": "white",
                          "minorgridcolor": "white",
                          "startlinecolor": "#2a3f5f"
                        },
                        "baxis": {
                          "endlinecolor": "#2a3f5f",
                          "gridcolor": "white",
                          "linecolor": "white",
                          "minorgridcolor": "white",
                          "startlinecolor": "#2a3f5f"
                        },
                        "type": "carpet"
                      }
                    ],
                    "choropleth": [
                      {
                        "colorbar": {
                          "outlinewidth": 0,
                          "ticks": ""
                        },
                        "type": "choropleth"
                      }
                    ],
                    "contour": [
                      {
                        "colorbar": {
                          "outlinewidth": 0,
                          "ticks": ""
                        },
                        "colorscale": [
                          [
                            0,
                            "#0d0887"
                          ],
                          [
                            0.1111111111111111,
                            "#46039f"
                          ],
                          [
                            0.2222222222222222,
                            "#7201a8"
                          ],
                          [
                            0.3333333333333333,
                            "#9c179e"
                          ],
                          [
                            0.4444444444444444,
                            "#bd3786"
                          ],
                          [
                            0.5555555555555556,
                            "#d8576b"
                          ],
                          [
                            0.6666666666666666,
                            "#ed7953"
                          ],
                          [
                            0.7777777777777778,
                            "#fb9f3a"
                          ],
                          [
                            0.8888888888888888,
                            "#fdca26"
                          ],
                          [
                            1,
                            "#f0f921"
                          ]
                        ],
                        "type": "contour"
                      }
                    ],
                    "contourcarpet": [
                      {
                        "colorbar": {
                          "outlinewidth": 0,
                          "ticks": ""
                        },
                        "type": "contourcarpet"
                      }
                    ],
                    "heatmap": [
                      {
                        "colorbar": {
                          "outlinewidth": 0,
                          "ticks": ""
                        },
                        "colorscale": [
                          [
                            0,
                            "#0d0887"
                          ],
                          [
                            0.1111111111111111,
                            "#46039f"
                          ],
                          [
                            0.2222222222222222,
                            "#7201a8"
                          ],
                          [
                            0.3333333333333333,
                            "#9c179e"
                          ],
                          [
                            0.4444444444444444,
                            "#bd3786"
                          ],
                          [
                            0.5555555555555556,
                            "#d8576b"
                          ],
                          [
                            0.6666666666666666,
                            "#ed7953"
                          ],
                          [
                            0.7777777777777778,
                            "#fb9f3a"
                          ],
                          [
                            0.8888888888888888,
                            "#fdca26"
                          ],
                          [
                            1,
                            "#f0f921"
                          ]
                        ],
                        "type": "heatmap"
                      }
                    ],
                    "histogram": [
                      {
                        "marker": {
                          "pattern": {
                            "fillmode": "overlay",
                            "size": 10,
                            "solidity": 0.2
                          }
                        },
                        "type": "histogram"
                      }
                    ],
                    "histogram2d": [
                      {
                        "colorbar": {
                          "outlinewidth": 0,
                          "ticks": ""
                        },
                        "colorscale": [
                          [
                            0,
                            "#0d0887"
                          ],
                          [
                            0.1111111111111111,
                            "#46039f"
                          ],
                          [
                            0.2222222222222222,
                            "#7201a8"
                          ],
                          [
                            0.3333333333333333,
                            "#9c179e"
                          ],
                          [
                            0.4444444444444444,
                            "#bd3786"
                          ],
                          [
                            0.5555555555555556,
                            "#d8576b"
                          ],
                          [
                            0.6666666666666666,
                            "#ed7953"
                          ],
                          [
                            0.7777777777777778,
                            "#fb9f3a"
                          ],
                          [
                            0.8888888888888888,
                            "#fdca26"
                          ],
                          [
                            1,
                            "#f0f921"
                          ]
                        ],
                        "type": "histogram2d"
                      }
                    ],
                    "histogram2dcontour": [
                      {
                        "colorbar": {
                          "outlinewidth": 0,
                          "ticks": ""
                        },
                        "colorscale": [
                          [
                            0,
                            "#0d0887"
                          ],
                          [
                            0.1111111111111111,
                            "#46039f"
                          ],
                          [
                            0.2222222222222222,
                            "#7201a8"
                          ],
                          [
                            0.3333333333333333,
                            "#9c179e"
                          ],
                          [
                            0.4444444444444444,
                            "#bd3786"
                          ],
                          [
                            0.5555555555555556,
                            "#d8576b"
                          ],
                          [
                            0.6666666666666666,
                            "#ed7953"
                          ],
                          [
                            0.7777777777777778,
                            "#fb9f3a"
                          ],
                          [
                            0.8888888888888888,
                            "#fdca26"
                          ],
                          [
                            1,
                            "#f0f921"
                          ]
                        ],
                        "type": "histogram2dcontour"
                      }
                    ],
                    "mesh3d": [
                      {
                        "colorbar": {
                          "outlinewidth": 0,
                          "ticks": ""
                        },
                        "type": "mesh3d"
                      }
                    ],
                    "parcoords": [
                      {
                        "line": {
                          "colorbar": {
                            "outlinewidth": 0,
                            "ticks": ""
                          }
                        },
                        "type": "parcoords"
                      }
                    ],
                    "pie": [
                      {
                        "automargin": true,
                        "type": "pie"
                      }
                    ],
                    "scatter": [
                      {
                        "fillpattern": {
                          "fillmode": "overlay",
                          "size": 10,
                          "solidity": 0.2
                        },
                        "type": "scatter"
                      }
                    ],
                    "scatter3d": [
                      {
                        "line": {
                          "colorbar": {
                            "outlinewidth": 0,
                            "ticks": ""
                          }
                        },
                        "marker": {
                          "colorbar": {
                            "outlinewidth": 0,
                            "ticks": ""
                          }
                        },
                        "type": "scatter3d"
                      }
                    ],
                    "scattercarpet": [
                      {
                        "marker": {
                          "colorbar": {
                            "outlinewidth": 0,
                            "ticks": ""
                          }
                        },
                        "type": "scattercarpet"
                      }
                    ],
                    "scattergeo": [
                      {
                        "marker": {
                          "colorbar": {
                            "outlinewidth": 0,
                            "ticks": ""
                          }
                        },
                        "type": "scattergeo"
                      }
                    ],
                    "scattergl": [
                      {
                        "marker": {
                          "colorbar": {
                            "outlinewidth": 0,
                            "ticks": ""
                          }
                        },
                        "type": "scattergl"
                      }
                    ],
                    "scattermap": [
                      {
                        "marker": {
                          "colorbar": {
                            "outlinewidth": 0,
                            "ticks": ""
                          }
                        },
                        "type": "scattermap"
                      }
                    ],
                    "scattermapbox": [
                      {
                        "marker": {
                          "colorbar": {
                            "outlinewidth": 0,
                            "ticks": ""
                          }
                        },
                        "type": "scattermapbox"
                      }
                    ],
                    "scatterpolar": [
                      {
                        "marker": {
                          "colorbar": {
                            "outlinewidth": 0,
                            "ticks": ""
                          }
                        },
                        "type": "scatterpolar"
                      }
                    ],
                    "scatterpolargl": [
                      {
                        "marker": {
                          "colorbar": {
                            "outlinewidth": 0,
                            "ticks": ""
                          }
                        },
                        "type": "scatterpolargl"
                      }
                    ],
                    "scatterternary": [
                      {
                        "marker": {
                          "colorbar": {
                            "outlinewidth": 0,
                            "ticks": ""
                          }
                        },
                        "type": "scatterternary"
                      }
                    ],
                    "surface": [
                      {
                        "colorbar": {
                          "outlinewidth": 0,
                          "ticks": ""
                        },
                        "colorscale": [
                          [
                            0,
                            "#0d0887"
                          ],
                          [
                            0.1111111111111111,
                            "#46039f"
                          ],
                          [
                            0.2222222222222222,
                            "#7201a8"
                          ],
                          [
                            0.3333333333333333,
                            "#9c179e"
                          ],
                          [
                            0.4444444444444444,
                            "#bd3786"
                          ],
                          [
                            0.5555555555555556,
                            "#d8576b"
                          ],
                          [
                            0.6666666666666666,
                            "#ed7953"
                          ],
                          [
                            0.7777777777777778,
                            "#fb9f3a"
                          ],
                          [
                            0.8888888888888888,
                            "#fdca26"
                          ],
                          [
                            1,
                            "#f0f921"
                          ]
                        ],
                        "type": "surface"
                      }
                    ],
                    "table": [
                      {
                        "cells": {
                          "fill": {
                            "color": "#EBF0F8"
                          },
                          "line": {
                            "color": "white"
                          }
                        },
                        "header": {
                          "fill": {
                            "color": "#C8D4E3"
                          },
                          "line": {
                            "color": "white"
                          }
                        },
                        "type": "table"
                      }
                    ]
                  },
                  "layout": {
                    "annotationdefaults": {
                      "arrowcolor": "#2a3f5f",
                      "arrowhead": 0,
                      "arrowwidth": 1
                    },
                    "autotypenumbers": "strict",
                    "coloraxis": {
                      "colorbar": {
                        "outlinewidth": 0,
                        "ticks": ""
                      }
                    },
                    "colorscale": {
                      "diverging": [
                        [
                          0,
                          "#8e0152"
                        ],
                        [
                          0.1,
                          "#c51b7d"
                        ],
                        [
                          0.2,
                          "#de77ae"
                        ],
                        [
                          0.3,
                          "#f1b6da"
                        ],
                        [
                          0.4,
                          "#fde0ef"
                        ],
                        [
                          0.5,
                          "#f7f7f7"
                        ],
                        [
                          0.6,
                          "#e6f5d0"
                        ],
                        [
                          0.7,
                          "#b8e186"
                        ],
                        [
                          0.8,
                          "#7fbc41"
                        ],
                        [
                          0.9,
                          "#4d9221"
                        ],
                        [
                          1,
                          "#276419"
                        ]
                      ],
                      "sequential": [
                        [
                          0,
                          "#0d0887"
                        ],
                        [
                          0.1111111111111111,
                          "#46039f"
                        ],
                        [
                          0.2222222222222222,
                          "#7201a8"
                        ],
                        [
                          0.3333333333333333,
                          "#9c179e"
                        ],
                        [
                          0.4444444444444444,
                          "#bd3786"
                        ],
                        [
                          0.5555555555555556,
                          "#d8576b"
                        ],
                        [
                          0.6666666666666666,
                          "#ed7953"
                        ],
                        [
                          0.7777777777777778,
                          "#fb9f3a"
                        ],
                        [
                          0.8888888888888888,
                          "#fdca26"
                        ],
                        [
                          1,
                          "#f0f921"
                        ]
                      ],
                      "sequentialminus": [
                        [
                          0,
                          "#0d0887"
                        ],
                        [
                          0.1111111111111111,
                          "#46039f"
                        ],
                        [
                          0.2222222222222222,
                          "#7201a8"
                        ],
                        [
                          0.3333333333333333,
                          "#9c179e"
                        ],
                        [
                          0.4444444444444444,
                          "#bd3786"
                        ],
                        [
                          0.5555555555555556,
                          "#d8576b"
                        ],
                        [
                          0.6666666666666666,
                          "#ed7953"
                        ],
                        [
                          0.7777777777777778,
                          "#fb9f3a"
                        ],
                        [
                          0.8888888888888888,
                          "#fdca26"
                        ],
                        [
                          1,
                          "#f0f921"
                        ]
                      ]
                    },
                    "colorway": [
                      "#636efa",
                      "#EF553B",
                      "#00cc96",
                      "#ab63fa",
                      "#FFA15A",
                      "#19d3f3",
                      "#FF6692",
                      "#B6E880",
                      "#FF97FF",
                      "#FECB52"
                    ],
                    "font": {
                      "color": "#2a3f5f"
                    },
                    "geo": {
                      "bgcolor": "white",
                      "lakecolor": "white",
                      "landcolor": "#E5ECF6",
                      "showlakes": true,
                      "showland": true,
                      "subunitcolor": "white"
                    },
                    "hoverlabel": {
                      "align": "left"
                    },
                    "hovermode": "closest",
                    "mapbox": {
                      "style": "light"
                    },
                    "paper_bgcolor": "white",
                    "plot_bgcolor": "#E5ECF6",
                    "polar": {
                      "angularaxis": {
                        "gridcolor": "white",
                        "linecolor": "white",
                        "ticks": ""
                      },
                      "bgcolor": "#E5ECF6",
                      "radialaxis": {
                        "gridcolor": "white",
                        "linecolor": "white",
                        "ticks": ""
                      }
                    },
                    "scene": {
                      "xaxis": {
                        "backgroundcolor": "#E5ECF6",
                        "gridcolor": "white",
                        "gridwidth": 2,
                        "linecolor": "white",
                        "showbackground": true,
                        "ticks": "",
                        "zerolinecolor": "white"
                      },
                      "yaxis": {
                        "backgroundcolor": "#E5ECF6",
                        "gridcolor": "white",
                        "gridwidth": 2,
                        "linecolor": "white",
                        "showbackground": true,
                        "ticks": "",
                        "zerolinecolor": "white"
                      },
                      "zaxis": {
                        "backgroundcolor": "#E5ECF6",
                        "gridcolor": "white",
                        "gridwidth": 2,
                        "linecolor": "white",
                        "showbackground": true,
                        "ticks": "",
                        "zerolinecolor": "white"
                      }
                    },
                    "shapedefaults": {
                      "line": {
                        "color": "#2a3f5f"
                      }
                    },
                    "ternary": {
                      "aaxis": {
                        "gridcolor": "white",
                        "linecolor": "white",
                        "ticks": ""
                      },
                      "baxis": {
                        "gridcolor": "white",
                        "linecolor": "white",
                        "ticks": ""
                      },
                      "bgcolor": "#E5ECF6",
                      "caxis": {
                        "gridcolor": "white",
                        "linecolor": "white",
                        "ticks": ""
                      }
                    },
                    "title": {
                      "x": 0.05
                    },
                    "xaxis": {
                      "automargin": true,
                      "gridcolor": "white",
                      "linecolor": "white",
                      "ticks": "",
                      "title": {
                        "standoff": 15
                      },
                      "zerolinecolor": "white",
                      "zerolinewidth": 2
                    },
                    "yaxis": {
                      "automargin": true,
                      "gridcolor": "white",
                      "linecolor": "white",
                      "ticks": "",
                      "title": {
                        "standoff": 15
                      },
                      "zerolinecolor": "white",
                      "zerolinewidth": 2
                    }
                  }
                },
                "title": {
                  "text": "Confusion Matrix",
                  "x": 0.485,
                  "xanchor": "center"
                },
                "xaxis": {
                  "anchor": "y",
                  "constrain": "domain",
                  "domain": [
                    0,
                    1
                  ],
                  "scaleanchor": "y",
                  "title": {
                    "text": "Predicted"
                  }
                },
                "yaxis": {
                  "anchor": "x",
                  "autorange": "reversed",
                  "constrain": "domain",
                  "domain": [
                    0,
                    1
                  ],
                  "title": {
                    "text": "Actual"
                  }
                }
              }
            }
          },
          "metadata": {},
          "output_type": "display_data"
        }
      ],
      "source": [
        "def plot_confusion_matrix(y_true, y_pred, height=450, showscale=False, title=None, subtitle=None):\n",
        "    # https://scikit-learn.org/stable/modules/generated/sklearn.metrics.confusion_matrix.html\n",
        "    # Confusion matrix whose i-th row and j-th column\n",
        "    # ... indicates the number of samples with\n",
        "    # ... true label being i-th class (ROW)\n",
        "    # ... and predicted label being j-th class (COLUMN)\n",
        "    cm = confusion_matrix(y_true, y_pred)\n",
        "\n",
        "    class_names = sorted(y_test.unique().tolist())\n",
        "\n",
        "    cm = confusion_matrix(y_test, y_pred, labels=class_names)\n",
        "\n",
        "    title = title or \"Confusion Matrix\"\n",
        "    if subtitle:\n",
        "        title += f\"<br><sup>{subtitle}</sup>\"\n",
        "\n",
        "    fig = px.imshow(cm, x=class_names, y=class_names, height=height,\n",
        "                    labels={\"x\": \"Predicted\", \"y\": \"Actual\"},\n",
        "                    color_continuous_scale=\"Blues\", text_auto=True,\n",
        "    )\n",
        "    fig.update_layout(title={'text': title, 'x':0.485, 'xanchor': 'center'})\n",
        "    fig.update_coloraxes(showscale=showscale)\n",
        "\n",
        "    fig.show()\n",
        "\n",
        "\n",
        "\n",
        "plot_confusion_matrix(y_test, y_pred, height=900)"
      ]
    },
    {
      "cell_type": "markdown",
      "metadata": {
        "id": "VJ6tfvYHXlry"
      },
      "source": [
        "+ The reduced model with 21 components achieved an overall accuracy of `70%`, which is significantly lower than initial artist classification.\n",
        "+ The artists with the highest F1-scores are: `Ac_dc(F1=1.00)`, `beethoven(F1=0.89)`,`John Coltrane(F1=0.88)`.\n",
        "+ The artists with the lowest F1-scores are: `John Legend(F1=0.32)`, `Cold Play(F1=0.46)`, `Led Zeppelin(F1=O.43)`.\n",
        "\n",
        "+ The pairs of artists who were most confused with each other are:\n",
        "    + `5 times` - `Predicted: Bruce Springsteen`, `Actual: Coldplay`\n",
        "    + `6 times` - `Predicted: Cold Play`, `Actual: Frank Sinatra`"
      ]
    },
    {
      "cell_type": "markdown",
      "metadata": {
        "id": "PLf674LqZE1Y"
      },
      "source": [
        "+ The performance metrics, including precision, recall, and F1-score, have generally declined. The classification results from Part 5D indicate that while the dimensionality reduction process effectively reduced the feature space, it likely led to a loss of relevant information compared to the original artist classification in Part 3. This is reflected in the accuracy drop from `74%` to `70%`."
      ]
    }
  ],
  "metadata": {
    "colab": {
      "provenance": []
    },
    "kernelspec": {
      "display_name": "venv",
      "language": "python",
      "name": "python3"
    },
    "language_info": {
      "codemirror_mode": {
        "name": "ipython",
        "version": 3
      },
      "file_extension": ".py",
      "mimetype": "text/x-python",
      "name": "python",
      "nbconvert_exporter": "python",
      "pygments_lexer": "ipython3",
      "version": "3.12.9"
    }
  },
  "nbformat": 4,
  "nbformat_minor": 0
}
