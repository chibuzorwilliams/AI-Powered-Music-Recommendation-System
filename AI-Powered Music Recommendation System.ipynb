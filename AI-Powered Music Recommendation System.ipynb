{
  "cells": [
    {
      "cell_type": "markdown",
      "metadata": {
        "id": "LO9w-ieWv-9R"
      },
      "source": [
        "## Dataset Info"
      ]
    },
    {
      "cell_type": "markdown",
      "metadata": {
        "id": "aF8GszCQFa64"
      },
      "source": [
        "The dataset represents audio features for a number of audio files.\n",
        "\n",
        "  + The audio files were obtained from artists' music videos on YouTube using the `pytube` / `pytubefix` package.\n",
        "  + The audio features were obtained using the `librosa` package.\n",
        "  + Each YouTube video / song was split into 30-second chunks called tracks, and each row represents one of these 30-second tracks.\n",
        "  + Columns ending with \"mean\" represent mean values, and columns ending with \"var\" represent variance values\n",
        "  + Based on audio sampling methods used, the `track_length` is represented in units where 22050 represents one second.\n",
        "\n"
      ]
    },
    {
      "cell_type": "markdown",
      "metadata": {
        "id": "mN97CzAgvj4G"
      },
      "source": [
        "## Data Loading"
      ]
    },
    {
      "cell_type": "code",
      "execution_count": null,
      "metadata": {
        "colab": {
          "base_uri": "https://localhost:8080/",
          "height": 406
        },
        "collapsed": true,
        "id": "XJmtxx__H72G",
        "outputId": "d66be4ce-0259-4ec6-b2d2-3e5199dc045f"
      },
      "outputs": [
        {
          "data": {
            "application/vnd.google.colaboratory.intrinsic+json": {
              "type": "dataframe",
              "variable_name": "df"
            },
            "text/html": [
              "\n",
              "  <div id=\"df-9f840bec-00b0-4ebc-8316-cd9a2b8cfea4\" class=\"colab-df-container\">\n",
              "    <div>\n",
              "<style scoped>\n",
              "    .dataframe tbody tr th:only-of-type {\n",
              "        vertical-align: middle;\n",
              "    }\n",
              "\n",
              "    .dataframe tbody tr th {\n",
              "        vertical-align: top;\n",
              "    }\n",
              "\n",
              "    .dataframe thead th {\n",
              "        text-align: right;\n",
              "    }\n",
              "</style>\n",
              "<table border=\"1\" class=\"dataframe\">\n",
              "  <thead>\n",
              "    <tr style=\"text-align: right;\">\n",
              "      <th></th>\n",
              "      <th>artist_name</th>\n",
              "      <th>video_id</th>\n",
              "      <th>audio_filename</th>\n",
              "      <th>track_number</th>\n",
              "      <th>track_length</th>\n",
              "      <th>tempo</th>\n",
              "      <th>chroma_stft_mean</th>\n",
              "      <th>chroma_stft_var</th>\n",
              "      <th>rms_mean</th>\n",
              "      <th>rms_var</th>\n",
              "      <th>...</th>\n",
              "      <th>mfcc_9_mean</th>\n",
              "      <th>mfcc_9_var</th>\n",
              "      <th>mfcc_10_mean</th>\n",
              "      <th>mfcc_10_var</th>\n",
              "      <th>mfcc_11_mean</th>\n",
              "      <th>mfcc_11_var</th>\n",
              "      <th>mfcc_12_mean</th>\n",
              "      <th>mfcc_12_var</th>\n",
              "      <th>mfcc_13_mean</th>\n",
              "      <th>mfcc_13_var</th>\n",
              "    </tr>\n",
              "  </thead>\n",
              "  <tbody>\n",
              "    <tr>\n",
              "      <th>0</th>\n",
              "      <td>frank_sinatra</td>\n",
              "      <td>rSrc7aulay8</td>\n",
              "      <td>Fly Me To The Moon (In Other Words).mp4</td>\n",
              "      <td>1</td>\n",
              "      <td>661500</td>\n",
              "      <td>123.046875</td>\n",
              "      <td>0.381353</td>\n",
              "      <td>0.108483</td>\n",
              "      <td>0.035173</td>\n",
              "      <td>0.000843</td>\n",
              "      <td>...</td>\n",
              "      <td>6.451812</td>\n",
              "      <td>96.068996</td>\n",
              "      <td>1.410364</td>\n",
              "      <td>101.259422</td>\n",
              "      <td>1.968380</td>\n",
              "      <td>89.808526</td>\n",
              "      <td>9.885193</td>\n",
              "      <td>85.470773</td>\n",
              "      <td>0.186532</td>\n",
              "      <td>85.876381</td>\n",
              "    </tr>\n",
              "    <tr>\n",
              "      <th>1</th>\n",
              "      <td>frank_sinatra</td>\n",
              "      <td>rSrc7aulay8</td>\n",
              "      <td>Fly Me To The Moon (In Other Words).mp4</td>\n",
              "      <td>2</td>\n",
              "      <td>661500</td>\n",
              "      <td>117.453835</td>\n",
              "      <td>0.325079</td>\n",
              "      <td>0.095037</td>\n",
              "      <td>0.059724</td>\n",
              "      <td>0.000803</td>\n",
              "      <td>...</td>\n",
              "      <td>2.529402</td>\n",
              "      <td>163.638820</td>\n",
              "      <td>1.359641</td>\n",
              "      <td>111.545326</td>\n",
              "      <td>-0.145113</td>\n",
              "      <td>95.362841</td>\n",
              "      <td>9.985497</td>\n",
              "      <td>107.731330</td>\n",
              "      <td>0.408040</td>\n",
              "      <td>86.850819</td>\n",
              "    </tr>\n",
              "    <tr>\n",
              "      <th>2</th>\n",
              "      <td>frank_sinatra</td>\n",
              "      <td>rSrc7aulay8</td>\n",
              "      <td>Fly Me To The Moon (In Other Words).mp4</td>\n",
              "      <td>3</td>\n",
              "      <td>661500</td>\n",
              "      <td>117.453835</td>\n",
              "      <td>0.391230</td>\n",
              "      <td>0.091207</td>\n",
              "      <td>0.062308</td>\n",
              "      <td>0.001372</td>\n",
              "      <td>...</td>\n",
              "      <td>-4.243943</td>\n",
              "      <td>77.650651</td>\n",
              "      <td>5.931900</td>\n",
              "      <td>59.565850</td>\n",
              "      <td>0.710004</td>\n",
              "      <td>56.129559</td>\n",
              "      <td>5.494471</td>\n",
              "      <td>71.811565</td>\n",
              "      <td>-2.069526</td>\n",
              "      <td>62.430867</td>\n",
              "    </tr>\n",
              "    <tr>\n",
              "      <th>3</th>\n",
              "      <td>frank_sinatra</td>\n",
              "      <td>rSrc7aulay8</td>\n",
              "      <td>Fly Me To The Moon (In Other Words).mp4</td>\n",
              "      <td>4</td>\n",
              "      <td>661500</td>\n",
              "      <td>117.453835</td>\n",
              "      <td>0.354422</td>\n",
              "      <td>0.093518</td>\n",
              "      <td>0.070922</td>\n",
              "      <td>0.001636</td>\n",
              "      <td>...</td>\n",
              "      <td>-0.558803</td>\n",
              "      <td>111.401847</td>\n",
              "      <td>4.309566</td>\n",
              "      <td>79.829200</td>\n",
              "      <td>1.935659</td>\n",
              "      <td>77.462955</td>\n",
              "      <td>9.476080</td>\n",
              "      <td>86.830481</td>\n",
              "      <td>-2.179213</td>\n",
              "      <td>78.055285</td>\n",
              "    </tr>\n",
              "    <tr>\n",
              "      <th>4</th>\n",
              "      <td>frank_sinatra</td>\n",
              "      <td>LWXUdqvVO8Y</td>\n",
              "      <td>Somethin Stupid.mp4</td>\n",
              "      <td>1</td>\n",
              "      <td>661500</td>\n",
              "      <td>103.359375</td>\n",
              "      <td>0.372852</td>\n",
              "      <td>0.090570</td>\n",
              "      <td>0.078486</td>\n",
              "      <td>0.001692</td>\n",
              "      <td>...</td>\n",
              "      <td>-7.024814</td>\n",
              "      <td>67.282919</td>\n",
              "      <td>-6.018267</td>\n",
              "      <td>87.265848</td>\n",
              "      <td>-7.079118</td>\n",
              "      <td>86.895205</td>\n",
              "      <td>-1.009947</td>\n",
              "      <td>69.512053</td>\n",
              "      <td>-9.353167</td>\n",
              "      <td>55.724105</td>\n",
              "    </tr>\n",
              "  </tbody>\n",
              "</table>\n",
              "<p>5 rows × 46 columns</p>\n",
              "</div>\n",
              "    <div class=\"colab-df-buttons\">\n",
              "\n",
              "  <div class=\"colab-df-container\">\n",
              "    <button class=\"colab-df-convert\" onclick=\"convertToInteractive('df-9f840bec-00b0-4ebc-8316-cd9a2b8cfea4')\"\n",
              "            title=\"Convert this dataframe to an interactive table.\"\n",
              "            style=\"display:none;\">\n",
              "\n",
              "  <svg xmlns=\"http://www.w3.org/2000/svg\" height=\"24px\" viewBox=\"0 -960 960 960\">\n",
              "    <path d=\"M120-120v-720h720v720H120Zm60-500h600v-160H180v160Zm220 220h160v-160H400v160Zm0 220h160v-160H400v160ZM180-400h160v-160H180v160Zm440 0h160v-160H620v160ZM180-180h160v-160H180v160Zm440 0h160v-160H620v160Z\"/>\n",
              "  </svg>\n",
              "    </button>\n",
              "\n",
              "  <style>\n",
              "    .colab-df-container {\n",
              "      display:flex;\n",
              "      gap: 12px;\n",
              "    }\n",
              "\n",
              "    .colab-df-convert {\n",
              "      background-color: #E8F0FE;\n",
              "      border: none;\n",
              "      border-radius: 50%;\n",
              "      cursor: pointer;\n",
              "      display: none;\n",
              "      fill: #1967D2;\n",
              "      height: 32px;\n",
              "      padding: 0 0 0 0;\n",
              "      width: 32px;\n",
              "    }\n",
              "\n",
              "    .colab-df-convert:hover {\n",
              "      background-color: #E2EBFA;\n",
              "      box-shadow: 0px 1px 2px rgba(60, 64, 67, 0.3), 0px 1px 3px 1px rgba(60, 64, 67, 0.15);\n",
              "      fill: #174EA6;\n",
              "    }\n",
              "\n",
              "    .colab-df-buttons div {\n",
              "      margin-bottom: 4px;\n",
              "    }\n",
              "\n",
              "    [theme=dark] .colab-df-convert {\n",
              "      background-color: #3B4455;\n",
              "      fill: #D2E3FC;\n",
              "    }\n",
              "\n",
              "    [theme=dark] .colab-df-convert:hover {\n",
              "      background-color: #434B5C;\n",
              "      box-shadow: 0px 1px 3px 1px rgba(0, 0, 0, 0.15);\n",
              "      filter: drop-shadow(0px 1px 2px rgba(0, 0, 0, 0.3));\n",
              "      fill: #FFFFFF;\n",
              "    }\n",
              "  </style>\n",
              "\n",
              "    <script>\n",
              "      const buttonEl =\n",
              "        document.querySelector('#df-9f840bec-00b0-4ebc-8316-cd9a2b8cfea4 button.colab-df-convert');\n",
              "      buttonEl.style.display =\n",
              "        google.colab.kernel.accessAllowed ? 'block' : 'none';\n",
              "\n",
              "      async function convertToInteractive(key) {\n",
              "        const element = document.querySelector('#df-9f840bec-00b0-4ebc-8316-cd9a2b8cfea4');\n",
              "        const dataTable =\n",
              "          await google.colab.kernel.invokeFunction('convertToInteractive',\n",
              "                                                    [key], {});\n",
              "        if (!dataTable) return;\n",
              "\n",
              "        const docLinkHtml = 'Like what you see? Visit the ' +\n",
              "          '<a target=\"_blank\" href=https://colab.research.google.com/notebooks/data_table.ipynb>data table notebook</a>'\n",
              "          + ' to learn more about interactive tables.';\n",
              "        element.innerHTML = '';\n",
              "        dataTable['output_type'] = 'display_data';\n",
              "        await google.colab.output.renderOutput(dataTable, element);\n",
              "        const docLink = document.createElement('div');\n",
              "        docLink.innerHTML = docLinkHtml;\n",
              "        element.appendChild(docLink);\n",
              "      }\n",
              "    </script>\n",
              "  </div>\n",
              "\n",
              "\n",
              "<div id=\"df-1ef9d88f-868d-4b06-995e-185d65b9ba25\">\n",
              "  <button class=\"colab-df-quickchart\" onclick=\"quickchart('df-1ef9d88f-868d-4b06-995e-185d65b9ba25')\"\n",
              "            title=\"Suggest charts\"\n",
              "            style=\"display:none;\">\n",
              "\n",
              "<svg xmlns=\"http://www.w3.org/2000/svg\" height=\"24px\"viewBox=\"0 0 24 24\"\n",
              "     width=\"24px\">\n",
              "    <g>\n",
              "        <path d=\"M19 3H5c-1.1 0-2 .9-2 2v14c0 1.1.9 2 2 2h14c1.1 0 2-.9 2-2V5c0-1.1-.9-2-2-2zM9 17H7v-7h2v7zm4 0h-2V7h2v10zm4 0h-2v-4h2v4z\"/>\n",
              "    </g>\n",
              "</svg>\n",
              "  </button>\n",
              "\n",
              "<style>\n",
              "  .colab-df-quickchart {\n",
              "      --bg-color: #E8F0FE;\n",
              "      --fill-color: #1967D2;\n",
              "      --hover-bg-color: #E2EBFA;\n",
              "      --hover-fill-color: #174EA6;\n",
              "      --disabled-fill-color: #AAA;\n",
              "      --disabled-bg-color: #DDD;\n",
              "  }\n",
              "\n",
              "  [theme=dark] .colab-df-quickchart {\n",
              "      --bg-color: #3B4455;\n",
              "      --fill-color: #D2E3FC;\n",
              "      --hover-bg-color: #434B5C;\n",
              "      --hover-fill-color: #FFFFFF;\n",
              "      --disabled-bg-color: #3B4455;\n",
              "      --disabled-fill-color: #666;\n",
              "  }\n",
              "\n",
              "  .colab-df-quickchart {\n",
              "    background-color: var(--bg-color);\n",
              "    border: none;\n",
              "    border-radius: 50%;\n",
              "    cursor: pointer;\n",
              "    display: none;\n",
              "    fill: var(--fill-color);\n",
              "    height: 32px;\n",
              "    padding: 0;\n",
              "    width: 32px;\n",
              "  }\n",
              "\n",
              "  .colab-df-quickchart:hover {\n",
              "    background-color: var(--hover-bg-color);\n",
              "    box-shadow: 0 1px 2px rgba(60, 64, 67, 0.3), 0 1px 3px 1px rgba(60, 64, 67, 0.15);\n",
              "    fill: var(--button-hover-fill-color);\n",
              "  }\n",
              "\n",
              "  .colab-df-quickchart-complete:disabled,\n",
              "  .colab-df-quickchart-complete:disabled:hover {\n",
              "    background-color: var(--disabled-bg-color);\n",
              "    fill: var(--disabled-fill-color);\n",
              "    box-shadow: none;\n",
              "  }\n",
              "\n",
              "  .colab-df-spinner {\n",
              "    border: 2px solid var(--fill-color);\n",
              "    border-color: transparent;\n",
              "    border-bottom-color: var(--fill-color);\n",
              "    animation:\n",
              "      spin 1s steps(1) infinite;\n",
              "  }\n",
              "\n",
              "  @keyframes spin {\n",
              "    0% {\n",
              "      border-color: transparent;\n",
              "      border-bottom-color: var(--fill-color);\n",
              "      border-left-color: var(--fill-color);\n",
              "    }\n",
              "    20% {\n",
              "      border-color: transparent;\n",
              "      border-left-color: var(--fill-color);\n",
              "      border-top-color: var(--fill-color);\n",
              "    }\n",
              "    30% {\n",
              "      border-color: transparent;\n",
              "      border-left-color: var(--fill-color);\n",
              "      border-top-color: var(--fill-color);\n",
              "      border-right-color: var(--fill-color);\n",
              "    }\n",
              "    40% {\n",
              "      border-color: transparent;\n",
              "      border-right-color: var(--fill-color);\n",
              "      border-top-color: var(--fill-color);\n",
              "    }\n",
              "    60% {\n",
              "      border-color: transparent;\n",
              "      border-right-color: var(--fill-color);\n",
              "    }\n",
              "    80% {\n",
              "      border-color: transparent;\n",
              "      border-right-color: var(--fill-color);\n",
              "      border-bottom-color: var(--fill-color);\n",
              "    }\n",
              "    90% {\n",
              "      border-color: transparent;\n",
              "      border-bottom-color: var(--fill-color);\n",
              "    }\n",
              "  }\n",
              "</style>\n",
              "\n",
              "  <script>\n",
              "    async function quickchart(key) {\n",
              "      const quickchartButtonEl =\n",
              "        document.querySelector('#' + key + ' button');\n",
              "      quickchartButtonEl.disabled = true;  // To prevent multiple clicks.\n",
              "      quickchartButtonEl.classList.add('colab-df-spinner');\n",
              "      try {\n",
              "        const charts = await google.colab.kernel.invokeFunction(\n",
              "            'suggestCharts', [key], {});\n",
              "      } catch (error) {\n",
              "        console.error('Error during call to suggestCharts:', error);\n",
              "      }\n",
              "      quickchartButtonEl.classList.remove('colab-df-spinner');\n",
              "      quickchartButtonEl.classList.add('colab-df-quickchart-complete');\n",
              "    }\n",
              "    (() => {\n",
              "      let quickchartButtonEl =\n",
              "        document.querySelector('#df-1ef9d88f-868d-4b06-995e-185d65b9ba25 button');\n",
              "      quickchartButtonEl.style.display =\n",
              "        google.colab.kernel.accessAllowed ? 'block' : 'none';\n",
              "    })();\n",
              "  </script>\n",
              "</div>\n",
              "\n",
              "    </div>\n",
              "  </div>\n"
            ],
            "text/plain": [
              "     artist_name     video_id                           audio_filename  \\\n",
              "0  frank_sinatra  rSrc7aulay8  Fly Me To The Moon (In Other Words).mp4   \n",
              "1  frank_sinatra  rSrc7aulay8  Fly Me To The Moon (In Other Words).mp4   \n",
              "2  frank_sinatra  rSrc7aulay8  Fly Me To The Moon (In Other Words).mp4   \n",
              "3  frank_sinatra  rSrc7aulay8  Fly Me To The Moon (In Other Words).mp4   \n",
              "4  frank_sinatra  LWXUdqvVO8Y                      Somethin Stupid.mp4   \n",
              "\n",
              "   track_number  track_length       tempo  chroma_stft_mean  chroma_stft_var  \\\n",
              "0             1        661500  123.046875          0.381353         0.108483   \n",
              "1             2        661500  117.453835          0.325079         0.095037   \n",
              "2             3        661500  117.453835          0.391230         0.091207   \n",
              "3             4        661500  117.453835          0.354422         0.093518   \n",
              "4             1        661500  103.359375          0.372852         0.090570   \n",
              "\n",
              "   rms_mean   rms_var  ...  mfcc_9_mean  mfcc_9_var  mfcc_10_mean  \\\n",
              "0  0.035173  0.000843  ...     6.451812   96.068996      1.410364   \n",
              "1  0.059724  0.000803  ...     2.529402  163.638820      1.359641   \n",
              "2  0.062308  0.001372  ...    -4.243943   77.650651      5.931900   \n",
              "3  0.070922  0.001636  ...    -0.558803  111.401847      4.309566   \n",
              "4  0.078486  0.001692  ...    -7.024814   67.282919     -6.018267   \n",
              "\n",
              "   mfcc_10_var  mfcc_11_mean  mfcc_11_var  mfcc_12_mean  mfcc_12_var  \\\n",
              "0   101.259422      1.968380    89.808526      9.885193    85.470773   \n",
              "1   111.545326     -0.145113    95.362841      9.985497   107.731330   \n",
              "2    59.565850      0.710004    56.129559      5.494471    71.811565   \n",
              "3    79.829200      1.935659    77.462955      9.476080    86.830481   \n",
              "4    87.265848     -7.079118    86.895205     -1.009947    69.512053   \n",
              "\n",
              "   mfcc_13_mean  mfcc_13_var  \n",
              "0      0.186532    85.876381  \n",
              "1      0.408040    86.850819  \n",
              "2     -2.069526    62.430867  \n",
              "3     -2.179213    78.055285  \n",
              "4     -9.353167    55.724105  \n",
              "\n",
              "[5 rows x 46 columns]"
            ]
          },
          "execution_count": 1,
          "metadata": {},
          "output_type": "execute_result"
        }
      ],
      "source": [
        "import pandas as pd\n",
        "from pandas import read_csv\n",
        "\n",
        "TRACK_LENGTH = 30\n",
        "N_MFCC = 13\n",
        "\n",
        "csv_filepath = (\"venv/AI-Powered Music Recommendation System\"\n",
        "    # \"https://github.com/s2t2/ml-music-2023/raw/main/data/youtube/features_v1/\"\n",
        "    f\"length_{TRACK_LENGTH}_mfcc_{N_MFCC}_features.csv\"\n",
        ")\n",
        "df = read_csv(csv_filepath)\n",
        "df.head()"
      ]
    },
    {
      "cell_type": "code",
      "execution_count": null,
      "metadata": {
        "colab": {
          "base_uri": "https://localhost:8080/"
        },
        "collapsed": true,
        "id": "NJBj3IpCSiwG",
        "outputId": "33e1da56-8c58-4cbc-a412-0a8ba0a5b0b7"
      },
      "outputs": [
        {
          "name": "stdout",
          "output_type": "stream",
          "text": [
            "Shape of the dataset: (1818, 46)\n",
            "Number of rows: 1818\n",
            "Number of columns: 46\n"
          ]
        }
      ],
      "source": [
        "# Printing shape of the dataset\n",
        "print(f\"Shape of the dataset: {df.shape}\")\n",
        "\n",
        "# Printing the number of columns and rows\n",
        "rows, columns = df.shape\n",
        "print(\"Number of rows:\",rows)\n",
        "print(\"Number of columns:\",columns)"
      ]
    },
    {
      "cell_type": "code",
      "execution_count": null,
      "metadata": {
        "colab": {
          "base_uri": "https://localhost:8080/"
        },
        "collapsed": true,
        "id": "Gmtgy8K4H04M",
        "outputId": "e223cf48-fac0-42a9-bea2-eb57e56e14ab"
      },
      "outputs": [
        {
          "name": "stdout",
          "output_type": "stream",
          "text": [
            "COLUNM NAME\n",
            "-------------\n",
            "artist_name\n",
            "video_id\n",
            "audio_filename\n",
            "track_number\n",
            "track_length\n",
            "tempo\n",
            "chroma_stft_mean\n",
            "chroma_stft_var\n",
            "rms_mean\n",
            "rms_var\n",
            "spectral_centroid_mean\n",
            "spectral_centroid_var\n",
            "spectral_bandwidth_mean\n",
            "spectral_bandwidth_var\n",
            "spectral_rolloff_mean\n",
            "spectral_rolloff_var\n",
            "zero_crossing_rate_mean\n",
            "zero_crossing_rate_var\n",
            "tonnetz_mean\n",
            "tonnetz_var\n",
            "mfcc_1_mean\n",
            "mfcc_1_var\n",
            "mfcc_2_mean\n",
            "mfcc_2_var\n",
            "mfcc_3_mean\n",
            "mfcc_3_var\n",
            "mfcc_4_mean\n",
            "mfcc_4_var\n",
            "mfcc_5_mean\n",
            "mfcc_5_var\n",
            "mfcc_6_mean\n",
            "mfcc_6_var\n",
            "mfcc_7_mean\n",
            "mfcc_7_var\n",
            "mfcc_8_mean\n",
            "mfcc_8_var\n",
            "mfcc_9_mean\n",
            "mfcc_9_var\n",
            "mfcc_10_mean\n",
            "mfcc_10_var\n",
            "mfcc_11_mean\n",
            "mfcc_11_var\n",
            "mfcc_12_mean\n",
            "mfcc_12_var\n",
            "mfcc_13_mean\n",
            "mfcc_13_var\n"
          ]
        }
      ],
      "source": [
        "# Print the column names.\n",
        "print ('COLUNM NAME')\n",
        "print ('-------------')\n",
        "for column in df.columns:\n",
        "    print(column)"
      ]
    },
    {
      "cell_type": "code",
      "execution_count": null,
      "metadata": {
        "colab": {
          "base_uri": "https://localhost:8080/"
        },
        "collapsed": true,
        "id": "lj0EBh81gl03",
        "outputId": "7171a7d8-4bb6-4b86-9d33-a645c1d77bda"
      },
      "outputs": [
        {
          "name": "stdout",
          "output_type": "stream",
          "text": [
            "Count of Unique Songs: 206\n"
          ]
        }
      ],
      "source": [
        "# Print the number of unique songs, as indicated by the video_id column \n",
        "\n",
        "print(f\"Count of Unique Songs: {df['video_id'].nunique()}\")"
      ]
    },
    {
      "cell_type": "code",
      "execution_count": null,
      "metadata": {
        "colab": {
          "base_uri": "https://localhost:8080/"
        },
        "collapsed": true,
        "id": "D76Tzc5aguqw",
        "outputId": "93f70a55-029b-462d-e29b-cda6a11d4aea"
      },
      "outputs": [
        {
          "name": "stdout",
          "output_type": "stream",
          "text": [
            "Count of Unique Artists: 24\n"
          ]
        }
      ],
      "source": [
        "# Print the number of unique artists, as indicated by the artist_name column.\n",
        "\n",
        "print(f\"Count of Unique Artists: {df['artist_name'].nunique()}\")"
      ]
    },
    {
      "cell_type": "markdown",
      "metadata": {
        "id": "v5KbIVpEvEwk"
      },
      "source": [
        "## Artist Analysis\n"
      ]
    },
    {
      "cell_type": "code",
      "execution_count": null,
      "metadata": {
        "colab": {
          "base_uri": "https://localhost:8080/"
        },
        "collapsed": true,
        "id": "pqSmstCsTh56",
        "outputId": "65189ddd-86aa-4ed9-96d4-1fb2e6892528"
      },
      "outputs": [
        {
          "name": "stdout",
          "output_type": "stream",
          "text": [
            "artist_name\n",
            "miles_davis          118\n",
            "john_coltrane        103\n",
            "taylor_swift         100\n",
            "coldplay              99\n",
            "chris_stapleton       92\n",
            "ariana_grande         92\n",
            "jay_z                 92\n",
            "bruce_springsteen     87\n",
            "john_mayer            83\n",
            "pink_floyd            83\n",
            "beethoven             75\n",
            "adele                 74\n",
            "tupac                 70\n",
            "bach                  70\n",
            "dr_dre                69\n",
            "maggie_rogers         68\n",
            "led_zeppelin          67\n",
            "alicia_keys           64\n",
            "rihanna               63\n",
            "john_legend           54\n",
            "jason_aldean          54\n",
            "andrea_bocelli        52\n",
            "ac_dc                 49\n",
            "frank_sinatra         40\n",
            "Name: count, dtype: int64\n"
          ]
        }
      ],
      "source": [
        "# Rows per Artist:\n",
        "\n",
        "print(df['artist_name'].value_counts())"
      ]
    },
    {
      "cell_type": "code",
      "execution_count": null,
      "metadata": {
        "colab": {
          "base_uri": "https://localhost:8080/"
        },
        "collapsed": true,
        "id": "XE9HM9rjUhce",
        "outputId": "16b58977-0a72-493b-950f-3fb5c5687663"
      },
      "outputs": [
        {
          "name": "stdout",
          "output_type": "stream",
          "text": [
            "artist_name\n",
            "taylor_swift         12\n",
            "ariana_grande        12\n",
            "chris_stapleton      12\n",
            "coldplay             12\n",
            "jay_z                11\n",
            "john_mayer           10\n",
            "bruce_springsteen    10\n",
            "maggie_rogers         9\n",
            "jason_aldean          8\n",
            "adele                 8\n",
            "miles_davis           8\n",
            "tupac                 8\n",
            "dr_dre                8\n",
            "bach                  8\n",
            "alicia_keys           8\n",
            "frank_sinatra         7\n",
            "john_coltrane         7\n",
            "john_legend           7\n",
            "beethoven             7\n",
            "led_zeppelin          7\n",
            "andrea_bocelli        7\n",
            "pink_floyd            7\n",
            "rihanna               7\n",
            "ac_dc                 6\n",
            "Name: audio_filename, dtype: int64\n"
          ]
        }
      ],
      "source": [
        "# Songs per Artist:\n",
        "\n",
        "# Group by artist, count unique songs, and sort by count in descending order\n",
        "group_artist = df.groupby('artist_name')\n",
        "unique_songs_per_artist = group_artist['audio_filename'].nunique().sort_values(ascending=False)\n",
        "\n",
        "# Print the result\n",
        "print(unique_songs_per_artist)"
      ]
    },
    {
      "cell_type": "code",
      "execution_count": null,
      "metadata": {
        "colab": {
          "base_uri": "https://localhost:8080/",
          "height": 667
        },
        "collapsed": true,
        "id": "mmE2GqSUUuDw",
        "outputId": "c80450f5-8277-4923-fcc8-325f64279808"
      },
      "outputs": [],
      "source": [
        "# Horizontal bar chart of the number of songs per artist, where the largest bars are on top.\n",
        "\n",
        "import plotly.express as px\n",
        "\n",
        "# Group by artist, count unique songs, and sort by count in descending order\n",
        "grouping_artist = df.groupby('artist_name')\n",
        "songs_per_artist = grouping_artist['audio_filename'].nunique().reset_index().sort_values(by='audio_filename', ascending=True)\n",
        "\n",
        "# Creating a horizontal bar chart using Plotly\n",
        "fig = px.bar(songs_per_artist,\n",
        "             x='audio_filename', y='artist_name', orientation='h',\n",
        "             height=650, width=1000,\n",
        "             title='Number of Songs per Artist',\n",
        "             labels={'audio_filename': 'Number of Songs', 'artist_name': 'Artist'})\n",
        "\n",
        "fig.show()"
      ]
    },
    {
      "cell_type": "code",
      "execution_count": null,
      "metadata": {
        "id": "Vm4gAHhmPjXH"
      },
      "outputs": [],
      "source": [
        "# Total Duration in Minutes per Artist\n",
        "# New column called track_duration_sec representing the track duration in seconds, and a new column called track_duration_min representing the track duration in minutes.\n",
        "\n",
        "# Column per second\n",
        "df['track_duration_sec'] = df['track_length']/22050\n",
        "\n",
        "# Column per minute\n",
        "df['track_duration_min'] = df['track_duration_sec']/60"
      ]
    },
    {
      "cell_type": "code",
      "execution_count": null,
      "metadata": {
        "colab": {
          "base_uri": "https://localhost:8080/"
        },
        "collapsed": true,
        "id": "8Dr7Z-mAQwoG",
        "outputId": "5e3536e5-e047-4251-aaf2-6e1888c7af96"
      },
      "outputs": [
        {
          "name": "stdout",
          "output_type": "stream",
          "text": [
            "artist_name\n",
            "miles_davis          59.0\n",
            "john_coltrane        51.5\n",
            "taylor_swift         50.0\n",
            "coldplay             49.5\n",
            "ariana_grande        46.0\n",
            "chris_stapleton      46.0\n",
            "jay_z                46.0\n",
            "bruce_springsteen    43.5\n",
            "john_mayer           41.5\n",
            "pink_floyd           41.5\n",
            "beethoven            37.5\n",
            "adele                37.0\n",
            "tupac                35.0\n",
            "bach                 35.0\n",
            "dr_dre               34.5\n",
            "maggie_rogers        34.0\n",
            "led_zeppelin         33.5\n",
            "alicia_keys          32.0\n",
            "rihanna              31.5\n",
            "jason_aldean         27.0\n",
            "john_legend          27.0\n",
            "andrea_bocelli       26.0\n",
            "ac_dc                24.5\n",
            "frank_sinatra        20.0\n",
            "Name: track_duration_min, dtype: float64\n"
          ]
        }
      ],
      "source": [
        "# Using groupby, print the total duration in minutes per artist.\n",
        "\n",
        "# Group by artist and sum the duration in minutes\n",
        "df_grouped = df.groupby('artist_name')['track_duration_min'].sum().sort_values(ascending=False)\n",
        "\n",
        "print(df_grouped)"
      ]
    },
    {
      "cell_type": "markdown",
      "metadata": {
        "id": "DFF7Bjd7v379"
      },
      "source": [
        "+ The artist with the longest total duration: `Miles Davis`\n",
        "+ The artist with the shortest total duration: `Frank Sinatra`"
      ]
    },
    {
      "cell_type": "code",
      "execution_count": null,
      "metadata": {
        "colab": {
          "base_uri": "https://localhost:8080/",
          "height": 667
        },
        "collapsed": true,
        "id": "ZYEq6u-fwOFm",
        "outputId": "958a3474-7b50-4243-847a-0f071dda4414"
      },
      "outputs": [],
      "source": [
        "# Create a horizontal bar chart of the total duration in minutes per artist, where the largest bars are on top.\n",
        "\n",
        "# Sort df_grouped in descending order\n",
        "df_grouped_sorted = df_grouped.sort_values(ascending=True)\n",
        "\n",
        "# Creating a horizontal bar chart using Plotly\n",
        "fig = px.bar(df_grouped_sorted,\n",
        "             x = df_grouped_sorted.values, y = df_grouped_sorted.index, orientation = 'h',\n",
        "             height = 650, width = 1000,\n",
        "             title='Total Duration per Artist',\n",
        "             labels={'x': 'Duration (Mins)', 'artist_name': 'Artist'})\n",
        "\n",
        "fig.show()"
      ]
    },
    {
      "cell_type": "code",
      "execution_count": null,
      "metadata": {
        "colab": {
          "base_uri": "https://localhost:8080/"
        },
        "collapsed": true,
        "id": "Of_Z0R2dzd_j",
        "outputId": "315f1ed1-50eb-4380-c8a8-50dc3c6e8c58"
      },
      "outputs": [
        {
          "name": "stdout",
          "output_type": "stream",
          "text": [
            "artist_name\n",
            "jay_z                131.795568\n",
            "beethoven            129.735525\n",
            "john_coltrane        128.196795\n",
            "adele                127.675907\n",
            "ariana_grande        127.312845\n",
            "miles_davis          126.816801\n",
            "rihanna              126.761981\n",
            "jason_aldean         126.464488\n",
            "chris_stapleton      126.166627\n",
            "coldplay             124.537433\n",
            "pink_floyd           124.496634\n",
            "tupac                122.128452\n",
            "frank_sinatra        121.527763\n",
            "john_mayer           121.052416\n",
            "bach                 119.993363\n",
            "ac_dc                119.782243\n",
            "taylor_swift         118.584689\n",
            "led_zeppelin         117.711761\n",
            "maggie_rogers        117.125269\n",
            "john_legend          116.857779\n",
            "bruce_springsteen    116.255265\n",
            "andrea_bocelli       114.514543\n",
            "alicia_keys          111.908552\n",
            "dr_dre               110.993482\n",
            "Name: tempo, dtype: float64\n"
          ]
        }
      ],
      "source": [
        "# Average Tempo per Artist\n",
        "# Using groupby, print the average tempo per artist.\n",
        "\n",
        "# Group by artist, count unique songs, and sort by count in descending order\n",
        "group_artist = df.groupby('artist_name')\n",
        "average_tempo_per_artist = group_artist['tempo'].mean().sort_values(ascending=False)\n",
        "\n",
        "# Print the result\n",
        "print(average_tempo_per_artist)"
      ]
    },
    {
      "cell_type": "markdown",
      "metadata": {
        "id": "Q-DyAkLJ2As8"
      },
      "source": [
        "+ The artist with the highest average tempo: `Jay Z`\n",
        "+ The artist with the lowest average tempo: `Dr Dre`"
      ]
    },
    {
      "cell_type": "code",
      "execution_count": null,
      "metadata": {
        "colab": {
          "base_uri": "https://localhost:8080/",
          "height": 667
        },
        "collapsed": true,
        "id": "UcwyEVfJzd9O",
        "outputId": "dd59105c-196c-481d-e9b6-cfe8535100c7"
      },
      "outputs": [],
      "source": [
        "# Create a horizontal bar chart of the average tempo per artist, where the largest bars are on top.\n",
        "\n",
        "# Sort df_grouped in descending order\n",
        "average_tempo_per_artist_sorted = average_tempo_per_artist.sort_values(ascending=True)\n",
        "\n",
        "# Creating a horizontal bar chart using Plotly\n",
        "fig = px.bar(average_tempo_per_artist_sorted,\n",
        "             x = average_tempo_per_artist_sorted.values, y = average_tempo_per_artist_sorted.index, orientation = 'h',\n",
        "             height = 650, width = 1000,\n",
        "             title='Average Tempo per Artist',\n",
        "             labels={'x': 'Tempo (BPM)', 'artist_name': 'Artist'})\n",
        "\n",
        "fig.show()"
      ]
    },
    {
      "cell_type": "code",
      "execution_count": null,
      "metadata": {
        "colab": {
          "base_uri": "https://localhost:8080/"
        },
        "collapsed": true,
        "id": "6efe951lzd5D",
        "outputId": "97e53e8e-292a-4c03-9fad-bb15152e1d4a"
      },
      "outputs": [
        {
          "name": "stdout",
          "output_type": "stream",
          "text": [
            "          artist_name        tempo\n",
            "0               tupac  1154.445256\n",
            "1              dr_dre   924.390317\n",
            "2               jay_z   779.302222\n",
            "3     chris_stapleton   724.111820\n",
            "4        led_zeppelin   668.316129\n",
            "5        taylor_swift   624.064072\n",
            "6        jason_aldean   615.191101\n",
            "7   bruce_springsteen   597.348392\n",
            "8         alicia_keys   555.928764\n",
            "9             rihanna   512.382646\n",
            "10      ariana_grande   495.034984\n",
            "11        john_legend   469.615001\n",
            "12      john_coltrane   466.104578\n",
            "13      maggie_rogers   438.469787\n",
            "14      frank_sinatra   362.290527\n",
            "15         john_mayer   343.170670\n",
            "16           coldplay   312.686523\n",
            "17              adele   299.420981\n",
            "18              ac_dc   234.394016\n",
            "19          beethoven   232.235508\n",
            "20     andrea_bocelli   194.820338\n",
            "21        miles_davis   167.675505\n",
            "22         pink_floyd   125.919142\n",
            "23               bach    65.055989\n"
          ]
        }
      ],
      "source": [
        "# Print the variance in tempo for each artist\n",
        "tempo_variance_per_artist = df.groupby('artist_name')['tempo'].var().sort_values(ascending=False)\n",
        "tempo_variance_per_artist = tempo_variance_per_artist.reset_index()\n",
        "\n",
        "print(tempo_variance_per_artist)"
      ]
    },
    {
      "cell_type": "markdown",
      "metadata": {
        "id": "eyBCtF1BlZ3W"
      },
      "source": [
        "## Artist Classification\n"
      ]
    },
    {
      "cell_type": "markdown",
      "metadata": {
        "id": "kNOrYJmyJyTs"
      },
      "source": [
        "### Train and Test Split"
      ]
    },
    {
      "cell_type": "code",
      "execution_count": null,
      "metadata": {
        "id": "u77dOcq39xQR"
      },
      "outputs": [],
      "source": [
        "# Selecting target and features\n",
        "\n",
        "# Target\n",
        "y = df['artist_name']\n",
        "\n",
        "# Features\n",
        "x = df.drop(columns=[\"artist_name\", 'video_id', 'audio_filename', 'track_length', 'track_duration_sec', 'track_duration_min'])"
      ]
    },
    {
      "cell_type": "code",
      "execution_count": null,
      "metadata": {
        "colab": {
          "base_uri": "https://localhost:8080/"
        },
        "collapsed": true,
        "id": "k40q4OT8B8sK",
        "outputId": "eade353a-9479-441d-8040-2c2a0083b5d7"
      },
      "outputs": [
        {
          "name": "stdout",
          "output_type": "stream",
          "text": [
            "X: (1818, 42)\n",
            "Y: (1818,)\n"
          ]
        }
      ],
      "source": [
        "print(\"X:\", x.shape)\n",
        "print(\"Y:\", y.shape)"
      ]
    },
    {
      "cell_type": "markdown",
      "metadata": {
        "id": "oHrOF-PaQupt"
      },
      "source": [
        "### Data Scaling"
      ]
    },
    {
      "cell_type": "code",
      "execution_count": null,
      "metadata": {
        "colab": {
          "base_uri": "https://localhost:8080/"
        },
        "collapsed": true,
        "id": "lD2K8DXuQnNa",
        "outputId": "5d14a364-f725-4df6-ba84-e3444fca6c4f"
      },
      "outputs": [
        {
          "name": "stdout",
          "output_type": "stream",
          "text": [
            "SCALED VALUES: MEAN & STDEV:\n",
            "--------\n",
            "                                 mean  std\n",
            "track_number             8.989265e-17  1.0\n",
            "tempo                   -8.363924e-16  1.0\n",
            "chroma_stft_mean        -1.563350e-17  1.0\n",
            "chroma_stft_var         -2.626429e-15  1.0\n",
            "rms_mean                -1.876020e-16  1.0\n",
            "rms_var                  7.816752e-17  1.0\n",
            "spectral_centroid_mean  -1.719685e-16  1.0\n",
            "spectral_centroid_var    7.816752e-17  1.0\n",
            "spectral_bandwidth_mean  7.738584e-16  1.0\n",
            "spectral_bandwidth_var  -1.563350e-17  1.0\n",
            "spectral_rolloff_mean   -1.719685e-16  1.0\n",
            "spectral_rolloff_var    -2.032355e-16  1.0\n",
            "zero_crossing_rate_mean -4.690051e-17  1.0\n",
            "zero_crossing_rate_var  -2.345026e-17  1.0\n",
            "tonnetz_mean            -2.540444e-17  1.0\n",
            "tonnetz_var              0.000000e+00  1.0\n",
            "mfcc_1_mean             -7.230495e-17  1.0\n",
            "mfcc_1_var              -7.816752e-18  1.0\n",
            "mfcc_2_mean              3.126701e-16  1.0\n",
            "mfcc_2_var               1.563350e-17  1.0\n",
            "mfcc_3_mean              1.954188e-17  1.0\n",
            "mfcc_3_var              -7.816752e-17  1.0\n",
            "mfcc_4_mean             -2.188690e-16  1.0\n",
            "mfcc_4_var               6.253401e-17  1.0\n",
            "mfcc_5_mean              3.908376e-17  1.0\n",
            "mfcc_5_var               1.250680e-16  1.0\n",
            "mfcc_6_mean             -6.253401e-17  1.0\n",
            "mfcc_6_var               1.250680e-16  1.0\n",
            "mfcc_7_mean              3.126701e-17  1.0\n",
            "mfcc_7_var              -9.380102e-17  1.0\n",
            "mfcc_8_mean              1.094345e-16  1.0\n",
            "mfcc_8_var               0.000000e+00  1.0\n",
            "mfcc_9_mean              1.563350e-17  1.0\n",
            "mfcc_9_var               2.188690e-16  1.0\n",
            "mfcc_10_mean            -1.563350e-17  1.0\n",
            "mfcc_10_var              0.000000e+00  1.0\n",
            "mfcc_11_mean            -3.126701e-17  1.0\n",
            "mfcc_11_var              9.380102e-17  1.0\n",
            "mfcc_12_mean            -9.380102e-17  1.0\n",
            "mfcc_12_var             -1.407015e-16  1.0\n",
            "mfcc_13_mean            -3.126701e-17  1.0\n",
            "mfcc_13_var              0.000000e+00  1.0\n"
          ]
        }
      ],
      "source": [
        "x = x.select_dtypes(include='number')\n",
        "x_scaled = (x - x.mean()) / x.std()\n",
        "print(\"SCALED VALUES: MEAN & STDEV:\")\n",
        "print(\"--------\")\n",
        "print(x_scaled.describe().T[[\"mean\", \"std\"]])"
      ]
    },
    {
      "cell_type": "markdown",
      "metadata": {
        "id": "GqgVlNRoT-ZV"
      },
      "source": [
        "### Train Test Split"
      ]
    },
    {
      "cell_type": "code",
      "execution_count": null,
      "metadata": {
        "colab": {
          "base_uri": "https://localhost:8080/"
        },
        "collapsed": true,
        "id": "h2BjTEnMQZNl",
        "outputId": "cf8b79a4-8784-4c5a-adde-ae4233525326"
      },
      "outputs": [
        {
          "name": "stdout",
          "output_type": "stream",
          "text": [
            "x_train shape: (1454, 42)\n",
            "x_test shape: (364, 42)\n",
            "y_train shape: (1454,)\n",
            "y_test shape: (364,)\n"
          ]
        }
      ],
      "source": [
        "# C) Train/Test Split:\n",
        "# Perform a train/test split on the target and scaled features. Use 20% of the rows in the test set. Use a random state for reproducibility.\n",
        "\n",
        "from sklearn.model_selection import train_test_split\n",
        "\n",
        "x_train, x_test, y_train, y_test = train_test_split(x_scaled, y, test_size= 0.2, random_state=99)\n",
        "\n",
        "print(f\"x_train shape: {x_train.shape}\")\n",
        "print(f\"x_test shape: {x_test.shape}\")\n",
        "print(f\"y_train shape: {y_train.shape}\")\n",
        "print(f\"y_test shape: {y_test.shape}\")"
      ]
    },
    {
      "cell_type": "markdown",
      "metadata": {
        "id": "qxLjpbEsQXuE"
      },
      "source": [
        "### Model Training"
      ]
    },
    {
      "cell_type": "code",
      "execution_count": null,
      "metadata": {
        "colab": {
          "base_uri": "https://localhost:8080/",
          "height": 80
        },
        "collapsed": true,
        "id": "82en3kfs2vAa",
        "outputId": "cadb9485-e461-408f-f445-9d05ee413921"
      },
      "outputs": [
        {
          "data": {
            "text/html": [
              "<style>#sk-container-id-1 {\n",
              "  /* Definition of color scheme common for light and dark mode */\n",
              "  --sklearn-color-text: black;\n",
              "  --sklearn-color-line: gray;\n",
              "  /* Definition of color scheme for unfitted estimators */\n",
              "  --sklearn-color-unfitted-level-0: #fff5e6;\n",
              "  --sklearn-color-unfitted-level-1: #f6e4d2;\n",
              "  --sklearn-color-unfitted-level-2: #ffe0b3;\n",
              "  --sklearn-color-unfitted-level-3: chocolate;\n",
              "  /* Definition of color scheme for fitted estimators */\n",
              "  --sklearn-color-fitted-level-0: #f0f8ff;\n",
              "  --sklearn-color-fitted-level-1: #d4ebff;\n",
              "  --sklearn-color-fitted-level-2: #b3dbfd;\n",
              "  --sklearn-color-fitted-level-3: cornflowerblue;\n",
              "\n",
              "  /* Specific color for light theme */\n",
              "  --sklearn-color-text-on-default-background: var(--sg-text-color, var(--theme-code-foreground, var(--jp-content-font-color1, black)));\n",
              "  --sklearn-color-background: var(--sg-background-color, var(--theme-background, var(--jp-layout-color0, white)));\n",
              "  --sklearn-color-border-box: var(--sg-text-color, var(--theme-code-foreground, var(--jp-content-font-color1, black)));\n",
              "  --sklearn-color-icon: #696969;\n",
              "\n",
              "  @media (prefers-color-scheme: dark) {\n",
              "    /* Redefinition of color scheme for dark theme */\n",
              "    --sklearn-color-text-on-default-background: var(--sg-text-color, var(--theme-code-foreground, var(--jp-content-font-color1, white)));\n",
              "    --sklearn-color-background: var(--sg-background-color, var(--theme-background, var(--jp-layout-color0, #111)));\n",
              "    --sklearn-color-border-box: var(--sg-text-color, var(--theme-code-foreground, var(--jp-content-font-color1, white)));\n",
              "    --sklearn-color-icon: #878787;\n",
              "  }\n",
              "}\n",
              "\n",
              "#sk-container-id-1 {\n",
              "  color: var(--sklearn-color-text);\n",
              "}\n",
              "\n",
              "#sk-container-id-1 pre {\n",
              "  padding: 0;\n",
              "}\n",
              "\n",
              "#sk-container-id-1 input.sk-hidden--visually {\n",
              "  border: 0;\n",
              "  clip: rect(1px 1px 1px 1px);\n",
              "  clip: rect(1px, 1px, 1px, 1px);\n",
              "  height: 1px;\n",
              "  margin: -1px;\n",
              "  overflow: hidden;\n",
              "  padding: 0;\n",
              "  position: absolute;\n",
              "  width: 1px;\n",
              "}\n",
              "\n",
              "#sk-container-id-1 div.sk-dashed-wrapped {\n",
              "  border: 1px dashed var(--sklearn-color-line);\n",
              "  margin: 0 0.4em 0.5em 0.4em;\n",
              "  box-sizing: border-box;\n",
              "  padding-bottom: 0.4em;\n",
              "  background-color: var(--sklearn-color-background);\n",
              "}\n",
              "\n",
              "#sk-container-id-1 div.sk-container {\n",
              "  /* jupyter's `normalize.less` sets `[hidden] { display: none; }`\n",
              "     but bootstrap.min.css set `[hidden] { display: none !important; }`\n",
              "     so we also need the `!important` here to be able to override the\n",
              "     default hidden behavior on the sphinx rendered scikit-learn.org.\n",
              "     See: https://github.com/scikit-learn/scikit-learn/issues/21755 */\n",
              "  display: inline-block !important;\n",
              "  position: relative;\n",
              "}\n",
              "\n",
              "#sk-container-id-1 div.sk-text-repr-fallback {\n",
              "  display: none;\n",
              "}\n",
              "\n",
              "div.sk-parallel-item,\n",
              "div.sk-serial,\n",
              "div.sk-item {\n",
              "  /* draw centered vertical line to link estimators */\n",
              "  background-image: linear-gradient(var(--sklearn-color-text-on-default-background), var(--sklearn-color-text-on-default-background));\n",
              "  background-size: 2px 100%;\n",
              "  background-repeat: no-repeat;\n",
              "  background-position: center center;\n",
              "}\n",
              "\n",
              "/* Parallel-specific style estimator block */\n",
              "\n",
              "#sk-container-id-1 div.sk-parallel-item::after {\n",
              "  content: \"\";\n",
              "  width: 100%;\n",
              "  border-bottom: 2px solid var(--sklearn-color-text-on-default-background);\n",
              "  flex-grow: 1;\n",
              "}\n",
              "\n",
              "#sk-container-id-1 div.sk-parallel {\n",
              "  display: flex;\n",
              "  align-items: stretch;\n",
              "  justify-content: center;\n",
              "  background-color: var(--sklearn-color-background);\n",
              "  position: relative;\n",
              "}\n",
              "\n",
              "#sk-container-id-1 div.sk-parallel-item {\n",
              "  display: flex;\n",
              "  flex-direction: column;\n",
              "}\n",
              "\n",
              "#sk-container-id-1 div.sk-parallel-item:first-child::after {\n",
              "  align-self: flex-end;\n",
              "  width: 50%;\n",
              "}\n",
              "\n",
              "#sk-container-id-1 div.sk-parallel-item:last-child::after {\n",
              "  align-self: flex-start;\n",
              "  width: 50%;\n",
              "}\n",
              "\n",
              "#sk-container-id-1 div.sk-parallel-item:only-child::after {\n",
              "  width: 0;\n",
              "}\n",
              "\n",
              "/* Serial-specific style estimator block */\n",
              "\n",
              "#sk-container-id-1 div.sk-serial {\n",
              "  display: flex;\n",
              "  flex-direction: column;\n",
              "  align-items: center;\n",
              "  background-color: var(--sklearn-color-background);\n",
              "  padding-right: 1em;\n",
              "  padding-left: 1em;\n",
              "}\n",
              "\n",
              "\n",
              "/* Toggleable style: style used for estimator/Pipeline/ColumnTransformer box that is\n",
              "clickable and can be expanded/collapsed.\n",
              "- Pipeline and ColumnTransformer use this feature and define the default style\n",
              "- Estimators will overwrite some part of the style using the `sk-estimator` class\n",
              "*/\n",
              "\n",
              "/* Pipeline and ColumnTransformer style (default) */\n",
              "\n",
              "#sk-container-id-1 div.sk-toggleable {\n",
              "  /* Default theme specific background. It is overwritten whether we have a\n",
              "  specific estimator or a Pipeline/ColumnTransformer */\n",
              "  background-color: var(--sklearn-color-background);\n",
              "}\n",
              "\n",
              "/* Toggleable label */\n",
              "#sk-container-id-1 label.sk-toggleable__label {\n",
              "  cursor: pointer;\n",
              "  display: block;\n",
              "  width: 100%;\n",
              "  margin-bottom: 0;\n",
              "  padding: 0.5em;\n",
              "  box-sizing: border-box;\n",
              "  text-align: center;\n",
              "}\n",
              "\n",
              "#sk-container-id-1 label.sk-toggleable__label-arrow:before {\n",
              "  /* Arrow on the left of the label */\n",
              "  content: \"▸\";\n",
              "  float: left;\n",
              "  margin-right: 0.25em;\n",
              "  color: var(--sklearn-color-icon);\n",
              "}\n",
              "\n",
              "#sk-container-id-1 label.sk-toggleable__label-arrow:hover:before {\n",
              "  color: var(--sklearn-color-text);\n",
              "}\n",
              "\n",
              "/* Toggleable content - dropdown */\n",
              "\n",
              "#sk-container-id-1 div.sk-toggleable__content {\n",
              "  max-height: 0;\n",
              "  max-width: 0;\n",
              "  overflow: hidden;\n",
              "  text-align: left;\n",
              "  /* unfitted */\n",
              "  background-color: var(--sklearn-color-unfitted-level-0);\n",
              "}\n",
              "\n",
              "#sk-container-id-1 div.sk-toggleable__content.fitted {\n",
              "  /* fitted */\n",
              "  background-color: var(--sklearn-color-fitted-level-0);\n",
              "}\n",
              "\n",
              "#sk-container-id-1 div.sk-toggleable__content pre {\n",
              "  margin: 0.2em;\n",
              "  border-radius: 0.25em;\n",
              "  color: var(--sklearn-color-text);\n",
              "  /* unfitted */\n",
              "  background-color: var(--sklearn-color-unfitted-level-0);\n",
              "}\n",
              "\n",
              "#sk-container-id-1 div.sk-toggleable__content.fitted pre {\n",
              "  /* unfitted */\n",
              "  background-color: var(--sklearn-color-fitted-level-0);\n",
              "}\n",
              "\n",
              "#sk-container-id-1 input.sk-toggleable__control:checked~div.sk-toggleable__content {\n",
              "  /* Expand drop-down */\n",
              "  max-height: 200px;\n",
              "  max-width: 100%;\n",
              "  overflow: auto;\n",
              "}\n",
              "\n",
              "#sk-container-id-1 input.sk-toggleable__control:checked~label.sk-toggleable__label-arrow:before {\n",
              "  content: \"▾\";\n",
              "}\n",
              "\n",
              "/* Pipeline/ColumnTransformer-specific style */\n",
              "\n",
              "#sk-container-id-1 div.sk-label input.sk-toggleable__control:checked~label.sk-toggleable__label {\n",
              "  color: var(--sklearn-color-text);\n",
              "  background-color: var(--sklearn-color-unfitted-level-2);\n",
              "}\n",
              "\n",
              "#sk-container-id-1 div.sk-label.fitted input.sk-toggleable__control:checked~label.sk-toggleable__label {\n",
              "  background-color: var(--sklearn-color-fitted-level-2);\n",
              "}\n",
              "\n",
              "/* Estimator-specific style */\n",
              "\n",
              "/* Colorize estimator box */\n",
              "#sk-container-id-1 div.sk-estimator input.sk-toggleable__control:checked~label.sk-toggleable__label {\n",
              "  /* unfitted */\n",
              "  background-color: var(--sklearn-color-unfitted-level-2);\n",
              "}\n",
              "\n",
              "#sk-container-id-1 div.sk-estimator.fitted input.sk-toggleable__control:checked~label.sk-toggleable__label {\n",
              "  /* fitted */\n",
              "  background-color: var(--sklearn-color-fitted-level-2);\n",
              "}\n",
              "\n",
              "#sk-container-id-1 div.sk-label label.sk-toggleable__label,\n",
              "#sk-container-id-1 div.sk-label label {\n",
              "  /* The background is the default theme color */\n",
              "  color: var(--sklearn-color-text-on-default-background);\n",
              "}\n",
              "\n",
              "/* On hover, darken the color of the background */\n",
              "#sk-container-id-1 div.sk-label:hover label.sk-toggleable__label {\n",
              "  color: var(--sklearn-color-text);\n",
              "  background-color: var(--sklearn-color-unfitted-level-2);\n",
              "}\n",
              "\n",
              "/* Label box, darken color on hover, fitted */\n",
              "#sk-container-id-1 div.sk-label.fitted:hover label.sk-toggleable__label.fitted {\n",
              "  color: var(--sklearn-color-text);\n",
              "  background-color: var(--sklearn-color-fitted-level-2);\n",
              "}\n",
              "\n",
              "/* Estimator label */\n",
              "\n",
              "#sk-container-id-1 div.sk-label label {\n",
              "  font-family: monospace;\n",
              "  font-weight: bold;\n",
              "  display: inline-block;\n",
              "  line-height: 1.2em;\n",
              "}\n",
              "\n",
              "#sk-container-id-1 div.sk-label-container {\n",
              "  text-align: center;\n",
              "}\n",
              "\n",
              "/* Estimator-specific */\n",
              "#sk-container-id-1 div.sk-estimator {\n",
              "  font-family: monospace;\n",
              "  border: 1px dotted var(--sklearn-color-border-box);\n",
              "  border-radius: 0.25em;\n",
              "  box-sizing: border-box;\n",
              "  margin-bottom: 0.5em;\n",
              "  /* unfitted */\n",
              "  background-color: var(--sklearn-color-unfitted-level-0);\n",
              "}\n",
              "\n",
              "#sk-container-id-1 div.sk-estimator.fitted {\n",
              "  /* fitted */\n",
              "  background-color: var(--sklearn-color-fitted-level-0);\n",
              "}\n",
              "\n",
              "/* on hover */\n",
              "#sk-container-id-1 div.sk-estimator:hover {\n",
              "  /* unfitted */\n",
              "  background-color: var(--sklearn-color-unfitted-level-2);\n",
              "}\n",
              "\n",
              "#sk-container-id-1 div.sk-estimator.fitted:hover {\n",
              "  /* fitted */\n",
              "  background-color: var(--sklearn-color-fitted-level-2);\n",
              "}\n",
              "\n",
              "/* Specification for estimator info (e.g. \"i\" and \"?\") */\n",
              "\n",
              "/* Common style for \"i\" and \"?\" */\n",
              "\n",
              ".sk-estimator-doc-link,\n",
              "a:link.sk-estimator-doc-link,\n",
              "a:visited.sk-estimator-doc-link {\n",
              "  float: right;\n",
              "  font-size: smaller;\n",
              "  line-height: 1em;\n",
              "  font-family: monospace;\n",
              "  background-color: var(--sklearn-color-background);\n",
              "  border-radius: 1em;\n",
              "  height: 1em;\n",
              "  width: 1em;\n",
              "  text-decoration: none !important;\n",
              "  margin-left: 1ex;\n",
              "  /* unfitted */\n",
              "  border: var(--sklearn-color-unfitted-level-1) 1pt solid;\n",
              "  color: var(--sklearn-color-unfitted-level-1);\n",
              "}\n",
              "\n",
              ".sk-estimator-doc-link.fitted,\n",
              "a:link.sk-estimator-doc-link.fitted,\n",
              "a:visited.sk-estimator-doc-link.fitted {\n",
              "  /* fitted */\n",
              "  border: var(--sklearn-color-fitted-level-1) 1pt solid;\n",
              "  color: var(--sklearn-color-fitted-level-1);\n",
              "}\n",
              "\n",
              "/* On hover */\n",
              "div.sk-estimator:hover .sk-estimator-doc-link:hover,\n",
              ".sk-estimator-doc-link:hover,\n",
              "div.sk-label-container:hover .sk-estimator-doc-link:hover,\n",
              ".sk-estimator-doc-link:hover {\n",
              "  /* unfitted */\n",
              "  background-color: var(--sklearn-color-unfitted-level-3);\n",
              "  color: var(--sklearn-color-background);\n",
              "  text-decoration: none;\n",
              "}\n",
              "\n",
              "div.sk-estimator.fitted:hover .sk-estimator-doc-link.fitted:hover,\n",
              ".sk-estimator-doc-link.fitted:hover,\n",
              "div.sk-label-container:hover .sk-estimator-doc-link.fitted:hover,\n",
              ".sk-estimator-doc-link.fitted:hover {\n",
              "  /* fitted */\n",
              "  background-color: var(--sklearn-color-fitted-level-3);\n",
              "  color: var(--sklearn-color-background);\n",
              "  text-decoration: none;\n",
              "}\n",
              "\n",
              "/* Span, style for the box shown on hovering the info icon */\n",
              ".sk-estimator-doc-link span {\n",
              "  display: none;\n",
              "  z-index: 9999;\n",
              "  position: relative;\n",
              "  font-weight: normal;\n",
              "  right: .2ex;\n",
              "  padding: .5ex;\n",
              "  margin: .5ex;\n",
              "  width: min-content;\n",
              "  min-width: 20ex;\n",
              "  max-width: 50ex;\n",
              "  color: var(--sklearn-color-text);\n",
              "  box-shadow: 2pt 2pt 4pt #999;\n",
              "  /* unfitted */\n",
              "  background: var(--sklearn-color-unfitted-level-0);\n",
              "  border: .5pt solid var(--sklearn-color-unfitted-level-3);\n",
              "}\n",
              "\n",
              ".sk-estimator-doc-link.fitted span {\n",
              "  /* fitted */\n",
              "  background: var(--sklearn-color-fitted-level-0);\n",
              "  border: var(--sklearn-color-fitted-level-3);\n",
              "}\n",
              "\n",
              ".sk-estimator-doc-link:hover span {\n",
              "  display: block;\n",
              "}\n",
              "\n",
              "/* \"?\"-specific style due to the `<a>` HTML tag */\n",
              "\n",
              "#sk-container-id-1 a.estimator_doc_link {\n",
              "  float: right;\n",
              "  font-size: 1rem;\n",
              "  line-height: 1em;\n",
              "  font-family: monospace;\n",
              "  background-color: var(--sklearn-color-background);\n",
              "  border-radius: 1rem;\n",
              "  height: 1rem;\n",
              "  width: 1rem;\n",
              "  text-decoration: none;\n",
              "  /* unfitted */\n",
              "  color: var(--sklearn-color-unfitted-level-1);\n",
              "  border: var(--sklearn-color-unfitted-level-1) 1pt solid;\n",
              "}\n",
              "\n",
              "#sk-container-id-1 a.estimator_doc_link.fitted {\n",
              "  /* fitted */\n",
              "  border: var(--sklearn-color-fitted-level-1) 1pt solid;\n",
              "  color: var(--sklearn-color-fitted-level-1);\n",
              "}\n",
              "\n",
              "/* On hover */\n",
              "#sk-container-id-1 a.estimator_doc_link:hover {\n",
              "  /* unfitted */\n",
              "  background-color: var(--sklearn-color-unfitted-level-3);\n",
              "  color: var(--sklearn-color-background);\n",
              "  text-decoration: none;\n",
              "}\n",
              "\n",
              "#sk-container-id-1 a.estimator_doc_link.fitted:hover {\n",
              "  /* fitted */\n",
              "  background-color: var(--sklearn-color-fitted-level-3);\n",
              "}\n",
              "</style><div id=\"sk-container-id-1\" class=\"sk-top-container\"><div class=\"sk-text-repr-fallback\"><pre>LogisticRegression()</pre><b>In a Jupyter environment, please rerun this cell to show the HTML representation or trust the notebook. <br />On GitHub, the HTML representation is unable to render, please try loading this page with nbviewer.org.</b></div><div class=\"sk-container\" hidden><div class=\"sk-item\"><div class=\"sk-estimator fitted sk-toggleable\"><input class=\"sk-toggleable__control sk-hidden--visually\" id=\"sk-estimator-id-1\" type=\"checkbox\" checked><label for=\"sk-estimator-id-1\" class=\"sk-toggleable__label fitted sk-toggleable__label-arrow fitted\">&nbsp;&nbsp;LogisticRegression<a class=\"sk-estimator-doc-link fitted\" rel=\"noreferrer\" target=\"_blank\" href=\"https://scikit-learn.org/1.5/modules/generated/sklearn.linear_model.LogisticRegression.html\">?<span>Documentation for LogisticRegression</span></a><span class=\"sk-estimator-doc-link fitted\">i<span>Fitted</span></span></label><div class=\"sk-toggleable__content fitted\"><pre>LogisticRegression()</pre></div> </div></div></div></div>"
            ],
            "text/plain": [
              "LogisticRegression()"
            ]
          },
          "execution_count": 20,
          "metadata": {},
          "output_type": "execute_result"
        }
      ],
      "source": [
        "# Using a LogisticRegression model from sklearn, train the model on the training data.\n",
        "\n",
        "from sklearn.linear_model import LogisticRegression\n",
        "\n",
        "model = LogisticRegression()\n",
        "model.fit(x_train, y_train)"
      ]
    },
    {
      "cell_type": "code",
      "execution_count": null,
      "metadata": {
        "colab": {
          "base_uri": "https://localhost:8080/"
        },
        "collapsed": true,
        "id": "J8O06aTF3KJC",
        "outputId": "7244e8ea-c01b-4a00-c852-be431cb5d55a"
      },
      "outputs": [
        {
          "name": "stdout",
          "output_type": "stream",
          "text": [
            "Coefficient  shape: (24, 42)\n"
          ]
        }
      ],
      "source": [
        "from pandas import Series\n",
        "\n",
        "coefs = model.coef_\n",
        "\n",
        "# Shape of Coefficients\n",
        "print(f\"Coefficient  shape: {coefs.shape}\")"
      ]
    },
    {
      "cell_type": "code",
      "execution_count": null,
      "metadata": {
        "colab": {
          "base_uri": "https://localhost:8080/"
        },
        "collapsed": true,
        "id": "_L4cWYBK682P",
        "outputId": "a98afc48-7855-4911-f53c-db5fff401423"
      },
      "outputs": [
        {
          "name": "stdout",
          "output_type": "stream",
          "text": [
            "Model Coefficients\n",
            "mfcc_5_mean                1.572781\n",
            "mfcc_11_mean               1.200513\n",
            "mfcc_3_var                 1.132944\n",
            "mfcc_4_var                 1.071336\n",
            "mfcc_1_mean                1.016710\n",
            "zero_crossing_rate_mean    0.648296\n",
            "spectral_rolloff_mean      0.630266\n",
            "spectral_centroid_mean     0.520662\n",
            "tonnetz_mean               0.475521\n",
            "chroma_stft_mean           0.443427\n",
            "spectral_bandwidth_var     0.349344\n",
            "mfcc_6_var                 0.274007\n",
            "spectral_rolloff_var       0.239327\n",
            "mfcc_12_mean               0.192956\n",
            "spectral_bandwidth_mean    0.064816\n",
            "spectral_centroid_var      0.035511\n",
            "mfcc_1_var                -0.026653\n",
            "mfcc_2_var                -0.098279\n",
            "tempo                     -0.113061\n",
            "mfcc_6_mean               -0.119610\n",
            "mfcc_8_mean               -0.119980\n",
            "mfcc_8_var                -0.176268\n",
            "rms_mean                  -0.185410\n",
            "mfcc_10_mean              -0.222570\n",
            "mfcc_13_var               -0.229519\n",
            "mfcc_11_var               -0.249361\n",
            "tonnetz_var               -0.298946\n",
            "mfcc_4_mean               -0.349429\n",
            "mfcc_2_mean               -0.392236\n",
            "rms_var                   -0.412189\n",
            "mfcc_7_var                -0.447184\n",
            "zero_crossing_rate_var    -0.450736\n",
            "mfcc_9_mean               -0.458902\n",
            "mfcc_9_var                -0.468835\n",
            "mfcc_12_var               -0.582897\n",
            "mfcc_13_mean              -0.655968\n",
            "mfcc_10_var               -0.805448\n",
            "mfcc_7_mean               -0.833274\n",
            "chroma_stft_var           -0.932953\n",
            "mfcc_5_var                -0.989636\n",
            "track_number              -1.115428\n",
            "mfcc_3_mean               -1.334938\n",
            "dtype: float64\n"
          ]
        }
      ],
      "source": [
        "coef_series = pd.Series(model.coef_[0], index=x_train.columns)\n",
        "\n",
        "print(\"Model Coefficients\")\n",
        "print(coef_series.sort_values(ascending=False))"
      ]
    },
    {
      "cell_type": "code",
      "execution_count": null,
      "metadata": {
        "colab": {
          "base_uri": "https://localhost:8080/"
        },
        "collapsed": true,
        "id": "Xev4SYfX-LFA",
        "outputId": "39c4ed91-cd3a-4d0a-8b6e-1f77dfdc1bf7"
      },
      "outputs": [
        {
          "name": "stdout",
          "output_type": "stream",
          "text": [
            "Top Five Most Predictive Features for ariana_grande:\n",
            "rms_mean                 1.661495\n",
            "spectral_rolloff_mean    1.332904\n",
            "mfcc_9_mean              1.246814\n",
            "mfcc_2_var               1.152729\n",
            "chroma_stft_mean         1.150108\n",
            "dtype: float64\n"
          ]
        }
      ],
      "source": [
        "# Choose one of the artists, and using the coeficients, determine the top five most predictive features for that artist.\n",
        "\n",
        "# Extract coefficients for the chosen artist\n",
        "artist_coefs = model.coef_[4]\n",
        "\n",
        "artist_coef_series = pd.Series(artist_coefs, index=x_train.columns)\n",
        "\n",
        "# Sorting to get the top 5 predictive features\n",
        "top_5_features_artist = artist_coef_series.sort_values(ascending=False).head(5)\n",
        "\n",
        "# Get artist's name\n",
        "chosen_artist = model.classes_[4]\n",
        "\n",
        "# Display features\n",
        "print(f\"Top Five Most Predictive Features for {chosen_artist}:\")\n",
        "print(top_5_features_artist)"
      ]
    },
    {
      "cell_type": "markdown",
      "metadata": {
        "id": "mDKF_i2DE6D5"
      },
      "source": [
        "The Top Five Most Predictive Features for Ariana Grande are:\n",
        "\n",
        "*   rms_mean: `1.661495`\n",
        "*   spectral_rolloff_mean: `1.332904`\n",
        "*   mfcc_9_mean: `1.246814`\n",
        "*   mfcc_2_var: `1.152729`\n",
        "*   chroma_stft_mean: `1.150108`"
      ]
    },
    {
      "cell_type": "markdown",
      "metadata": {
        "id": "Wo3yUc7BaNF4"
      },
      "source": [
        "### Model Evaluation"
      ]
    },
    {
      "cell_type": "code",
      "execution_count": null,
      "metadata": {
        "id": "f8BbetogGpWA"
      },
      "outputs": [],
      "source": [
        "# E) Model Evaluation: Evaluate the model using a classification report.\n",
        "\n",
        "from sklearn.metrics import classification_report, confusion_matrix, roc_auc_score\n",
        "import plotly.figure_factory as ff\n",
        "\n",
        "# Predictions\n",
        "y_pred = model.predict(x_test)\n",
        "y_pred_proba = model.predict_proba(x_test)[:, 1]"
      ]
    },
    {
      "cell_type": "code",
      "execution_count": null,
      "metadata": {
        "colab": {
          "base_uri": "https://localhost:8080/"
        },
        "collapsed": true,
        "id": "qoQ4Yw3WGxbH",
        "outputId": "1b5a0994-4e87-4a3a-fc10-9062d462ee90"
      },
      "outputs": [
        {
          "name": "stdout",
          "output_type": "stream",
          "text": [
            "\n",
            "Classification Report:\n",
            "                   precision    recall  f1-score   support\n",
            "\n",
            "            ac_dc       1.00      1.00      1.00        11\n",
            "            adele       0.58      0.64      0.61        11\n",
            "      alicia_keys       0.55      0.55      0.55        11\n",
            "   andrea_bocelli       1.00      0.69      0.82        13\n",
            "    ariana_grande       0.75      0.67      0.71         9\n",
            "             bach       0.86      0.92      0.89        13\n",
            "        beethoven       0.90      1.00      0.95         9\n",
            "bruce_springsteen       0.52      0.80      0.63        15\n",
            "  chris_stapleton       0.72      1.00      0.84        18\n",
            "         coldplay       0.50      0.75      0.60        20\n",
            "           dr_dre       0.92      0.92      0.92        12\n",
            "    frank_sinatra       0.80      0.33      0.47        12\n",
            "     jason_aldean       0.75      0.75      0.75         8\n",
            "            jay_z       0.86      0.69      0.77        26\n",
            "    john_coltrane       1.00      0.86      0.92        35\n",
            "      john_legend       0.50      0.27      0.35        11\n",
            "       john_mayer       0.79      0.69      0.73        16\n",
            "     led_zeppelin       0.60      0.50      0.55        12\n",
            "    maggie_rogers       0.89      0.80      0.84        10\n",
            "      miles_davis       0.85      0.92      0.88        25\n",
            "       pink_floyd       0.65      0.68      0.67        19\n",
            "          rihanna       0.69      0.60      0.64        15\n",
            "     taylor_swift       0.65      0.68      0.67        22\n",
            "            tupac       0.69      0.82      0.75        11\n",
            "\n",
            "         accuracy                           0.74       364\n",
            "        macro avg       0.75      0.73      0.73       364\n",
            "     weighted avg       0.76      0.74      0.74       364\n",
            "\n"
          ]
        }
      ],
      "source": [
        "# Classification Report\n",
        "print(\"\\nClassification Report:\")\n",
        "print(classification_report(y_test, y_pred))"
      ]
    },
    {
      "cell_type": "markdown",
      "metadata": {
        "id": "wYgwxfTnHpfN"
      },
      "source": [
        "Overall Model Performance:\n",
        "\n",
        "*   Accuracy: The model achieved an overall accuracy of `74%`, meaning it correctly predicted the artist for about 3 out of 4 tracks in the test set.\n",
        "*  Precision: On average, the model's precision was `76%` (weighted avg),indicating how well the predictions matched the true labels without including false positives.\n",
        "*   Recall: The model's average recall was `74%`, reflecting its ability to identify tracks for each artist correctly without missing any.\n",
        "*   F1-score: The weighted average F1-score was `74%`, balancing precision and recall for the entire dataset.\n",
        "\n",
        "Random Chance Guess: There are 24 artists in the dataset, so a random guess would have a 1/24 chance of being correct, which is about `4.17%` accuracy. The model's `74%` accuracy is far better than random chance.\n",
        "\n",
        "Highest F1 Scores:\n",
        "\n",
        "*   Ac_dc: `1.00` (perfect precision and recall for 11 samples).\n",
        "*   Beethoven: `0.95` (high precision and perfect recall for 9 samples).\n",
        "*   Dr Dre: `0.92` (excellent balance of precision and recall for 12 samples).\n",
        "*   John Coltrane: `0.92` (perfect recall and strong precision for 35 samples).\n",
        "\n",
        "Lowest F1 Scores:\n",
        "*   John Legend: `0.35` (low recall of 27% and poor precision of 50%).   \n",
        "*   Frank Sinatra: `0.47` (low recall of 33% despite good precision of 80%).\n",
        "*   Alicia Keys: `0.55` (moderate precision and recall of 55%).\n",
        "*   Led Zeppelin: `0.55` (precision and recall of 60% and 50%, respectively).\n",
        "\n",
        "Summary:\n",
        "The model performed significantly better than random guessing, with notable accuracy for artists with distinct musical characteristics (e.g., `Ac_dc, Beethoven`). However, performance was weaker for some artists with overlapping features or fewer distinct tracks, such as `Frank Sinatra and John Legend`."
      ]
    },
    {
      "cell_type": "code",
      "execution_count": null,
      "metadata": {
        "colab": {
          "base_uri": "https://localhost:8080/",
          "height": 917
        },
        "collapsed": true,
        "id": "nVFYmlDMQ4pq",
        "outputId": "0dc89846-d7c0-4259-d744-d04a4be36261"
      },
      "outputs": [],
      "source": [
        "from sklearn.metrics import confusion_matrix\n",
        "import plotly.express as px\n",
        "\n",
        "def plot_confusion_matrix(y_true, y_pred, height=450, showscale=False, title=None, subtitle=None):\n",
        "    # https://scikit-learn.org/stable/modules/generated/sklearn.metrics.confusion_matrix.html\n",
        "    # Confusion matrix whose i-th row and j-th column\n",
        "    # ... indicates the number of samples with\n",
        "    # ... true label being i-th class (ROW)\n",
        "    # ... and predicted label being j-th class (COLUMN)\n",
        "    cm = confusion_matrix(y_true, y_pred)\n",
        "\n",
        "    class_names = sorted(y_test.unique().tolist())\n",
        "\n",
        "    cm = confusion_matrix(y_test, y_pred, labels=class_names)\n",
        "\n",
        "    title = title or \"Confusion Matrix\"\n",
        "    if subtitle:\n",
        "        title += f\"<br><sup>{subtitle}</sup>\"\n",
        "\n",
        "    fig = px.imshow(cm, x=class_names, y=class_names, height=height,\n",
        "                    labels={\"x\": \"Predicted\", \"y\": \"Actual\"},\n",
        "                    color_continuous_scale=\"Blues\", text_auto=True,\n",
        "    )\n",
        "    fig.update_layout(title={'text': title, 'x':0.485, 'xanchor': 'center'})\n",
        "    fig.update_coloraxes(showscale=showscale)\n",
        "\n",
        "    fig.show()\n",
        "\n",
        "\n",
        "\n",
        "plot_confusion_matrix(y_test, y_pred, height=900)"
      ]
    },
    {
      "cell_type": "markdown",
      "metadata": {
        "id": "Xp4KP2B2Kf5v"
      },
      "source": [
        "#### Top three pairs of artists who were most confused with each other.\n",
        "\n",
        "*   `4` - Predicted: `Cold Play` Actual: `Frank Sinatra`\n",
        "*   `3` - Predicted: `Chris Stapleton` Actual: `John Mayer`\n",
        "*   `3` - Predicted: `Miles Davis` Actual: `John Coltrane`\n",
        "\n"
      ]
    },
    {
      "cell_type": "markdown",
      "metadata": {
        "id": "Ck5oLeqmIxVG"
      },
      "source": [
        "## Dimensionality Reduction"
      ]
    },
    {
      "cell_type": "markdown",
      "metadata": {
        "id": "NL8sNhHcd4jj"
      },
      "source": [
        "Performing dimensionality reduction on the audio features."
      ]
    },
    {
      "cell_type": "code",
      "execution_count": null,
      "metadata": {
        "colab": {
          "base_uri": "https://localhost:8080/"
        },
        "collapsed": true,
        "id": "YX5fO64DJeL6",
        "outputId": "22203dbd-0fe8-4043-8f56-6334c8481683"
      },
      "outputs": [
        {
          "name": "stdout",
          "output_type": "stream",
          "text": [
            "PCA embeddings (2 components):\n",
            "[[ 2.28569942  0.76033006]\n",
            " [ 2.55098238  0.02637963]\n",
            " [-1.07916235  0.46552184]\n",
            " [ 0.25819892  0.4874113 ]\n",
            " [-1.17209878 -0.10913769]]\n"
          ]
        }
      ],
      "source": [
        "# A) Use a PCA model from sklearn with two components. Use a random state for reproducibility. \n",
        "# Training the model on the scaled data to obtain the embeddings.\n",
        "\n",
        "from sklearn.decomposition import PCA\n",
        "\n",
        "pca = PCA(n_components=2, random_state=99)\n",
        "\n",
        "pca_embeddings = pca.fit_transform(x_scaled)\n",
        "\n",
        "print(f\"PCA embeddings (2 components):\\n{pca_embeddings[:5]}\")  # Show first 5 rows for reference"
      ]
    },
    {
      "cell_type": "code",
      "execution_count": null,
      "metadata": {
        "colab": {
          "base_uri": "https://localhost:8080/"
        },
        "collapsed": true,
        "id": "mDOLViZTLUBB",
        "outputId": "4d622bfd-4395-4db8-867e-4c6e919bb0c8"
      },
      "outputs": [
        {
          "name": "stdout",
          "output_type": "stream",
          "text": [
            "Explained Variance Ratio: 0.2146, 0.1670\n",
            "Total Explained Variance: 16.0262\n"
          ]
        }
      ],
      "source": [
        "# Explained variance ratio for each component\n",
        "print(f\"Explained Variance Ratio: {pca.explained_variance_ratio_[0]:.4f}, {pca.explained_variance_ratio_[1]:.4f}\")\n",
        "\n",
        "# Print the sum of explained variance\n",
        "print(f\"Total Explained Variance: {pca.explained_variance_.sum():.4f}\")"
      ]
    },
    {
      "cell_type": "markdown",
      "metadata": {
        "id": "0zmHqx2BQEJD"
      },
      "source": [
        "The explained variance ratios indicate how much of the total variance in the dataset is captured by each principal component. In this case:\n",
        "\n",
        "+ First component explains `21.46%` of the variance\n",
        "Second component explains `16.70%` of the variance\n",
        "Together, these two components account for `38.16%` of the total variance\n",
        "+ For the sum of explained variance for all components: The sum of explained variance `16.03` indicates the total amount of variance retained after performing PCA.\n",
        "\n",
        "This suggests that while these two components capture a significant portion of the data's variability, there's still a considerable amount of information `(61.84%)` not explained by these components. This implies the dataset has complexity that isn't fully represented by just these two principal components."
      ]
    },
    {
      "cell_type": "markdown",
      "metadata": {
        "id": "qFSsJ-KZt-WR"
      },
      "source": [
        "### Track Embeddings Plot"
      ]
    },
    {
      "cell_type": "code",
      "execution_count": null,
      "metadata": {
        "colab": {
          "base_uri": "https://localhost:8080/"
        },
        "collapsed": true,
        "id": "I1lUpY2DLVqM",
        "outputId": "3443717f-92c1-4b53-dec7-b269151033b5"
      },
      "outputs": [
        {
          "name": "stdout",
          "output_type": "stream",
          "text": [
            "   component_1  component_2\n",
            "0     2.285699     0.760330\n",
            "1     2.550982     0.026380\n",
            "2    -1.079162     0.465522\n",
            "3     0.258199     0.487411\n",
            "4    -1.172099    -0.109138\n",
            "5    -0.994269    -0.913397\n",
            "6    -1.205898    -0.118464\n",
            "7    -2.317212     0.158391\n",
            "8    -1.869898    -1.077974\n",
            "9    -0.177722    -1.181422\n"
          ]
        }
      ],
      "source": [
        "# Wrap the embeddings in a pandas.DataFrame, using appropriate column names (\"component_1\" and \"component_2\"), and appropriate index values.\n",
        "\n",
        "pca_df = pd.DataFrame(pca_embeddings, columns=[\"component_1\", \"component_2\"], index=x_scaled.index)\n",
        "\n",
        "# Print the first few rows of the resulting DataFrame\n",
        "print(pca_df.head(10))"
      ]
    },
    {
      "cell_type": "code",
      "execution_count": null,
      "metadata": {
        "colab": {
          "base_uri": "https://localhost:8080/",
          "height": 542
        },
        "collapsed": true,
        "id": "H1QOyvz6XOi7",
        "outputId": "4f3cce0d-fb2c-451f-b9e3-277510c6c31e"
      },
      "outputs": [],
      "source": [
        "# Plot the embeddings using a scatterplot, with \"component_1\" on the x axis and \"component_2\" on the y axis. Color on artist label.\n",
        "\n",
        "# Create the scatter plot using Plotly\n",
        "fig = px.scatter(pca_df, x='component_1', y='component_2', color=df['artist_name'],\n",
        "                 title=\"PCA Embeddings of Audio Features\",\n",
        "                 labels={'component_1': 'Component 1', 'component_2': 'Component 2', 'color': 'Artist Name'},\n",
        "                 color_continuous_scale='Set2')\n",
        "\n",
        "# Show the plot\n",
        "fig.show()"
      ]
    },
    {
      "cell_type": "markdown",
      "metadata": {
        "id": "-cexqEvcU8R-"
      },
      "source": [
        "> The plot for `Beethoven` appears clustered on the left side of component_1, contrasting with other artists such as `Andrea Bocelli, Maggie Rogers`, and `Adele`, whose points overlap significantly. This suggests a potential similarity in how their music is recommended or consumed. Notably, there are a few outliers, including `Ariana Grande`."
      ]
    },
    {
      "cell_type": "markdown",
      "metadata": {
        "id": "C-A4UdwFt_2v"
      },
      "source": [
        "### Artist Centroids Plot"
      ]
    },
    {
      "cell_type": "code",
      "execution_count": null,
      "metadata": {
        "colab": {
          "base_uri": "https://localhost:8080/"
        },
        "collapsed": true,
        "id": "sdkdFKhdLYXs",
        "outputId": "ad9b1522-c72b-47c2-d974-e5695364e77c"
      },
      "outputs": [
        {
          "name": "stdout",
          "output_type": "stream",
          "text": [
            "                   component_1  component_2\n",
            "artist                                     \n",
            "ac_dc                -2.650474     2.703622\n",
            "adele                 0.101009    -0.642272\n",
            "alicia_keys           0.617628    -0.153177\n",
            "andrea_bocelli        1.372134    -2.115613\n",
            "ariana_grande         4.242824     1.510066\n",
            "bach                 -0.175216    -3.555729\n",
            "beethoven            -1.796875    -5.714091\n",
            "bruce_springsteen    -2.742395     0.874943\n",
            "chris_stapleton      -0.228719    -0.130422\n",
            "coldplay             -1.555954    -0.157235\n",
            "dr_dre                3.001062     3.247707\n",
            "frank_sinatra        -0.766613    -0.158465\n",
            "jason_aldean         -1.088423     0.222854\n",
            "jay_z                 0.511442     2.449474\n",
            "john_coltrane        -2.056012    -0.644847\n",
            "john_legend           1.112730    -0.185813\n",
            "john_mayer           -2.056997     0.109605\n",
            "led_zeppelin         -1.620247     0.212123\n",
            "maggie_rogers         1.752033    -0.453864\n",
            "miles_davis           0.635915    -0.380263\n",
            "pink_floyd           -1.135664    -1.885106\n",
            "rihanna               2.004803     1.099241\n",
            "taylor_swift          1.391802     0.442900\n",
            "tupac                 1.928975     2.970762\n"
          ]
        }
      ],
      "source": [
        "# E) Calculate the centroids for each artist. The centroid for a given artist is comprised of the \"component_1\" mean and the \"component_2\" mean for that artist.\n",
        "\n",
        "# Adding the 'artist' label to the pca_df\n",
        "pca_df['artist'] = y_train\n",
        "\n",
        "# Calculating the centroids for each artist\n",
        "centroids = pca_df.groupby('artist')[['component_1', 'component_2']].mean()\n",
        "\n",
        "# Print the centroids\n",
        "print(centroids)"
      ]
    },
    {
      "cell_type": "code",
      "execution_count": null,
      "metadata": {
        "colab": {
          "base_uri": "https://localhost:8080/",
          "height": 542
        },
        "collapsed": true,
        "id": "GwAUa9LnXFw_",
        "outputId": "cbfa2a83-5c3a-4970-ee65-9023435f7d24"
      },
      "outputs": [],
      "source": [
        "# F) Plot the centroids using a scatterplot, with \"component_1\" on the x axis and \"component_2\" on the y axis. Color on artist label.\n",
        "\n",
        "# Plot the centroids with artist color\n",
        "fig = px.scatter(centroids, x='component_1', y='component_2', color=centroids.index,\n",
        "                 title=\"Artist Centroids in PCA Space\",\n",
        "                 labels={'component_1': 'PCA Component 1', 'component_2': 'PCA Component 2', 'artist': 'Artist Name'},\n",
        "                 color_continuous_scale='Viridis')\n",
        "\n",
        "fig.update_traces(marker=dict(size=24))\n",
        "\n",
        "fig.show()"
      ]
    },
    {
      "cell_type": "markdown",
      "metadata": {
        "id": "dzVXkwZGVYi4"
      },
      "source": [
        "+ Artists in Similar Areas: Several artists cluster closely together, suggesting similarities in their data features. For instance, `John Mayer, Led Zeppelin, Jason Aldean`, and F`rank Sinatra` are grouped to the left of component_1, while `Taylor Swift, John Legend, Alicia Keys, and Maggie Rogers` form a cluster near the center-right of component_1, indicating shared characteristics.\n",
        "\n",
        "+ More Distinct Artists: dr_dre stands out at the far right of component_1, reflecting a unique feature set. Similarly, `Ariana Grande` is separated from other artists, positioned far right but in a different region than `Dr dre`. On the bottom left of component_2, beethoven and bach emphasize their distinctiveness from pop artists. Additionally, `Ac_dc` and the `Jay Z` and `Tupac` pair exhibit their uniqueness in separate regions."
      ]
    },
    {
      "cell_type": "markdown",
      "metadata": {
        "id": "ngvWkKpyJgw3"
      },
      "source": [
        "## PCA Tuning"
      ]
    },
    {
      "cell_type": "code",
      "execution_count": null,
      "metadata": {
        "colab": {
          "base_uri": "https://localhost:8080/"
        },
        "collapsed": true,
        "id": "JFtYZXm8yWVS",
        "outputId": "7750960b-9d19-4b08-8b88-2884d84db496"
      },
      "outputs": [
        {
          "name": "stdout",
          "output_type": "stream",
          "text": [
            "Number of components: 1, Sum of explained variance: 0.2146\n",
            "Number of components: 2, Sum of explained variance: 0.3816\n",
            "Number of components: 3, Sum of explained variance: 0.4773\n",
            "Number of components: 4, Sum of explained variance: 0.5454\n",
            "Number of components: 5, Sum of explained variance: 0.5905\n",
            "Number of components: 6, Sum of explained variance: 0.6281\n",
            "Number of components: 7, Sum of explained variance: 0.6596\n",
            "Number of components: 8, Sum of explained variance: 0.6868\n",
            "Number of components: 9, Sum of explained variance: 0.7127\n",
            "Number of components: 10, Sum of explained variance: 0.7367\n",
            "Number of components: 11, Sum of explained variance: 0.7599\n",
            "Number of components: 12, Sum of explained variance: 0.7812\n",
            "Number of components: 13, Sum of explained variance: 0.8005\n",
            "Number of components: 14, Sum of explained variance: 0.8174\n",
            "Number of components: 15, Sum of explained variance: 0.8326\n",
            "Number of components: 16, Sum of explained variance: 0.8467\n",
            "Number of components: 17, Sum of explained variance: 0.8604\n",
            "Number of components: 18, Sum of explained variance: 0.8736\n",
            "Number of components: 19, Sum of explained variance: 0.8857\n",
            "Number of components: 20, Sum of explained variance: 0.8966\n",
            "Number of components: 21, Sum of explained variance: 0.9062\n",
            "Number of components: 22, Sum of explained variance: 0.9155\n",
            "Number of components: 23, Sum of explained variance: 0.9245\n",
            "Number of components: 24, Sum of explained variance: 0.9326\n",
            "Number of components: 25, Sum of explained variance: 0.9397\n",
            "Number of components: 26, Sum of explained variance: 0.9467\n",
            "Number of components: 27, Sum of explained variance: 0.9527\n",
            "Number of components: 28, Sum of explained variance: 0.9587\n",
            "Number of components: 29, Sum of explained variance: 0.9643\n",
            "Number of components: 30, Sum of explained variance: 0.9695\n",
            "Number of components: 31, Sum of explained variance: 0.9744\n",
            "Number of components: 32, Sum of explained variance: 0.9791\n",
            "Number of components: 33, Sum of explained variance: 0.9836\n",
            "Number of components: 34, Sum of explained variance: 0.9879\n",
            "Number of components: 35, Sum of explained variance: 0.9915\n",
            "Number of components: 36, Sum of explained variance: 0.9941\n",
            "Number of components: 37, Sum of explained variance: 0.9962\n",
            "Number of components: 38, Sum of explained variance: 0.9977\n",
            "Number of components: 39, Sum of explained variance: 0.9988\n",
            "Number of components: 40, Sum of explained variance: 0.9996\n",
            "Number of components: 41, Sum of explained variance: 0.9999\n",
            "Number of components: 42, Sum of explained variance: 1.0000\n"
          ]
        }
      ],
      "source": [
        "# List to store explained variance and number of components\n",
        "explained_variance_list = []\n",
        "\n",
        "for n in range(1, x_scaled.shape[1] + 1):\n",
        "    # Initialize PCA model with n components\n",
        "    pca = PCA(n_components=n, random_state=99)\n",
        "\n",
        "    # Train PCA model on scaled data (all rows of the features)\n",
        "    pca.fit(x_scaled)\n",
        "\n",
        "    # Calculate the sum of explained variance for n components\n",
        "    explained_variance_sum = pca.explained_variance_ratio_.sum()\n",
        "\n",
        "    # Print the sum of explained variance for n components\n",
        "    print(f\"Number of components: {n}, Sum of explained variance: {explained_variance_sum:.4f}\")\n",
        "\n",
        "    # Store the sum of explained variance and number of components in a list\n",
        "    explained_variance_list.append({'n_components': n, 'explained_variance_sum': explained_variance_sum})"
      ]
    },
    {
      "cell_type": "code",
      "execution_count": null,
      "metadata": {
        "colab": {
          "base_uri": "https://localhost:8080/"
        },
        "collapsed": true,
        "id": "0XtmIUi70jjT",
        "outputId": "b0919bda-62a0-4455-be64-54580c763f93"
      },
      "outputs": [
        {
          "name": "stdout",
          "output_type": "stream",
          "text": [
            "    n_components  explained_variance_sum\n",
            "0              1                0.214583\n",
            "1              2                0.381577\n",
            "2              3                0.477308\n",
            "3              4                0.545424\n",
            "4              5                0.590539\n",
            "5              6                0.628133\n",
            "6              7                0.659592\n",
            "7              8                0.686835\n",
            "8              9                0.712749\n",
            "9             10                0.736742\n",
            "10            11                0.759914\n",
            "11            12                0.781168\n",
            "12            13                0.800504\n",
            "13            14                0.817374\n",
            "14            15                0.832558\n",
            "15            16                0.846739\n",
            "16            17                0.860355\n",
            "17            18                0.873572\n",
            "18            19                0.885747\n",
            "19            20                0.896589\n",
            "20            21                0.906169\n",
            "21            22                0.915500\n",
            "22            23                0.924526\n",
            "23            24                0.932565\n",
            "24            25                0.939715\n",
            "25            26                0.946671\n",
            "26            27                0.952748\n",
            "27            28                0.958665\n",
            "28            29                0.964319\n",
            "29            30                0.969467\n",
            "30            31                0.974385\n",
            "31            32                0.979088\n",
            "32            33                0.983597\n",
            "33            34                0.987913\n",
            "34            35                0.991458\n",
            "35            36                0.994062\n",
            "36            37                0.996171\n",
            "37            38                0.997704\n",
            "38            39                0.998796\n",
            "39            40                0.999644\n",
            "40            41                0.999914\n",
            "41            42                1.000000\n"
          ]
        }
      ],
      "source": [
        "explained_variance_df = pd.DataFrame(explained_variance_list)\n",
        "\n",
        "# Print the DataFrame\n",
        "print(explained_variance_df)"
      ]
    },
    {
      "cell_type": "markdown",
      "metadata": {
        "id": "E03dKVDztmgS"
      },
      "source": [
        "### Explained Variance Plot"
      ]
    },
    {
      "cell_type": "code",
      "execution_count": null,
      "metadata": {
        "colab": {
          "base_uri": "https://localhost:8080/",
          "height": 542
        },
        "collapsed": true,
        "id": "kIIdXXbJKWXr",
        "outputId": "cb453bf3-b298-4157-a9ca-b67bb4ecdd8d"
      },
      "outputs": [],
      "source": [
        "# Plot a line chart of the explained variance on the y axis and the number of components on the x axis\n",
        "fig = px.line(explained_variance_df, x='n_components', y='explained_variance_sum', markers=True,\n",
        "              title='Explained Variance vs. Number of Components',\n",
        "              labels={'n_components': 'Number of Components', 'explained_variance_sum': 'Explained Variance'})\n",
        "\n",
        "fig.add_hline(y=0.8, line_width=1, line_dash=\"dot\", line_color=\"red\")\n",
        "fig.add_hline(y=0.9, line_width=1, line_dash=\"dot\", line_color=\"green\")\n",
        "\n",
        "# Show the plot\n",
        "fig.show()"
      ]
    },
    {
      "cell_type": "markdown",
      "metadata": {
        "id": "dT3ZzIYO1wdM"
      },
      "source": [
        "### The line chart shows the explained variance on the y-axis and the number of components on the x-axis. As the number of components increases, the explained variance also increases, approaching 100% when all components are included.\n",
        "\n",
        "\n",
        "*   ***80% Variance:*** To achieve 80% of the variance, `13` components are required.\n",
        "*   ***90% Variance:*** To achieve 90% of the variance, `21` components are required."
      ]
    },
    {
      "cell_type": "markdown",
      "metadata": {
        "id": "e6nVxPVTtlDG"
      },
      "source": [
        "### Scree Plot"
      ]
    },
    {
      "cell_type": "code",
      "execution_count": null,
      "metadata": {
        "colab": {
          "base_uri": "https://localhost:8080/",
          "height": 542
        },
        "collapsed": true,
        "id": "stmtd1M1Kg5y",
        "outputId": "319b0032-7aa1-4181-fe65-f787efa584de"
      },
      "outputs": [],
      "source": [
        "import plotly.graph_objects as go\n",
        "\n",
        "# Get the eigenvalues (explained variance)\n",
        "eigenvalues = pca.explained_variance_\n",
        "\n",
        "# Plot the scree plot using Plotly\n",
        "fig = go.Figure()\n",
        "fig.add_trace(go.Scatter(x=list(range(1, len(eigenvalues) + 1)), y=eigenvalues, mode='lines+markers'))\n",
        "\n",
        "fig.update_layout(title='Scree Plot', xaxis_title='Number of Components',\n",
        "    yaxis_title='Eigenvalue', template='plotly_white'\n",
        ")\n",
        "fig.add_hline(y=1, line_width=1, line_dash=\"dot\", line_color=\"blue\", )\n",
        "fig.show()"
      ]
    },
    {
      "cell_type": "markdown",
      "metadata": {
        "id": "cAfIaEVV6MYn"
      },
      "source": [
        "The scree plot shows that the eigenvalues decrease as the number of components increases. The \"elbow\" point, where the curve starts to flatten, is at the first component. This indicates that the first component captures the most significant variance, and additional components contribute less significantly to the total variance.\n",
        "\n",
        "*   The greatest number of components where the eigenvalue is greater than one: `10`\n",
        "*   The curve shows an elbow bend starting at `component 4` and continuing through component 9`, after which the increase in explained variance becomes significantly smaller.\n"
      ]
    },
    {
      "cell_type": "markdown",
      "metadata": {
        "id": "wO14U8y6jRBT"
      },
      "source": [
        "### Optimal Number of Components"
      ]
    },
    {
      "cell_type": "markdown",
      "metadata": {
        "id": "bw-ZPV_OjWmr"
      },
      "source": [
        "Answer: `21 components`\n",
        "\n",
        "Based on the explained variance and scree plot analyses, I would select `21` components for this music recommendation dataset. This choice preserves `90%` of the variance, striking a good balance between reducing dimensionality and retaining most of the information. I also considered using  `10` as the scree plot shows eigenvalues greater than `1`."
      ]
    },
    {
      "cell_type": "markdown",
      "metadata": {
        "id": "zo9Ux2OELea4"
      },
      "source": [
        "## Artist Classification (Reduced Feature Embeddings)"
      ]
    },
    {
      "cell_type": "code",
      "execution_count": null,
      "metadata": {
        "colab": {
          "base_uri": "https://localhost:8080/"
        },
        "collapsed": true,
        "id": "IxZZYSFgKrcZ",
        "outputId": "5e5c0618-8d9e-40e7-eb2a-ade80ec0f750"
      },
      "outputs": [
        {
          "name": "stdout",
          "output_type": "stream",
          "text": [
            "Sum of explained variance with 21 components: 0.9062\n"
          ]
        }
      ],
      "source": [
        "# Number of components identified in PCA Tuning \n",
        "n_components = 21\n",
        "\n",
        "# Train PCA model on the scaled data with the identified number of components\n",
        "pca = PCA(n_components=n_components, random_state=99)\n",
        "reduced_embeddings = pca.fit_transform(x_scaled)\n",
        "\n",
        "# Print the sum of explained variance when using this number of components\n",
        "explained_variance_sum = pca.explained_variance_ratio_.sum()\n",
        "print(f\"Sum of explained variance with {n_components} components: {explained_variance_sum:.4f}\")"
      ]
    },
    {
      "cell_type": "code",
      "execution_count": null,
      "metadata": {
        "id": "-jbSFBgZK8UT"
      },
      "outputs": [],
      "source": [
        "# Store the embeddings in a pandas DataFrame with appropriate column names and index values\n",
        "column_names = [f'PC{i}' for i in range(1, n_components + 1)]\n",
        "reduced_embeddings_df = pd.DataFrame(reduced_embeddings, columns=column_names, index=df[\"artist_name\"])\n",
        "\n",
        "# Add / merge the artist name labels back in for charting later\n",
        "reduced_embeddings_df['artist_name'] = df['artist_name'].values"
      ]
    },
    {
      "cell_type": "code",
      "execution_count": null,
      "metadata": {
        "id": "Amr-gZ8kPl7-"
      },
      "outputs": [],
      "source": [
        "# Perform train/test split using the embeddings as the features\n",
        "X_train, X_test, y_train, y_test = train_test_split(reduced_embeddings_df[column_names], reduced_embeddings_df['artist_name'], test_size=0.2, random_state=99)"
      ]
    },
    {
      "cell_type": "code",
      "execution_count": null,
      "metadata": {
        "colab": {
          "base_uri": "https://localhost:8080/",
          "height": 80
        },
        "collapsed": true,
        "id": "0MtJXwUCLmTY",
        "outputId": "7ce00d0c-f98b-44b0-d149-75625552c9ac"
      },
      "outputs": [
        {
          "data": {
            "text/html": [
              "<style>#sk-container-id-2 {\n",
              "  /* Definition of color scheme common for light and dark mode */\n",
              "  --sklearn-color-text: black;\n",
              "  --sklearn-color-line: gray;\n",
              "  /* Definition of color scheme for unfitted estimators */\n",
              "  --sklearn-color-unfitted-level-0: #fff5e6;\n",
              "  --sklearn-color-unfitted-level-1: #f6e4d2;\n",
              "  --sklearn-color-unfitted-level-2: #ffe0b3;\n",
              "  --sklearn-color-unfitted-level-3: chocolate;\n",
              "  /* Definition of color scheme for fitted estimators */\n",
              "  --sklearn-color-fitted-level-0: #f0f8ff;\n",
              "  --sklearn-color-fitted-level-1: #d4ebff;\n",
              "  --sklearn-color-fitted-level-2: #b3dbfd;\n",
              "  --sklearn-color-fitted-level-3: cornflowerblue;\n",
              "\n",
              "  /* Specific color for light theme */\n",
              "  --sklearn-color-text-on-default-background: var(--sg-text-color, var(--theme-code-foreground, var(--jp-content-font-color1, black)));\n",
              "  --sklearn-color-background: var(--sg-background-color, var(--theme-background, var(--jp-layout-color0, white)));\n",
              "  --sklearn-color-border-box: var(--sg-text-color, var(--theme-code-foreground, var(--jp-content-font-color1, black)));\n",
              "  --sklearn-color-icon: #696969;\n",
              "\n",
              "  @media (prefers-color-scheme: dark) {\n",
              "    /* Redefinition of color scheme for dark theme */\n",
              "    --sklearn-color-text-on-default-background: var(--sg-text-color, var(--theme-code-foreground, var(--jp-content-font-color1, white)));\n",
              "    --sklearn-color-background: var(--sg-background-color, var(--theme-background, var(--jp-layout-color0, #111)));\n",
              "    --sklearn-color-border-box: var(--sg-text-color, var(--theme-code-foreground, var(--jp-content-font-color1, white)));\n",
              "    --sklearn-color-icon: #878787;\n",
              "  }\n",
              "}\n",
              "\n",
              "#sk-container-id-2 {\n",
              "  color: var(--sklearn-color-text);\n",
              "}\n",
              "\n",
              "#sk-container-id-2 pre {\n",
              "  padding: 0;\n",
              "}\n",
              "\n",
              "#sk-container-id-2 input.sk-hidden--visually {\n",
              "  border: 0;\n",
              "  clip: rect(1px 1px 1px 1px);\n",
              "  clip: rect(1px, 1px, 1px, 1px);\n",
              "  height: 1px;\n",
              "  margin: -1px;\n",
              "  overflow: hidden;\n",
              "  padding: 0;\n",
              "  position: absolute;\n",
              "  width: 1px;\n",
              "}\n",
              "\n",
              "#sk-container-id-2 div.sk-dashed-wrapped {\n",
              "  border: 1px dashed var(--sklearn-color-line);\n",
              "  margin: 0 0.4em 0.5em 0.4em;\n",
              "  box-sizing: border-box;\n",
              "  padding-bottom: 0.4em;\n",
              "  background-color: var(--sklearn-color-background);\n",
              "}\n",
              "\n",
              "#sk-container-id-2 div.sk-container {\n",
              "  /* jupyter's `normalize.less` sets `[hidden] { display: none; }`\n",
              "     but bootstrap.min.css set `[hidden] { display: none !important; }`\n",
              "     so we also need the `!important` here to be able to override the\n",
              "     default hidden behavior on the sphinx rendered scikit-learn.org.\n",
              "     See: https://github.com/scikit-learn/scikit-learn/issues/21755 */\n",
              "  display: inline-block !important;\n",
              "  position: relative;\n",
              "}\n",
              "\n",
              "#sk-container-id-2 div.sk-text-repr-fallback {\n",
              "  display: none;\n",
              "}\n",
              "\n",
              "div.sk-parallel-item,\n",
              "div.sk-serial,\n",
              "div.sk-item {\n",
              "  /* draw centered vertical line to link estimators */\n",
              "  background-image: linear-gradient(var(--sklearn-color-text-on-default-background), var(--sklearn-color-text-on-default-background));\n",
              "  background-size: 2px 100%;\n",
              "  background-repeat: no-repeat;\n",
              "  background-position: center center;\n",
              "}\n",
              "\n",
              "/* Parallel-specific style estimator block */\n",
              "\n",
              "#sk-container-id-2 div.sk-parallel-item::after {\n",
              "  content: \"\";\n",
              "  width: 100%;\n",
              "  border-bottom: 2px solid var(--sklearn-color-text-on-default-background);\n",
              "  flex-grow: 1;\n",
              "}\n",
              "\n",
              "#sk-container-id-2 div.sk-parallel {\n",
              "  display: flex;\n",
              "  align-items: stretch;\n",
              "  justify-content: center;\n",
              "  background-color: var(--sklearn-color-background);\n",
              "  position: relative;\n",
              "}\n",
              "\n",
              "#sk-container-id-2 div.sk-parallel-item {\n",
              "  display: flex;\n",
              "  flex-direction: column;\n",
              "}\n",
              "\n",
              "#sk-container-id-2 div.sk-parallel-item:first-child::after {\n",
              "  align-self: flex-end;\n",
              "  width: 50%;\n",
              "}\n",
              "\n",
              "#sk-container-id-2 div.sk-parallel-item:last-child::after {\n",
              "  align-self: flex-start;\n",
              "  width: 50%;\n",
              "}\n",
              "\n",
              "#sk-container-id-2 div.sk-parallel-item:only-child::after {\n",
              "  width: 0;\n",
              "}\n",
              "\n",
              "/* Serial-specific style estimator block */\n",
              "\n",
              "#sk-container-id-2 div.sk-serial {\n",
              "  display: flex;\n",
              "  flex-direction: column;\n",
              "  align-items: center;\n",
              "  background-color: var(--sklearn-color-background);\n",
              "  padding-right: 1em;\n",
              "  padding-left: 1em;\n",
              "}\n",
              "\n",
              "\n",
              "/* Toggleable style: style used for estimator/Pipeline/ColumnTransformer box that is\n",
              "clickable and can be expanded/collapsed.\n",
              "- Pipeline and ColumnTransformer use this feature and define the default style\n",
              "- Estimators will overwrite some part of the style using the `sk-estimator` class\n",
              "*/\n",
              "\n",
              "/* Pipeline and ColumnTransformer style (default) */\n",
              "\n",
              "#sk-container-id-2 div.sk-toggleable {\n",
              "  /* Default theme specific background. It is overwritten whether we have a\n",
              "  specific estimator or a Pipeline/ColumnTransformer */\n",
              "  background-color: var(--sklearn-color-background);\n",
              "}\n",
              "\n",
              "/* Toggleable label */\n",
              "#sk-container-id-2 label.sk-toggleable__label {\n",
              "  cursor: pointer;\n",
              "  display: block;\n",
              "  width: 100%;\n",
              "  margin-bottom: 0;\n",
              "  padding: 0.5em;\n",
              "  box-sizing: border-box;\n",
              "  text-align: center;\n",
              "}\n",
              "\n",
              "#sk-container-id-2 label.sk-toggleable__label-arrow:before {\n",
              "  /* Arrow on the left of the label */\n",
              "  content: \"▸\";\n",
              "  float: left;\n",
              "  margin-right: 0.25em;\n",
              "  color: var(--sklearn-color-icon);\n",
              "}\n",
              "\n",
              "#sk-container-id-2 label.sk-toggleable__label-arrow:hover:before {\n",
              "  color: var(--sklearn-color-text);\n",
              "}\n",
              "\n",
              "/* Toggleable content - dropdown */\n",
              "\n",
              "#sk-container-id-2 div.sk-toggleable__content {\n",
              "  max-height: 0;\n",
              "  max-width: 0;\n",
              "  overflow: hidden;\n",
              "  text-align: left;\n",
              "  /* unfitted */\n",
              "  background-color: var(--sklearn-color-unfitted-level-0);\n",
              "}\n",
              "\n",
              "#sk-container-id-2 div.sk-toggleable__content.fitted {\n",
              "  /* fitted */\n",
              "  background-color: var(--sklearn-color-fitted-level-0);\n",
              "}\n",
              "\n",
              "#sk-container-id-2 div.sk-toggleable__content pre {\n",
              "  margin: 0.2em;\n",
              "  border-radius: 0.25em;\n",
              "  color: var(--sklearn-color-text);\n",
              "  /* unfitted */\n",
              "  background-color: var(--sklearn-color-unfitted-level-0);\n",
              "}\n",
              "\n",
              "#sk-container-id-2 div.sk-toggleable__content.fitted pre {\n",
              "  /* unfitted */\n",
              "  background-color: var(--sklearn-color-fitted-level-0);\n",
              "}\n",
              "\n",
              "#sk-container-id-2 input.sk-toggleable__control:checked~div.sk-toggleable__content {\n",
              "  /* Expand drop-down */\n",
              "  max-height: 200px;\n",
              "  max-width: 100%;\n",
              "  overflow: auto;\n",
              "}\n",
              "\n",
              "#sk-container-id-2 input.sk-toggleable__control:checked~label.sk-toggleable__label-arrow:before {\n",
              "  content: \"▾\";\n",
              "}\n",
              "\n",
              "/* Pipeline/ColumnTransformer-specific style */\n",
              "\n",
              "#sk-container-id-2 div.sk-label input.sk-toggleable__control:checked~label.sk-toggleable__label {\n",
              "  color: var(--sklearn-color-text);\n",
              "  background-color: var(--sklearn-color-unfitted-level-2);\n",
              "}\n",
              "\n",
              "#sk-container-id-2 div.sk-label.fitted input.sk-toggleable__control:checked~label.sk-toggleable__label {\n",
              "  background-color: var(--sklearn-color-fitted-level-2);\n",
              "}\n",
              "\n",
              "/* Estimator-specific style */\n",
              "\n",
              "/* Colorize estimator box */\n",
              "#sk-container-id-2 div.sk-estimator input.sk-toggleable__control:checked~label.sk-toggleable__label {\n",
              "  /* unfitted */\n",
              "  background-color: var(--sklearn-color-unfitted-level-2);\n",
              "}\n",
              "\n",
              "#sk-container-id-2 div.sk-estimator.fitted input.sk-toggleable__control:checked~label.sk-toggleable__label {\n",
              "  /* fitted */\n",
              "  background-color: var(--sklearn-color-fitted-level-2);\n",
              "}\n",
              "\n",
              "#sk-container-id-2 div.sk-label label.sk-toggleable__label,\n",
              "#sk-container-id-2 div.sk-label label {\n",
              "  /* The background is the default theme color */\n",
              "  color: var(--sklearn-color-text-on-default-background);\n",
              "}\n",
              "\n",
              "/* On hover, darken the color of the background */\n",
              "#sk-container-id-2 div.sk-label:hover label.sk-toggleable__label {\n",
              "  color: var(--sklearn-color-text);\n",
              "  background-color: var(--sklearn-color-unfitted-level-2);\n",
              "}\n",
              "\n",
              "/* Label box, darken color on hover, fitted */\n",
              "#sk-container-id-2 div.sk-label.fitted:hover label.sk-toggleable__label.fitted {\n",
              "  color: var(--sklearn-color-text);\n",
              "  background-color: var(--sklearn-color-fitted-level-2);\n",
              "}\n",
              "\n",
              "/* Estimator label */\n",
              "\n",
              "#sk-container-id-2 div.sk-label label {\n",
              "  font-family: monospace;\n",
              "  font-weight: bold;\n",
              "  display: inline-block;\n",
              "  line-height: 1.2em;\n",
              "}\n",
              "\n",
              "#sk-container-id-2 div.sk-label-container {\n",
              "  text-align: center;\n",
              "}\n",
              "\n",
              "/* Estimator-specific */\n",
              "#sk-container-id-2 div.sk-estimator {\n",
              "  font-family: monospace;\n",
              "  border: 1px dotted var(--sklearn-color-border-box);\n",
              "  border-radius: 0.25em;\n",
              "  box-sizing: border-box;\n",
              "  margin-bottom: 0.5em;\n",
              "  /* unfitted */\n",
              "  background-color: var(--sklearn-color-unfitted-level-0);\n",
              "}\n",
              "\n",
              "#sk-container-id-2 div.sk-estimator.fitted {\n",
              "  /* fitted */\n",
              "  background-color: var(--sklearn-color-fitted-level-0);\n",
              "}\n",
              "\n",
              "/* on hover */\n",
              "#sk-container-id-2 div.sk-estimator:hover {\n",
              "  /* unfitted */\n",
              "  background-color: var(--sklearn-color-unfitted-level-2);\n",
              "}\n",
              "\n",
              "#sk-container-id-2 div.sk-estimator.fitted:hover {\n",
              "  /* fitted */\n",
              "  background-color: var(--sklearn-color-fitted-level-2);\n",
              "}\n",
              "\n",
              "/* Specification for estimator info (e.g. \"i\" and \"?\") */\n",
              "\n",
              "/* Common style for \"i\" and \"?\" */\n",
              "\n",
              ".sk-estimator-doc-link,\n",
              "a:link.sk-estimator-doc-link,\n",
              "a:visited.sk-estimator-doc-link {\n",
              "  float: right;\n",
              "  font-size: smaller;\n",
              "  line-height: 1em;\n",
              "  font-family: monospace;\n",
              "  background-color: var(--sklearn-color-background);\n",
              "  border-radius: 1em;\n",
              "  height: 1em;\n",
              "  width: 1em;\n",
              "  text-decoration: none !important;\n",
              "  margin-left: 1ex;\n",
              "  /* unfitted */\n",
              "  border: var(--sklearn-color-unfitted-level-1) 1pt solid;\n",
              "  color: var(--sklearn-color-unfitted-level-1);\n",
              "}\n",
              "\n",
              ".sk-estimator-doc-link.fitted,\n",
              "a:link.sk-estimator-doc-link.fitted,\n",
              "a:visited.sk-estimator-doc-link.fitted {\n",
              "  /* fitted */\n",
              "  border: var(--sklearn-color-fitted-level-1) 1pt solid;\n",
              "  color: var(--sklearn-color-fitted-level-1);\n",
              "}\n",
              "\n",
              "/* On hover */\n",
              "div.sk-estimator:hover .sk-estimator-doc-link:hover,\n",
              ".sk-estimator-doc-link:hover,\n",
              "div.sk-label-container:hover .sk-estimator-doc-link:hover,\n",
              ".sk-estimator-doc-link:hover {\n",
              "  /* unfitted */\n",
              "  background-color: var(--sklearn-color-unfitted-level-3);\n",
              "  color: var(--sklearn-color-background);\n",
              "  text-decoration: none;\n",
              "}\n",
              "\n",
              "div.sk-estimator.fitted:hover .sk-estimator-doc-link.fitted:hover,\n",
              ".sk-estimator-doc-link.fitted:hover,\n",
              "div.sk-label-container:hover .sk-estimator-doc-link.fitted:hover,\n",
              ".sk-estimator-doc-link.fitted:hover {\n",
              "  /* fitted */\n",
              "  background-color: var(--sklearn-color-fitted-level-3);\n",
              "  color: var(--sklearn-color-background);\n",
              "  text-decoration: none;\n",
              "}\n",
              "\n",
              "/* Span, style for the box shown on hovering the info icon */\n",
              ".sk-estimator-doc-link span {\n",
              "  display: none;\n",
              "  z-index: 9999;\n",
              "  position: relative;\n",
              "  font-weight: normal;\n",
              "  right: .2ex;\n",
              "  padding: .5ex;\n",
              "  margin: .5ex;\n",
              "  width: min-content;\n",
              "  min-width: 20ex;\n",
              "  max-width: 50ex;\n",
              "  color: var(--sklearn-color-text);\n",
              "  box-shadow: 2pt 2pt 4pt #999;\n",
              "  /* unfitted */\n",
              "  background: var(--sklearn-color-unfitted-level-0);\n",
              "  border: .5pt solid var(--sklearn-color-unfitted-level-3);\n",
              "}\n",
              "\n",
              ".sk-estimator-doc-link.fitted span {\n",
              "  /* fitted */\n",
              "  background: var(--sklearn-color-fitted-level-0);\n",
              "  border: var(--sklearn-color-fitted-level-3);\n",
              "}\n",
              "\n",
              ".sk-estimator-doc-link:hover span {\n",
              "  display: block;\n",
              "}\n",
              "\n",
              "/* \"?\"-specific style due to the `<a>` HTML tag */\n",
              "\n",
              "#sk-container-id-2 a.estimator_doc_link {\n",
              "  float: right;\n",
              "  font-size: 1rem;\n",
              "  line-height: 1em;\n",
              "  font-family: monospace;\n",
              "  background-color: var(--sklearn-color-background);\n",
              "  border-radius: 1rem;\n",
              "  height: 1rem;\n",
              "  width: 1rem;\n",
              "  text-decoration: none;\n",
              "  /* unfitted */\n",
              "  color: var(--sklearn-color-unfitted-level-1);\n",
              "  border: var(--sklearn-color-unfitted-level-1) 1pt solid;\n",
              "}\n",
              "\n",
              "#sk-container-id-2 a.estimator_doc_link.fitted {\n",
              "  /* fitted */\n",
              "  border: var(--sklearn-color-fitted-level-1) 1pt solid;\n",
              "  color: var(--sklearn-color-fitted-level-1);\n",
              "}\n",
              "\n",
              "/* On hover */\n",
              "#sk-container-id-2 a.estimator_doc_link:hover {\n",
              "  /* unfitted */\n",
              "  background-color: var(--sklearn-color-unfitted-level-3);\n",
              "  color: var(--sklearn-color-background);\n",
              "  text-decoration: none;\n",
              "}\n",
              "\n",
              "#sk-container-id-2 a.estimator_doc_link.fitted:hover {\n",
              "  /* fitted */\n",
              "  background-color: var(--sklearn-color-fitted-level-3);\n",
              "}\n",
              "</style><div id=\"sk-container-id-2\" class=\"sk-top-container\"><div class=\"sk-text-repr-fallback\"><pre>LogisticRegression(random_state=99)</pre><b>In a Jupyter environment, please rerun this cell to show the HTML representation or trust the notebook. <br />On GitHub, the HTML representation is unable to render, please try loading this page with nbviewer.org.</b></div><div class=\"sk-container\" hidden><div class=\"sk-item\"><div class=\"sk-estimator fitted sk-toggleable\"><input class=\"sk-toggleable__control sk-hidden--visually\" id=\"sk-estimator-id-2\" type=\"checkbox\" checked><label for=\"sk-estimator-id-2\" class=\"sk-toggleable__label fitted sk-toggleable__label-arrow fitted\">&nbsp;&nbsp;LogisticRegression<a class=\"sk-estimator-doc-link fitted\" rel=\"noreferrer\" target=\"_blank\" href=\"https://scikit-learn.org/1.5/modules/generated/sklearn.linear_model.LogisticRegression.html\">?<span>Documentation for LogisticRegression</span></a><span class=\"sk-estimator-doc-link fitted\">i<span>Fitted</span></span></label><div class=\"sk-toggleable__content fitted\"><pre>LogisticRegression(random_state=99)</pre></div> </div></div></div></div>"
            ],
            "text/plain": [
              "LogisticRegression(random_state=99)"
            ]
          },
          "execution_count": 40,
          "metadata": {},
          "output_type": "execute_result"
        }
      ],
      "source": [
        "# Train a LogisticRegression model using the embeddings training data\n",
        "model = LogisticRegression(random_state=99)\n",
        "model.fit(X_train, y_train)"
      ]
    },
    {
      "cell_type": "code",
      "execution_count": null,
      "metadata": {
        "id": "TxJ8CBN5Pojl"
      },
      "outputs": [],
      "source": [
        "# Model Evaluation: Evaluate the model using a classification report.\n",
        "\n",
        "# Predictions\n",
        "y_pred = model.predict(X_test)\n",
        "y_pred_proba = model.predict_proba(X_test)[:, 1]"
      ]
    },
    {
      "cell_type": "code",
      "execution_count": null,
      "metadata": {
        "colab": {
          "base_uri": "https://localhost:8080/"
        },
        "collapsed": true,
        "id": "AR_ebJqW02V_",
        "outputId": "88111079-87b6-44d0-f0c5-5bbd00cb168f"
      },
      "outputs": [
        {
          "name": "stdout",
          "output_type": "stream",
          "text": [
            "\n",
            "Classification Report:\n",
            "                   precision    recall  f1-score   support\n",
            "\n",
            "            ac_dc       1.00      1.00      1.00        11\n",
            "            adele       0.67      0.73      0.70        11\n",
            "      alicia_keys       0.50      0.45      0.48        11\n",
            "   andrea_bocelli       0.78      0.54      0.64        13\n",
            "    ariana_grande       0.56      0.56      0.56         9\n",
            "             bach       0.71      0.92      0.80        13\n",
            "        beethoven       0.89      0.89      0.89         9\n",
            "bruce_springsteen       0.48      0.87      0.62        15\n",
            "  chris_stapleton       0.68      0.94      0.79        18\n",
            "         coldplay       0.47      0.45      0.46        20\n",
            "           dr_dre       0.69      0.92      0.79        12\n",
            "    frank_sinatra       0.80      0.33      0.47        12\n",
            "     jason_aldean       0.55      0.75      0.63         8\n",
            "            jay_z       0.90      0.69      0.78        26\n",
            "    john_coltrane       0.97      0.80      0.88        35\n",
            "      john_legend       0.38      0.27      0.32        11\n",
            "       john_mayer       0.77      0.62      0.69        16\n",
            "     led_zeppelin       0.38      0.50      0.43        12\n",
            "    maggie_rogers       0.73      0.80      0.76        10\n",
            "      miles_davis       0.81      0.88      0.85        25\n",
            "       pink_floyd       0.74      0.74      0.74        19\n",
            "          rihanna       0.64      0.47      0.54        15\n",
            "     taylor_swift       0.67      0.64      0.65        22\n",
            "            tupac       0.89      0.73      0.80        11\n",
            "\n",
            "         accuracy                           0.70       364\n",
            "        macro avg       0.69      0.69      0.68       364\n",
            "     weighted avg       0.72      0.70      0.70       364\n",
            "\n"
          ]
        }
      ],
      "source": [
        "# Classification Report\n",
        "print(\"\\nClassification Report:\")\n",
        "print(classification_report(y_test, y_pred))"
      ]
    },
    {
      "cell_type": "code",
      "execution_count": null,
      "metadata": {
        "colab": {
          "base_uri": "https://localhost:8080/",
          "height": 917
        },
        "collapsed": true,
        "id": "-C3XX3CBPZgy",
        "outputId": "adebed82-e099-40e9-ff69-b469470ca43e"
      },
      "outputs": [],
      "source": [
        "def plot_confusion_matrix(y_true, y_pred, height=450, showscale=False, title=None, subtitle=None):\n",
        "    # https://scikit-learn.org/stable/modules/generated/sklearn.metrics.confusion_matrix.html\n",
        "    # Confusion matrix whose i-th row and j-th column\n",
        "    # ... indicates the number of samples with\n",
        "    # ... true label being i-th class (ROW)\n",
        "    # ... and predicted label being j-th class (COLUMN)\n",
        "    cm = confusion_matrix(y_true, y_pred)\n",
        "\n",
        "    class_names = sorted(y_test.unique().tolist())\n",
        "\n",
        "    cm = confusion_matrix(y_test, y_pred, labels=class_names)\n",
        "\n",
        "    title = title or \"Confusion Matrix\"\n",
        "    if subtitle:\n",
        "        title += f\"<br><sup>{subtitle}</sup>\"\n",
        "\n",
        "    fig = px.imshow(cm, x=class_names, y=class_names, height=height,\n",
        "                    labels={\"x\": \"Predicted\", \"y\": \"Actual\"},\n",
        "                    color_continuous_scale=\"Blues\", text_auto=True,\n",
        "    )\n",
        "    fig.update_layout(title={'text': title, 'x':0.485, 'xanchor': 'center'})\n",
        "    fig.update_coloraxes(showscale=showscale)\n",
        "\n",
        "    fig.show()\n",
        "\n",
        "\n",
        "\n",
        "plot_confusion_matrix(y_test, y_pred, height=900)"
      ]
    },
    {
      "cell_type": "markdown",
      "metadata": {
        "id": "VJ6tfvYHXlry"
      },
      "source": [
        "+ The reduced model with 21 components achieved an overall accuracy of `70%`, which is significantly lower than initial artist classification.\n",
        "+ The artists with the highest F1-scores are: `Ac_dc(F1=1.00)`, `beethoven(F1=0.89)`,`John Coltrane(F1=0.88)`.\n",
        "+ The artists with the lowest F1-scores are: `John Legend(F1=0.32)`, `Cold Play(F1=0.46)`, `Led Zeppelin(F1=O.43)`.\n",
        "\n",
        "+ The pairs of artists who were most confused with each other are:\n",
        "    + `5 times` - `Predicted: Bruce Springsteen`, `Actual: Coldplay`\n",
        "    + `6 times` - `Predicted: Cold Play`, `Actual: Frank Sinatra`"
      ]
    },
    {
      "cell_type": "markdown",
      "metadata": {
        "id": "PLf674LqZE1Y"
      },
      "source": [
        "+ The performance metrics, including precision, recall, and F1-score, have generally declined. The classification results from Part 5D indicate that while the dimensionality reduction process effectively reduced the feature space, it likely led to a loss of relevant information compared to the original artist classification in Part 3. This is reflected in the accuracy drop from `74%` to `70%`."
      ]
    }
  ],
  "metadata": {
    "colab": {
      "provenance": []
    },
    "kernelspec": {
      "display_name": "Python 3",
      "name": "python3"
    },
    "language_info": {
      "name": "python",
      "version": "3.12.9"
    }
  },
  "nbformat": 4,
  "nbformat_minor": 0
}
